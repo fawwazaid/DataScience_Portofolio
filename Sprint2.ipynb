{
 "cells": [
  {
   "cell_type": "markdown",
   "metadata": {},
   "source": [
    "<div style=\"border:solid black 2px; padding: 20px\"><h1 style=\"color:black; margin-bottom:20px\">Reviewer's comment v1</h1>\n",
    "Halo Fawwaz !\n",
    "\n",
    "Perkenalkan saya Dipta, disini saya akan mereview tugas Fawwaz ya.\n",
    "\n",
    "Saya akan memberikan beberapa komen seperti dibawah ini, tolong jangan dipindah, dirubah, maupun dihapus ya.\n",
    "\n",
    "Komen yang saya berikan akan muncul dalam warna hijau, kuning, atau pun merah seperti ini:\n",
    "\n",
    "<div class=\"alert alert-success\">\n",
    "<b>Adipta's comment v.1</b> <a class=\"tocSkip\"></a>\n",
    "\n",
    "Bagus, semua berjalan lancar.\n",
    "\n",
    "</div>\n",
    "\n",
    "<div class=\"alert alert-warning\">\n",
    "<b>Adipta's comment v.1</b> <a class=\"tocSkip\"></a>\n",
    "\n",
    "Terdapat beberapa catatan.\n",
    "\n",
    "</div>\n",
    "\n",
    "<div class=\"alert alert-danger\">\n",
    "<b>Adipta's comment v.1</b> <a class=\"tocSkip\"></a>\n",
    "\n",
    "Perlu beberapa perbaikan\n",
    "\n",
    "</div>\n",
    "\n",
    "Dan tentu saja Fawwaz dapat menjawab saya dengan menggunakan ini\n",
    "\n",
    "<div class=\"alert alert-block alert-info\">\n",
    "<b>Student answer.</b> <a class=\"tocSkip\"></a>\n",
    "    \n",
    "Baik kak\n",
    "</div>"
   ]
  },
  {
   "cell_type": "markdown",
   "metadata": {},
   "source": [
    "# Menganalisis Risiko Gagal Bayar Peminjam\n",
    "\n",
    "Tugas Anda adalah menyiapkan laporan untuk divisi kredit suatu bank. Anda akan mencari tahu pengaruh status perkawinan seorang nasabah dan jumlah anak yang dimilikinya terhadap probabilitas gagal bayar dalam pelunasan pinjaman. Pihak bank sudah memiliki beberapa data mengenai kelayakan kredit nasabah.\n",
    "\n",
    "Laporan Anda akan dipertimbangkan pada saat membuat **penilaian kredit** untuk calon nasabah. **Penilaian kredit** digunakan untuk mengevaluasi kemampuan calon peminjam untuk melunasi pinjaman mereka.\n",
    "\n",
    "[Dalam *notebook* ini, Anda dapat menemukan petunjuk dan instruksi singkat serta arahan untuk berfikir. Jangan abaikan petunjuk tersebut karena mereka dirancang untuk membekali Anda dengan struktur pengerjaan proyek dan akan membantu Anda melakukan analisis secara lebih mendalam. Sebaliknya, buatlah agar laporan ini terlihat seolah-olah dikirimkan oleh Anda kepada rekan satu tim Anda untuk menunjukkan temuan Anda - mereka tidak perlu tahu bahwa Anda mendapatkan bantuan eksternal dari kami! Untuk membantu Anda, kami menempatkan semua petunjuk yang harus Anda hapus dalam tanda kurung siku.]\n",
    "\n",
    "[Sebelum Anda masuk ke dalam proses analisis data Anda, jelaskan tujuan proyek dan hipotesis yang akan Anda uji.]"
   ]
  },
  {
   "cell_type": "markdown",
   "metadata": {},
   "source": [
    "<div class=\"alert alert-success\">\n",
    "<b>Adipta's comment v.1</b> <a class=\"tocSkip\"></a>\n",
    "\n",
    "Bagus, semua berjalan lancar.\n",
    "\n",
    "</div>"
   ]
  },
  {
   "cell_type": "markdown",
   "metadata": {},
   "source": [
    "## Buka *file* data dan baca informasi umumnya.\n",
    "\n",
    "[Mulailah dengan mengimpor *library* dan memuat datanya. Anda mungkin akan menyadari bahwa Anda memerlukan *library* tambahan saat Anda telah mengerjakan proyek ini, dan itu merupakan hal yang normal. Hanya saja, pastikan untuk memperbarui bagian ini jika dibutuhkan.]"
   ]
  },
  {
   "cell_type": "code",
   "execution_count": 1,
   "metadata": {},
   "outputs": [],
   "source": [
    "# Muat semua *library*\n",
    "import pandas as pd\n",
    "\n",
    "# Muat datanya\n",
    "df = pd.read_csv('/datasets/credit_scoring_eng.csv')"
   ]
  },
  {
   "cell_type": "markdown",
   "metadata": {},
   "source": [
    "## Soal 1. Eksplorasi data\n",
    "\n",
    "**Deskripsi Data**\n",
    "- `children` - jumlah anak dalam keluarga\n",
    "- `days_employed` - pengalaman kerja nasabah dalam hari\n",
    "- `dob_years` - usia nasabah dalam tahun\n",
    "- `education` - tingkat pendidikan nasabah\n",
    "- `education_id` - pengidentifikasi untuk tingkat pendidikan nasabah\n",
    "- `family_status` - pengidentifikasi untuk status perkawinan nasabah\n",
    "- `family_status_id` - tanda pengenal status perkawinan\n",
    "- `gender` - jenis kelamin nasabah\n",
    "- `income_type` - jenis pekerjaan\n",
    "- `debt` - apakah nasabah pernah melakukan gagal bayar pinjaman\n",
    "- `total_income` - pendapatan bulanan\n",
    "- `purpose` - tujuan mendapatkan pinjaman\n",
    "\n",
    "[Sekarang saatnya menjelajahi data kita. Anda perlu melihat berapa banyak kolom dan baris yang dimiliki oleh data, serta mencermati beberapa baris data untuk memeriksa potensi masalah dengan data.]"
   ]
  },
  {
   "cell_type": "code",
   "execution_count": 2,
   "metadata": {},
   "outputs": [
    {
     "data": {
      "text/plain": [
       "(21525, 12)"
      ]
     },
     "execution_count": 2,
     "metadata": {},
     "output_type": "execute_result"
    }
   ],
   "source": [
    "# Mari kita lihat berapa banyak baris dan kolom yang dimiliki oleh dataset kita\n",
    "\n",
    "df.shape"
   ]
  },
  {
   "cell_type": "code",
   "execution_count": 3,
   "metadata": {
    "scrolled": true
   },
   "outputs": [
    {
     "data": {
      "text/html": [
       "<div>\n",
       "<style scoped>\n",
       "    .dataframe tbody tr th:only-of-type {\n",
       "        vertical-align: middle;\n",
       "    }\n",
       "\n",
       "    .dataframe tbody tr th {\n",
       "        vertical-align: top;\n",
       "    }\n",
       "\n",
       "    .dataframe thead th {\n",
       "        text-align: right;\n",
       "    }\n",
       "</style>\n",
       "<table border=\"1\" class=\"dataframe\">\n",
       "  <thead>\n",
       "    <tr style=\"text-align: right;\">\n",
       "      <th></th>\n",
       "      <th>children</th>\n",
       "      <th>days_employed</th>\n",
       "      <th>dob_years</th>\n",
       "      <th>education</th>\n",
       "      <th>education_id</th>\n",
       "      <th>family_status</th>\n",
       "      <th>family_status_id</th>\n",
       "      <th>gender</th>\n",
       "      <th>income_type</th>\n",
       "      <th>debt</th>\n",
       "      <th>total_income</th>\n",
       "      <th>purpose</th>\n",
       "    </tr>\n",
       "  </thead>\n",
       "  <tbody>\n",
       "    <tr>\n",
       "      <th>0</th>\n",
       "      <td>1</td>\n",
       "      <td>-8437.673028</td>\n",
       "      <td>42</td>\n",
       "      <td>bachelor's degree</td>\n",
       "      <td>0</td>\n",
       "      <td>married</td>\n",
       "      <td>0</td>\n",
       "      <td>F</td>\n",
       "      <td>employee</td>\n",
       "      <td>0</td>\n",
       "      <td>40620.102</td>\n",
       "      <td>purchase of the house</td>\n",
       "    </tr>\n",
       "    <tr>\n",
       "      <th>1</th>\n",
       "      <td>1</td>\n",
       "      <td>-4024.803754</td>\n",
       "      <td>36</td>\n",
       "      <td>secondary education</td>\n",
       "      <td>1</td>\n",
       "      <td>married</td>\n",
       "      <td>0</td>\n",
       "      <td>F</td>\n",
       "      <td>employee</td>\n",
       "      <td>0</td>\n",
       "      <td>17932.802</td>\n",
       "      <td>car purchase</td>\n",
       "    </tr>\n",
       "    <tr>\n",
       "      <th>2</th>\n",
       "      <td>0</td>\n",
       "      <td>-5623.422610</td>\n",
       "      <td>33</td>\n",
       "      <td>Secondary Education</td>\n",
       "      <td>1</td>\n",
       "      <td>married</td>\n",
       "      <td>0</td>\n",
       "      <td>M</td>\n",
       "      <td>employee</td>\n",
       "      <td>0</td>\n",
       "      <td>23341.752</td>\n",
       "      <td>purchase of the house</td>\n",
       "    </tr>\n",
       "    <tr>\n",
       "      <th>3</th>\n",
       "      <td>3</td>\n",
       "      <td>-4124.747207</td>\n",
       "      <td>32</td>\n",
       "      <td>secondary education</td>\n",
       "      <td>1</td>\n",
       "      <td>married</td>\n",
       "      <td>0</td>\n",
       "      <td>M</td>\n",
       "      <td>employee</td>\n",
       "      <td>0</td>\n",
       "      <td>42820.568</td>\n",
       "      <td>supplementary education</td>\n",
       "    </tr>\n",
       "    <tr>\n",
       "      <th>4</th>\n",
       "      <td>0</td>\n",
       "      <td>340266.072047</td>\n",
       "      <td>53</td>\n",
       "      <td>secondary education</td>\n",
       "      <td>1</td>\n",
       "      <td>civil partnership</td>\n",
       "      <td>1</td>\n",
       "      <td>F</td>\n",
       "      <td>retiree</td>\n",
       "      <td>0</td>\n",
       "      <td>25378.572</td>\n",
       "      <td>to have a wedding</td>\n",
       "    </tr>\n",
       "  </tbody>\n",
       "</table>\n",
       "</div>"
      ],
      "text/plain": [
       "   children  days_employed  dob_years            education  education_id  \\\n",
       "0         1   -8437.673028         42    bachelor's degree             0   \n",
       "1         1   -4024.803754         36  secondary education             1   \n",
       "2         0   -5623.422610         33  Secondary Education             1   \n",
       "3         3   -4124.747207         32  secondary education             1   \n",
       "4         0  340266.072047         53  secondary education             1   \n",
       "\n",
       "       family_status  family_status_id gender income_type  debt  total_income  \\\n",
       "0            married                 0      F    employee     0     40620.102   \n",
       "1            married                 0      F    employee     0     17932.802   \n",
       "2            married                 0      M    employee     0     23341.752   \n",
       "3            married                 0      M    employee     0     42820.568   \n",
       "4  civil partnership                 1      F     retiree     0     25378.572   \n",
       "\n",
       "                   purpose  \n",
       "0    purchase of the house  \n",
       "1             car purchase  \n",
       "2    purchase of the house  \n",
       "3  supplementary education  \n",
       "4        to have a wedding  "
      ]
     },
     "execution_count": 3,
     "metadata": {},
     "output_type": "execute_result"
    }
   ],
   "source": [
    "# Mari tampilkan N baris pertama\n",
    "\n",
    "df.head()"
   ]
  },
  {
   "cell_type": "markdown",
   "metadata": {},
   "source": [
    "[Jelaskan apa yang Anda lihat dan perhatikan dalam sampel data yang Anda tampilkan. Apakah terdapat masalah yang mungkin memerlukan penyelidikan dan perubahan lebih lanjut?]\n",
    "\n",
    "Terdapat 12 kolom pada tabel.\n",
    "Pada kolom days_employed terdapat nilai positif dan negatif, dan nilai angka dibelakang komanya bisa dibulatkan.\n",
    "pada kolom education terdapat perbedaan huruf besar.\n",
    "pada kolom total_income nilai di belakang koma dapat dibulatkan.\n",
    "pada kolom purpose terdapat tujuan yang sama dengan kata- kata yang berbeda.\n",
    "Kolom education dan education_id mengandungnilai yang sama begitu juga dengan family_status.\n"
   ]
  },
  {
   "cell_type": "markdown",
   "metadata": {},
   "source": [
    "<div class=\"alert alert-success\">\n",
    "<b>Adipta's comment v.1</b> <a class=\"tocSkip\"></a>\n",
    "\n",
    "Bagus, semua berjalan lancar.\n",
    "\n",
    "</div>"
   ]
  },
  {
   "cell_type": "code",
   "execution_count": 4,
   "metadata": {
    "scrolled": false
   },
   "outputs": [
    {
     "name": "stdout",
     "output_type": "stream",
     "text": [
      "<class 'pandas.core.frame.DataFrame'>\n",
      "RangeIndex: 21525 entries, 0 to 21524\n",
      "Data columns (total 12 columns):\n",
      " #   Column            Non-Null Count  Dtype  \n",
      "---  ------            --------------  -----  \n",
      " 0   children          21525 non-null  int64  \n",
      " 1   days_employed     19351 non-null  float64\n",
      " 2   dob_years         21525 non-null  int64  \n",
      " 3   education         21525 non-null  object \n",
      " 4   education_id      21525 non-null  int64  \n",
      " 5   family_status     21525 non-null  object \n",
      " 6   family_status_id  21525 non-null  int64  \n",
      " 7   gender            21525 non-null  object \n",
      " 8   income_type       21525 non-null  object \n",
      " 9   debt              21525 non-null  int64  \n",
      " 10  total_income      19351 non-null  float64\n",
      " 11  purpose           21525 non-null  object \n",
      "dtypes: float64(2), int64(5), object(5)\n",
      "memory usage: 2.0+ MB\n"
     ]
    }
   ],
   "source": [
    "# Dapatkan informasi data\n",
    "df.info()"
   ]
  },
  {
   "cell_type": "code",
   "execution_count": 5,
   "metadata": {},
   "outputs": [
    {
     "data": {
      "text/plain": [
       "children               0\n",
       "days_employed       2174\n",
       "dob_years              0\n",
       "education              0\n",
       "education_id           0\n",
       "family_status          0\n",
       "family_status_id       0\n",
       "gender                 0\n",
       "income_type            0\n",
       "debt                   0\n",
       "total_income        2174\n",
       "purpose                0\n",
       "dtype: int64"
      ]
     },
     "execution_count": 5,
     "metadata": {},
     "output_type": "execute_result"
    }
   ],
   "source": [
    "df.isnull().sum()"
   ]
  },
  {
   "cell_type": "markdown",
   "metadata": {},
   "source": [
    "[Apakah terdapat nilai yang hilang di semua kolom atau hanya di beberapa kolom? Jelaskan secara singkat apa yang Anda amati dalam 1-2 kalimat.]\n",
    "\n",
    "Pada kolom days_employed dan total_income terdapat 2174 data null.\n",
    "Pada kolom days_employed dan total income memiliki tipe data float."
   ]
  },
  {
   "cell_type": "code",
   "execution_count": 6,
   "metadata": {
    "scrolled": true
   },
   "outputs": [
    {
     "data": {
      "text/html": [
       "<div>\n",
       "<style scoped>\n",
       "    .dataframe tbody tr th:only-of-type {\n",
       "        vertical-align: middle;\n",
       "    }\n",
       "\n",
       "    .dataframe tbody tr th {\n",
       "        vertical-align: top;\n",
       "    }\n",
       "\n",
       "    .dataframe thead th {\n",
       "        text-align: right;\n",
       "    }\n",
       "</style>\n",
       "<table border=\"1\" class=\"dataframe\">\n",
       "  <thead>\n",
       "    <tr style=\"text-align: right;\">\n",
       "      <th></th>\n",
       "      <th>children</th>\n",
       "      <th>days_employed</th>\n",
       "      <th>dob_years</th>\n",
       "      <th>education</th>\n",
       "      <th>education_id</th>\n",
       "      <th>family_status</th>\n",
       "      <th>family_status_id</th>\n",
       "      <th>gender</th>\n",
       "      <th>income_type</th>\n",
       "      <th>debt</th>\n",
       "      <th>total_income</th>\n",
       "      <th>purpose</th>\n",
       "    </tr>\n",
       "  </thead>\n",
       "  <tbody>\n",
       "    <tr>\n",
       "      <th>12</th>\n",
       "      <td>0</td>\n",
       "      <td>NaN</td>\n",
       "      <td>65</td>\n",
       "      <td>secondary education</td>\n",
       "      <td>1</td>\n",
       "      <td>civil partnership</td>\n",
       "      <td>1</td>\n",
       "      <td>M</td>\n",
       "      <td>retiree</td>\n",
       "      <td>0</td>\n",
       "      <td>NaN</td>\n",
       "      <td>to have a wedding</td>\n",
       "    </tr>\n",
       "    <tr>\n",
       "      <th>26</th>\n",
       "      <td>0</td>\n",
       "      <td>NaN</td>\n",
       "      <td>41</td>\n",
       "      <td>secondary education</td>\n",
       "      <td>1</td>\n",
       "      <td>married</td>\n",
       "      <td>0</td>\n",
       "      <td>M</td>\n",
       "      <td>civil servant</td>\n",
       "      <td>0</td>\n",
       "      <td>NaN</td>\n",
       "      <td>education</td>\n",
       "    </tr>\n",
       "    <tr>\n",
       "      <th>29</th>\n",
       "      <td>0</td>\n",
       "      <td>NaN</td>\n",
       "      <td>63</td>\n",
       "      <td>secondary education</td>\n",
       "      <td>1</td>\n",
       "      <td>unmarried</td>\n",
       "      <td>4</td>\n",
       "      <td>F</td>\n",
       "      <td>retiree</td>\n",
       "      <td>0</td>\n",
       "      <td>NaN</td>\n",
       "      <td>building a real estate</td>\n",
       "    </tr>\n",
       "    <tr>\n",
       "      <th>41</th>\n",
       "      <td>0</td>\n",
       "      <td>NaN</td>\n",
       "      <td>50</td>\n",
       "      <td>secondary education</td>\n",
       "      <td>1</td>\n",
       "      <td>married</td>\n",
       "      <td>0</td>\n",
       "      <td>F</td>\n",
       "      <td>civil servant</td>\n",
       "      <td>0</td>\n",
       "      <td>NaN</td>\n",
       "      <td>second-hand car purchase</td>\n",
       "    </tr>\n",
       "    <tr>\n",
       "      <th>55</th>\n",
       "      <td>0</td>\n",
       "      <td>NaN</td>\n",
       "      <td>54</td>\n",
       "      <td>secondary education</td>\n",
       "      <td>1</td>\n",
       "      <td>civil partnership</td>\n",
       "      <td>1</td>\n",
       "      <td>F</td>\n",
       "      <td>retiree</td>\n",
       "      <td>1</td>\n",
       "      <td>NaN</td>\n",
       "      <td>to have a wedding</td>\n",
       "    </tr>\n",
       "    <tr>\n",
       "      <th>...</th>\n",
       "      <td>...</td>\n",
       "      <td>...</td>\n",
       "      <td>...</td>\n",
       "      <td>...</td>\n",
       "      <td>...</td>\n",
       "      <td>...</td>\n",
       "      <td>...</td>\n",
       "      <td>...</td>\n",
       "      <td>...</td>\n",
       "      <td>...</td>\n",
       "      <td>...</td>\n",
       "      <td>...</td>\n",
       "    </tr>\n",
       "    <tr>\n",
       "      <th>21489</th>\n",
       "      <td>2</td>\n",
       "      <td>NaN</td>\n",
       "      <td>47</td>\n",
       "      <td>Secondary Education</td>\n",
       "      <td>1</td>\n",
       "      <td>married</td>\n",
       "      <td>0</td>\n",
       "      <td>M</td>\n",
       "      <td>business</td>\n",
       "      <td>0</td>\n",
       "      <td>NaN</td>\n",
       "      <td>purchase of a car</td>\n",
       "    </tr>\n",
       "    <tr>\n",
       "      <th>21495</th>\n",
       "      <td>1</td>\n",
       "      <td>NaN</td>\n",
       "      <td>50</td>\n",
       "      <td>secondary education</td>\n",
       "      <td>1</td>\n",
       "      <td>civil partnership</td>\n",
       "      <td>1</td>\n",
       "      <td>F</td>\n",
       "      <td>employee</td>\n",
       "      <td>0</td>\n",
       "      <td>NaN</td>\n",
       "      <td>wedding ceremony</td>\n",
       "    </tr>\n",
       "    <tr>\n",
       "      <th>21497</th>\n",
       "      <td>0</td>\n",
       "      <td>NaN</td>\n",
       "      <td>48</td>\n",
       "      <td>BACHELOR'S DEGREE</td>\n",
       "      <td>0</td>\n",
       "      <td>married</td>\n",
       "      <td>0</td>\n",
       "      <td>F</td>\n",
       "      <td>business</td>\n",
       "      <td>0</td>\n",
       "      <td>NaN</td>\n",
       "      <td>building a property</td>\n",
       "    </tr>\n",
       "    <tr>\n",
       "      <th>21502</th>\n",
       "      <td>1</td>\n",
       "      <td>NaN</td>\n",
       "      <td>42</td>\n",
       "      <td>secondary education</td>\n",
       "      <td>1</td>\n",
       "      <td>married</td>\n",
       "      <td>0</td>\n",
       "      <td>F</td>\n",
       "      <td>employee</td>\n",
       "      <td>0</td>\n",
       "      <td>NaN</td>\n",
       "      <td>building a real estate</td>\n",
       "    </tr>\n",
       "    <tr>\n",
       "      <th>21510</th>\n",
       "      <td>2</td>\n",
       "      <td>NaN</td>\n",
       "      <td>28</td>\n",
       "      <td>secondary education</td>\n",
       "      <td>1</td>\n",
       "      <td>married</td>\n",
       "      <td>0</td>\n",
       "      <td>F</td>\n",
       "      <td>employee</td>\n",
       "      <td>0</td>\n",
       "      <td>NaN</td>\n",
       "      <td>car purchase</td>\n",
       "    </tr>\n",
       "  </tbody>\n",
       "</table>\n",
       "<p>2174 rows × 12 columns</p>\n",
       "</div>"
      ],
      "text/plain": [
       "       children  days_employed  dob_years            education  education_id  \\\n",
       "12            0            NaN         65  secondary education             1   \n",
       "26            0            NaN         41  secondary education             1   \n",
       "29            0            NaN         63  secondary education             1   \n",
       "41            0            NaN         50  secondary education             1   \n",
       "55            0            NaN         54  secondary education             1   \n",
       "...         ...            ...        ...                  ...           ...   \n",
       "21489         2            NaN         47  Secondary Education             1   \n",
       "21495         1            NaN         50  secondary education             1   \n",
       "21497         0            NaN         48    BACHELOR'S DEGREE             0   \n",
       "21502         1            NaN         42  secondary education             1   \n",
       "21510         2            NaN         28  secondary education             1   \n",
       "\n",
       "           family_status  family_status_id gender    income_type  debt  \\\n",
       "12     civil partnership                 1      M        retiree     0   \n",
       "26               married                 0      M  civil servant     0   \n",
       "29             unmarried                 4      F        retiree     0   \n",
       "41               married                 0      F  civil servant     0   \n",
       "55     civil partnership                 1      F        retiree     1   \n",
       "...                  ...               ...    ...            ...   ...   \n",
       "21489            married                 0      M       business     0   \n",
       "21495  civil partnership                 1      F       employee     0   \n",
       "21497            married                 0      F       business     0   \n",
       "21502            married                 0      F       employee     0   \n",
       "21510            married                 0      F       employee     0   \n",
       "\n",
       "       total_income                   purpose  \n",
       "12              NaN         to have a wedding  \n",
       "26              NaN                 education  \n",
       "29              NaN    building a real estate  \n",
       "41              NaN  second-hand car purchase  \n",
       "55              NaN         to have a wedding  \n",
       "...             ...                       ...  \n",
       "21489           NaN         purchase of a car  \n",
       "21495           NaN          wedding ceremony  \n",
       "21497           NaN       building a property  \n",
       "21502           NaN    building a real estate  \n",
       "21510           NaN              car purchase  \n",
       "\n",
       "[2174 rows x 12 columns]"
      ]
     },
     "execution_count": 6,
     "metadata": {},
     "output_type": "execute_result"
    }
   ],
   "source": [
    "# Mari kita lihat tabel yang telah difilter dengan nilai yang hilang di kolom pertama yang mengandung data yang hilang\n",
    "df_null = df[df['days_employed'].isnull()]\n",
    "df_null"
   ]
  },
  {
   "cell_type": "code",
   "execution_count": 7,
   "metadata": {},
   "outputs": [
    {
     "data": {
      "text/plain": [
       "(2174, 12)"
      ]
     },
     "execution_count": 7,
     "metadata": {},
     "output_type": "execute_result"
    }
   ],
   "source": [
    "# Mari kita terapkan beberapa kondisi untuk memfilter data dan melihat jumlah baris dalam tabel yang telah difilter.\n",
    "df_null.shape"
   ]
  },
  {
   "cell_type": "code",
   "execution_count": 8,
   "metadata": {},
   "outputs": [
    {
     "name": "stdout",
     "output_type": "stream",
     "text": [
      "Presentasi nilai yang hilang pada kolom days_employed sebesar 10.1%\n"
     ]
    }
   ],
   "source": [
    "df_null_persen =  df_null.shape[0] / df.shape[0]\n",
    "df_null_persen\n",
    "print(f'Presentasi nilai yang hilang pada kolom days_employed sebesar {df_null_persen:.1%}')"
   ]
  },
  {
   "cell_type": "markdown",
   "metadata": {},
   "source": [
    "[Apakah nilai yang hilang tampak simetris? Apakah kita yakin dengan asumsi ini? Jelaskan pendapat Anda secara singkat di bagian ini. Anda mungkin ingin melakukan penyelidikan lebih lanjut, dan menghitung nilai yang hilang di semua baris dengan nilai yang hilang untuk memastikan bahwa sampel yang hilang memiliki ukuran yang sama.]\n",
    "\n",
    "Dari tabel diatas, nilai yang hilang tampak simetris pada kolom days_employed dan total_income. Perlu dilakukan penyelidikan lebih lanjut terkait penyebaran nilai yang hilai pada setiap baris dan kolomnya"
   ]
  },
  {
   "cell_type": "markdown",
   "metadata": {},
   "source": [
    "# **Kesimpulan sementara**\n",
    "\n",
    "[Apakah jumlah baris dalam tabel yang telah difilter sesuai dengan jumlah nilai yang hilang? Kesimpulan apa yang bisa kita buat dari hal ini?]\n",
    "\n",
    "[Hitung persentase nilai yang hilang jika dibandingkan dengan keseluruhan *dataset*. Apakah nilai yang hilang merupakan bagian data yang cukup besar? Jika demikian, Anda sebaiknya perlu mengisi nilai yang hilang. Untuk melakukannya, pertama-tama kita harus mempertimbangkan apakah data yang hilang bisa jadi disebabkan oleh karakteristik nasabah tertentu, seperti jenis pekerjaan atau yang lainnya. Anda harus memutuskan karakteristik mana yang menurut *Anda* mungkin merupakan penyebabnya. Kedua, kita harus memeriksa apakah ada ketergantungan nilai yang hilang pada nilai indikator lain dengan kolom-kolom yang mengidentifikasikan karakteristik tertentu nasabah.]\n",
    "\n",
    "[Jelaskan langkah Anda selanjutnya dan bagaimana hubungannya dengan kesimpulan yang Anda buat sejauh ini.]\n",
    "\n",
    "Dari data diatas, diketahui jumlah baris dalam tabel yang telah difilter sama dengan jumlah nilai yang hilang yaitu 2174 baris. \n",
    "\n",
    "Persentase nilai yang hilang sebesar 10.1 % dari keseluruhan dataset. jumlah tersebut mungkin cukup berpengaruh terhadap analisa yang akan dilakukan, karena itu diperlukan penyelidikan lebih lanjut terhadap pola- pola yang ada pada nilai yang hilang tersebut.\n",
    "\n",
    "Pertama dilakukan pengamatan terhadap distribusi nilai dengan value_counts() pada setiap kolom dengan tabel yang hanya memiliki nilai yang hilang dan tabel yang tidak memiliki nilai yang hilang, kemudian mencari pola- pola yang menyebabkan adanya nilai yang hilang tersebut. "
   ]
  },
  {
   "cell_type": "markdown",
   "metadata": {},
   "source": [
    "<div class=\"alert alert-success\">\n",
    "<b>Adipta's comment v.1</b> <a class=\"tocSkip\"></a>\n",
    "\n",
    "Bagus, semua berjalan lancar.\n",
    "\n",
    "</div>"
   ]
  },
  {
   "cell_type": "code",
   "execution_count": 9,
   "metadata": {},
   "outputs": [
    {
     "data": {
      "text/html": [
       "<div>\n",
       "<style scoped>\n",
       "    .dataframe tbody tr th:only-of-type {\n",
       "        vertical-align: middle;\n",
       "    }\n",
       "\n",
       "    .dataframe tbody tr th {\n",
       "        vertical-align: top;\n",
       "    }\n",
       "\n",
       "    .dataframe thead th {\n",
       "        text-align: right;\n",
       "    }\n",
       "</style>\n",
       "<table border=\"1\" class=\"dataframe\">\n",
       "  <thead>\n",
       "    <tr style=\"text-align: right;\">\n",
       "      <th></th>\n",
       "      <th>children</th>\n",
       "      <th>days_employed</th>\n",
       "      <th>dob_years</th>\n",
       "      <th>education</th>\n",
       "      <th>education_id</th>\n",
       "      <th>family_status</th>\n",
       "      <th>family_status_id</th>\n",
       "      <th>gender</th>\n",
       "      <th>income_type</th>\n",
       "      <th>debt</th>\n",
       "      <th>total_income</th>\n",
       "      <th>purpose</th>\n",
       "    </tr>\n",
       "  </thead>\n",
       "  <tbody>\n",
       "    <tr>\n",
       "      <th>0</th>\n",
       "      <td>1</td>\n",
       "      <td>-8437.673028</td>\n",
       "      <td>42</td>\n",
       "      <td>bachelor's degree</td>\n",
       "      <td>0</td>\n",
       "      <td>married</td>\n",
       "      <td>0</td>\n",
       "      <td>F</td>\n",
       "      <td>employee</td>\n",
       "      <td>0</td>\n",
       "      <td>40620.102</td>\n",
       "      <td>purchase of the house</td>\n",
       "    </tr>\n",
       "    <tr>\n",
       "      <th>1</th>\n",
       "      <td>1</td>\n",
       "      <td>-4024.803754</td>\n",
       "      <td>36</td>\n",
       "      <td>secondary education</td>\n",
       "      <td>1</td>\n",
       "      <td>married</td>\n",
       "      <td>0</td>\n",
       "      <td>F</td>\n",
       "      <td>employee</td>\n",
       "      <td>0</td>\n",
       "      <td>17932.802</td>\n",
       "      <td>car purchase</td>\n",
       "    </tr>\n",
       "    <tr>\n",
       "      <th>2</th>\n",
       "      <td>0</td>\n",
       "      <td>-5623.422610</td>\n",
       "      <td>33</td>\n",
       "      <td>Secondary Education</td>\n",
       "      <td>1</td>\n",
       "      <td>married</td>\n",
       "      <td>0</td>\n",
       "      <td>M</td>\n",
       "      <td>employee</td>\n",
       "      <td>0</td>\n",
       "      <td>23341.752</td>\n",
       "      <td>purchase of the house</td>\n",
       "    </tr>\n",
       "    <tr>\n",
       "      <th>3</th>\n",
       "      <td>3</td>\n",
       "      <td>-4124.747207</td>\n",
       "      <td>32</td>\n",
       "      <td>secondary education</td>\n",
       "      <td>1</td>\n",
       "      <td>married</td>\n",
       "      <td>0</td>\n",
       "      <td>M</td>\n",
       "      <td>employee</td>\n",
       "      <td>0</td>\n",
       "      <td>42820.568</td>\n",
       "      <td>supplementary education</td>\n",
       "    </tr>\n",
       "    <tr>\n",
       "      <th>4</th>\n",
       "      <td>0</td>\n",
       "      <td>340266.072047</td>\n",
       "      <td>53</td>\n",
       "      <td>secondary education</td>\n",
       "      <td>1</td>\n",
       "      <td>civil partnership</td>\n",
       "      <td>1</td>\n",
       "      <td>F</td>\n",
       "      <td>retiree</td>\n",
       "      <td>0</td>\n",
       "      <td>25378.572</td>\n",
       "      <td>to have a wedding</td>\n",
       "    </tr>\n",
       "    <tr>\n",
       "      <th>...</th>\n",
       "      <td>...</td>\n",
       "      <td>...</td>\n",
       "      <td>...</td>\n",
       "      <td>...</td>\n",
       "      <td>...</td>\n",
       "      <td>...</td>\n",
       "      <td>...</td>\n",
       "      <td>...</td>\n",
       "      <td>...</td>\n",
       "      <td>...</td>\n",
       "      <td>...</td>\n",
       "      <td>...</td>\n",
       "    </tr>\n",
       "    <tr>\n",
       "      <th>21520</th>\n",
       "      <td>1</td>\n",
       "      <td>-4529.316663</td>\n",
       "      <td>43</td>\n",
       "      <td>secondary education</td>\n",
       "      <td>1</td>\n",
       "      <td>civil partnership</td>\n",
       "      <td>1</td>\n",
       "      <td>F</td>\n",
       "      <td>business</td>\n",
       "      <td>0</td>\n",
       "      <td>35966.698</td>\n",
       "      <td>housing transactions</td>\n",
       "    </tr>\n",
       "    <tr>\n",
       "      <th>21521</th>\n",
       "      <td>0</td>\n",
       "      <td>343937.404131</td>\n",
       "      <td>67</td>\n",
       "      <td>secondary education</td>\n",
       "      <td>1</td>\n",
       "      <td>married</td>\n",
       "      <td>0</td>\n",
       "      <td>F</td>\n",
       "      <td>retiree</td>\n",
       "      <td>0</td>\n",
       "      <td>24959.969</td>\n",
       "      <td>purchase of a car</td>\n",
       "    </tr>\n",
       "    <tr>\n",
       "      <th>21522</th>\n",
       "      <td>1</td>\n",
       "      <td>-2113.346888</td>\n",
       "      <td>38</td>\n",
       "      <td>secondary education</td>\n",
       "      <td>1</td>\n",
       "      <td>civil partnership</td>\n",
       "      <td>1</td>\n",
       "      <td>M</td>\n",
       "      <td>employee</td>\n",
       "      <td>1</td>\n",
       "      <td>14347.610</td>\n",
       "      <td>property</td>\n",
       "    </tr>\n",
       "    <tr>\n",
       "      <th>21523</th>\n",
       "      <td>3</td>\n",
       "      <td>-3112.481705</td>\n",
       "      <td>38</td>\n",
       "      <td>secondary education</td>\n",
       "      <td>1</td>\n",
       "      <td>married</td>\n",
       "      <td>0</td>\n",
       "      <td>M</td>\n",
       "      <td>employee</td>\n",
       "      <td>1</td>\n",
       "      <td>39054.888</td>\n",
       "      <td>buying my own car</td>\n",
       "    </tr>\n",
       "    <tr>\n",
       "      <th>21524</th>\n",
       "      <td>2</td>\n",
       "      <td>-1984.507589</td>\n",
       "      <td>40</td>\n",
       "      <td>secondary education</td>\n",
       "      <td>1</td>\n",
       "      <td>married</td>\n",
       "      <td>0</td>\n",
       "      <td>F</td>\n",
       "      <td>employee</td>\n",
       "      <td>0</td>\n",
       "      <td>13127.587</td>\n",
       "      <td>to buy a car</td>\n",
       "    </tr>\n",
       "  </tbody>\n",
       "</table>\n",
       "<p>19351 rows × 12 columns</p>\n",
       "</div>"
      ],
      "text/plain": [
       "       children  days_employed  dob_years            education  education_id  \\\n",
       "0             1   -8437.673028         42    bachelor's degree             0   \n",
       "1             1   -4024.803754         36  secondary education             1   \n",
       "2             0   -5623.422610         33  Secondary Education             1   \n",
       "3             3   -4124.747207         32  secondary education             1   \n",
       "4             0  340266.072047         53  secondary education             1   \n",
       "...         ...            ...        ...                  ...           ...   \n",
       "21520         1   -4529.316663         43  secondary education             1   \n",
       "21521         0  343937.404131         67  secondary education             1   \n",
       "21522         1   -2113.346888         38  secondary education             1   \n",
       "21523         3   -3112.481705         38  secondary education             1   \n",
       "21524         2   -1984.507589         40  secondary education             1   \n",
       "\n",
       "           family_status  family_status_id gender income_type  debt  \\\n",
       "0                married                 0      F    employee     0   \n",
       "1                married                 0      F    employee     0   \n",
       "2                married                 0      M    employee     0   \n",
       "3                married                 0      M    employee     0   \n",
       "4      civil partnership                 1      F     retiree     0   \n",
       "...                  ...               ...    ...         ...   ...   \n",
       "21520  civil partnership                 1      F    business     0   \n",
       "21521            married                 0      F     retiree     0   \n",
       "21522  civil partnership                 1      M    employee     1   \n",
       "21523            married                 0      M    employee     1   \n",
       "21524            married                 0      F    employee     0   \n",
       "\n",
       "       total_income                  purpose  \n",
       "0         40620.102    purchase of the house  \n",
       "1         17932.802             car purchase  \n",
       "2         23341.752    purchase of the house  \n",
       "3         42820.568  supplementary education  \n",
       "4         25378.572        to have a wedding  \n",
       "...             ...                      ...  \n",
       "21520     35966.698     housing transactions  \n",
       "21521     24959.969        purchase of a car  \n",
       "21522     14347.610                 property  \n",
       "21523     39054.888        buying my own car  \n",
       "21524     13127.587             to buy a car  \n",
       "\n",
       "[19351 rows x 12 columns]"
      ]
     },
     "execution_count": 9,
     "metadata": {},
     "output_type": "execute_result"
    }
   ],
   "source": [
    "# Mari kita periksa nasabah yang tidak memiliki data tentang karakteristik yang teridentifikasi dan kolom dengan nilai yang hilang\n",
    "df_not_null = df[~df['days_employed'].isnull()]\n",
    "df_not_null"
   ]
  },
  {
   "cell_type": "code",
   "execution_count": 10,
   "metadata": {},
   "outputs": [
    {
     "data": {
      "text/plain": [
       "(19351, 12)"
      ]
     },
     "execution_count": 10,
     "metadata": {},
     "output_type": "execute_result"
    }
   ],
   "source": [
    "df_not_null.shape"
   ]
  },
  {
   "cell_type": "code",
   "execution_count": 11,
   "metadata": {},
   "outputs": [],
   "source": [
    "# Periksalah distribusinya"
   ]
  },
  {
   "cell_type": "code",
   "execution_count": 12,
   "metadata": {},
   "outputs": [
    {
     "name": "stdout",
     "output_type": "stream",
     "text": [
      "<class 'pandas.core.frame.DataFrame'>\n",
      "RangeIndex: 21525 entries, 0 to 21524\n",
      "Data columns (total 12 columns):\n",
      " #   Column            Non-Null Count  Dtype  \n",
      "---  ------            --------------  -----  \n",
      " 0   children          21525 non-null  int64  \n",
      " 1   days_employed     19351 non-null  float64\n",
      " 2   dob_years         21525 non-null  int64  \n",
      " 3   education         21525 non-null  object \n",
      " 4   education_id      21525 non-null  int64  \n",
      " 5   family_status     21525 non-null  object \n",
      " 6   family_status_id  21525 non-null  int64  \n",
      " 7   gender            21525 non-null  object \n",
      " 8   income_type       21525 non-null  object \n",
      " 9   debt              21525 non-null  int64  \n",
      " 10  total_income      19351 non-null  float64\n",
      " 11  purpose           21525 non-null  object \n",
      "dtypes: float64(2), int64(5), object(5)\n",
      "memory usage: 2.0+ MB\n"
     ]
    }
   ],
   "source": [
    "df.info()"
   ]
  },
  {
   "cell_type": "code",
   "execution_count": 13,
   "metadata": {},
   "outputs": [
    {
     "data": {
      "text/html": [
       "<div>\n",
       "<style scoped>\n",
       "    .dataframe tbody tr th:only-of-type {\n",
       "        vertical-align: middle;\n",
       "    }\n",
       "\n",
       "    .dataframe tbody tr th {\n",
       "        vertical-align: top;\n",
       "    }\n",
       "\n",
       "    .dataframe thead th {\n",
       "        text-align: right;\n",
       "    }\n",
       "</style>\n",
       "<table border=\"1\" class=\"dataframe\">\n",
       "  <thead>\n",
       "    <tr style=\"text-align: right;\">\n",
       "      <th></th>\n",
       "      <th>children</th>\n",
       "      <th>days_employed</th>\n",
       "      <th>dob_years</th>\n",
       "      <th>education_id</th>\n",
       "      <th>family_status_id</th>\n",
       "      <th>debt</th>\n",
       "      <th>total_income</th>\n",
       "    </tr>\n",
       "  </thead>\n",
       "  <tbody>\n",
       "    <tr>\n",
       "      <th>count</th>\n",
       "      <td>2174.000000</td>\n",
       "      <td>0.0</td>\n",
       "      <td>2174.000000</td>\n",
       "      <td>2174.000000</td>\n",
       "      <td>2174.000000</td>\n",
       "      <td>2174.000000</td>\n",
       "      <td>0.0</td>\n",
       "    </tr>\n",
       "    <tr>\n",
       "      <th>mean</th>\n",
       "      <td>0.552438</td>\n",
       "      <td>NaN</td>\n",
       "      <td>43.632015</td>\n",
       "      <td>0.800828</td>\n",
       "      <td>0.975161</td>\n",
       "      <td>0.078197</td>\n",
       "      <td>NaN</td>\n",
       "    </tr>\n",
       "    <tr>\n",
       "      <th>std</th>\n",
       "      <td>1.469356</td>\n",
       "      <td>NaN</td>\n",
       "      <td>12.531481</td>\n",
       "      <td>0.530157</td>\n",
       "      <td>1.418220</td>\n",
       "      <td>0.268543</td>\n",
       "      <td>NaN</td>\n",
       "    </tr>\n",
       "    <tr>\n",
       "      <th>min</th>\n",
       "      <td>-1.000000</td>\n",
       "      <td>NaN</td>\n",
       "      <td>0.000000</td>\n",
       "      <td>0.000000</td>\n",
       "      <td>0.000000</td>\n",
       "      <td>0.000000</td>\n",
       "      <td>NaN</td>\n",
       "    </tr>\n",
       "    <tr>\n",
       "      <th>25%</th>\n",
       "      <td>0.000000</td>\n",
       "      <td>NaN</td>\n",
       "      <td>34.000000</td>\n",
       "      <td>0.250000</td>\n",
       "      <td>0.000000</td>\n",
       "      <td>0.000000</td>\n",
       "      <td>NaN</td>\n",
       "    </tr>\n",
       "    <tr>\n",
       "      <th>50%</th>\n",
       "      <td>0.000000</td>\n",
       "      <td>NaN</td>\n",
       "      <td>43.000000</td>\n",
       "      <td>1.000000</td>\n",
       "      <td>0.000000</td>\n",
       "      <td>0.000000</td>\n",
       "      <td>NaN</td>\n",
       "    </tr>\n",
       "    <tr>\n",
       "      <th>75%</th>\n",
       "      <td>1.000000</td>\n",
       "      <td>NaN</td>\n",
       "      <td>54.000000</td>\n",
       "      <td>1.000000</td>\n",
       "      <td>1.000000</td>\n",
       "      <td>0.000000</td>\n",
       "      <td>NaN</td>\n",
       "    </tr>\n",
       "    <tr>\n",
       "      <th>max</th>\n",
       "      <td>20.000000</td>\n",
       "      <td>NaN</td>\n",
       "      <td>73.000000</td>\n",
       "      <td>3.000000</td>\n",
       "      <td>4.000000</td>\n",
       "      <td>1.000000</td>\n",
       "      <td>NaN</td>\n",
       "    </tr>\n",
       "  </tbody>\n",
       "</table>\n",
       "</div>"
      ],
      "text/plain": [
       "          children  days_employed    dob_years  education_id  \\\n",
       "count  2174.000000            0.0  2174.000000   2174.000000   \n",
       "mean      0.552438            NaN    43.632015      0.800828   \n",
       "std       1.469356            NaN    12.531481      0.530157   \n",
       "min      -1.000000            NaN     0.000000      0.000000   \n",
       "25%       0.000000            NaN    34.000000      0.250000   \n",
       "50%       0.000000            NaN    43.000000      1.000000   \n",
       "75%       1.000000            NaN    54.000000      1.000000   \n",
       "max      20.000000            NaN    73.000000      3.000000   \n",
       "\n",
       "       family_status_id         debt  total_income  \n",
       "count       2174.000000  2174.000000           0.0  \n",
       "mean           0.975161     0.078197           NaN  \n",
       "std            1.418220     0.268543           NaN  \n",
       "min            0.000000     0.000000           NaN  \n",
       "25%            0.000000     0.000000           NaN  \n",
       "50%            0.000000     0.000000           NaN  \n",
       "75%            1.000000     0.000000           NaN  \n",
       "max            4.000000     1.000000           NaN  "
      ]
     },
     "execution_count": 13,
     "metadata": {},
     "output_type": "execute_result"
    }
   ],
   "source": [
    "df_null.describe()"
   ]
  },
  {
   "cell_type": "code",
   "execution_count": 14,
   "metadata": {},
   "outputs": [
    {
     "data": {
      "text/html": [
       "<div>\n",
       "<style scoped>\n",
       "    .dataframe tbody tr th:only-of-type {\n",
       "        vertical-align: middle;\n",
       "    }\n",
       "\n",
       "    .dataframe tbody tr th {\n",
       "        vertical-align: top;\n",
       "    }\n",
       "\n",
       "    .dataframe thead th {\n",
       "        text-align: right;\n",
       "    }\n",
       "</style>\n",
       "<table border=\"1\" class=\"dataframe\">\n",
       "  <thead>\n",
       "    <tr style=\"text-align: right;\">\n",
       "      <th></th>\n",
       "      <th>children</th>\n",
       "      <th>days_employed</th>\n",
       "      <th>dob_years</th>\n",
       "      <th>education_id</th>\n",
       "      <th>family_status_id</th>\n",
       "      <th>debt</th>\n",
       "      <th>total_income</th>\n",
       "    </tr>\n",
       "  </thead>\n",
       "  <tbody>\n",
       "    <tr>\n",
       "      <th>count</th>\n",
       "      <td>19351.000000</td>\n",
       "      <td>19351.000000</td>\n",
       "      <td>19351.000000</td>\n",
       "      <td>19351.000000</td>\n",
       "      <td>19351.000000</td>\n",
       "      <td>19351.000000</td>\n",
       "      <td>19351.000000</td>\n",
       "    </tr>\n",
       "    <tr>\n",
       "      <th>mean</th>\n",
       "      <td>0.537388</td>\n",
       "      <td>63046.497661</td>\n",
       "      <td>43.255336</td>\n",
       "      <td>0.819079</td>\n",
       "      <td>0.972249</td>\n",
       "      <td>0.081184</td>\n",
       "      <td>26787.568355</td>\n",
       "    </tr>\n",
       "    <tr>\n",
       "      <th>std</th>\n",
       "      <td>1.371408</td>\n",
       "      <td>140827.311974</td>\n",
       "      <td>12.579170</td>\n",
       "      <td>0.550104</td>\n",
       "      <td>1.420596</td>\n",
       "      <td>0.273125</td>\n",
       "      <td>16475.450632</td>\n",
       "    </tr>\n",
       "    <tr>\n",
       "      <th>min</th>\n",
       "      <td>-1.000000</td>\n",
       "      <td>-18388.949901</td>\n",
       "      <td>0.000000</td>\n",
       "      <td>0.000000</td>\n",
       "      <td>0.000000</td>\n",
       "      <td>0.000000</td>\n",
       "      <td>3306.762000</td>\n",
       "    </tr>\n",
       "    <tr>\n",
       "      <th>25%</th>\n",
       "      <td>0.000000</td>\n",
       "      <td>-2747.423625</td>\n",
       "      <td>33.000000</td>\n",
       "      <td>1.000000</td>\n",
       "      <td>0.000000</td>\n",
       "      <td>0.000000</td>\n",
       "      <td>16488.504500</td>\n",
       "    </tr>\n",
       "    <tr>\n",
       "      <th>50%</th>\n",
       "      <td>0.000000</td>\n",
       "      <td>-1203.369529</td>\n",
       "      <td>42.000000</td>\n",
       "      <td>1.000000</td>\n",
       "      <td>0.000000</td>\n",
       "      <td>0.000000</td>\n",
       "      <td>23202.870000</td>\n",
       "    </tr>\n",
       "    <tr>\n",
       "      <th>75%</th>\n",
       "      <td>1.000000</td>\n",
       "      <td>-291.095954</td>\n",
       "      <td>53.000000</td>\n",
       "      <td>1.000000</td>\n",
       "      <td>1.000000</td>\n",
       "      <td>0.000000</td>\n",
       "      <td>32549.611000</td>\n",
       "    </tr>\n",
       "    <tr>\n",
       "      <th>max</th>\n",
       "      <td>20.000000</td>\n",
       "      <td>401755.400475</td>\n",
       "      <td>75.000000</td>\n",
       "      <td>4.000000</td>\n",
       "      <td>4.000000</td>\n",
       "      <td>1.000000</td>\n",
       "      <td>362496.645000</td>\n",
       "    </tr>\n",
       "  </tbody>\n",
       "</table>\n",
       "</div>"
      ],
      "text/plain": [
       "           children  days_employed     dob_years  education_id  \\\n",
       "count  19351.000000   19351.000000  19351.000000  19351.000000   \n",
       "mean       0.537388   63046.497661     43.255336      0.819079   \n",
       "std        1.371408  140827.311974     12.579170      0.550104   \n",
       "min       -1.000000  -18388.949901      0.000000      0.000000   \n",
       "25%        0.000000   -2747.423625     33.000000      1.000000   \n",
       "50%        0.000000   -1203.369529     42.000000      1.000000   \n",
       "75%        1.000000    -291.095954     53.000000      1.000000   \n",
       "max       20.000000  401755.400475     75.000000      4.000000   \n",
       "\n",
       "       family_status_id          debt   total_income  \n",
       "count      19351.000000  19351.000000   19351.000000  \n",
       "mean           0.972249      0.081184   26787.568355  \n",
       "std            1.420596      0.273125   16475.450632  \n",
       "min            0.000000      0.000000    3306.762000  \n",
       "25%            0.000000      0.000000   16488.504500  \n",
       "50%            0.000000      0.000000   23202.870000  \n",
       "75%            1.000000      0.000000   32549.611000  \n",
       "max            4.000000      1.000000  362496.645000  "
      ]
     },
     "execution_count": 14,
     "metadata": {},
     "output_type": "execute_result"
    }
   ],
   "source": [
    "df_not_null.describe()"
   ]
  },
  {
   "cell_type": "markdown",
   "metadata": {},
   "source": [
    "Dari hasil statistika didapatkan data yang bersifat numerik memiliki kemiripan persebaran pada kolom yang tidak memiliki data yang hilang. Kemudian akan dilakukan pengecekan distribusi pada setiap kolom."
   ]
  },
  {
   "cell_type": "code",
   "execution_count": 15,
   "metadata": {},
   "outputs": [
    {
     "data": {
      "text/plain": [
       " 0     1439\n",
       " 1      475\n",
       " 2      204\n",
       " 3       36\n",
       " 20       9\n",
       " 4        7\n",
       "-1        3\n",
       " 5        1\n",
       "Name: children, dtype: int64"
      ]
     },
     "execution_count": 15,
     "metadata": {},
     "output_type": "execute_result"
    }
   ],
   "source": [
    "df_null['children'].value_counts()"
   ]
  },
  {
   "cell_type": "code",
   "execution_count": 16,
   "metadata": {},
   "outputs": [
    {
     "data": {
      "text/plain": [
       " 0     12710\n",
       " 1      4343\n",
       " 2      1851\n",
       " 3       294\n",
       " 20       67\n",
       "-1        44\n",
       " 4        34\n",
       " 5         8\n",
       "Name: children, dtype: int64"
      ]
     },
     "execution_count": 16,
     "metadata": {},
     "output_type": "execute_result"
    }
   ],
   "source": [
    "df_not_null['children'].value_counts()"
   ]
  },
  {
   "cell_type": "markdown",
   "metadata": {},
   "source": [
    "Pada kolom children terdapat data -1, dan 20 yang terlihat ganjil. "
   ]
  },
  {
   "cell_type": "code",
   "execution_count": 17,
   "metadata": {},
   "outputs": [
    {
     "data": {
      "text/plain": [
       "34    69\n",
       "40    66\n",
       "31    65\n",
       "42    65\n",
       "35    64\n",
       "36    63\n",
       "47    59\n",
       "41    59\n",
       "30    58\n",
       "28    57\n",
       "57    56\n",
       "58    56\n",
       "54    55\n",
       "38    54\n",
       "56    54\n",
       "37    53\n",
       "52    53\n",
       "39    51\n",
       "33    51\n",
       "50    51\n",
       "51    50\n",
       "45    50\n",
       "49    50\n",
       "29    50\n",
       "43    50\n",
       "46    48\n",
       "55    48\n",
       "48    46\n",
       "53    44\n",
       "44    44\n",
       "60    39\n",
       "61    38\n",
       "62    38\n",
       "64    37\n",
       "32    37\n",
       "27    36\n",
       "23    36\n",
       "26    35\n",
       "59    34\n",
       "63    29\n",
       "25    23\n",
       "24    21\n",
       "66    20\n",
       "65    20\n",
       "21    18\n",
       "22    17\n",
       "67    16\n",
       "0     10\n",
       "68     9\n",
       "69     5\n",
       "20     5\n",
       "71     5\n",
       "70     3\n",
       "72     2\n",
       "19     1\n",
       "73     1\n",
       "Name: dob_years, dtype: int64"
      ]
     },
     "execution_count": 17,
     "metadata": {},
     "output_type": "execute_result"
    }
   ],
   "source": [
    "df_null['dob_years'].value_counts()"
   ]
  },
  {
   "cell_type": "code",
   "execution_count": 18,
   "metadata": {},
   "outputs": [
    {
     "data": {
      "text/plain": [
       "35    553\n",
       "41    548\n",
       "38    544\n",
       "40    543\n",
       "34    534\n",
       "42    532\n",
       "33    530\n",
       "39    522\n",
       "44    503\n",
       "29    495\n",
       "31    495\n",
       "36    492\n",
       "48    492\n",
       "37    484\n",
       "30    482\n",
       "32    473\n",
       "50    463\n",
       "43    463\n",
       "49    458\n",
       "27    457\n",
       "45    447\n",
       "28    446\n",
       "56    433\n",
       "52    431\n",
       "46    427\n",
       "54    424\n",
       "47    421\n",
       "53    415\n",
       "59    410\n",
       "58    405\n",
       "57    404\n",
       "51    398\n",
       "55    395\n",
       "26    373\n",
       "60    338\n",
       "25    334\n",
       "61    317\n",
       "62    314\n",
       "24    243\n",
       "63    240\n",
       "64    228\n",
       "23    218\n",
       "65    174\n",
       "22    166\n",
       "66    163\n",
       "67    151\n",
       "21     93\n",
       "0      91\n",
       "68     90\n",
       "69     80\n",
       "70     62\n",
       "71     53\n",
       "20     46\n",
       "72     31\n",
       "19     13\n",
       "73      7\n",
       "74      6\n",
       "75      1\n",
       "Name: dob_years, dtype: int64"
      ]
     },
     "execution_count": 18,
     "metadata": {},
     "output_type": "execute_result"
    }
   ],
   "source": [
    "df_not_null['dob_years'].value_counts()"
   ]
  },
  {
   "cell_type": "markdown",
   "metadata": {},
   "source": [
    "Pada kolom dob_years terdapat nilai 0 yang terlihat ganjil."
   ]
  },
  {
   "cell_type": "code",
   "execution_count": 19,
   "metadata": {},
   "outputs": [
    {
     "data": {
      "text/plain": [
       "secondary education    1408\n",
       "bachelor's degree       496\n",
       "SECONDARY EDUCATION      67\n",
       "Secondary Education      65\n",
       "some college             55\n",
       "Bachelor's Degree        25\n",
       "BACHELOR'S DEGREE        23\n",
       "primary education        19\n",
       "Some College              7\n",
       "SOME COLLEGE              7\n",
       "Primary Education         1\n",
       "PRIMARY EDUCATION         1\n",
       "Name: education, dtype: int64"
      ]
     },
     "execution_count": 19,
     "metadata": {},
     "output_type": "execute_result"
    }
   ],
   "source": [
    "df_null['education'].value_counts()"
   ]
  },
  {
   "cell_type": "code",
   "execution_count": 20,
   "metadata": {},
   "outputs": [
    {
     "data": {
      "text/plain": [
       "secondary education    12342\n",
       "bachelor's degree       4222\n",
       "SECONDARY EDUCATION      705\n",
       "Secondary Education      646\n",
       "some college             613\n",
       "BACHELOR'S DEGREE        251\n",
       "Bachelor's Degree        243\n",
       "primary education        231\n",
       "Some College              40\n",
       "SOME COLLEGE              22\n",
       "PRIMARY EDUCATION         16\n",
       "Primary Education         14\n",
       "graduate degree            4\n",
       "Graduate Degree            1\n",
       "GRADUATE DEGREE            1\n",
       "Name: education, dtype: int64"
      ]
     },
     "execution_count": 20,
     "metadata": {},
     "output_type": "execute_result"
    }
   ],
   "source": [
    "df_not_null['education'].value_counts()"
   ]
  },
  {
   "cell_type": "markdown",
   "metadata": {},
   "source": [
    "Pada kolom education perlu dilakukan perubahan labelling menjadi primary education, secondary education, bachelor's degree, graduate degree, dan some college."
   ]
  },
  {
   "cell_type": "code",
   "execution_count": 21,
   "metadata": {},
   "outputs": [
    {
     "data": {
      "text/plain": [
       "1    1540\n",
       "0     544\n",
       "2      69\n",
       "3      21\n",
       "Name: education_id, dtype: int64"
      ]
     },
     "execution_count": 21,
     "metadata": {},
     "output_type": "execute_result"
    }
   ],
   "source": [
    "df_null['education_id'].value_counts()"
   ]
  },
  {
   "cell_type": "code",
   "execution_count": 22,
   "metadata": {},
   "outputs": [
    {
     "data": {
      "text/plain": [
       "1    13693\n",
       "0     4716\n",
       "2      675\n",
       "3      261\n",
       "4        6\n",
       "Name: education_id, dtype: int64"
      ]
     },
     "execution_count": 22,
     "metadata": {},
     "output_type": "execute_result"
    }
   ],
   "source": [
    "df_not_null['education_id'].value_counts()"
   ]
  },
  {
   "cell_type": "markdown",
   "metadata": {},
   "source": [
    "Terdapat 5 index pada kolom education_id dan pada populasi dengan data yang hilang hanya memiliki 4 index."
   ]
  },
  {
   "cell_type": "code",
   "execution_count": 23,
   "metadata": {},
   "outputs": [
    {
     "data": {
      "text/plain": [
       "married              1237\n",
       "civil partnership     442\n",
       "unmarried             288\n",
       "divorced              112\n",
       "widow / widower        95\n",
       "Name: family_status, dtype: int64"
      ]
     },
     "execution_count": 23,
     "metadata": {},
     "output_type": "execute_result"
    }
   ],
   "source": [
    "df_null['family_status'].value_counts()"
   ]
  },
  {
   "cell_type": "code",
   "execution_count": 24,
   "metadata": {},
   "outputs": [
    {
     "data": {
      "text/plain": [
       "married              11143\n",
       "civil partnership     3735\n",
       "unmarried             2525\n",
       "divorced              1083\n",
       "widow / widower        865\n",
       "Name: family_status, dtype: int64"
      ]
     },
     "execution_count": 24,
     "metadata": {},
     "output_type": "execute_result"
    }
   ],
   "source": [
    "df_not_null['family_status'].value_counts()"
   ]
  },
  {
   "cell_type": "code",
   "execution_count": 25,
   "metadata": {},
   "outputs": [
    {
     "data": {
      "text/plain": [
       "0    1237\n",
       "1     442\n",
       "4     288\n",
       "3     112\n",
       "2      95\n",
       "Name: family_status_id, dtype: int64"
      ]
     },
     "execution_count": 25,
     "metadata": {},
     "output_type": "execute_result"
    }
   ],
   "source": [
    "df_null['family_status_id'].value_counts()"
   ]
  },
  {
   "cell_type": "code",
   "execution_count": 26,
   "metadata": {},
   "outputs": [
    {
     "data": {
      "text/plain": [
       "0    11143\n",
       "1     3735\n",
       "4     2525\n",
       "3     1083\n",
       "2      865\n",
       "Name: family_status_id, dtype: int64"
      ]
     },
     "execution_count": 26,
     "metadata": {},
     "output_type": "execute_result"
    }
   ],
   "source": [
    "df_not_null['family_status_id'].value_counts()"
   ]
  },
  {
   "cell_type": "markdown",
   "metadata": {},
   "source": [
    "Pada kolom family_status dan family_status_id data yang dihasilkan terlihat sama."
   ]
  },
  {
   "cell_type": "code",
   "execution_count": 27,
   "metadata": {},
   "outputs": [
    {
     "data": {
      "text/plain": [
       "F    1484\n",
       "M     690\n",
       "Name: gender, dtype: int64"
      ]
     },
     "execution_count": 27,
     "metadata": {},
     "output_type": "execute_result"
    }
   ],
   "source": [
    "df_null['gender'].value_counts()"
   ]
  },
  {
   "cell_type": "code",
   "execution_count": 28,
   "metadata": {},
   "outputs": [
    {
     "data": {
      "text/plain": [
       "F      12752\n",
       "M       6598\n",
       "XNA        1\n",
       "Name: gender, dtype: int64"
      ]
     },
     "execution_count": 28,
     "metadata": {},
     "output_type": "execute_result"
    }
   ],
   "source": [
    "df_not_null['gender'].value_counts()"
   ]
  },
  {
   "cell_type": "markdown",
   "metadata": {},
   "source": [
    "Pada kolom gender terdapat 1 nilai XNA yang mungkin bisa diubah menjadi F karena populasi F paling besar."
   ]
  },
  {
   "cell_type": "code",
   "execution_count": 29,
   "metadata": {},
   "outputs": [
    {
     "data": {
      "text/plain": [
       "employee         1105\n",
       "business          508\n",
       "retiree           413\n",
       "civil servant     147\n",
       "entrepreneur        1\n",
       "Name: income_type, dtype: int64"
      ]
     },
     "execution_count": 29,
     "metadata": {},
     "output_type": "execute_result"
    }
   ],
   "source": [
    "df_null['income_type'].value_counts()"
   ]
  },
  {
   "cell_type": "code",
   "execution_count": 30,
   "metadata": {},
   "outputs": [
    {
     "data": {
      "text/plain": [
       "employee                       10014\n",
       "business                        4577\n",
       "retiree                         3443\n",
       "civil servant                   1312\n",
       "unemployed                         2\n",
       "student                            1\n",
       "entrepreneur                       1\n",
       "paternity / maternity leave        1\n",
       "Name: income_type, dtype: int64"
      ]
     },
     "execution_count": 30,
     "metadata": {},
     "output_type": "execute_result"
    }
   ],
   "source": [
    "df_not_null['income_type'].value_counts()"
   ]
  },
  {
   "cell_type": "markdown",
   "metadata": {},
   "source": [
    "Pada kolom income_type distribusi data pada baris dengan nilai yang hilang dan yang tidak hilang terlihat sama."
   ]
  },
  {
   "cell_type": "code",
   "execution_count": 31,
   "metadata": {},
   "outputs": [
    {
     "data": {
      "text/plain": [
       "0    2004\n",
       "1     170\n",
       "Name: debt, dtype: int64"
      ]
     },
     "execution_count": 31,
     "metadata": {},
     "output_type": "execute_result"
    }
   ],
   "source": [
    "df_null['debt'].value_counts()"
   ]
  },
  {
   "cell_type": "code",
   "execution_count": 32,
   "metadata": {},
   "outputs": [
    {
     "data": {
      "text/plain": [
       "0    17780\n",
       "1     1571\n",
       "Name: debt, dtype: int64"
      ]
     },
     "execution_count": 32,
     "metadata": {},
     "output_type": "execute_result"
    }
   ],
   "source": [
    "df_not_null['debt'].value_counts()"
   ]
  },
  {
   "cell_type": "markdown",
   "metadata": {},
   "source": [
    "Pada kolom debt distribusi data pada baris dengan nilai yang hilang dan yang tidak hilang terlihat sama."
   ]
  },
  {
   "cell_type": "code",
   "execution_count": 33,
   "metadata": {},
   "outputs": [
    {
     "data": {
      "text/plain": [
       "having a wedding                            92\n",
       "to have a wedding                           81\n",
       "wedding ceremony                            76\n",
       "construction of own property                75\n",
       "housing transactions                        74\n",
       "buy real estate                             72\n",
       "purchase of the house for my family         71\n",
       "transactions with my real estate            71\n",
       "housing renovation                          70\n",
       "transactions with commercial real estate    70\n",
       "buy commercial real estate                  67\n",
       "buying property for renting out             65\n",
       "property                                    62\n",
       "real estate transactions                    61\n",
       "buy residential real estate                 61\n",
       "housing                                     60\n",
       "building a property                         59\n",
       "cars                                        57\n",
       "going to university                         56\n",
       "to become educated                          55\n",
       "second-hand car purchase                    54\n",
       "buying my own car                           53\n",
       "purchase of the house                       52\n",
       "to own a car                                52\n",
       "to get a supplementary education            51\n",
       "getting an education                        50\n",
       "supplementary education                     48\n",
       "profile education                           47\n",
       "purchase of my own house                    46\n",
       "purchase of a car                           46\n",
       "building a real estate                      46\n",
       "car purchase                                43\n",
       "education                                   42\n",
       "buying a second-hand car                    42\n",
       "car                                         41\n",
       "university education                        40\n",
       "getting higher education                    36\n",
       "to buy a car                                30\n",
       "Name: purpose, dtype: int64"
      ]
     },
     "execution_count": 33,
     "metadata": {},
     "output_type": "execute_result"
    }
   ],
   "source": [
    "df_null['purpose'].value_counts()"
   ]
  },
  {
   "cell_type": "code",
   "execution_count": 34,
   "metadata": {},
   "outputs": [
    {
     "data": {
      "text/plain": [
       "wedding ceremony                            721\n",
       "to have a wedding                           693\n",
       "having a wedding                            685\n",
       "real estate transactions                    615\n",
       "buy commercial real estate                  597\n",
       "purchase of the house                       595\n",
       "buying property for renting out             588\n",
       "housing                                     587\n",
       "transactions with commercial real estate    581\n",
       "building a real estate                      580\n",
       "housing transactions                        579\n",
       "purchase of my own house                    574\n",
       "property                                    572\n",
       "purchase of the house for my family         570\n",
       "building a property                         561\n",
       "construction of own property                560\n",
       "transactions with my real estate            559\n",
       "buy real estate                             552\n",
       "buy residential real estate                 546\n",
       "housing renovation                          542\n",
       "car                                         454\n",
       "buying my own car                           452\n",
       "to buy a car                                442\n",
       "going to university                         440\n",
       "buying a second-hand car                    437\n",
       "second-hand car purchase                    435\n",
       "to own a car                                428\n",
       "cars                                        421\n",
       "car purchase                                419\n",
       "supplementary education                     414\n",
       "university education                        413\n",
       "purchase of a car                           409\n",
       "education                                   405\n",
       "to get a supplementary education            396\n",
       "getting an education                        393\n",
       "getting higher education                    390\n",
       "profile education                           389\n",
       "to become educated                          357\n",
       "Name: purpose, dtype: int64"
      ]
     },
     "execution_count": 34,
     "metadata": {},
     "output_type": "execute_result"
    }
   ],
   "source": [
    "df_not_null['purpose'].value_counts()"
   ]
  },
  {
   "cell_type": "markdown",
   "metadata": {},
   "source": [
    "Pada kolom purpose distribusi data pada baris dengan nilai yang hilang dan yang tidak hilang terlihat sama. Hanya saja labelling pada kolom purpose sepertinya perlu dirapihkan."
   ]
  },
  {
   "cell_type": "code",
   "execution_count": 35,
   "metadata": {},
   "outputs": [],
   "source": [
    "# Dilakukan pengecekan antar kolom dengan kolom yang miliki nilai yang hilang"
   ]
  },
  {
   "cell_type": "code",
   "execution_count": 36,
   "metadata": {},
   "outputs": [
    {
     "data": {
      "text/html": [
       "<div>\n",
       "<style scoped>\n",
       "    .dataframe tbody tr th:only-of-type {\n",
       "        vertical-align: middle;\n",
       "    }\n",
       "\n",
       "    .dataframe tbody tr th {\n",
       "        vertical-align: top;\n",
       "    }\n",
       "\n",
       "    .dataframe thead th {\n",
       "        text-align: right;\n",
       "    }\n",
       "</style>\n",
       "<table border=\"1\" class=\"dataframe\">\n",
       "  <thead>\n",
       "    <tr style=\"text-align: right;\">\n",
       "      <th></th>\n",
       "      <th>total_income</th>\n",
       "      <th>days_employed</th>\n",
       "    </tr>\n",
       "    <tr>\n",
       "      <th>income_type</th>\n",
       "      <th></th>\n",
       "      <th></th>\n",
       "    </tr>\n",
       "  </thead>\n",
       "  <tbody>\n",
       "    <tr>\n",
       "      <th>business</th>\n",
       "      <td>4577</td>\n",
       "      <td>4577</td>\n",
       "    </tr>\n",
       "    <tr>\n",
       "      <th>civil servant</th>\n",
       "      <td>1312</td>\n",
       "      <td>1312</td>\n",
       "    </tr>\n",
       "    <tr>\n",
       "      <th>employee</th>\n",
       "      <td>10014</td>\n",
       "      <td>10014</td>\n",
       "    </tr>\n",
       "    <tr>\n",
       "      <th>entrepreneur</th>\n",
       "      <td>1</td>\n",
       "      <td>1</td>\n",
       "    </tr>\n",
       "    <tr>\n",
       "      <th>paternity / maternity leave</th>\n",
       "      <td>1</td>\n",
       "      <td>1</td>\n",
       "    </tr>\n",
       "    <tr>\n",
       "      <th>retiree</th>\n",
       "      <td>3443</td>\n",
       "      <td>3443</td>\n",
       "    </tr>\n",
       "    <tr>\n",
       "      <th>student</th>\n",
       "      <td>1</td>\n",
       "      <td>1</td>\n",
       "    </tr>\n",
       "    <tr>\n",
       "      <th>unemployed</th>\n",
       "      <td>2</td>\n",
       "      <td>2</td>\n",
       "    </tr>\n",
       "  </tbody>\n",
       "</table>\n",
       "</div>"
      ],
      "text/plain": [
       "                             total_income  days_employed\n",
       "income_type                                             \n",
       "business                             4577           4577\n",
       "civil servant                        1312           1312\n",
       "employee                            10014          10014\n",
       "entrepreneur                            1              1\n",
       "paternity / maternity leave             1              1\n",
       "retiree                              3443           3443\n",
       "student                                 1              1\n",
       "unemployed                              2              2"
      ]
     },
     "execution_count": 36,
     "metadata": {},
     "output_type": "execute_result"
    }
   ],
   "source": [
    "df_not_null.groupby('income_type')[['total_income', 'days_employed']].count()"
   ]
  },
  {
   "cell_type": "markdown",
   "metadata": {},
   "source": [
    "Nilai pada kolom total_income dan days_employed memliki distribusi yang mirip."
   ]
  },
  {
   "cell_type": "code",
   "execution_count": 37,
   "metadata": {},
   "outputs": [
    {
     "data": {
      "text/plain": [
       "-327.685916     1\n",
       "-1580.622577    1\n",
       "-4122.460569    1\n",
       "-2828.237691    1\n",
       "-2636.090517    1\n",
       "               ..\n",
       "-7120.517564    1\n",
       "-2146.884040    1\n",
       "-881.454684     1\n",
       "-794.666350     1\n",
       "-3382.113891    1\n",
       "Name: days_employed, Length: 19351, dtype: int64"
      ]
     },
     "execution_count": 37,
     "metadata": {},
     "output_type": "execute_result"
    }
   ],
   "source": [
    "df['days_employed'].value_counts()"
   ]
  },
  {
   "cell_type": "markdown",
   "metadata": {},
   "source": [
    "Kolom days_employed memiliki nilai negatif dan positif."
   ]
  },
  {
   "cell_type": "code",
   "execution_count": 38,
   "metadata": {},
   "outputs": [
    {
     "data": {
      "text/plain": [
       "retiree       3443\n",
       "unemployed       2\n",
       "Name: income_type, dtype: int64"
      ]
     },
     "execution_count": 38,
     "metadata": {},
     "output_type": "execute_result"
    }
   ],
   "source": [
    "df_not_null[df_not_null['days_employed'] > 0]['income_type'].value_counts()"
   ]
  },
  {
   "cell_type": "code",
   "execution_count": 39,
   "metadata": {},
   "outputs": [
    {
     "data": {
      "text/plain": [
       "employee                       10014\n",
       "business                        4577\n",
       "civil servant                   1312\n",
       "student                            1\n",
       "entrepreneur                       1\n",
       "paternity / maternity leave        1\n",
       "Name: income_type, dtype: int64"
      ]
     },
     "execution_count": 39,
     "metadata": {},
     "output_type": "execute_result"
    }
   ],
   "source": [
    "df_not_null[df_not_null['days_employed'] < 0]['income_type'].value_counts()"
   ]
  },
  {
   "cell_type": "markdown",
   "metadata": {},
   "source": [
    "Nilai positif pada kolom days employed berasal dari retiree dan unemployed."
   ]
  },
  {
   "cell_type": "markdown",
   "metadata": {},
   "source": [
    "[Deksripsikan temuan Anda di sini.]\n",
    "**Kemungkinan penyebab hilangnya nilai dalam data**\n",
    "\n",
    "[Kemukakan gagasan Anda mengenai kemungkinan alasan hilangnya nilai-nilai tersebut. Apakah menurut Anda mereka hilang secara acak atau apakah terdapat pola-pola tertentu?]\n",
    "\n",
    "[Mari kita mulai memeriksa apakah nilai yang hilang bersifat acak.]\n",
    " \n",
    "Stelah dilakukan pengecekan terhadap distribusi data tidak ditemukan pola - pola tertentu yang menjadi kemungkinan penyebab hilangnya nilai dalam data.\n"
   ]
  },
  {
   "cell_type": "markdown",
   "metadata": {},
   "source": [
    "<div class=\"alert alert-success\">\n",
    "<b>Adipta's comment v.1</b> <a class=\"tocSkip\"></a>\n",
    "\n",
    "Bagus, semua berjalan lancar.\n",
    "\n",
    "</div>"
   ]
  },
  {
   "cell_type": "code",
   "execution_count": 40,
   "metadata": {},
   "outputs": [
    {
     "data": {
      "text/html": [
       "<div>\n",
       "<style scoped>\n",
       "    .dataframe tbody tr th:only-of-type {\n",
       "        vertical-align: middle;\n",
       "    }\n",
       "\n",
       "    .dataframe tbody tr th {\n",
       "        vertical-align: top;\n",
       "    }\n",
       "\n",
       "    .dataframe thead th {\n",
       "        text-align: right;\n",
       "    }\n",
       "</style>\n",
       "<table border=\"1\" class=\"dataframe\">\n",
       "  <thead>\n",
       "    <tr style=\"text-align: right;\">\n",
       "      <th></th>\n",
       "      <th>children</th>\n",
       "      <th>days_employed</th>\n",
       "      <th>dob_years</th>\n",
       "      <th>education_id</th>\n",
       "      <th>family_status_id</th>\n",
       "      <th>debt</th>\n",
       "      <th>total_income</th>\n",
       "    </tr>\n",
       "  </thead>\n",
       "  <tbody>\n",
       "    <tr>\n",
       "      <th>count</th>\n",
       "      <td>21525.000000</td>\n",
       "      <td>19351.000000</td>\n",
       "      <td>21525.000000</td>\n",
       "      <td>21525.000000</td>\n",
       "      <td>21525.000000</td>\n",
       "      <td>21525.000000</td>\n",
       "      <td>19351.000000</td>\n",
       "    </tr>\n",
       "    <tr>\n",
       "      <th>mean</th>\n",
       "      <td>0.538908</td>\n",
       "      <td>63046.497661</td>\n",
       "      <td>43.293380</td>\n",
       "      <td>0.817236</td>\n",
       "      <td>0.972544</td>\n",
       "      <td>0.080883</td>\n",
       "      <td>26787.568355</td>\n",
       "    </tr>\n",
       "    <tr>\n",
       "      <th>std</th>\n",
       "      <td>1.381587</td>\n",
       "      <td>140827.311974</td>\n",
       "      <td>12.574584</td>\n",
       "      <td>0.548138</td>\n",
       "      <td>1.420324</td>\n",
       "      <td>0.272661</td>\n",
       "      <td>16475.450632</td>\n",
       "    </tr>\n",
       "    <tr>\n",
       "      <th>min</th>\n",
       "      <td>-1.000000</td>\n",
       "      <td>-18388.949901</td>\n",
       "      <td>0.000000</td>\n",
       "      <td>0.000000</td>\n",
       "      <td>0.000000</td>\n",
       "      <td>0.000000</td>\n",
       "      <td>3306.762000</td>\n",
       "    </tr>\n",
       "    <tr>\n",
       "      <th>25%</th>\n",
       "      <td>0.000000</td>\n",
       "      <td>-2747.423625</td>\n",
       "      <td>33.000000</td>\n",
       "      <td>1.000000</td>\n",
       "      <td>0.000000</td>\n",
       "      <td>0.000000</td>\n",
       "      <td>16488.504500</td>\n",
       "    </tr>\n",
       "    <tr>\n",
       "      <th>50%</th>\n",
       "      <td>0.000000</td>\n",
       "      <td>-1203.369529</td>\n",
       "      <td>42.000000</td>\n",
       "      <td>1.000000</td>\n",
       "      <td>0.000000</td>\n",
       "      <td>0.000000</td>\n",
       "      <td>23202.870000</td>\n",
       "    </tr>\n",
       "    <tr>\n",
       "      <th>75%</th>\n",
       "      <td>1.000000</td>\n",
       "      <td>-291.095954</td>\n",
       "      <td>53.000000</td>\n",
       "      <td>1.000000</td>\n",
       "      <td>1.000000</td>\n",
       "      <td>0.000000</td>\n",
       "      <td>32549.611000</td>\n",
       "    </tr>\n",
       "    <tr>\n",
       "      <th>max</th>\n",
       "      <td>20.000000</td>\n",
       "      <td>401755.400475</td>\n",
       "      <td>75.000000</td>\n",
       "      <td>4.000000</td>\n",
       "      <td>4.000000</td>\n",
       "      <td>1.000000</td>\n",
       "      <td>362496.645000</td>\n",
       "    </tr>\n",
       "  </tbody>\n",
       "</table>\n",
       "</div>"
      ],
      "text/plain": [
       "           children  days_employed     dob_years  education_id  \\\n",
       "count  21525.000000   19351.000000  21525.000000  21525.000000   \n",
       "mean       0.538908   63046.497661     43.293380      0.817236   \n",
       "std        1.381587  140827.311974     12.574584      0.548138   \n",
       "min       -1.000000  -18388.949901      0.000000      0.000000   \n",
       "25%        0.000000   -2747.423625     33.000000      1.000000   \n",
       "50%        0.000000   -1203.369529     42.000000      1.000000   \n",
       "75%        1.000000    -291.095954     53.000000      1.000000   \n",
       "max       20.000000  401755.400475     75.000000      4.000000   \n",
       "\n",
       "       family_status_id          debt   total_income  \n",
       "count      21525.000000  21525.000000   19351.000000  \n",
       "mean           0.972544      0.080883   26787.568355  \n",
       "std            1.420324      0.272661   16475.450632  \n",
       "min            0.000000      0.000000    3306.762000  \n",
       "25%            0.000000      0.000000   16488.504500  \n",
       "50%            0.000000      0.000000   23202.870000  \n",
       "75%            1.000000      0.000000   32549.611000  \n",
       "max            4.000000      1.000000  362496.645000  "
      ]
     },
     "execution_count": 40,
     "metadata": {},
     "output_type": "execute_result"
    }
   ],
   "source": [
    "# Memeriksa distribusi di seluruh *dataset*\n",
    "df.describe()\n"
   ]
  },
  {
   "cell_type": "markdown",
   "metadata": {},
   "source": [
    "**Kesimpulan sementara**\n",
    "\n",
    "[Apakah distribusi dalam *dataset* yang asli mirip dengan distribusi tabel yang telah difilter? Apa artinya hal tersebut untuk kita?]\n",
    "Distribusi data pada dataset asli memiliki kemiripan dengan distribusi data pada tabel yang telah difilter tanpa nilai yang hilang. Nilai yang hilang pada setiap kolom memiliki distribusi yang sama. kemungkinan besar nilai yang hilang terjadi karena kebetulan atau kesalahan input.\n",
    "\n",
    "[Jika menurut Anda kita belum dapat membuat kesimpulan apa pun, mari kita kembali menyelidiki *dataset* lebih lanjut. Mari pikirkan alasan lain yang dapat menyebabkan data hilang dan periksa apakah kita dapat menemukan pola tertentu yang dapat membuat kita berpikir bahwa hilangnya nilai-nilai tersebut tidak terjadi secara acak. Karena ini merupakan tugas Anda, maka bagian ini adalah opsional.]"
   ]
  },
  {
   "cell_type": "code",
   "execution_count": 41,
   "metadata": {},
   "outputs": [],
   "source": [
    "# Periksa penyebab dan pola lain yang dapat mengakibatkan nilai yang hilang\n"
   ]
  },
  {
   "cell_type": "markdown",
   "metadata": {},
   "source": [
    "**Kesimpulan sementara**\n",
    "\n",
    "[Apakah pada akhirnya kita dapat memastikan bahwa nilai yang hilang adalah suatu kebetulan? Periksa hal lain yang menurut Anda penting di sini.]\n",
    "Pada akhirnya tidak didapatkan pola tertentu yang menyebabkan nilai yang hilang."
   ]
  },
  {
   "cell_type": "code",
   "execution_count": 42,
   "metadata": {
    "scrolled": true
   },
   "outputs": [],
   "source": [
    "# Periksa pola lainnya - jelaskan pola tersebut\n"
   ]
  },
  {
   "cell_type": "markdown",
   "metadata": {},
   "source": [
    "**Kesimpulan**\n",
    "\n",
    "[Apakah Anda menemukan suatu pola? Bagaimana Anda mendapatkan kesimpulan ini?]\n",
    "\n",
    "[Jelaskan bagaimana Anda akan mengatasi nilai-nilai yang hilang. Pertimbangkan kategori dengan nilai yang hilang.]\n",
    "\n",
    "[Rencanakan secara singkat langkah Anda selanjutnya untuk mentransformasi data. Anda mungkin perlu mengatasi berbagai jenis masalah: duplikat, pencatatan yang berbeda, sumber data yang salah, dan nilai yang hilang.]\n",
    "\n",
    "Nilai yang hilang pada tabel kemungkinan terjadi karena kebetulan atau kesalahan input. karena itu, nilai yang hilang akan diisi dengan nilai mayoritas pada masing- masing kolomnya."
   ]
  },
  {
   "cell_type": "markdown",
   "metadata": {},
   "source": [
    "<div class=\"alert alert-success\">\n",
    "<b>Adipta's comment v.1</b> <a class=\"tocSkip\"></a>\n",
    "\n",
    "Bagus, semua berjalan lancar.\n",
    "\n",
    "</div>"
   ]
  },
  {
   "cell_type": "markdown",
   "metadata": {},
   "source": [
    "## Transformasi data\n",
    "\n",
    "[Mari kita perhatikan setiap kolom untuk melihat masalah apa yang mungkin dimiliki mereka.]\n",
    "\n",
    "[Mulailah dengan menghapus duplikat dan memperbaiki data tentang informasi pendidikan jika diperlukan.]"
   ]
  },
  {
   "cell_type": "code",
   "execution_count": 43,
   "metadata": {},
   "outputs": [
    {
     "data": {
      "text/plain": [
       "secondary education    13750\n",
       "bachelor's degree       4718\n",
       "SECONDARY EDUCATION      772\n",
       "Secondary Education      711\n",
       "some college             668\n",
       "BACHELOR'S DEGREE        274\n",
       "Bachelor's Degree        268\n",
       "primary education        250\n",
       "Some College              47\n",
       "SOME COLLEGE              29\n",
       "PRIMARY EDUCATION         17\n",
       "Primary Education         15\n",
       "graduate degree            4\n",
       "GRADUATE DEGREE            1\n",
       "Graduate Degree            1\n",
       "Name: education, dtype: int64"
      ]
     },
     "execution_count": 43,
     "metadata": {},
     "output_type": "execute_result"
    }
   ],
   "source": [
    "# Mari kita lihat semua nilai di kolom pendidikan untuk memeriksa ejaan apa yang perlu diperbaiki\n",
    "df['education'].value_counts()"
   ]
  },
  {
   "cell_type": "code",
   "execution_count": 44,
   "metadata": {
    "scrolled": true
   },
   "outputs": [],
   "source": [
    "# Perbaiki pencatatan jika diperlukan\n",
    "df['education'] = df['education'].str.lower()\n",
    "\n"
   ]
  },
  {
   "cell_type": "code",
   "execution_count": 45,
   "metadata": {},
   "outputs": [
    {
     "data": {
      "text/plain": [
       "secondary education    15233\n",
       "bachelor's degree       5260\n",
       "some college             744\n",
       "primary education        282\n",
       "graduate degree            6\n",
       "Name: education, dtype: int64"
      ]
     },
     "execution_count": 45,
     "metadata": {},
     "output_type": "execute_result"
    }
   ],
   "source": [
    "# Periksa semua nilai di kolom untuk memastikan bahwa kita telah memperbaikinya dengan tepat\n",
    "df['education'].value_counts()\n"
   ]
  },
  {
   "cell_type": "markdown",
   "metadata": {},
   "source": [
    "<div class=\"alert alert-success\">\n",
    "<b>Adipta's comment v.1</b> <a class=\"tocSkip\"></a>\n",
    "\n",
    "Bagus, semua berjalan lancar.\n",
    "\n",
    "</div>"
   ]
  },
  {
   "cell_type": "markdown",
   "metadata": {},
   "source": [
    "[Periksa data kolom `children`]"
   ]
  },
  {
   "cell_type": "code",
   "execution_count": 46,
   "metadata": {},
   "outputs": [
    {
     "data": {
      "text/plain": [
       " 0     14149\n",
       " 1      4818\n",
       " 2      2055\n",
       " 3       330\n",
       " 20       76\n",
       "-1        47\n",
       " 4        41\n",
       " 5         9\n",
       "Name: children, dtype: int64"
      ]
     },
     "execution_count": 46,
     "metadata": {},
     "output_type": "execute_result"
    }
   ],
   "source": [
    "# Mari kita lihat distribusi nilai pada kolom `children`\n",
    "df['children'].value_counts()"
   ]
  },
  {
   "cell_type": "markdown",
   "metadata": {},
   "source": [
    "[Apakah terdapat hal-hal yang aneh di kolom tersebut? Bagaimana mereka bisa terjadi? Buat keputusan tentang apa yang akan Anda lakukan dengan data ini dan jelaskan alasannya.]\n",
    "\n",
    "Terdapat nilai yang aneh berupa -1 dan 20 yang kemungkinan besar adalah salah ketik dari 1 dan 2."
   ]
  },
  {
   "cell_type": "code",
   "execution_count": 47,
   "metadata": {},
   "outputs": [],
   "source": [
    "# [perbaiki data berdasarkan keputusan Anda]\n",
    "df.loc[df['children'] == 20, ['children']] = 2\n",
    "df.loc[df['children'] == -1, ['children']] = 1"
   ]
  },
  {
   "cell_type": "code",
   "execution_count": 48,
   "metadata": {},
   "outputs": [
    {
     "data": {
      "text/plain": [
       "0    14149\n",
       "1     4865\n",
       "2     2131\n",
       "3      330\n",
       "4       41\n",
       "5        9\n",
       "Name: children, dtype: int64"
      ]
     },
     "execution_count": 48,
     "metadata": {},
     "output_type": "execute_result"
    }
   ],
   "source": [
    "# Periksa kembali kolom `children` untuk memastikan bahwa semuanya telah diperbaiki\n",
    "df['children'].value_counts()\n"
   ]
  },
  {
   "cell_type": "markdown",
   "metadata": {},
   "source": [
    "<div class=\"alert alert-success\">\n",
    "<b>Adipta's comment v.1</b> <a class=\"tocSkip\"></a>\n",
    "\n",
    "Bagus, semua berjalan lancar.\n",
    "\n",
    "</div>"
   ]
  },
  {
   "cell_type": "markdown",
   "metadata": {},
   "source": [
    "[Periksa data dalam kolom the `days_employed`. Pertama-tama pikirkan tentang masalah apa yang mungkin ada pada kolom tersebut, serta pikirkan juga apa yang mungkin ingin Anda periksa dan bagaimana Anda akan melakukannya.]"
   ]
  },
  {
   "cell_type": "code",
   "execution_count": 49,
   "metadata": {},
   "outputs": [],
   "source": [
    "# Temukan data yang bermasalah di kolom `days_employed` jika memang terdapat masalah, dan hitung persentasenya"
   ]
  },
  {
   "cell_type": "code",
   "execution_count": 50,
   "metadata": {},
   "outputs": [],
   "source": [
    "# Kolom days_employed diubah keseluruhan nilainya menjadi positif.\n",
    "df['days_employed'] = df['days_employed'].abs()"
   ]
  },
  {
   "cell_type": "code",
   "execution_count": 51,
   "metadata": {},
   "outputs": [],
   "source": [
    "# Kolom days employed dikonversi kedalam satuan tahun\n",
    "df['de_year'] = df['days_employed'] / 365.4"
   ]
  },
  {
   "cell_type": "code",
   "execution_count": 52,
   "metadata": {},
   "outputs": [
    {
     "data": {
      "text/plain": [
       "count     19351.000000\n",
       "mean      66914.728907\n",
       "std      139030.880527\n",
       "min          24.141633\n",
       "25%         927.009265\n",
       "50%        2194.220567\n",
       "75%        5537.882441\n",
       "max      401755.400475\n",
       "Name: days_employed, dtype: float64"
      ]
     },
     "execution_count": 52,
     "metadata": {},
     "output_type": "execute_result"
    }
   ],
   "source": [
    "df['days_employed'].describe()"
   ]
  },
  {
   "cell_type": "code",
   "execution_count": 53,
   "metadata": {},
   "outputs": [
    {
     "data": {
      "text/plain": [
       "count    19351.000000\n",
       "mean       183.127337\n",
       "std        380.489547\n",
       "min          0.066069\n",
       "25%          2.536971\n",
       "50%          6.004982\n",
       "75%         15.155672\n",
       "max       1099.494802\n",
       "Name: de_year, dtype: float64"
      ]
     },
     "execution_count": 53,
     "metadata": {},
     "output_type": "execute_result"
    }
   ],
   "source": [
    "df['de_year'].describe()"
   ]
  },
  {
   "cell_type": "markdown",
   "metadata": {},
   "source": [
    "Terdapat nilai maksimal 1099 tahun pada kolom days_employed, sehingga nilai yang tidak wajar tersebut harus di handle terlebih dahulu. Nilai "
   ]
  },
  {
   "cell_type": "code",
   "execution_count": 54,
   "metadata": {},
   "outputs": [],
   "source": [
    "df.loc[(df['days_employed'] > 320000), ['days_employed']] = ((df['dob_years'] - 17) * 365.4)"
   ]
  },
  {
   "cell_type": "markdown",
   "metadata": {},
   "source": [
    "Nilai yang lebih dari 320000 hari diubah menjadi selisih umur dengan umur minimal kerja yaitu 17 tahun."
   ]
  },
  {
   "cell_type": "code",
   "execution_count": 55,
   "metadata": {},
   "outputs": [
    {
     "data": {
      "text/plain": [
       "income_type\n",
       "retiree    15396.892594\n",
       "Name: days_employed, dtype: float64"
      ]
     },
     "execution_count": 55,
     "metadata": {},
     "output_type": "execute_result"
    }
   ],
   "source": [
    "df[df['income_type'] == 'retiree'].groupby('income_type')['days_employed'].mean()"
   ]
  },
  {
   "cell_type": "markdown",
   "metadata": {},
   "source": [
    "Pada kategori retiree nilai rata- ratanya masa kerjanya sekitar 40++ tahun. "
   ]
  },
  {
   "cell_type": "code",
   "execution_count": 56,
   "metadata": {},
   "outputs": [
    {
     "data": {
      "text/plain": [
       "2174"
      ]
     },
     "execution_count": 56,
     "metadata": {},
     "output_type": "execute_result"
    }
   ],
   "source": [
    "# Terdapat nilai yang hilang pada kolom days_employed\n",
    "df['days_employed'].isna().sum()"
   ]
  },
  {
   "cell_type": "code",
   "execution_count": 57,
   "metadata": {},
   "outputs": [
    {
     "name": "stdout",
     "output_type": "stream",
     "text": [
      "Pada kolom days_employed terdapat baris dengan nilai yang hilang\n",
      "Presentasi nilai yang hilang pada kolom days_employed sebesar 10.1%\n"
     ]
    }
   ],
   "source": [
    "print('Pada kolom days_employed terdapat baris dengan nilai yang hilang')\n",
    "print(f'Presentasi nilai yang hilang pada kolom days_employed sebesar {df_null_persen:.1%}')"
   ]
  },
  {
   "cell_type": "markdown",
   "metadata": {},
   "source": [
    "Setelah menghandle nilai yang tidak wajar, saatnya mengisi nilai yang hilang dengan mediannya."
   ]
  },
  {
   "cell_type": "code",
   "execution_count": 58,
   "metadata": {},
   "outputs": [],
   "source": [
    "# Median pada tiap kategori kolom income_type yang digunakan.\n",
    "de_business = df.loc[df['income_type'] == 'business']\n",
    "de_business_median = de_business['days_employed'].median()"
   ]
  },
  {
   "cell_type": "code",
   "execution_count": 59,
   "metadata": {},
   "outputs": [],
   "source": [
    "de_cs = df.loc[df['income_type'] == 'civil servant']\n",
    "de_cs_median = de_cs['days_employed'].median()"
   ]
  },
  {
   "cell_type": "code",
   "execution_count": 60,
   "metadata": {},
   "outputs": [],
   "source": [
    "de_employee = df.loc[df['income_type'] == 'employee']\n",
    "de_employee_median = de_employee['days_employed'].median()"
   ]
  },
  {
   "cell_type": "code",
   "execution_count": 61,
   "metadata": {},
   "outputs": [],
   "source": [
    "de_entrepreneur = df.loc[df['income_type'] == 'entrepreneur']\n",
    "de_entrepreneur_median = de_entrepreneur['days_employed'].median()"
   ]
  },
  {
   "cell_type": "code",
   "execution_count": 62,
   "metadata": {},
   "outputs": [],
   "source": [
    "de_retiree = df.loc[df['income_type'] == 'retiree']\n",
    "de_retiree_median = de_retiree['days_employed'].median()\n"
   ]
  },
  {
   "cell_type": "code",
   "execution_count": 63,
   "metadata": {},
   "outputs": [],
   "source": [
    "# Atasi nilai yang bermasalah, jika ada\n",
    "df.loc[(df['income_type'] == 'business'), ['days_employed']] = df.loc[(df['income_type'] == 'business'), ['days_employed']].fillna(de_business_median)"
   ]
  },
  {
   "cell_type": "code",
   "execution_count": 64,
   "metadata": {},
   "outputs": [],
   "source": [
    "df.loc[(df['income_type'] == 'civil servant'), ['days_employed']] = df.loc[(df['income_type'] == 'civil servant'), ['days_employed']].fillna(de_cs_median)"
   ]
  },
  {
   "cell_type": "code",
   "execution_count": 65,
   "metadata": {},
   "outputs": [],
   "source": [
    "df.loc[(df['income_type'] == 'employee'), ['days_employed']] = df.loc[(df['income_type'] == 'employee'), ['days_employed']].fillna(de_employee_median)"
   ]
  },
  {
   "cell_type": "code",
   "execution_count": 66,
   "metadata": {},
   "outputs": [],
   "source": [
    "df.loc[(df['income_type'] == 'entrepreneur'), ['days_employed']] = df.loc[(df['income_type'] == 'entrepreneur'), ['days_employed']].fillna(de_entrepreneur_median)"
   ]
  },
  {
   "cell_type": "code",
   "execution_count": 67,
   "metadata": {},
   "outputs": [],
   "source": [
    "df.loc[(df['income_type'] == 'retiree'), ['days_employed']] = df.loc[(df['income_type'] == 'retiree'), ['days_employed']].fillna(de_retiree_median)"
   ]
  },
  {
   "cell_type": "code",
   "execution_count": 68,
   "metadata": {},
   "outputs": [
    {
     "data": {
      "text/plain": [
       "0"
      ]
     },
     "execution_count": 68,
     "metadata": {},
     "output_type": "execute_result"
    }
   ],
   "source": [
    "# Periksa hasilnya - pastikan bahwa masalahnya telah diperbaiki\n",
    "df['days_employed'].isna().sum()"
   ]
  },
  {
   "cell_type": "markdown",
   "metadata": {},
   "source": [
    "Jumlah nilai yang hilang pada kolom days_employed sudah menjadi 0. "
   ]
  },
  {
   "cell_type": "markdown",
   "metadata": {},
   "source": [
    "<div class=\"alert alert-warning\">\n",
    "<b>Adipta's comment v.1</b> <a class=\"tocSkip\"></a>\n",
    "\n",
    "- untuk bab ini diminta jangan langsung menggunakan median ya\n",
    "    - tetapi bisa menggunakan conditional fillna\n",
    "    - silahkan tanya tutor/instructor\n",
    "    - lalu juga masih ada nilai yg aneh yaitu masa kerja sampai 900++ tahun\n",
    "\n",
    "</div>"
   ]
  },
  {
   "cell_type": "markdown",
   "metadata": {},
   "source": [
    "<div class=\"alert alert-block alert-info\">\n",
    "<b>Student answer.</b> <a class=\"tocSkip\"></a>\n",
    "    \n",
    "Baik kak, saya coba gunakan conditional fillna dan pisahkan nilai dengan masa kerja diatas 900++ tahun.\n",
    "</div>"
   ]
  },
  {
   "cell_type": "markdown",
   "metadata": {},
   "source": [
    "<div class=\"alert alert-danger\">\n",
    "<b>Adipta's comment v.1</b> <a class=\"tocSkip\"></a>\n",
    "\n",
    "- masih ada nilai kolom days_employed yang aneh\n",
    "    - nilai 900++ tahun itu tidak dipisahkan, tapi di handle, entah dihapus atau dirubah/diganti.\n",
    "\n",
    "</div>"
   ]
  },
  {
   "cell_type": "markdown",
   "metadata": {},
   "source": [
    "<div class=\"alert alert-block alert-info\">\n",
    "<b>Student answer.</b> <a class=\"tocSkip\"></a>\n",
    "    \n",
    "Baik kak, untuk masa kerja 900++ tahun dihandle dulu dengan dibagi 100 sehingga nilainya menjadi masuk akal.\n",
    "</div>"
   ]
  },
  {
   "cell_type": "markdown",
   "metadata": {},
   "source": [
    "<div class=\"alert alert-success\">\n",
    "<b>Adipta's comment v.3</b> <a class=\"tocSkip\"></a>\n",
    "\n",
    "Bagus, semua berjalan lancar.\n",
    "\n",
    "</div>"
   ]
  },
  {
   "cell_type": "markdown",
   "metadata": {},
   "source": [
    "[Sekarang mari kita lihat usia nasabah dan mengecek apakah terdapat masalah di sana. Sekali lagi, pikirkan tentang kemungkinan kejanggalan apa yang bisa kita temui dalam kolom ini, misalnya angka usia yang tidak masuk akal.]"
   ]
  },
  {
   "cell_type": "code",
   "execution_count": 69,
   "metadata": {
    "scrolled": true
   },
   "outputs": [
    {
     "data": {
      "text/plain": [
       "35    617\n",
       "40    609\n",
       "41    607\n",
       "34    603\n",
       "38    598\n",
       "42    597\n",
       "33    581\n",
       "39    573\n",
       "31    560\n",
       "36    555\n",
       "44    547\n",
       "29    545\n",
       "30    540\n",
       "48    538\n",
       "37    537\n",
       "50    514\n",
       "43    513\n",
       "32    510\n",
       "49    508\n",
       "28    503\n",
       "45    497\n",
       "27    493\n",
       "56    487\n",
       "52    484\n",
       "47    480\n",
       "54    479\n",
       "46    475\n",
       "58    461\n",
       "57    460\n",
       "53    459\n",
       "51    448\n",
       "59    444\n",
       "55    443\n",
       "26    408\n",
       "60    377\n",
       "25    357\n",
       "61    355\n",
       "62    352\n",
       "63    269\n",
       "64    265\n",
       "24    264\n",
       "23    254\n",
       "65    194\n",
       "66    183\n",
       "22    183\n",
       "67    167\n",
       "21    111\n",
       "0     101\n",
       "68     99\n",
       "69     85\n",
       "70     65\n",
       "71     58\n",
       "20     51\n",
       "72     33\n",
       "19     14\n",
       "73      8\n",
       "74      6\n",
       "75      1\n",
       "Name: dob_years, dtype: int64"
      ]
     },
     "execution_count": 69,
     "metadata": {},
     "output_type": "execute_result"
    }
   ],
   "source": [
    "# Periksa `dob_years` untuk nilai yang mencurigakan dan hitung persentasenya\n",
    "df['dob_years'].value_counts()\n"
   ]
  },
  {
   "cell_type": "code",
   "execution_count": 70,
   "metadata": {},
   "outputs": [
    {
     "data": {
      "text/plain": [
       "count    21525.000000\n",
       "mean        43.293380\n",
       "std         12.574584\n",
       "min          0.000000\n",
       "25%         33.000000\n",
       "50%         42.000000\n",
       "75%         53.000000\n",
       "max         75.000000\n",
       "Name: dob_years, dtype: float64"
      ]
     },
     "execution_count": 70,
     "metadata": {},
     "output_type": "execute_result"
    }
   ],
   "source": [
    "df['dob_years'].describe()"
   ]
  },
  {
   "cell_type": "markdown",
   "metadata": {},
   "source": [
    "[Putuskan apa yang akan Anda lakukan dengan nilai yang bermasalah dan jelaskan alasannya.]\n",
    "\n",
    "Ada 101 baris dengan nilai usia 0, karena nilainya tidak masuk akal jadi nilainya akan didrop."
   ]
  },
  {
   "cell_type": "code",
   "execution_count": 71,
   "metadata": {},
   "outputs": [],
   "source": [
    "# Atasi masalah pada kolom `dob_years`, jika terdapat masalah\n",
    "df.drop(df[df['dob_years'] == 0].index, inplace = True)"
   ]
  },
  {
   "cell_type": "code",
   "execution_count": 72,
   "metadata": {},
   "outputs": [
    {
     "data": {
      "text/plain": [
       "35    617\n",
       "40    609\n",
       "41    607\n",
       "34    603\n",
       "38    598\n",
       "42    597\n",
       "33    581\n",
       "39    573\n",
       "31    560\n",
       "36    555\n",
       "44    547\n",
       "29    545\n",
       "30    540\n",
       "48    538\n",
       "37    537\n",
       "50    514\n",
       "43    513\n",
       "32    510\n",
       "49    508\n",
       "28    503\n",
       "45    497\n",
       "27    493\n",
       "56    487\n",
       "52    484\n",
       "47    480\n",
       "54    479\n",
       "46    475\n",
       "58    461\n",
       "57    460\n",
       "53    459\n",
       "51    448\n",
       "59    444\n",
       "55    443\n",
       "26    408\n",
       "60    377\n",
       "25    357\n",
       "61    355\n",
       "62    352\n",
       "63    269\n",
       "64    265\n",
       "24    264\n",
       "23    254\n",
       "65    194\n",
       "22    183\n",
       "66    183\n",
       "67    167\n",
       "21    111\n",
       "68     99\n",
       "69     85\n",
       "70     65\n",
       "71     58\n",
       "20     51\n",
       "72     33\n",
       "19     14\n",
       "73      8\n",
       "74      6\n",
       "75      1\n",
       "Name: dob_years, dtype: int64"
      ]
     },
     "execution_count": 72,
     "metadata": {},
     "output_type": "execute_result"
    }
   ],
   "source": [
    "# Periksa hasilnya - pastikan bahwa masalahnya telah diperbaiki\n",
    "df['dob_years'].value_counts()"
   ]
  },
  {
   "cell_type": "markdown",
   "metadata": {},
   "source": [
    "<div class=\"alert alert-warning\">\n",
    "<b>Adipta's comment v.1</b> <a class=\"tocSkip\"></a>\n",
    "\n",
    "- Nilai 0 bisa di drop saja\n",
    "\n",
    "</div>"
   ]
  },
  {
   "cell_type": "markdown",
   "metadata": {},
   "source": [
    "<div class=\"alert alert-block alert-info\">\n",
    "<b>Student answer.</b> <a class=\"tocSkip\"></a>\n",
    "    \n",
    "Baik kak, nilai 0 nya dihapus\n",
    "</div>"
   ]
  },
  {
   "cell_type": "markdown",
   "metadata": {},
   "source": [
    "<div class=\"alert alert-success\">\n",
    "<b>Adipta's comment v.2</b> <a class=\"tocSkip\"></a>\n",
    "\n",
    "Bagus, semua berjalan lancar.\n",
    "\n",
    "</div>"
   ]
  },
  {
   "cell_type": "markdown",
   "metadata": {},
   "source": [
    "[Sekarang saatnya memeriksa kolom `family_status`. Periksalah nilai seperti apa yang dimuat di dalam kolom ini dan masalah apa yang mungkin perlu Anda atasi.]"
   ]
  },
  {
   "cell_type": "code",
   "execution_count": 73,
   "metadata": {},
   "outputs": [
    {
     "data": {
      "text/plain": [
       "married              12331\n",
       "civil partnership     4156\n",
       "unmarried             2797\n",
       "divorced              1185\n",
       "widow / widower        955\n",
       "Name: family_status, dtype: int64"
      ]
     },
     "execution_count": 73,
     "metadata": {},
     "output_type": "execute_result"
    }
   ],
   "source": [
    "# Mari kita lihat nilai untuk kolom ini\n",
    "df['family_status'].value_counts()\n"
   ]
  },
  {
   "cell_type": "code",
   "execution_count": 74,
   "metadata": {},
   "outputs": [],
   "source": [
    "# Atasi nilai yang bermasalah di `family_status`, jika ada\n"
   ]
  },
  {
   "cell_type": "markdown",
   "metadata": {},
   "source": [
    "Dari hasil pengamatan, tidak didapatkan nilai yang bermasalah pada kolom 'family_status'."
   ]
  },
  {
   "cell_type": "code",
   "execution_count": 75,
   "metadata": {},
   "outputs": [],
   "source": [
    "# Periksa hasilnya - pastikan nilainya telah diperbaiki\n",
    "\n"
   ]
  },
  {
   "cell_type": "markdown",
   "metadata": {},
   "source": [
    "[Sekarang saatnya memeriksa kolom `gender`. Periksalah nilai seperti apa yang dimuat di dalam kolom ini dan masalah apa yang mungkin perlu Anda atasi]"
   ]
  },
  {
   "cell_type": "code",
   "execution_count": 76,
   "metadata": {},
   "outputs": [
    {
     "data": {
      "text/plain": [
       "F      14164\n",
       "M       7259\n",
       "XNA        1\n",
       "Name: gender, dtype: int64"
      ]
     },
     "execution_count": 76,
     "metadata": {},
     "output_type": "execute_result"
    }
   ],
   "source": [
    "# Mari kita liat nilai dalam kolom ini\n",
    "df['gender'].value_counts()\n"
   ]
  },
  {
   "cell_type": "code",
   "execution_count": 77,
   "metadata": {},
   "outputs": [],
   "source": [
    "# Atasi nilai-nilai yang bermasalah, jika ada\n",
    "df.loc[df['gender'] == 'XNA', ['gender']] = 'F'"
   ]
  },
  {
   "cell_type": "markdown",
   "metadata": {},
   "source": [
    "Dari hasil pengamatan, terdapat 1 nilai yang tidak teridentifikasi."
   ]
  },
  {
   "cell_type": "code",
   "execution_count": 78,
   "metadata": {},
   "outputs": [
    {
     "data": {
      "text/plain": [
       "F    14165\n",
       "M     7259\n",
       "Name: gender, dtype: int64"
      ]
     },
     "execution_count": 78,
     "metadata": {},
     "output_type": "execute_result"
    }
   ],
   "source": [
    "# Periksa hasilnya - pastikan bahwa masalahnya telah diperbaiki\n",
    "df['gender'].value_counts()\n"
   ]
  },
  {
   "cell_type": "markdown",
   "metadata": {},
   "source": [
    "<div class=\"alert alert-success\">\n",
    "<b>Adipta's comment v.1</b> <a class=\"tocSkip\"></a>\n",
    "\n",
    "Bagus, semua berjalan lancar.\n",
    "\n",
    "</div>"
   ]
  },
  {
   "cell_type": "markdown",
   "metadata": {},
   "source": [
    "[Sekarang saatnya memeriksa kolom `income_type`. Periksalah nilai seperti apa yang dimuat di dalam kolom ini dan masalah apa yang mungkin perlu Anda atasi]"
   ]
  },
  {
   "cell_type": "code",
   "execution_count": 79,
   "metadata": {},
   "outputs": [
    {
     "data": {
      "text/plain": [
       "employee                       11064\n",
       "business                        5065\n",
       "retiree                         3836\n",
       "civil servant                   1453\n",
       "entrepreneur                       2\n",
       "unemployed                         2\n",
       "student                            1\n",
       "paternity / maternity leave        1\n",
       "Name: income_type, dtype: int64"
      ]
     },
     "execution_count": 79,
     "metadata": {},
     "output_type": "execute_result"
    }
   ],
   "source": [
    "# Mari kita lihat nilai dalam kolom ini\n",
    "df['income_type'].value_counts()\n"
   ]
  },
  {
   "cell_type": "code",
   "execution_count": 80,
   "metadata": {},
   "outputs": [],
   "source": [
    "# Atasi nilai yang bermasalah, jika ada"
   ]
  },
  {
   "cell_type": "markdown",
   "metadata": {},
   "source": [
    "Dari hasil pengamatan, tidak didapatkan nilai yang bermasalah pada kolom 'income_type'."
   ]
  },
  {
   "cell_type": "code",
   "execution_count": 81,
   "metadata": {},
   "outputs": [],
   "source": [
    "# Periksa hasilnya - pastikan bahwa masalahnya telah diperbaiki\n"
   ]
  },
  {
   "cell_type": "markdown",
   "metadata": {},
   "source": [
    "[Sekarang saatnya melihat apakah ada duplikat di dalam data kita. Jika kita menemukannya, Anda harus memutuskan apa yang akan Anda lakukan dengan duplikat tersebut dan menjelaskan alasannya.]"
   ]
  },
  {
   "cell_type": "code",
   "execution_count": 82,
   "metadata": {},
   "outputs": [
    {
     "data": {
      "text/plain": [
       "71"
      ]
     },
     "execution_count": 82,
     "metadata": {},
     "output_type": "execute_result"
    }
   ],
   "source": [
    "# Periksa duplikat\n",
    "df.duplicated().sum()"
   ]
  },
  {
   "cell_type": "code",
   "execution_count": 83,
   "metadata": {},
   "outputs": [
    {
     "data": {
      "text/plain": [
       "(21424, 13)"
      ]
     },
     "execution_count": 83,
     "metadata": {},
     "output_type": "execute_result"
    }
   ],
   "source": [
    "df.shape"
   ]
  },
  {
   "cell_type": "code",
   "execution_count": 84,
   "metadata": {},
   "outputs": [],
   "source": [
    "# Atasi duplikat, jika ada\n",
    "df = df.drop_duplicates().reset_index(drop=True)"
   ]
  },
  {
   "cell_type": "code",
   "execution_count": 85,
   "metadata": {},
   "outputs": [
    {
     "data": {
      "text/plain": [
       "0"
      ]
     },
     "execution_count": 85,
     "metadata": {},
     "output_type": "execute_result"
    }
   ],
   "source": [
    "# Lakukan pemeriksaan terakhir untuk mengecek apakah kita memiliki duplikat\n",
    "df.duplicated().sum()"
   ]
  },
  {
   "cell_type": "code",
   "execution_count": 86,
   "metadata": {},
   "outputs": [
    {
     "data": {
      "text/plain": [
       "(21353, 13)"
      ]
     },
     "execution_count": 86,
     "metadata": {},
     "output_type": "execute_result"
    }
   ],
   "source": [
    "# Periksa ukuran dataset yang sekarang Anda miliki setelah manipulasi pertama yang Anda lakukan\n",
    "df.shape"
   ]
  },
  {
   "cell_type": "markdown",
   "metadata": {},
   "source": [
    "[Jelaskan *dataset* baru Anda: jelaskan secara singkat apa saja perubahannya dan seberapa besar persentase perubahannya, jika ada.]\n"
   ]
  },
  {
   "cell_type": "code",
   "execution_count": 87,
   "metadata": {},
   "outputs": [
    {
     "name": "stdout",
     "output_type": "stream",
     "text": [
      "Total duplikat yang terhapus ada 71 baris sehingga jumlah baris menjadi 21454.\n",
      "presentase perubahannya sebesar 0.3%\n"
     ]
    }
   ],
   "source": [
    "print('Total duplikat yang terhapus ada 71 baris sehingga jumlah baris menjadi 21454.')\n",
    "print(f'presentase perubahannya sebesar {71/21525:0.1%}')"
   ]
  },
  {
   "cell_type": "markdown",
   "metadata": {},
   "source": [
    "<div class=\"alert alert-success\">\n",
    "<b>Adipta's comment v.1</b> <a class=\"tocSkip\"></a>\n",
    "\n",
    "Bagus, semua berjalan lancar.\n",
    "\n",
    "</div>"
   ]
  },
  {
   "cell_type": "markdown",
   "metadata": {},
   "source": [
    "# Bekerja dengan nilai yang hilang"
   ]
  },
  {
   "cell_type": "markdown",
   "metadata": {},
   "source": [
    "[Untuk mempercepat pekerjaan dengan sejumlah data, Anda mungkin ingin menggunakan *dictionary* untuk beberapa nilai yang memiliki ID. Jelaskan mengapa dan *dictionary* apakah yang akan Anda gunakan.]"
   ]
  },
  {
   "cell_type": "code",
   "execution_count": 88,
   "metadata": {},
   "outputs": [],
   "source": [
    "# Temukan dictionary\n"
   ]
  },
  {
   "cell_type": "code",
   "execution_count": 89,
   "metadata": {},
   "outputs": [
    {
     "data": {
      "text/plain": [
       "{0: \"bachelor's degree\",\n",
       " 1: 'secondary education',\n",
       " 2: 'some college',\n",
       " 3: 'primary education',\n",
       " 4: 'graduate degree'}"
      ]
     },
     "execution_count": 89,
     "metadata": {},
     "output_type": "execute_result"
    }
   ],
   "source": [
    "df[['education_id', 'education']].drop_duplicates().set_index('education_id')['education'].to_dict()"
   ]
  },
  {
   "cell_type": "code",
   "execution_count": 90,
   "metadata": {},
   "outputs": [
    {
     "data": {
      "text/plain": [
       "{0: 'married',\n",
       " 1: 'civil partnership',\n",
       " 2: 'widow / widower',\n",
       " 3: 'divorced',\n",
       " 4: 'unmarried'}"
      ]
     },
     "execution_count": 90,
     "metadata": {},
     "output_type": "execute_result"
    }
   ],
   "source": [
    "df[['family_status_id', 'family_status']].drop_duplicates().set_index('family_status_id')['family_status'].to_dict()"
   ]
  },
  {
   "cell_type": "markdown",
   "metadata": {},
   "source": [
    "<div class=\"alert alert-success\">\n",
    "<b>Adipta's comment v.1</b> <a class=\"tocSkip\"></a>\n",
    "\n",
    "Bagus, semua berjalan lancar.\n",
    "\n",
    "</div>"
   ]
  },
  {
   "cell_type": "markdown",
   "metadata": {},
   "source": [
    "### Memperbaiki nilai yang hilang di `total_income`"
   ]
  },
  {
   "cell_type": "markdown",
   "metadata": {},
   "source": [
    "[Jelaskan secara singkat kolom dengan nilai yang hilang manakah yang perlu Anda tangani. Jelaskan bagaimana Anda akan memperbaikinya.]\n",
    "\n",
    "\n",
    "[Mulailah dengan mengatasi total nilai pendapatan yang hilang. Buatlah kategori usia untuk nasabah. Buatlah kolom baru yang memuat kategori usia. Strategi ini dapat membantu untuk menghitung total nilai pendapatan.]\n"
   ]
  },
  {
   "cell_type": "code",
   "execution_count": 91,
   "metadata": {},
   "outputs": [],
   "source": [
    "# Mari kita tulis sebuah fungsi untuk menghitung kategori usia\n",
    "def age_category(age):\n",
    "    if age < 18:\n",
    "        return 'teen'\n",
    "    if age > 60:\n",
    "        return 'old'\n",
    "    return 'adult'\n",
    "    "
   ]
  },
  {
   "cell_type": "code",
   "execution_count": 92,
   "metadata": {},
   "outputs": [
    {
     "data": {
      "text/plain": [
       "'adult'"
      ]
     },
     "execution_count": 92,
     "metadata": {},
     "output_type": "execute_result"
    }
   ],
   "source": [
    "# Lakukan pengujian untuk melihat apakah fungsi Anda bekerja atau tidak\n",
    "age_category(29)"
   ]
  },
  {
   "cell_type": "code",
   "execution_count": 93,
   "metadata": {},
   "outputs": [],
   "source": [
    "# Buatlah kolom baru berdasarkan fungsi\n",
    "df['age_category'] = df['dob_years'].apply(age_category)\n"
   ]
  },
  {
   "cell_type": "code",
   "execution_count": 94,
   "metadata": {},
   "outputs": [
    {
     "data": {
      "text/html": [
       "<div>\n",
       "<style scoped>\n",
       "    .dataframe tbody tr th:only-of-type {\n",
       "        vertical-align: middle;\n",
       "    }\n",
       "\n",
       "    .dataframe tbody tr th {\n",
       "        vertical-align: top;\n",
       "    }\n",
       "\n",
       "    .dataframe thead th {\n",
       "        text-align: right;\n",
       "    }\n",
       "</style>\n",
       "<table border=\"1\" class=\"dataframe\">\n",
       "  <thead>\n",
       "    <tr style=\"text-align: right;\">\n",
       "      <th></th>\n",
       "      <th>children</th>\n",
       "      <th>days_employed</th>\n",
       "      <th>dob_years</th>\n",
       "      <th>education</th>\n",
       "      <th>education_id</th>\n",
       "      <th>family_status</th>\n",
       "      <th>family_status_id</th>\n",
       "      <th>gender</th>\n",
       "      <th>income_type</th>\n",
       "      <th>debt</th>\n",
       "      <th>total_income</th>\n",
       "      <th>purpose</th>\n",
       "      <th>de_year</th>\n",
       "      <th>age_category</th>\n",
       "    </tr>\n",
       "  </thead>\n",
       "  <tbody>\n",
       "    <tr>\n",
       "      <th>0</th>\n",
       "      <td>1</td>\n",
       "      <td>8437.673028</td>\n",
       "      <td>42</td>\n",
       "      <td>bachelor's degree</td>\n",
       "      <td>0</td>\n",
       "      <td>married</td>\n",
       "      <td>0</td>\n",
       "      <td>F</td>\n",
       "      <td>employee</td>\n",
       "      <td>0</td>\n",
       "      <td>40620.102</td>\n",
       "      <td>purchase of the house</td>\n",
       "      <td>23.091607</td>\n",
       "      <td>adult</td>\n",
       "    </tr>\n",
       "    <tr>\n",
       "      <th>1</th>\n",
       "      <td>1</td>\n",
       "      <td>4024.803754</td>\n",
       "      <td>36</td>\n",
       "      <td>secondary education</td>\n",
       "      <td>1</td>\n",
       "      <td>married</td>\n",
       "      <td>0</td>\n",
       "      <td>F</td>\n",
       "      <td>employee</td>\n",
       "      <td>0</td>\n",
       "      <td>17932.802</td>\n",
       "      <td>car purchase</td>\n",
       "      <td>11.014789</td>\n",
       "      <td>adult</td>\n",
       "    </tr>\n",
       "    <tr>\n",
       "      <th>2</th>\n",
       "      <td>0</td>\n",
       "      <td>5623.422610</td>\n",
       "      <td>33</td>\n",
       "      <td>secondary education</td>\n",
       "      <td>1</td>\n",
       "      <td>married</td>\n",
       "      <td>0</td>\n",
       "      <td>M</td>\n",
       "      <td>employee</td>\n",
       "      <td>0</td>\n",
       "      <td>23341.752</td>\n",
       "      <td>purchase of the house</td>\n",
       "      <td>15.389772</td>\n",
       "      <td>adult</td>\n",
       "    </tr>\n",
       "    <tr>\n",
       "      <th>3</th>\n",
       "      <td>3</td>\n",
       "      <td>4124.747207</td>\n",
       "      <td>32</td>\n",
       "      <td>secondary education</td>\n",
       "      <td>1</td>\n",
       "      <td>married</td>\n",
       "      <td>0</td>\n",
       "      <td>M</td>\n",
       "      <td>employee</td>\n",
       "      <td>0</td>\n",
       "      <td>42820.568</td>\n",
       "      <td>supplementary education</td>\n",
       "      <td>11.288307</td>\n",
       "      <td>adult</td>\n",
       "    </tr>\n",
       "    <tr>\n",
       "      <th>4</th>\n",
       "      <td>0</td>\n",
       "      <td>13154.400000</td>\n",
       "      <td>53</td>\n",
       "      <td>secondary education</td>\n",
       "      <td>1</td>\n",
       "      <td>civil partnership</td>\n",
       "      <td>1</td>\n",
       "      <td>F</td>\n",
       "      <td>retiree</td>\n",
       "      <td>0</td>\n",
       "      <td>25378.572</td>\n",
       "      <td>to have a wedding</td>\n",
       "      <td>931.215304</td>\n",
       "      <td>adult</td>\n",
       "    </tr>\n",
       "  </tbody>\n",
       "</table>\n",
       "</div>"
      ],
      "text/plain": [
       "   children  days_employed  dob_years            education  education_id  \\\n",
       "0         1    8437.673028         42    bachelor's degree             0   \n",
       "1         1    4024.803754         36  secondary education             1   \n",
       "2         0    5623.422610         33  secondary education             1   \n",
       "3         3    4124.747207         32  secondary education             1   \n",
       "4         0   13154.400000         53  secondary education             1   \n",
       "\n",
       "       family_status  family_status_id gender income_type  debt  total_income  \\\n",
       "0            married                 0      F    employee     0     40620.102   \n",
       "1            married                 0      F    employee     0     17932.802   \n",
       "2            married                 0      M    employee     0     23341.752   \n",
       "3            married                 0      M    employee     0     42820.568   \n",
       "4  civil partnership                 1      F     retiree     0     25378.572   \n",
       "\n",
       "                   purpose     de_year age_category  \n",
       "0    purchase of the house   23.091607        adult  \n",
       "1             car purchase   11.014789        adult  \n",
       "2    purchase of the house   15.389772        adult  \n",
       "3  supplementary education   11.288307        adult  \n",
       "4        to have a wedding  931.215304        adult  "
      ]
     },
     "execution_count": 94,
     "metadata": {},
     "output_type": "execute_result"
    }
   ],
   "source": [
    "# Periksa bagaimana nilai di dalam kolom baru\n",
    "df.head()\n"
   ]
  },
  {
   "cell_type": "markdown",
   "metadata": {},
   "source": [
    "<div class=\"alert alert-success\">\n",
    "<b>Adipta's comment v.1</b> <a class=\"tocSkip\"></a>\n",
    "\n",
    "Bagus, semua berjalan lancar.\n",
    "\n",
    "</div>"
   ]
  },
  {
   "cell_type": "markdown",
   "metadata": {},
   "source": [
    "[Pikirkan tentang faktor-faktor yang biasanya bergantung pada pendapatan. Pada akhirnya, Anda akan mengetahui apakah Anda harus menggunakan nilai rata-rata atau median untuk mengganti nilai yang hilang. Untuk membuat keputusan ini, Anda mungkin ingin melihat distribusi faktor-faktor yang Anda identifikasi sebagai dampak dari pendapatan seseorang.]"
   ]
  },
  {
   "cell_type": "markdown",
   "metadata": {},
   "source": [
    "[Buatlah tabel yang hanya memuat data tanpa nilai yang hilang. Data ini akan digunakan untuk memperbaiki nilai yang hilang.]"
   ]
  },
  {
   "cell_type": "code",
   "execution_count": 95,
   "metadata": {},
   "outputs": [
    {
     "data": {
      "text/html": [
       "<div>\n",
       "<style scoped>\n",
       "    .dataframe tbody tr th:only-of-type {\n",
       "        vertical-align: middle;\n",
       "    }\n",
       "\n",
       "    .dataframe tbody tr th {\n",
       "        vertical-align: top;\n",
       "    }\n",
       "\n",
       "    .dataframe thead th {\n",
       "        text-align: right;\n",
       "    }\n",
       "</style>\n",
       "<table border=\"1\" class=\"dataframe\">\n",
       "  <thead>\n",
       "    <tr style=\"text-align: right;\">\n",
       "      <th></th>\n",
       "      <th>children</th>\n",
       "      <th>days_employed</th>\n",
       "      <th>dob_years</th>\n",
       "      <th>education</th>\n",
       "      <th>education_id</th>\n",
       "      <th>family_status</th>\n",
       "      <th>family_status_id</th>\n",
       "      <th>gender</th>\n",
       "      <th>income_type</th>\n",
       "      <th>debt</th>\n",
       "      <th>total_income</th>\n",
       "      <th>purpose</th>\n",
       "      <th>de_year</th>\n",
       "      <th>age_category</th>\n",
       "    </tr>\n",
       "  </thead>\n",
       "  <tbody>\n",
       "    <tr>\n",
       "      <th>0</th>\n",
       "      <td>1</td>\n",
       "      <td>8437.673028</td>\n",
       "      <td>42</td>\n",
       "      <td>bachelor's degree</td>\n",
       "      <td>0</td>\n",
       "      <td>married</td>\n",
       "      <td>0</td>\n",
       "      <td>F</td>\n",
       "      <td>employee</td>\n",
       "      <td>0</td>\n",
       "      <td>40620.102</td>\n",
       "      <td>purchase of the house</td>\n",
       "      <td>23.091607</td>\n",
       "      <td>adult</td>\n",
       "    </tr>\n",
       "    <tr>\n",
       "      <th>1</th>\n",
       "      <td>1</td>\n",
       "      <td>4024.803754</td>\n",
       "      <td>36</td>\n",
       "      <td>secondary education</td>\n",
       "      <td>1</td>\n",
       "      <td>married</td>\n",
       "      <td>0</td>\n",
       "      <td>F</td>\n",
       "      <td>employee</td>\n",
       "      <td>0</td>\n",
       "      <td>17932.802</td>\n",
       "      <td>car purchase</td>\n",
       "      <td>11.014789</td>\n",
       "      <td>adult</td>\n",
       "    </tr>\n",
       "    <tr>\n",
       "      <th>2</th>\n",
       "      <td>0</td>\n",
       "      <td>5623.422610</td>\n",
       "      <td>33</td>\n",
       "      <td>secondary education</td>\n",
       "      <td>1</td>\n",
       "      <td>married</td>\n",
       "      <td>0</td>\n",
       "      <td>M</td>\n",
       "      <td>employee</td>\n",
       "      <td>0</td>\n",
       "      <td>23341.752</td>\n",
       "      <td>purchase of the house</td>\n",
       "      <td>15.389772</td>\n",
       "      <td>adult</td>\n",
       "    </tr>\n",
       "    <tr>\n",
       "      <th>3</th>\n",
       "      <td>3</td>\n",
       "      <td>4124.747207</td>\n",
       "      <td>32</td>\n",
       "      <td>secondary education</td>\n",
       "      <td>1</td>\n",
       "      <td>married</td>\n",
       "      <td>0</td>\n",
       "      <td>M</td>\n",
       "      <td>employee</td>\n",
       "      <td>0</td>\n",
       "      <td>42820.568</td>\n",
       "      <td>supplementary education</td>\n",
       "      <td>11.288307</td>\n",
       "      <td>adult</td>\n",
       "    </tr>\n",
       "    <tr>\n",
       "      <th>4</th>\n",
       "      <td>0</td>\n",
       "      <td>13154.400000</td>\n",
       "      <td>53</td>\n",
       "      <td>secondary education</td>\n",
       "      <td>1</td>\n",
       "      <td>civil partnership</td>\n",
       "      <td>1</td>\n",
       "      <td>F</td>\n",
       "      <td>retiree</td>\n",
       "      <td>0</td>\n",
       "      <td>25378.572</td>\n",
       "      <td>to have a wedding</td>\n",
       "      <td>931.215304</td>\n",
       "      <td>adult</td>\n",
       "    </tr>\n",
       "  </tbody>\n",
       "</table>\n",
       "</div>"
      ],
      "text/plain": [
       "   children  days_employed  dob_years            education  education_id  \\\n",
       "0         1    8437.673028         42    bachelor's degree             0   \n",
       "1         1    4024.803754         36  secondary education             1   \n",
       "2         0    5623.422610         33  secondary education             1   \n",
       "3         3    4124.747207         32  secondary education             1   \n",
       "4         0   13154.400000         53  secondary education             1   \n",
       "\n",
       "       family_status  family_status_id gender income_type  debt  total_income  \\\n",
       "0            married                 0      F    employee     0     40620.102   \n",
       "1            married                 0      F    employee     0     17932.802   \n",
       "2            married                 0      M    employee     0     23341.752   \n",
       "3            married                 0      M    employee     0     42820.568   \n",
       "4  civil partnership                 1      F     retiree     0     25378.572   \n",
       "\n",
       "                   purpose     de_year age_category  \n",
       "0    purchase of the house   23.091607        adult  \n",
       "1             car purchase   11.014789        adult  \n",
       "2    purchase of the house   15.389772        adult  \n",
       "3  supplementary education   11.288307        adult  \n",
       "4        to have a wedding  931.215304        adult  "
      ]
     },
     "execution_count": 95,
     "metadata": {},
     "output_type": "execute_result"
    }
   ],
   "source": [
    "# Buat tabel tanpa nilai yang hilang dan tampilkan beberapa barisnya untuk memastikan semuanya berjalan dengan baik\n",
    "df_not_null_2 = df[~df['days_employed'].isnull()]\n",
    "df_not_null_2.head()"
   ]
  },
  {
   "cell_type": "code",
   "execution_count": 96,
   "metadata": {},
   "outputs": [
    {
     "data": {
      "text/plain": [
       "age_category\n",
       "adult    27207.465561\n",
       "old      23057.777452\n",
       "Name: total_income, dtype: float64"
      ]
     },
     "execution_count": 96,
     "metadata": {},
     "output_type": "execute_result"
    }
   ],
   "source": [
    "# Perhatikan nilai rata-rata untuk pendapatan berdasarkan faktor yang telah Anda identifikasi\n",
    "df_not_null_2.groupby('age_category')['total_income'].mean()"
   ]
  },
  {
   "cell_type": "code",
   "execution_count": 97,
   "metadata": {
    "scrolled": true
   },
   "outputs": [
    {
     "data": {
      "text/plain": [
       "age_category\n",
       "adult    23565.814\n",
       "old      19637.056\n",
       "Name: total_income, dtype: float64"
      ]
     },
     "execution_count": 97,
     "metadata": {},
     "output_type": "execute_result"
    }
   ],
   "source": [
    "# Perhatikan nilai median untuk pendapatan berdasarkan faktor yang telah Anda identifikasi\n",
    "df_not_null_2.groupby('age_category')['total_income'].median()"
   ]
  },
  {
   "cell_type": "markdown",
   "metadata": {},
   "source": [
    "[Ulangi perbandingan tersebut untuk beberapa faktor. Pastikan Anda mempertimbangkan berbagai aspek dan menjelaskan proses berpikir Anda.]\n",
    "\n"
   ]
  },
  {
   "cell_type": "markdown",
   "metadata": {},
   "source": [
    "[Buatlah keputusan tentang karakteristik yang paling menentukan pendapatan dan apakah Anda akan menggunakan median atau rata-rata. Jelaskan mengapa Anda membuat keputusan ini]\n"
   ]
  },
  {
   "cell_type": "code",
   "execution_count": 98,
   "metadata": {},
   "outputs": [],
   "source": [
    "#  Rata- rata untuk tingkat pendapatan dengan kategori usia adult\n",
    "adult = df.loc[df['age_category'] == 'adult'] \n",
    "adult_median = adult['total_income'].median()"
   ]
  },
  {
   "cell_type": "code",
   "execution_count": 99,
   "metadata": {},
   "outputs": [],
   "source": [
    "#  Rata- rata untuk tingkat pendapatan dengan kategori usia old\n",
    "old = df.loc[df['age_category'] == 'old']\n",
    "old_median = old['total_income'].median()"
   ]
  },
  {
   "cell_type": "code",
   "execution_count": 100,
   "metadata": {},
   "outputs": [],
   "source": [
    "df.loc[(df['age_category'] == 'adult'), ['total_income']] = df.loc[(df['age_category'] == 'adult'), ['total_income']].fillna(adult_median)"
   ]
  },
  {
   "cell_type": "code",
   "execution_count": 101,
   "metadata": {},
   "outputs": [],
   "source": [
    "df.loc[(df['age_category'] == 'old'), ['total_income']] = df.loc[(df['age_category'] == 'old'), ['total_income']].fillna(old_median)"
   ]
  },
  {
   "cell_type": "code",
   "execution_count": 102,
   "metadata": {},
   "outputs": [
    {
     "data": {
      "text/plain": [
       "0"
      ]
     },
     "execution_count": 102,
     "metadata": {},
     "output_type": "execute_result"
    }
   ],
   "source": [
    "df['total_income'].isnull().sum()"
   ]
  },
  {
   "cell_type": "markdown",
   "metadata": {},
   "source": [
    "<div class=\"alert alert-warning\">\n",
    "<b>Adipta's comment v.1</b> <a class=\"tocSkip\"></a>\n",
    "\n",
    "- nah ini yg disebut conditional fillna\n",
    "    - tetapi saran saya jangan pakai mean, pakai median saja\n",
    "    - kalau pakai mean itu tidak robust terhadap outliers\n",
    "\n",
    "</div>"
   ]
  },
  {
   "cell_type": "markdown",
   "metadata": {},
   "source": [
    "<div class=\"alert alert-block alert-info\">\n",
    "<b>Student answer.</b> <a class=\"tocSkip\"></a>\n",
    "    \n",
    "Baik kak, diganti menggunakan median\n",
    "</div>"
   ]
  },
  {
   "cell_type": "markdown",
   "metadata": {},
   "source": [
    "<div class=\"alert alert-success\">\n",
    "<b>Adipta's comment v.2</b> <a class=\"tocSkip\"></a>\n",
    "\n",
    "Bagus, semua berjalan lancar.\n",
    "\n",
    "</div>"
   ]
  },
  {
   "cell_type": "code",
   "execution_count": 103,
   "metadata": {},
   "outputs": [
    {
     "name": "stdout",
     "output_type": "stream",
     "text": [
      "<class 'pandas.core.frame.DataFrame'>\n",
      "RangeIndex: 21353 entries, 0 to 21352\n",
      "Data columns (total 14 columns):\n",
      " #   Column            Non-Null Count  Dtype  \n",
      "---  ------            --------------  -----  \n",
      " 0   children          21353 non-null  int64  \n",
      " 1   days_employed     21353 non-null  float64\n",
      " 2   dob_years         21353 non-null  int64  \n",
      " 3   education         21353 non-null  object \n",
      " 4   education_id      21353 non-null  int64  \n",
      " 5   family_status     21353 non-null  object \n",
      " 6   family_status_id  21353 non-null  int64  \n",
      " 7   gender            21353 non-null  object \n",
      " 8   income_type       21353 non-null  object \n",
      " 9   debt              21353 non-null  int64  \n",
      " 10  total_income      21353 non-null  float64\n",
      " 11  purpose           21353 non-null  object \n",
      " 12  de_year           19260 non-null  float64\n",
      " 13  age_category      21353 non-null  object \n",
      "dtypes: float64(3), int64(5), object(6)\n",
      "memory usage: 2.3+ MB\n"
     ]
    }
   ],
   "source": [
    "df.info()"
   ]
  },
  {
   "cell_type": "markdown",
   "metadata": {},
   "source": [
    "[Jika Anda menemukan kesalahan dalam menyiapkan nilai untuk data yang hilang, kemungkinan ada sesuatu yang istimewa tentang data untuk kategori tersebut. Mari pikirkan - Anda mungkin ingin memperbaiki beberapa hal secara manual, jika terdapat cukup data untuk menemukan median/rata-rata.]\n"
   ]
  },
  {
   "cell_type": "code",
   "execution_count": 104,
   "metadata": {},
   "outputs": [],
   "source": [
    "# Ganti nilai yang hilang jika terdapat kesalahan\n"
   ]
  },
  {
   "cell_type": "markdown",
   "metadata": {},
   "source": [
    "[Setelah Anda selesai dengan `total_income`, periksa apakah jumlah total nilai di kolom ini sesuai dengan jumlah nilai di kolom lain.]"
   ]
  },
  {
   "cell_type": "code",
   "execution_count": 105,
   "metadata": {},
   "outputs": [
    {
     "data": {
      "text/plain": [
       "(21353,)"
      ]
     },
     "execution_count": 105,
     "metadata": {},
     "output_type": "execute_result"
    }
   ],
   "source": [
    "# Periksa jumlah entri di kolom\n",
    "df['total_income'].shape\n"
   ]
  },
  {
   "cell_type": "markdown",
   "metadata": {},
   "source": [
    "###  Memperbaiki nilai di `days_employed`"
   ]
  },
  {
   "cell_type": "markdown",
   "metadata": {},
   "source": [
    "[Pikirkan tentang parameter yang dapat membantu Anda memperbaiki nilai yang hilang di kolom ini. Pada akhirnya, Anda akan mengetahui apakah Anda harus menggunakan nilai rata-rata atau median untuk mengganti nilai yang hilang. Anda mungkin perlu melakukan penelitian yang sama dengan yang Anda lakukan saat memperbaiki data di kolom sebelumnya.]\n",
    "\n",
    "Karena kolom days_employed sebelumnya sudah diisi dengan median, analisa dilakukan terhadap kolom de_year yang memiliki nilai yang sama dalam satuan tahun."
   ]
  },
  {
   "cell_type": "code",
   "execution_count": 106,
   "metadata": {
    "pycharm": {
     "name": "#%%\n"
    }
   },
   "outputs": [
    {
     "data": {
      "text/plain": [
       "age_category\n",
       "adult      5.209376\n",
       "old      974.797859\n",
       "Name: de_year, dtype: float64"
      ]
     },
     "execution_count": 106,
     "metadata": {},
     "output_type": "execute_result"
    }
   ],
   "source": [
    "df.groupby('age_category')[ 'de_year'].median()"
   ]
  },
  {
   "cell_type": "code",
   "execution_count": 107,
   "metadata": {},
   "outputs": [
    {
     "data": {
      "text/plain": [
       "age_category\n",
       "adult    115.391731\n",
       "old      795.589915\n",
       "Name: de_year, dtype: float64"
      ]
     },
     "execution_count": 107,
     "metadata": {},
     "output_type": "execute_result"
    }
   ],
   "source": [
    "df.groupby('age_category')['de_year'].mean()"
   ]
  },
  {
   "cell_type": "code",
   "execution_count": 108,
   "metadata": {},
   "outputs": [
    {
     "data": {
      "text/plain": [
       "count    19260.000000\n",
       "mean       183.093700\n",
       "std        380.465782\n",
       "min          0.066069\n",
       "25%          2.536539\n",
       "50%          6.013574\n",
       "75%         15.160596\n",
       "max       1099.494802\n",
       "Name: de_year, dtype: float64"
      ]
     },
     "execution_count": 108,
     "metadata": {},
     "output_type": "execute_result"
    }
   ],
   "source": [
    "df['de_year'].describe()"
   ]
  },
  {
   "cell_type": "code",
   "execution_count": 109,
   "metadata": {},
   "outputs": [
    {
     "data": {
      "text/plain": [
       "count    15832.000000\n",
       "mean         6.441514\n",
       "std          6.307700\n",
       "min          0.066069\n",
       "25%          2.068002\n",
       "50%          4.462757\n",
       "75%          8.642028\n",
       "max         50.325533\n",
       "Name: de_year, dtype: float64"
      ]
     },
     "execution_count": 109,
     "metadata": {},
     "output_type": "execute_result"
    }
   ],
   "source": [
    "de_filter = df[df['de_year'] < 800]\n",
    "de_filter['de_year'].describe()"
   ]
  },
  {
   "cell_type": "code",
   "execution_count": 110,
   "metadata": {},
   "outputs": [],
   "source": [
    "def de_level(de):\n",
    "    if de < 6:\n",
    "        return '5exp'\n",
    "    if de < 11:\n",
    "        return '11exp'\n",
    "    if de < 21:\n",
    "        return '20exp'    \n",
    "    if de < 31:\n",
    "        return '30exp'  \n",
    "    if de < 41:\n",
    "        return '40exp'   \n",
    "    return '50exp'   \n",
    "    "
   ]
  },
  {
   "cell_type": "markdown",
   "metadata": {},
   "source": [
    "Karena terdapat nilai yang sangat tinggi yaitu diatas 50 tahun, makan dibuat kategori untuk rata- ratanya."
   ]
  },
  {
   "cell_type": "code",
   "execution_count": 111,
   "metadata": {},
   "outputs": [
    {
     "data": {
      "text/plain": [
       "5exp     9620\n",
       "50exp    5534\n",
       "11exp    3537\n",
       "20exp    2013\n",
       "30exp     518\n",
       "40exp     131\n",
       "Name: de_level, dtype: int64"
      ]
     },
     "execution_count": 111,
     "metadata": {},
     "output_type": "execute_result"
    }
   ],
   "source": [
    "df['de_level'] = df['de_year'].apply(de_level)\n",
    "df['de_level'].value_counts()\n"
   ]
  },
  {
   "cell_type": "markdown",
   "metadata": {},
   "source": [
    "Terdapat 5548 nilai yang memiliki nilai diatas 800 tahun."
   ]
  },
  {
   "cell_type": "code",
   "execution_count": 112,
   "metadata": {},
   "outputs": [
    {
     "data": {
      "text/plain": [
       "de_level\n",
       "11exp      8.000053\n",
       "20exp     14.016929\n",
       "30exp     24.354085\n",
       "40exp     33.484276\n",
       "50exp    998.865515\n",
       "5exp       2.535002\n",
       "Name: de_year, dtype: float64"
      ]
     },
     "execution_count": 112,
     "metadata": {},
     "output_type": "execute_result"
    }
   ],
   "source": [
    "df.groupby('de_level')['de_year'].median()"
   ]
  },
  {
   "cell_type": "code",
   "execution_count": 113,
   "metadata": {},
   "outputs": [
    {
     "data": {
      "text/plain": [
       "de_level\n",
       "11exp      8.133487\n",
       "20exp     14.621492\n",
       "30exp     24.927396\n",
       "40exp     34.350172\n",
       "50exp    995.342756\n",
       "5exp       2.681576\n",
       "Name: de_year, dtype: float64"
      ]
     },
     "execution_count": 113,
     "metadata": {},
     "output_type": "execute_result"
    }
   ],
   "source": [
    "df.groupby('de_level')['de_year'].mean()"
   ]
  },
  {
   "cell_type": "markdown",
   "metadata": {},
   "source": [
    "[Tentukan apa yang akan Anda gunakan: rata-rata atau median. Jelaskan mengapa.]\n",
    "\n",
    "Nilai median dan mean dari tiap kategori memiliki kemiripan, karena itu nilai median akan digunakan."
   ]
  },
  {
   "cell_type": "code",
   "execution_count": 114,
   "metadata": {},
   "outputs": [],
   "source": [
    "de_5exp = df.loc[df['de_level'] == '5exp']\n",
    "de_5exp_median = de_5exp['de_year'].median()"
   ]
  },
  {
   "cell_type": "code",
   "execution_count": 115,
   "metadata": {},
   "outputs": [],
   "source": [
    "de_11exp = df.loc[df['de_level'] == '11exp']\n",
    "de_11exp_median = de_11exp['de_year'].median()"
   ]
  },
  {
   "cell_type": "code",
   "execution_count": 116,
   "metadata": {},
   "outputs": [],
   "source": [
    "de_20exp = df.loc[df['de_level'] == '20exp']\n",
    "de_20exp_median = de_20exp['de_year'].median()"
   ]
  },
  {
   "cell_type": "code",
   "execution_count": 117,
   "metadata": {},
   "outputs": [],
   "source": [
    "de_30exp = df.loc[df['de_level'] == '30exp']\n",
    "de_30exp_median = de_30exp['de_year'].median()"
   ]
  },
  {
   "cell_type": "code",
   "execution_count": 118,
   "metadata": {},
   "outputs": [],
   "source": [
    "de_40exp = df.loc[df['de_level'] == '40exp']\n",
    "de_40exp_median = de_40exp['de_year'].median()"
   ]
  },
  {
   "cell_type": "code",
   "execution_count": 119,
   "metadata": {},
   "outputs": [],
   "source": [
    "de_50exp = df.loc[df['de_level'] == '50exp']\n",
    "de_50exp_median = de_50exp['de_year'].median()"
   ]
  },
  {
   "cell_type": "markdown",
   "metadata": {},
   "source": [
    "Setelah mendapatkan rata- rata setiap kategori, dilakukan pengubahan nilai yang hilai berdasarkan kategorinya masing- masing."
   ]
  },
  {
   "cell_type": "code",
   "execution_count": 120,
   "metadata": {},
   "outputs": [],
   "source": [
    "df.loc[(df['de_level'] == '5exp'), ['de_year']] = df.loc[(df['de_level'] == '5exp'), ['de_year']].fillna(de_5exp_median)"
   ]
  },
  {
   "cell_type": "code",
   "execution_count": 121,
   "metadata": {},
   "outputs": [],
   "source": [
    "df.loc[(df['de_level'] == '11exp'), ['de_year']] = df.loc[(df['de_level'] == '11exp'), ['de_year']].fillna(de_11exp_median)"
   ]
  },
  {
   "cell_type": "code",
   "execution_count": 122,
   "metadata": {},
   "outputs": [],
   "source": [
    "df.loc[(df['de_level'] == '20exp'), ['de_year']] = df.loc[(df['de_level'] == '20exp'), ['de_year']].fillna(de_20exp_median)"
   ]
  },
  {
   "cell_type": "code",
   "execution_count": 123,
   "metadata": {},
   "outputs": [],
   "source": [
    "df.loc[(df['de_level'] == '30exp'), ['de_year']] = df.loc[(df['de_level'] == '30exp'), ['de_year']].fillna(de_30exp_median)"
   ]
  },
  {
   "cell_type": "code",
   "execution_count": 124,
   "metadata": {},
   "outputs": [],
   "source": [
    "df.loc[(df['de_level'] == '40exp'), ['de_year']] = df.loc[(df['de_level'] == '40exp'), ['de_year']].fillna(de_40exp_median)"
   ]
  },
  {
   "cell_type": "code",
   "execution_count": 125,
   "metadata": {},
   "outputs": [],
   "source": [
    "df.loc[(df['de_level'] == '50exp'), ['de_year']] = df.loc[(df['de_level'] == '50exp'), ['de_year']].fillna(de_50exp_median)"
   ]
  },
  {
   "cell_type": "code",
   "execution_count": 126,
   "metadata": {},
   "outputs": [
    {
     "data": {
      "text/plain": [
       "0"
      ]
     },
     "execution_count": 126,
     "metadata": {},
     "output_type": "execute_result"
    }
   ],
   "source": [
    "df['de_year'].isna().sum()"
   ]
  },
  {
   "cell_type": "markdown",
   "metadata": {},
   "source": [
    "<div class=\"alert alert-warning\">\n",
    "<b>Adipta's comment v.1</b> <a class=\"tocSkip\"></a>\n",
    "\n",
    "- tetapi saran saya jangan pakai mean, pakai median saja\n",
    "    - kalau pakai mean itu tidak robust terhadap outliers\n",
    "\n",
    "</div>"
   ]
  },
  {
   "cell_type": "markdown",
   "metadata": {},
   "source": [
    "<div class=\"alert alert-block alert-info\">\n",
    "<b>Student answer.</b> <a class=\"tocSkip\"></a>\n",
    "    \n",
    "Baik kak, diganti menggunakan median\n",
    "</div>"
   ]
  },
  {
   "cell_type": "markdown",
   "metadata": {},
   "source": [
    "<div class=\"alert alert-success\">\n",
    "<b>Adipta's comment v.2</b> <a class=\"tocSkip\"></a>\n",
    "\n",
    "Bagus, semua berjalan lancar.\n",
    "\n",
    "</div>"
   ]
  },
  {
   "cell_type": "markdown",
   "metadata": {},
   "source": [
    "Jumlah nilai yang hilang = 0"
   ]
  },
  {
   "cell_type": "code",
   "execution_count": 127,
   "metadata": {},
   "outputs": [
    {
     "name": "stdout",
     "output_type": "stream",
     "text": [
      "<class 'pandas.core.frame.DataFrame'>\n",
      "RangeIndex: 21353 entries, 0 to 21352\n",
      "Data columns (total 15 columns):\n",
      " #   Column            Non-Null Count  Dtype  \n",
      "---  ------            --------------  -----  \n",
      " 0   children          21353 non-null  int64  \n",
      " 1   days_employed     21353 non-null  float64\n",
      " 2   dob_years         21353 non-null  int64  \n",
      " 3   education         21353 non-null  object \n",
      " 4   education_id      21353 non-null  int64  \n",
      " 5   family_status     21353 non-null  object \n",
      " 6   family_status_id  21353 non-null  int64  \n",
      " 7   gender            21353 non-null  object \n",
      " 8   income_type       21353 non-null  object \n",
      " 9   debt              21353 non-null  int64  \n",
      " 10  total_income      21353 non-null  float64\n",
      " 11  purpose           21353 non-null  object \n",
      " 12  de_year           21353 non-null  float64\n",
      " 13  age_category      21353 non-null  object \n",
      " 14  de_level          21353 non-null  object \n",
      "dtypes: float64(3), int64(5), object(7)\n",
      "memory usage: 2.4+ MB\n"
     ]
    }
   ],
   "source": [
    "# Periksa entri di semua kolom - pastikan kita memperbaiki semua nilai yang hilang\n",
    "df.info()"
   ]
  },
  {
   "cell_type": "markdown",
   "metadata": {},
   "source": [
    "## Pengkategorian Data\n",
    "\n",
    "[Untuk menjawab pertanyaan dan menguji hipotesis, Anda akan bekerja dengan data yang telah dikategorikan. Lihatlah pertanyaan-pertanyaan yang diajukan kepada Anda dan yang harus Anda jawab. Pikirkan tentang data mana yang perlu dikategorikan untuk menjawab pertanyaan-pertanyaan ini. Di bawah ini, Anda akan menemukan templat yang bisa Anda gunakan untuk mengkategorikan data. Proses pertama mencakup data teks; yang kedua membahas data numerik yang perlu dikategorikan. Anda dapat menggunakan kedua petunjuk yang disarankan atau tidak sama sekali - semuanya terserah Anda.]\n",
    "\n",
    "[Terlepas dari keputusan Anda untuk mengatasi pengkategorian, pastikan bahwa Anda secara lugas memberikan penjelasan tentang mengapa Anda membuat keputusan tersebut. Ingat: ini adalah pekerjaan Anda dan hanya Anda yang berhak membuat segala keputusan.]\n"
   ]
  },
  {
   "cell_type": "code",
   "execution_count": 128,
   "metadata": {
    "scrolled": true
   },
   "outputs": [
    {
     "data": {
      "text/plain": [
       "0    19620\n",
       "1     1733\n",
       "Name: debt, dtype: int64"
      ]
     },
     "execution_count": 128,
     "metadata": {},
     "output_type": "execute_result"
    }
   ],
   "source": [
    "# Tampilkan nilai data yang Anda pilih untuk pengkategorian\n",
    "df['debt'].value_counts()"
   ]
  },
  {
   "cell_type": "markdown",
   "metadata": {},
   "source": [
    "[Mari kita memeriksa nilai unik]\n"
   ]
  },
  {
   "cell_type": "code",
   "execution_count": 129,
   "metadata": {},
   "outputs": [
    {
     "data": {
      "text/plain": [
       "array([0, 1])"
      ]
     },
     "execution_count": 129,
     "metadata": {},
     "output_type": "execute_result"
    }
   ],
   "source": [
    "# Periksa nilai unik\n",
    "df['debt'].unique()"
   ]
  },
  {
   "cell_type": "markdown",
   "metadata": {},
   "source": [
    "[Kelompok utama apakah yang dapat Anda identifikasi berdasarkan nilai uniknya?]\n",
    "\n",
    "[Kita akan mengkategorikan data kita berdasarkan topik ini.]\n",
    "\n",
    "Nilai unik pada kolom debt hanya 2 yaitu apakah nasabah pernah melakukan gagal bayar pinjaman atau tidak."
   ]
  },
  {
   "cell_type": "code",
   "execution_count": 130,
   "metadata": {},
   "outputs": [],
   "source": [
    "# Mari kita tulis sebuah fungsi untuk mengategorikan data berdasarkan topik umum\n",
    "def debt_status(debt):\n",
    "    if debt == 1:\n",
    "        return 'debt'\n",
    "    return 'no debt'"
   ]
  },
  {
   "cell_type": "code",
   "execution_count": 131,
   "metadata": {},
   "outputs": [
    {
     "data": {
      "text/plain": [
       "no debt    19620\n",
       "debt        1733\n",
       "Name: debt_status, dtype: int64"
      ]
     },
     "execution_count": 131,
     "metadata": {},
     "output_type": "execute_result"
    }
   ],
   "source": [
    "# Buat kolom yang memuat kategori dan hitung nilainya\n",
    "df['debt_status'] = df['debt'].apply(debt_status)\n",
    "\n",
    "df['debt_status'].value_counts()"
   ]
  },
  {
   "cell_type": "markdown",
   "metadata": {},
   "source": [
    "<div class=\"alert alert-success\">\n",
    "<b>Adipta's comment v.1</b> <a class=\"tocSkip\"></a>\n",
    "\n",
    "Bagus, semua berjalan lancar.\n",
    "\n",
    "</div>"
   ]
  },
  {
   "cell_type": "markdown",
   "metadata": {},
   "source": [
    "Pada kolom purpose dilakukan pengkategorian juga karena nilai yang ada sangat bermacam- macam."
   ]
  },
  {
   "cell_type": "code",
   "execution_count": 132,
   "metadata": {},
   "outputs": [
    {
     "data": {
      "text/plain": [
       "wedding ceremony                            786\n",
       "having a wedding                            764\n",
       "to have a wedding                           760\n",
       "real estate transactions                    672\n",
       "buy commercial real estate                  658\n",
       "buying property for renting out             649\n",
       "transactions with commercial real estate    648\n",
       "housing transactions                        646\n",
       "housing                                     640\n",
       "purchase of the house                       640\n",
       "purchase of the house for my family         637\n",
       "construction of own property                633\n",
       "property                                    629\n",
       "transactions with my real estate            627\n",
       "building a real estate                      621\n",
       "purchase of my own house                    619\n",
       "building a property                         619\n",
       "buy real estate                             618\n",
       "housing renovation                          605\n",
       "buy residential real estate                 603\n",
       "buying my own car                           502\n",
       "going to university                         493\n",
       "car                                         490\n",
       "second-hand car purchase                    484\n",
       "buying a second-hand car                    478\n",
       "cars                                        476\n",
       "to own a car                                475\n",
       "to buy a car                                466\n",
       "car purchase                                459\n",
       "supplementary education                     458\n",
       "purchase of a car                           454\n",
       "university education                        449\n",
       "to get a supplementary education            444\n",
       "education                                   444\n",
       "getting an education                        441\n",
       "profile education                           435\n",
       "getting higher education                    424\n",
       "to become educated                          407\n",
       "Name: purpose, dtype: int64"
      ]
     },
     "execution_count": 132,
     "metadata": {},
     "output_type": "execute_result"
    }
   ],
   "source": [
    "df['purpose'].value_counts()"
   ]
  },
  {
   "cell_type": "code",
   "execution_count": 133,
   "metadata": {},
   "outputs": [
    {
     "data": {
      "text/plain": [
       "array(['purchase of the house', 'car purchase', 'supplementary education',\n",
       "       'to have a wedding', 'housing transactions', 'education',\n",
       "       'having a wedding', 'purchase of the house for my family',\n",
       "       'buy real estate', 'buy commercial real estate',\n",
       "       'buy residential real estate', 'construction of own property',\n",
       "       'property', 'building a property', 'buying a second-hand car',\n",
       "       'buying my own car', 'transactions with commercial real estate',\n",
       "       'building a real estate', 'housing',\n",
       "       'transactions with my real estate', 'cars', 'to become educated',\n",
       "       'second-hand car purchase', 'getting an education', 'car',\n",
       "       'wedding ceremony', 'to get a supplementary education',\n",
       "       'purchase of my own house', 'real estate transactions',\n",
       "       'getting higher education', 'to own a car', 'purchase of a car',\n",
       "       'profile education', 'university education',\n",
       "       'buying property for renting out', 'to buy a car',\n",
       "       'housing renovation', 'going to university'], dtype=object)"
      ]
     },
     "execution_count": 133,
     "metadata": {},
     "output_type": "execute_result"
    }
   ],
   "source": [
    "df['purpose'].unique()"
   ]
  },
  {
   "cell_type": "code",
   "execution_count": 134,
   "metadata": {},
   "outputs": [],
   "source": [
    "def purpose_cat(name):\n",
    "    if 'hous' in name or 'propert' in name or 'estat' in name or 'real' in name:\n",
    "        return 'property'\n",
    "    elif 'car' in name:\n",
    "        return 'car'\n",
    "    elif 'edu' in name or 'univers' in name:\n",
    "        return 'education'\n",
    "    elif 'wed' in name:\n",
    "        return 'wedding'\n",
    "    else:\n",
    "        return 'other'"
   ]
  },
  {
   "cell_type": "code",
   "execution_count": 135,
   "metadata": {},
   "outputs": [
    {
     "data": {
      "text/plain": [
       "property     10764\n",
       "car           4284\n",
       "education     3995\n",
       "wedding       2310\n",
       "Name: purpose_category, dtype: int64"
      ]
     },
     "execution_count": 135,
     "metadata": {},
     "output_type": "execute_result"
    }
   ],
   "source": [
    "df['purpose_category'] = df['purpose'].apply(purpose_cat)\n",
    "df['purpose_category'].value_counts()"
   ]
  },
  {
   "cell_type": "markdown",
   "metadata": {},
   "source": [
    "<div class=\"alert alert-success\">\n",
    "<b>Adipta's comment v.1</b> <a class=\"tocSkip\"></a>\n",
    "\n",
    "Bagus, semua berjalan lancar.\n",
    "\n",
    "</div>"
   ]
  },
  {
   "cell_type": "markdown",
   "metadata": {},
   "source": [
    "[Jika Anda memutuskan untuk mengategorikan data numerik, Anda juga harus membuat kategori untuk data tersebut.]\n",
    "\n",
    "Pada kolom numerik, kolom total_income dipilih untuk dikategorikan secara umum karena nilai-nilanya yang berbeda setiap baris."
   ]
  },
  {
   "cell_type": "code",
   "execution_count": 136,
   "metadata": {},
   "outputs": [
    {
     "data": {
      "text/plain": [
       "23565.814    1885\n",
       "19637.056     210\n",
       "17312.717       2\n",
       "42413.096       2\n",
       "31791.384       2\n",
       "             ... \n",
       "10000.392       1\n",
       "99284.696       1\n",
       "6264.532        1\n",
       "27097.085       1\n",
       "41428.916       1\n",
       "Name: total_income, Length: 19257, dtype: int64"
      ]
     },
     "execution_count": 136,
     "metadata": {},
     "output_type": "execute_result"
    }
   ],
   "source": [
    "# Lihat semua data numerik di kolom yang Anda pilih untuk pengkategorian\n",
    "df['total_income'].value_counts()"
   ]
  },
  {
   "cell_type": "code",
   "execution_count": 137,
   "metadata": {},
   "outputs": [
    {
     "data": {
      "text/plain": [
       "count     21353.000000\n",
       "mean      26439.515425\n",
       "std       15706.015607\n",
       "min        3306.762000\n",
       "25%       17224.099000\n",
       "50%       23565.814000\n",
       "75%       31325.325000\n",
       "max      362496.645000\n",
       "Name: total_income, dtype: float64"
      ]
     },
     "execution_count": 137,
     "metadata": {},
     "output_type": "execute_result"
    }
   ],
   "source": [
    "# Dapatkan kesimpulan statistik untuk kolomnya\n",
    "df['total_income'].describe()"
   ]
  },
  {
   "cell_type": "markdown",
   "metadata": {},
   "source": [
    "[Tentukan rentang apa yang akan Anda gunakan untuk pengelompokan dan jelaskan alasannya.]\n",
    "\n",
    "Pada kolom total_income dilakukan pengkategorian menjadi beberapa kelompok berdasarkan rentang incomenya. "
   ]
  },
  {
   "cell_type": "code",
   "execution_count": 138,
   "metadata": {},
   "outputs": [],
   "source": [
    "# Buat fungsi yang melakukan pengkategorian menjadi kelompok numerik yang berbeda berdasarkan rentang\n",
    "def income_level(income):\n",
    "    if income < 10000:\n",
    "        return 'low'\n",
    "    if income > 30000:\n",
    "        return 'high'\n",
    "    return 'med'"
   ]
  },
  {
   "cell_type": "code",
   "execution_count": 139,
   "metadata": {},
   "outputs": [],
   "source": [
    "# Buat kolom yang memuat kategori\n",
    "df['income_level'] = df['total_income'].apply(income_level)"
   ]
  },
  {
   "cell_type": "code",
   "execution_count": 140,
   "metadata": {
    "scrolled": true
   },
   "outputs": [
    {
     "data": {
      "text/plain": [
       "med     14542\n",
       "high     5890\n",
       "low       921\n",
       "Name: income_level, dtype: int64"
      ]
     },
     "execution_count": 140,
     "metadata": {},
     "output_type": "execute_result"
    }
   ],
   "source": [
    "# Hitung setiap nilai kategori untuk melihat pendistribusiannya\n",
    "df['income_level'].value_counts()"
   ]
  },
  {
   "cell_type": "markdown",
   "metadata": {},
   "source": [
    "<div class=\"alert alert-success\">\n",
    "<b>Adipta's comment v.1</b> <a class=\"tocSkip\"></a>\n",
    "\n",
    "Bagus, semua berjalan lancar.\n",
    "\n",
    "</div>"
   ]
  },
  {
   "cell_type": "markdown",
   "metadata": {},
   "source": [
    "## Memeriksa hipotesis\n"
   ]
  },
  {
   "cell_type": "markdown",
   "metadata": {},
   "source": [
    "**Apakah terdapat korelasi antara memiliki anak dengan probabilitas melakukan gagal bayar pinjaman?**"
   ]
  },
  {
   "cell_type": "code",
   "execution_count": 141,
   "metadata": {},
   "outputs": [
    {
     "data": {
      "text/html": [
       "<div>\n",
       "<style scoped>\n",
       "    .dataframe tbody tr th:only-of-type {\n",
       "        vertical-align: middle;\n",
       "    }\n",
       "\n",
       "    .dataframe tbody tr th {\n",
       "        vertical-align: top;\n",
       "    }\n",
       "\n",
       "    .dataframe thead th {\n",
       "        text-align: right;\n",
       "    }\n",
       "</style>\n",
       "<table border=\"1\" class=\"dataframe\">\n",
       "  <thead>\n",
       "    <tr style=\"text-align: right;\">\n",
       "      <th>debt_status</th>\n",
       "      <th>debt</th>\n",
       "      <th>no debt</th>\n",
       "      <th>percentage</th>\n",
       "    </tr>\n",
       "    <tr>\n",
       "      <th>children</th>\n",
       "      <th></th>\n",
       "      <th></th>\n",
       "      <th></th>\n",
       "    </tr>\n",
       "  </thead>\n",
       "  <tbody>\n",
       "    <tr>\n",
       "      <th>0</th>\n",
       "      <td>1058.0</td>\n",
       "      <td>12964.0</td>\n",
       "      <td>7.55%</td>\n",
       "    </tr>\n",
       "    <tr>\n",
       "      <th>1</th>\n",
       "      <td>442.0</td>\n",
       "      <td>4397.0</td>\n",
       "      <td>9.13%</td>\n",
       "    </tr>\n",
       "    <tr>\n",
       "      <th>2</th>\n",
       "      <td>202.0</td>\n",
       "      <td>1912.0</td>\n",
       "      <td>9.56%</td>\n",
       "    </tr>\n",
       "    <tr>\n",
       "      <th>3</th>\n",
       "      <td>27.0</td>\n",
       "      <td>301.0</td>\n",
       "      <td>8.23%</td>\n",
       "    </tr>\n",
       "    <tr>\n",
       "      <th>4</th>\n",
       "      <td>4.0</td>\n",
       "      <td>37.0</td>\n",
       "      <td>9.76%</td>\n",
       "    </tr>\n",
       "    <tr>\n",
       "      <th>5</th>\n",
       "      <td>NaN</td>\n",
       "      <td>9.0</td>\n",
       "      <td>nan%</td>\n",
       "    </tr>\n",
       "  </tbody>\n",
       "</table>\n",
       "</div>"
      ],
      "text/plain": [
       "debt_status    debt  no debt percentage\n",
       "children                               \n",
       "0            1058.0  12964.0      7.55%\n",
       "1             442.0   4397.0      9.13%\n",
       "2             202.0   1912.0      9.56%\n",
       "3              27.0    301.0      8.23%\n",
       "4               4.0     37.0      9.76%\n",
       "5               NaN      9.0       nan%"
      ]
     },
     "execution_count": 141,
     "metadata": {},
     "output_type": "execute_result"
    }
   ],
   "source": [
    "# Periksa data anak dan data gagal bayar pinjaman\n",
    "\n",
    "# Hitung persentase gagal bayar berdasarkan jumlah anak\n",
    "\n",
    "df1 = df.pivot_table(index='children', columns='debt_status', values='debt',  aggfunc='count')\n",
    "df1['percentage'] = (df1['debt'] / (df1['no debt'] + df1['debt'])).apply(lambda x: '{:.2%}'.format(x))\n",
    "df1"
   ]
  },
  {
   "cell_type": "markdown",
   "metadata": {},
   "source": [
    "**Kesimpulan**\n",
    "\n",
    "[Tulis kesimpulan Anda berdasarkan manipulasi dan pengamatan yang Anda lakukan.]\n",
    "\n",
    "Berdasarkan hasil diatas, dapat disimpulkan bahwa jumlah anak cukup berpengaruh terhadap persentase gagal bayar. Customer dengan jumlah anak 0 memiliki persentase gagal bayar paling kecil dan semakin banyak jumlah anak persentase gagal bayarnya cenderung meningkat.\n"
   ]
  },
  {
   "cell_type": "markdown",
   "metadata": {},
   "source": [
    "**Apakah terdapat korelasi antara status keluarga dengan probabilitas melakukan gagal bayar pinjaman?**"
   ]
  },
  {
   "cell_type": "code",
   "execution_count": 142,
   "metadata": {},
   "outputs": [
    {
     "data": {
      "text/html": [
       "<div>\n",
       "<style scoped>\n",
       "    .dataframe tbody tr th:only-of-type {\n",
       "        vertical-align: middle;\n",
       "    }\n",
       "\n",
       "    .dataframe tbody tr th {\n",
       "        vertical-align: top;\n",
       "    }\n",
       "\n",
       "    .dataframe thead th {\n",
       "        text-align: right;\n",
       "    }\n",
       "</style>\n",
       "<table border=\"1\" class=\"dataframe\">\n",
       "  <thead>\n",
       "    <tr style=\"text-align: right;\">\n",
       "      <th>debt_status</th>\n",
       "      <th>debt</th>\n",
       "      <th>no debt</th>\n",
       "      <th>percentage</th>\n",
       "    </tr>\n",
       "    <tr>\n",
       "      <th>family_status</th>\n",
       "      <th></th>\n",
       "      <th></th>\n",
       "      <th></th>\n",
       "    </tr>\n",
       "  </thead>\n",
       "  <tbody>\n",
       "    <tr>\n",
       "      <th>civil partnership</th>\n",
       "      <td>386</td>\n",
       "      <td>3744</td>\n",
       "      <td>9.35%</td>\n",
       "    </tr>\n",
       "    <tr>\n",
       "      <th>divorced</th>\n",
       "      <td>85</td>\n",
       "      <td>1100</td>\n",
       "      <td>7.17%</td>\n",
       "    </tr>\n",
       "    <tr>\n",
       "      <th>married</th>\n",
       "      <td>927</td>\n",
       "      <td>11363</td>\n",
       "      <td>7.54%</td>\n",
       "    </tr>\n",
       "    <tr>\n",
       "      <th>unmarried</th>\n",
       "      <td>273</td>\n",
       "      <td>2521</td>\n",
       "      <td>9.77%</td>\n",
       "    </tr>\n",
       "    <tr>\n",
       "      <th>widow / widower</th>\n",
       "      <td>62</td>\n",
       "      <td>892</td>\n",
       "      <td>6.50%</td>\n",
       "    </tr>\n",
       "  </tbody>\n",
       "</table>\n",
       "</div>"
      ],
      "text/plain": [
       "debt_status        debt  no debt percentage\n",
       "family_status                              \n",
       "civil partnership   386     3744      9.35%\n",
       "divorced             85     1100      7.17%\n",
       "married             927    11363      7.54%\n",
       "unmarried           273     2521      9.77%\n",
       "widow / widower      62      892      6.50%"
      ]
     },
     "execution_count": 142,
     "metadata": {},
     "output_type": "execute_result"
    }
   ],
   "source": [
    "# Periksa data status keluarga dan data gagal bayar pinjaman\n",
    "\n",
    "# Hitung persentase gagal bayar berdasarkan status keluarga\n",
    "\n",
    "df1 = df.pivot_table(index='family_status', columns='debt_status', values='debt',  aggfunc='count')\n",
    "df1['percentage'] = (df1['debt'] / (df1['no debt'] + df1['debt'])).apply(lambda x: '{:.2%}'.format(x))\n",
    "df1"
   ]
  },
  {
   "cell_type": "markdown",
   "metadata": {},
   "source": [
    "**Kesimpulan**\n",
    "\n",
    "[Tulis kesimpulan Anda berdasarkan manipulasi dan pengamatan Anda.]\n",
    "\n",
    "Berdasarkan hasil diatas, dapat disimpulkan bahwa status keluarga cukup berpengaruh terhadap persentase gagal bayar. Customer dengan status civil partnership dan unmarried memiliki persentase gagal bayar yang lebih tinggi dibanding yang lain.\n"
   ]
  },
  {
   "cell_type": "markdown",
   "metadata": {},
   "source": [
    "**Apakah terdapat korelasi antara tingkat pendapatan dengan probabilitas melakukan gagal bayar pinjaman?**"
   ]
  },
  {
   "cell_type": "code",
   "execution_count": 143,
   "metadata": {},
   "outputs": [
    {
     "data": {
      "text/html": [
       "<div>\n",
       "<style scoped>\n",
       "    .dataframe tbody tr th:only-of-type {\n",
       "        vertical-align: middle;\n",
       "    }\n",
       "\n",
       "    .dataframe tbody tr th {\n",
       "        vertical-align: top;\n",
       "    }\n",
       "\n",
       "    .dataframe thead th {\n",
       "        text-align: right;\n",
       "    }\n",
       "</style>\n",
       "<table border=\"1\" class=\"dataframe\">\n",
       "  <thead>\n",
       "    <tr style=\"text-align: right;\">\n",
       "      <th>debt_status</th>\n",
       "      <th>debt</th>\n",
       "      <th>no debt</th>\n",
       "      <th>percentage</th>\n",
       "    </tr>\n",
       "    <tr>\n",
       "      <th>income_level</th>\n",
       "      <th></th>\n",
       "      <th></th>\n",
       "      <th></th>\n",
       "    </tr>\n",
       "  </thead>\n",
       "  <tbody>\n",
       "    <tr>\n",
       "      <th>high</th>\n",
       "      <td>435</td>\n",
       "      <td>5455</td>\n",
       "      <td>7.39%</td>\n",
       "    </tr>\n",
       "    <tr>\n",
       "      <th>low</th>\n",
       "      <td>58</td>\n",
       "      <td>863</td>\n",
       "      <td>6.30%</td>\n",
       "    </tr>\n",
       "    <tr>\n",
       "      <th>med</th>\n",
       "      <td>1240</td>\n",
       "      <td>13302</td>\n",
       "      <td>8.53%</td>\n",
       "    </tr>\n",
       "  </tbody>\n",
       "</table>\n",
       "</div>"
      ],
      "text/plain": [
       "debt_status   debt  no debt percentage\n",
       "income_level                          \n",
       "high           435     5455      7.39%\n",
       "low             58      863      6.30%\n",
       "med           1240    13302      8.53%"
      ]
     },
     "execution_count": 143,
     "metadata": {},
     "output_type": "execute_result"
    }
   ],
   "source": [
    "# Periksa data tingkat pendapatan dan data gagal bayar pinjaman\n",
    "\n",
    "# Hitung persentase gagal bayar berdasarkan tingkat pendapatan\n",
    "\n",
    "df1 = df.pivot_table(index='income_level', columns='debt_status', values='debt',  aggfunc='count')\n",
    "df1['percentage'] = (df1['debt'] / (df1['no debt'] + df1['debt'])).apply(lambda x: '{:.2%}'.format(x))\n",
    "df1"
   ]
  },
  {
   "cell_type": "markdown",
   "metadata": {},
   "source": [
    "**Kesimpulan**\n",
    "\n",
    "[Tulis kesimpulan Anda berdasarkan manipulasi dan pengamatan Anda.]\n",
    "\n",
    "Berdasarkan hasil diatas, dapat disimpulkan bahwa tingkat pendapatan cukup berpengaruh terhadap persentase gagal bayar. Customer dengan penghasilan low cenderung memiliki persentase gagal bayar yang rendah sedangkan customer dengan penghasilan med memiliki persentase gagal bayar tertinggi.\n"
   ]
  },
  {
   "cell_type": "markdown",
   "metadata": {},
   "source": [
    "**Bagaimana tujuan kredit memengaruhi persentase gagal bayar?**"
   ]
  },
  {
   "cell_type": "code",
   "execution_count": 144,
   "metadata": {},
   "outputs": [
    {
     "data": {
      "text/html": [
       "<div>\n",
       "<style scoped>\n",
       "    .dataframe tbody tr th:only-of-type {\n",
       "        vertical-align: middle;\n",
       "    }\n",
       "\n",
       "    .dataframe tbody tr th {\n",
       "        vertical-align: top;\n",
       "    }\n",
       "\n",
       "    .dataframe thead th {\n",
       "        text-align: right;\n",
       "    }\n",
       "</style>\n",
       "<table border=\"1\" class=\"dataframe\">\n",
       "  <thead>\n",
       "    <tr style=\"text-align: right;\">\n",
       "      <th>debt_status</th>\n",
       "      <th>debt</th>\n",
       "      <th>no debt</th>\n",
       "      <th>percentage</th>\n",
       "    </tr>\n",
       "    <tr>\n",
       "      <th>purpose_category</th>\n",
       "      <th></th>\n",
       "      <th></th>\n",
       "      <th></th>\n",
       "    </tr>\n",
       "  </thead>\n",
       "  <tbody>\n",
       "    <tr>\n",
       "      <th>car</th>\n",
       "      <td>400</td>\n",
       "      <td>3884</td>\n",
       "      <td>9.34%</td>\n",
       "    </tr>\n",
       "    <tr>\n",
       "      <th>education</th>\n",
       "      <td>370</td>\n",
       "      <td>3625</td>\n",
       "      <td>9.26%</td>\n",
       "    </tr>\n",
       "    <tr>\n",
       "      <th>property</th>\n",
       "      <td>779</td>\n",
       "      <td>9985</td>\n",
       "      <td>7.24%</td>\n",
       "    </tr>\n",
       "    <tr>\n",
       "      <th>wedding</th>\n",
       "      <td>184</td>\n",
       "      <td>2126</td>\n",
       "      <td>7.97%</td>\n",
       "    </tr>\n",
       "  </tbody>\n",
       "</table>\n",
       "</div>"
      ],
      "text/plain": [
       "debt_status       debt  no debt percentage\n",
       "purpose_category                          \n",
       "car                400     3884      9.34%\n",
       "education          370     3625      9.26%\n",
       "property           779     9985      7.24%\n",
       "wedding            184     2126      7.97%"
      ]
     },
     "execution_count": 144,
     "metadata": {},
     "output_type": "execute_result"
    }
   ],
   "source": [
    "# Periksa persentase tingkat gagal bayar untuk setiap tujuan kredit dan lakukan penganalisisan\n",
    "\n",
    "df1 = df.pivot_table(index='purpose_category', columns='debt_status', values='debt',  aggfunc='count')\n",
    "df1['percentage'] = (df1['debt'] / (df1['no debt'] + df1['debt'])).apply(lambda x: '{:.2%}'.format(x))\n",
    "df1\n"
   ]
  },
  {
   "cell_type": "markdown",
   "metadata": {},
   "source": [
    "**Kesimpulan**\n",
    "\n",
    "[Tulis kesimpulan Anda berdasarkan manipulasi dan pengamatan yang Anda lakukan.]\n",
    "\n",
    "Berdasarkan hasil diatas, dapat disimpulkan bahwatujuan kredit cukup berpengaruh terhadap persentase gagal bayar. Customer dengan tujuan kredit property memiliki persentase gagal bayar terendah sedangkan customer dengan tujuan kredit car memiliki persentase gagal bayar tertinggi.\n",
    "\n"
   ]
  },
  {
   "cell_type": "markdown",
   "metadata": {},
   "source": [
    "<div class=\"alert alert-success\">\n",
    "<b>Adipta's comment v.1</b> <a class=\"tocSkip\"></a>\n",
    "\n",
    "Bagus, semua berjalan lancar.\n",
    "\n",
    "</div>"
   ]
  },
  {
   "cell_type": "markdown",
   "metadata": {},
   "source": [
    "# Kesimpulan umum \n",
    "\n",
    "[Tuliskan kesimpulan Anda di bagian akhir ini. Pastikan Anda memasukkan semua kesimpulan penting yang telah Anda buat berkaitan dengan cara Anda memproses dan menganalisis data. Kesimpulan tersebut harus membahas nilai yang hilang, duplikat, dan kemungkinan alasan serta solusi untuk data bermasalah yang harus Anda tangani.]\n",
    "\n",
    "[Tuliskan juga kesimpulan Anda mengenai pertanyaan-pertanyaan yang diajukan di sini.]\n",
    "\n",
    "Dari hasil analisa diatas dapat disimpulkan beberapa hal :\n",
    "- Pada kategori anak persentase gagal bayar tertinggi 9.76% dari customer yang memiliki 4 anak.\n",
    "- Pada kategori status keluarga customer dengan status unmarried memiliki persentase gagal bayar tertinggi 9.75%.\n",
    "- Pada kategori tingkat pendapatan customer dengan tingkat pendapatan med (medium) memiliki persentase gagal bayar tertinggi 8.54%.\n",
    "- Pada kategori tujuan kredit customer dengan tujuan car memiliki memiliki persentase gagal bayar tertinggi 9.36%.\n",
    "- kesimpulannya semakin banyak jumlah anak, status unmarried dan tingkat pendapatan medium semakin tinggi persentase gagal bayarnya, terutama bila tujuan kreditnya adalah car.\n"
   ]
  },
  {
   "cell_type": "markdown",
   "metadata": {},
   "source": [
    "<div class=\"alert alert-block alert-warning\">\n",
    "\n",
    "# General comments #1\n",
    "<b>Reviewer's comment</b> <a class=\"tocSkip\"></a> \n",
    "\n",
    "Good Job Fawwaz! Sebagian besar kamu telah menyelesaikan project ini dengan baik namun masih ada beberapa hal yang bisa diimprove yang saya tandai dengan comment berwarna kuning dan merah. Jika kamu telah merevisinya, projectmu akan di approve dan kamu bisa lanjut ke tahapan selanjutnya!.\n",
    "    \n",
    "Keep going Fawwaz, you are doing very well!\n",
    "    \n",
    "\n",
    "</div>"
   ]
  },
  {
   "cell_type": "markdown",
   "metadata": {},
   "source": [
    "<div class=\"alert alert-block alert-warning\">\n",
    "\n",
    "# General comments #2\n",
    "<b>Reviewer's comment</b> <a class=\"tocSkip\"></a> \n",
    "\n",
    "Masih ada beberapa revisi\n",
    "    \n",
    "\n",
    "</div>"
   ]
  },
  {
   "cell_type": "markdown",
   "metadata": {},
   "source": [
    "<div class=\"alert alert-block alert-success\">\n",
    "\n",
    "# General comments #3\n",
    "<b>Reviewer's comment</b> <a class=\"tocSkip\"></a> \n",
    "\n",
    "Good Job Fawwaz! Revisi sudah sesuai ya!\n",
    "    \n",
    "\n",
    "</div>"
   ]
  },
  {
   "cell_type": "code",
   "execution_count": null,
   "metadata": {},
   "outputs": [],
   "source": []
  }
 ],
 "metadata": {
  "ExecuteTimeLog": [
   {
    "duration": 2741,
    "start_time": "2021-10-21T01:08:49.480Z"
   },
   {
    "duration": 52,
    "start_time": "2021-10-21T01:08:53.315Z"
   },
   {
    "duration": 49,
    "start_time": "2021-10-21T01:08:57.432Z"
   },
   {
    "duration": 70,
    "start_time": "2021-10-21T01:09:07.706Z"
   }
  ],
  "kernelspec": {
   "display_name": "Python 3 (ipykernel)",
   "language": "python",
   "name": "python3"
  },
  "language_info": {
   "codemirror_mode": {
    "name": "ipython",
    "version": 3
   },
   "file_extension": ".py",
   "mimetype": "text/x-python",
   "name": "python",
   "nbconvert_exporter": "python",
   "pygments_lexer": "ipython3",
   "version": "3.9.0"
  },
  "toc": {
   "base_numbering": 1,
   "nav_menu": {},
   "number_sections": true,
   "sideBar": true,
   "skip_h1_title": true,
   "title_cell": "Table of Contents",
   "title_sidebar": "Contents",
   "toc_cell": false,
   "toc_position": {},
   "toc_section_display": true,
   "toc_window_display": true
  },
  "vscode": {
   "interpreter": {
    "hash": "ef1728426330606e01c1da091626d7dbd7604032247e9790b44969d857c4f729"
   }
  }
 },
 "nbformat": 4,
 "nbformat_minor": 2
}
