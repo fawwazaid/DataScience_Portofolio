{
 "cells": [
  {
   "cell_type": "markdown",
   "metadata": {},
   "source": [
    "Hello!\n",
    "\n",
    "Saya senang bisa mereview project Anda hari ini.\n",
    "\n",
    "Ketika Saya melihat error untuk pertama kali, Saya akan menunjukkannya. Saya akan membiarkan Anda menemukan dan memperbaikinya sendiri. Selain itu, dalam keseluruhan notebook, Saya akan mengusulkan beberapa improvisasi yang dapat dilakukan dan juga memberikan komentar terkait persepsi Anda terhadap suatu subject.Tetapi, jika Anda masih tidak dapat menyelesaikan tugas, Saya akan memberikan petunjuk yang lebih presisi di iterasi selanjutnya dan beberapa contoh praktis. Saya terbuka untuk feedbacks dan diskusi terkait topik yang sedang dibahas.\n",
    "\n",
    "Anda akan menemukan beberapa jenis komentar saya sebagai berikut - **tolong jangan dipindah, diedit atau dihapus**.\n",
    "\n",
    "Anda akan menemukan komentar saya dengan warna hijau, kuning dan merah sebagai berikut:\n",
    "\n",
    "<div class=\"alert alert-block alert-success\">\n",
    "<b>Code reviewer's comment</b> <a class=\"tocSkip\"></a>\n",
    "\n",
    "Success. Semua dikerjakan dengan benar.\n",
    "</div>\n",
    "\n",
    "<div class=\"alert alert-block alert-warning\">\n",
    "<b>Code reviewer's comment</b> <a class=\"tocSkip\"></a>\n",
    "\n",
    "Catatan. Beberapa rekomendasi.\n",
    "</div>\n",
    "\n",
    "<div class=\"alert alert-block alert-danger\">\n",
    "\n",
    "<b>Code reviewer's comment</b> <a class=\"tocSkip\"></a>\n",
    "\n",
    "Butuh perbaikan. Cell ini membutuhkan perbaikan. Pengerjaan proyek tidak dapat diterima dengan komentar berwarna merah.\n",
    "</div>\n",
    "\n",
    "Kamu dapat menjawab sebagai berikut:\n",
    "\n",
    "<div class=\"alert alert-block alert-info\">\n",
    "<b>Jawaban student.</b> <a class=\"tocSkip\"></a>\n",
    "</div>"
   ]
  },
  {
   "cell_type": "markdown",
   "metadata": {},
   "source": [
    "# Rekomendasi Paket Megaline\n",
    "\n",
    "Operator seluler Megaline merasa tidak puas karena banyak pelanggan mereka yang masih menggunakan paket lama. Perusahaan tersebut ingin mengembangkan sebuah model yang dapat menganalisis perilaku konsumen dan merekomendasikan salah satu dari kedua paket terbaru Megaline: Smart atau Ultra.\n",
    "Anda memiliki akses terhadap data perilaku para pelanggan yang sudah beralih ke paket terbaru (dari proyek kursus Analisis Data Statistik). Dalam tugas klasifikasi ini, Anda perlu mengembangkan sebuah model yang mampu memilih paket dengan tepat. Mengingat Anda telah menyelesaikan langkah pra-pemrosesan data, Anda bisa langsung menuju ke tahap pembuatan model.\n",
    "Kembangkanlah sebuah model yang memiliki accuracy setinggi mungkin. Pada proyek ini, ambang batas untuk tingkat accuracy-nya adalah 0,75. Periksalah metrik accuracy model Anda dengan menggunakan test dataset."
   ]
  },
  {
   "cell_type": "markdown",
   "metadata": {},
   "source": [
    "# Daftar Konten \n",
    "\n",
    "* [Pendahuluan](#Pendahuluan)\n",
    "    * [Tujuan](#Tujuan)\n",
    "    * [Tahapan](#Tahapan)\n",
    "* [Inisialisasi](#Inisialisasi)\n",
    "* [Memuat Data](#Memuat-Data)\n",
    "* [Pra Pemrosesan Data](#Pra-Pemrosesan-Data)\n",
    "* [Membagi Data](#Membagi-Data)\n",
    "* [Analisis Model](#Cek-Model-Machine-Learning)\n",
    "    * [Decision Tree](#Decision-Tree)\n",
    "    * [Random Forest](#Random-Forest)\n",
    "    * [Logistic Regression](#Logistic-Regression)\n",
    "    * [Evaluasi Model](#Evaluasi-Model)    \n",
    "* [Tes Set Model](#Tes-Set-Model)\n",
    "* [Cek Kewarasan Model](#Cek-Kewarasan-Model)"
   ]
  },
  {
   "cell_type": "markdown",
   "metadata": {},
   "source": [
    "<div class=\"alert alert-block alert-success\">\n",
    "<b>Code reviewer's comment</b> <a class=\"tocSkip\"></a>\n",
    "\n",
    "Success. Konten disusun dengan rapi.\n",
    "</div>"
   ]
  },
  {
   "cell_type": "markdown",
   "metadata": {},
   "source": [
    "## Pendahuluan\n",
    "Dalam proyek ini kita akan melakukan analisis terhadap data klien Megaline yang sudah menggunakan salah satu dari kedua paket terbaru Megaline yaitu Smart atau Ultra. Kita akan mengembangkan sebuah model yang dapat menganalisis perilaku konsumen dan merekomendasikan salah satu dari kedua paket tersebut.\n",
    "\n",
    "### Tujuan\n",
    "mengembangkan sebuah model yang memiliki accuracy setinggi mungkin dengan ambang batas untuk tingkat accuracy-nya adalah 0,75.\n",
    "\n",
    "### Tahapan \n",
    "Pertama kita akan memuat data dan mempelajari informasi umum yang ada pada dataset, kita hanya akan melakukan sedikit pra pemrosesan data disini. Jika mengubah data, pastikan data yang diubah tidak termasuk dalam test set.\n",
    "\n",
    "Kedua kita akan memisahkan data menjadi training, validation, dan test set. Kemudian melakukan analisis dengan beberapa model seperti decision tree, random forest, dan logistic regression. \n",
    "\n",
    "Ketiga kita melakukan cek kewarasan terhadap model."
   ]
  },
  {
   "cell_type": "markdown",
   "metadata": {},
   "source": [
    "## Inisialisasi\n",
    "Import library yang akan digunakan."
   ]
  },
  {
   "cell_type": "code",
   "execution_count": 1,
   "metadata": {},
   "outputs": [],
   "source": [
    "import pandas as pd\n",
    "import numpy as np\n",
    "import matplotlib.pyplot as plt\n",
    "import seaborn as sns\n",
    "from sklearn.model_selection import train_test_split\n",
    "from sklearn.metrics import accuracy_score\n",
    "from sklearn.metrics import classification_report\n",
    "from sklearn.tree import DecisionTreeClassifier\n",
    "from sklearn.ensemble import RandomForestClassifier\n",
    "from sklearn.linear_model import LogisticRegression\n",
    "from sklearn.preprocessing import MinMaxScaler"
   ]
  },
  {
   "cell_type": "markdown",
   "metadata": {},
   "source": [
    "## Memuat Data\n",
    "Buka dan cermati file data secara teliti. File path: /datasets/users_behavior.csv."
   ]
  },
  {
   "cell_type": "code",
   "execution_count": 2,
   "metadata": {},
   "outputs": [],
   "source": [
    "df = pd.read_csv('/datasets/users_behavior.csv')"
   ]
  },
  {
   "cell_type": "markdown",
   "metadata": {},
   "source": [
    "## Pra Pemrosesan Data\n",
    "Pada tahap pra pemrosesan data, kita akan mengekplorasi data kemudian memperbaiki dan menambah kualitas data. Mari kita mempelajari gambaran umum tentand data yang kita miliki."
   ]
  },
  {
   "cell_type": "code",
   "execution_count": 3,
   "metadata": {},
   "outputs": [
    {
     "data": {
      "text/html": [
       "<div>\n",
       "<style scoped>\n",
       "    .dataframe tbody tr th:only-of-type {\n",
       "        vertical-align: middle;\n",
       "    }\n",
       "\n",
       "    .dataframe tbody tr th {\n",
       "        vertical-align: top;\n",
       "    }\n",
       "\n",
       "    .dataframe thead th {\n",
       "        text-align: right;\n",
       "    }\n",
       "</style>\n",
       "<table border=\"1\" class=\"dataframe\">\n",
       "  <thead>\n",
       "    <tr style=\"text-align: right;\">\n",
       "      <th></th>\n",
       "      <th>calls</th>\n",
       "      <th>minutes</th>\n",
       "      <th>messages</th>\n",
       "      <th>mb_used</th>\n",
       "      <th>is_ultra</th>\n",
       "    </tr>\n",
       "  </thead>\n",
       "  <tbody>\n",
       "    <tr>\n",
       "      <th>0</th>\n",
       "      <td>40.0</td>\n",
       "      <td>311.90</td>\n",
       "      <td>83.0</td>\n",
       "      <td>19915.42</td>\n",
       "      <td>0</td>\n",
       "    </tr>\n",
       "    <tr>\n",
       "      <th>1</th>\n",
       "      <td>85.0</td>\n",
       "      <td>516.75</td>\n",
       "      <td>56.0</td>\n",
       "      <td>22696.96</td>\n",
       "      <td>0</td>\n",
       "    </tr>\n",
       "    <tr>\n",
       "      <th>2</th>\n",
       "      <td>77.0</td>\n",
       "      <td>467.66</td>\n",
       "      <td>86.0</td>\n",
       "      <td>21060.45</td>\n",
       "      <td>0</td>\n",
       "    </tr>\n",
       "    <tr>\n",
       "      <th>3</th>\n",
       "      <td>106.0</td>\n",
       "      <td>745.53</td>\n",
       "      <td>81.0</td>\n",
       "      <td>8437.39</td>\n",
       "      <td>1</td>\n",
       "    </tr>\n",
       "    <tr>\n",
       "      <th>4</th>\n",
       "      <td>66.0</td>\n",
       "      <td>418.74</td>\n",
       "      <td>1.0</td>\n",
       "      <td>14502.75</td>\n",
       "      <td>0</td>\n",
       "    </tr>\n",
       "  </tbody>\n",
       "</table>\n",
       "</div>"
      ],
      "text/plain": [
       "   calls  minutes  messages   mb_used  is_ultra\n",
       "0   40.0   311.90      83.0  19915.42         0\n",
       "1   85.0   516.75      56.0  22696.96         0\n",
       "2   77.0   467.66      86.0  21060.45         0\n",
       "3  106.0   745.53      81.0   8437.39         1\n",
       "4   66.0   418.74       1.0  14502.75         0"
      ]
     },
     "execution_count": 3,
     "metadata": {},
     "output_type": "execute_result"
    }
   ],
   "source": [
    "df.head()"
   ]
  },
  {
   "cell_type": "code",
   "execution_count": 4,
   "metadata": {},
   "outputs": [
    {
     "name": "stdout",
     "output_type": "stream",
     "text": [
      "<class 'pandas.core.frame.DataFrame'>\n",
      "RangeIndex: 3214 entries, 0 to 3213\n",
      "Data columns (total 5 columns):\n",
      " #   Column    Non-Null Count  Dtype  \n",
      "---  ------    --------------  -----  \n",
      " 0   calls     3214 non-null   float64\n",
      " 1   minutes   3214 non-null   float64\n",
      " 2   messages  3214 non-null   float64\n",
      " 3   mb_used   3214 non-null   float64\n",
      " 4   is_ultra  3214 non-null   int64  \n",
      "dtypes: float64(4), int64(1)\n",
      "memory usage: 125.7 KB\n"
     ]
    }
   ],
   "source": [
    "df.info()"
   ]
  },
  {
   "cell_type": "code",
   "execution_count": 5,
   "metadata": {},
   "outputs": [
    {
     "data": {
      "text/html": [
       "<div>\n",
       "<style scoped>\n",
       "    .dataframe tbody tr th:only-of-type {\n",
       "        vertical-align: middle;\n",
       "    }\n",
       "\n",
       "    .dataframe tbody tr th {\n",
       "        vertical-align: top;\n",
       "    }\n",
       "\n",
       "    .dataframe thead th {\n",
       "        text-align: right;\n",
       "    }\n",
       "</style>\n",
       "<table border=\"1\" class=\"dataframe\">\n",
       "  <thead>\n",
       "    <tr style=\"text-align: right;\">\n",
       "      <th></th>\n",
       "      <th>calls</th>\n",
       "      <th>minutes</th>\n",
       "      <th>messages</th>\n",
       "      <th>mb_used</th>\n",
       "      <th>is_ultra</th>\n",
       "    </tr>\n",
       "  </thead>\n",
       "  <tbody>\n",
       "    <tr>\n",
       "      <th>count</th>\n",
       "      <td>3214.000000</td>\n",
       "      <td>3214.000000</td>\n",
       "      <td>3214.000000</td>\n",
       "      <td>3214.000000</td>\n",
       "      <td>3214.000000</td>\n",
       "    </tr>\n",
       "    <tr>\n",
       "      <th>mean</th>\n",
       "      <td>63.038892</td>\n",
       "      <td>438.208787</td>\n",
       "      <td>38.281269</td>\n",
       "      <td>17207.673836</td>\n",
       "      <td>0.306472</td>\n",
       "    </tr>\n",
       "    <tr>\n",
       "      <th>std</th>\n",
       "      <td>33.236368</td>\n",
       "      <td>234.569872</td>\n",
       "      <td>36.148326</td>\n",
       "      <td>7570.968246</td>\n",
       "      <td>0.461100</td>\n",
       "    </tr>\n",
       "    <tr>\n",
       "      <th>min</th>\n",
       "      <td>0.000000</td>\n",
       "      <td>0.000000</td>\n",
       "      <td>0.000000</td>\n",
       "      <td>0.000000</td>\n",
       "      <td>0.000000</td>\n",
       "    </tr>\n",
       "    <tr>\n",
       "      <th>25%</th>\n",
       "      <td>40.000000</td>\n",
       "      <td>274.575000</td>\n",
       "      <td>9.000000</td>\n",
       "      <td>12491.902500</td>\n",
       "      <td>0.000000</td>\n",
       "    </tr>\n",
       "    <tr>\n",
       "      <th>50%</th>\n",
       "      <td>62.000000</td>\n",
       "      <td>430.600000</td>\n",
       "      <td>30.000000</td>\n",
       "      <td>16943.235000</td>\n",
       "      <td>0.000000</td>\n",
       "    </tr>\n",
       "    <tr>\n",
       "      <th>75%</th>\n",
       "      <td>82.000000</td>\n",
       "      <td>571.927500</td>\n",
       "      <td>57.000000</td>\n",
       "      <td>21424.700000</td>\n",
       "      <td>1.000000</td>\n",
       "    </tr>\n",
       "    <tr>\n",
       "      <th>max</th>\n",
       "      <td>244.000000</td>\n",
       "      <td>1632.060000</td>\n",
       "      <td>224.000000</td>\n",
       "      <td>49745.730000</td>\n",
       "      <td>1.000000</td>\n",
       "    </tr>\n",
       "  </tbody>\n",
       "</table>\n",
       "</div>"
      ],
      "text/plain": [
       "             calls      minutes     messages       mb_used     is_ultra\n",
       "count  3214.000000  3214.000000  3214.000000   3214.000000  3214.000000\n",
       "mean     63.038892   438.208787    38.281269  17207.673836     0.306472\n",
       "std      33.236368   234.569872    36.148326   7570.968246     0.461100\n",
       "min       0.000000     0.000000     0.000000      0.000000     0.000000\n",
       "25%      40.000000   274.575000     9.000000  12491.902500     0.000000\n",
       "50%      62.000000   430.600000    30.000000  16943.235000     0.000000\n",
       "75%      82.000000   571.927500    57.000000  21424.700000     1.000000\n",
       "max     244.000000  1632.060000   224.000000  49745.730000     1.000000"
      ]
     },
     "execution_count": 5,
     "metadata": {},
     "output_type": "execute_result"
    }
   ],
   "source": [
    "df.describe()"
   ]
  },
  {
   "cell_type": "code",
   "execution_count": 6,
   "metadata": {},
   "outputs": [
    {
     "data": {
      "text/plain": [
       "calls       0\n",
       "minutes     0\n",
       "messages    0\n",
       "mb_used     0\n",
       "is_ultra    0\n",
       "dtype: int64"
      ]
     },
     "execution_count": 6,
     "metadata": {},
     "output_type": "execute_result"
    }
   ],
   "source": [
    "df.isna().sum()"
   ]
  },
  {
   "cell_type": "code",
   "execution_count": 7,
   "metadata": {},
   "outputs": [
    {
     "data": {
      "text/plain": [
       "0"
      ]
     },
     "execution_count": 7,
     "metadata": {},
     "output_type": "execute_result"
    }
   ],
   "source": [
    "df.duplicated().sum()"
   ]
  },
  {
   "cell_type": "markdown",
   "metadata": {},
   "source": [
    "Dataset berisi data klien Megaline berjumlah 3214, dengan kolom calls, minutes, messages, mb_used, dan is_ultra. Jika kita membaginya dapat dikatakan is_ultra adalah target sedangkan kolom lainnya sebagai feature-nya. Target adalah variabel dependent atau variabel yang dapat dipengaruhi sedangkan feature adalah variabel independent yaitu variabel yang tidak dapat dipengaruhi."
   ]
  },
  {
   "cell_type": "markdown",
   "metadata": {},
   "source": [
    "<div class=\"alert alert-block alert-success\">\n",
    "<b>Code reviewer's comment</b> <a class=\"tocSkip\"></a>\n",
    "\n",
    "Success. Observasi data dilakukan dengan baik.\n",
    "</div>"
   ]
  },
  {
   "cell_type": "markdown",
   "metadata": {},
   "source": [
    "## Membagi Data"
   ]
  },
  {
   "cell_type": "markdown",
   "metadata": {},
   "source": [
    "Karena dataset sudah termasuk test dataset, maka kita akan membaginya menjadi 60% training dataset, 20% validation dataset, dan 20% test dataset."
   ]
  },
  {
   "cell_type": "code",
   "execution_count": 8,
   "metadata": {},
   "outputs": [],
   "source": [
    "df_train_val, df_test = train_test_split(df, test_size=0.2, stratify=df['is_ultra'], random_state=12345)"
   ]
  },
  {
   "cell_type": "code",
   "execution_count": 9,
   "metadata": {},
   "outputs": [
    {
     "data": {
      "text/plain": [
       "(2571, 5)"
      ]
     },
     "execution_count": 9,
     "metadata": {},
     "output_type": "execute_result"
    }
   ],
   "source": [
    "df_train_val.shape"
   ]
  },
  {
   "cell_type": "code",
   "execution_count": 10,
   "metadata": {},
   "outputs": [
    {
     "data": {
      "text/plain": [
       "(643, 5)"
      ]
     },
     "execution_count": 10,
     "metadata": {},
     "output_type": "execute_result"
    }
   ],
   "source": [
    "df_test.shape"
   ]
  },
  {
   "cell_type": "markdown",
   "metadata": {},
   "source": [
    "Karena df_train_val adalah 80% dari total dataset maka pembagian untuk train dan validation adalah 75% dan 25%."
   ]
  },
  {
   "cell_type": "code",
   "execution_count": 11,
   "metadata": {},
   "outputs": [],
   "source": [
    "df_train, df_valid = train_test_split(df_train_val,test_size = 0.25, stratify=df_train_val['is_ultra'], random_state=12345)"
   ]
  },
  {
   "cell_type": "code",
   "execution_count": 12,
   "metadata": {},
   "outputs": [
    {
     "data": {
      "text/plain": [
       "(1928, 5)"
      ]
     },
     "execution_count": 12,
     "metadata": {},
     "output_type": "execute_result"
    }
   ],
   "source": [
    "df_train.shape"
   ]
  },
  {
   "cell_type": "code",
   "execution_count": 13,
   "metadata": {},
   "outputs": [
    {
     "data": {
      "text/plain": [
       "(643, 5)"
      ]
     },
     "execution_count": 13,
     "metadata": {},
     "output_type": "execute_result"
    }
   ],
   "source": [
    "df_valid.shape"
   ]
  },
  {
   "cell_type": "code",
   "execution_count": 14,
   "metadata": {},
   "outputs": [
    {
     "name": "stdout",
     "output_type": "stream",
     "text": [
      "train = 59.99%\n",
      "val = 20.01%\n",
      "test = 20.01%\n"
     ]
    }
   ],
   "source": [
    "print(f\"train = {100*len(df_train)/len(df):.2f}%\")\n",
    "print(f\"val = {100*len(df_valid)/len(df):.2f}%\")\n",
    "print(f\"test = {100*len(df_test)/len(df):.2f}%\")"
   ]
  },
  {
   "cell_type": "markdown",
   "metadata": {},
   "source": [
    "<div class=\"alert alert-block alert-warning\">\n",
    "<b>Code reviewer's comment</b> <a class=\"tocSkip\"></a>\n",
    "\n",
    "Catatan. Data sudah di pisahkan dengan baik. Di sisi lain, jika kita ingin mendapatkan data split dengan proporsi target yang seimbang, pertimbangkan untuk gunakan parameter `stratify` pada `train_test_split`.\n",
    "</div>"
   ]
  },
  {
   "cell_type": "markdown",
   "metadata": {},
   "source": [
    "<div class=\"alert alert-block alert-info\">\n",
    "<b>Siap kak, saya tambahkan stratify-nya.</b> <a class=\"tocSkip\"></a>\n",
    "</div>"
   ]
  },
  {
   "cell_type": "markdown",
   "metadata": {},
   "source": [
    "Disini kita akan menormalisasi data pada kolom calls, minutes, messages, dan mb_used."
   ]
  },
  {
   "cell_type": "code",
   "execution_count": 15,
   "metadata": {},
   "outputs": [
    {
     "data": {
      "text/plain": [
       "array([[0.11065574, 0.10451822, 0.10267857, 0.45083525],\n",
       "       [0.30737705, 0.29990932, 0.03125   , 0.42354205],\n",
       "       [0.19262295, 0.1838903 , 0.54910714, 0.64619586],\n",
       "       ...,\n",
       "       [0.1557377 , 0.16895212, 0.07142857, 0.14730719],\n",
       "       [0.3442623 , 0.38148107, 0.14285714, 0.33750148],\n",
       "       [0.44262295, 0.5024754 , 0.37053571, 0.30543223]])"
      ]
     },
     "execution_count": 15,
     "metadata": {},
     "output_type": "execute_result"
    }
   ],
   "source": [
    "scaler = MinMaxScaler()\n",
    "scaler.fit_transform(df_train[['calls', 'minutes', 'messages', 'mb_used']])"
   ]
  },
  {
   "cell_type": "code",
   "execution_count": 27,
   "metadata": {},
   "outputs": [
    {
     "data": {
      "text/html": [
       "<div>\n",
       "<style scoped>\n",
       "    .dataframe tbody tr th:only-of-type {\n",
       "        vertical-align: middle;\n",
       "    }\n",
       "\n",
       "    .dataframe tbody tr th {\n",
       "        vertical-align: top;\n",
       "    }\n",
       "\n",
       "    .dataframe thead th {\n",
       "        text-align: right;\n",
       "    }\n",
       "</style>\n",
       "<table border=\"1\" class=\"dataframe\">\n",
       "  <thead>\n",
       "    <tr style=\"text-align: right;\">\n",
       "      <th></th>\n",
       "      <th>calls</th>\n",
       "      <th>minutes</th>\n",
       "      <th>messages</th>\n",
       "      <th>mb_used</th>\n",
       "      <th>is_ultra</th>\n",
       "    </tr>\n",
       "  </thead>\n",
       "  <tbody>\n",
       "    <tr>\n",
       "      <th>1659</th>\n",
       "      <td>27.0</td>\n",
       "      <td>170.58</td>\n",
       "      <td>23.0</td>\n",
       "      <td>21798.61</td>\n",
       "      <td>0</td>\n",
       "    </tr>\n",
       "    <tr>\n",
       "      <th>2176</th>\n",
       "      <td>75.0</td>\n",
       "      <td>489.47</td>\n",
       "      <td>7.0</td>\n",
       "      <td>20478.94</td>\n",
       "      <td>1</td>\n",
       "    </tr>\n",
       "    <tr>\n",
       "      <th>108</th>\n",
       "      <td>47.0</td>\n",
       "      <td>300.12</td>\n",
       "      <td>123.0</td>\n",
       "      <td>31244.61</td>\n",
       "      <td>1</td>\n",
       "    </tr>\n",
       "    <tr>\n",
       "      <th>426</th>\n",
       "      <td>36.0</td>\n",
       "      <td>198.96</td>\n",
       "      <td>32.0</td>\n",
       "      <td>21596.86</td>\n",
       "      <td>0</td>\n",
       "    </tr>\n",
       "    <tr>\n",
       "      <th>1892</th>\n",
       "      <td>102.0</td>\n",
       "      <td>740.28</td>\n",
       "      <td>19.0</td>\n",
       "      <td>17864.12</td>\n",
       "      <td>0</td>\n",
       "    </tr>\n",
       "    <tr>\n",
       "      <th>...</th>\n",
       "      <td>...</td>\n",
       "      <td>...</td>\n",
       "      <td>...</td>\n",
       "      <td>...</td>\n",
       "      <td>...</td>\n",
       "    </tr>\n",
       "    <tr>\n",
       "      <th>2298</th>\n",
       "      <td>64.0</td>\n",
       "      <td>475.68</td>\n",
       "      <td>20.0</td>\n",
       "      <td>8540.27</td>\n",
       "      <td>0</td>\n",
       "    </tr>\n",
       "    <tr>\n",
       "      <th>397</th>\n",
       "      <td>80.0</td>\n",
       "      <td>547.01</td>\n",
       "      <td>54.0</td>\n",
       "      <td>21265.57</td>\n",
       "      <td>0</td>\n",
       "    </tr>\n",
       "    <tr>\n",
       "      <th>1439</th>\n",
       "      <td>38.0</td>\n",
       "      <td>275.74</td>\n",
       "      <td>16.0</td>\n",
       "      <td>7122.54</td>\n",
       "      <td>0</td>\n",
       "    </tr>\n",
       "    <tr>\n",
       "      <th>3151</th>\n",
       "      <td>84.0</td>\n",
       "      <td>622.60</td>\n",
       "      <td>32.0</td>\n",
       "      <td>16318.74</td>\n",
       "      <td>0</td>\n",
       "    </tr>\n",
       "    <tr>\n",
       "      <th>607</th>\n",
       "      <td>108.0</td>\n",
       "      <td>820.07</td>\n",
       "      <td>83.0</td>\n",
       "      <td>14768.14</td>\n",
       "      <td>1</td>\n",
       "    </tr>\n",
       "  </tbody>\n",
       "</table>\n",
       "<p>1928 rows × 5 columns</p>\n",
       "</div>"
      ],
      "text/plain": [
       "      calls  minutes  messages   mb_used  is_ultra\n",
       "1659   27.0   170.58      23.0  21798.61         0\n",
       "2176   75.0   489.47       7.0  20478.94         1\n",
       "108    47.0   300.12     123.0  31244.61         1\n",
       "426    36.0   198.96      32.0  21596.86         0\n",
       "1892  102.0   740.28      19.0  17864.12         0\n",
       "...     ...      ...       ...       ...       ...\n",
       "2298   64.0   475.68      20.0   8540.27         0\n",
       "397    80.0   547.01      54.0  21265.57         0\n",
       "1439   38.0   275.74      16.0   7122.54         0\n",
       "3151   84.0   622.60      32.0  16318.74         0\n",
       "607   108.0   820.07      83.0  14768.14         1\n",
       "\n",
       "[1928 rows x 5 columns]"
      ]
     },
     "execution_count": 27,
     "metadata": {},
     "output_type": "execute_result"
    }
   ],
   "source": [
    "df_train"
   ]
  },
  {
   "cell_type": "markdown",
   "metadata": {},
   "source": [
    "Kita akan membagi feature(X) dan target(y) yang akan digunakan. Kolom target adalah is_ultra dan kolom feature adalah sisa semua kolom lainnya."
   ]
  },
  {
   "cell_type": "code",
   "execution_count": 16,
   "metadata": {},
   "outputs": [],
   "source": [
    "# Assign Target and Features Variables\n",
    "X = df.drop('is_ultra', axis=1)\n",
    "y = df['is_ultra']\n",
    "\n",
    "# Train Sample\n",
    "X_train = df_train.drop('is_ultra', axis=1)\n",
    "y_train = df_train['is_ultra']\n",
    "\n",
    "# Validation Sample\n",
    "X_valid = df_valid.drop('is_ultra', axis=1)\n",
    "y_valid = df_valid['is_ultra']\n",
    "\n",
    "# Test Sample\n",
    "X_test = df_test.drop('is_ultra', axis=1)\n",
    "y_test = df_test['is_ultra']"
   ]
  },
  {
   "cell_type": "markdown",
   "metadata": {},
   "source": [
    "## Analisis Model"
   ]
  },
  {
   "cell_type": "markdown",
   "metadata": {},
   "source": [
    "Kita akan membuat 3 jenis model dengan decision tree, random forest, dan logistic regression. Pada tahap ini kita hanya akan menggunakan validation set untuk mengecek accuracy prediction-nya."
   ]
  },
  {
   "cell_type": "markdown",
   "metadata": {},
   "source": [
    "<div class=\"alert alert-block alert-warning\">\n",
    "<b>Code reviewer's comment</b> <a class=\"tocSkip\"></a>\n",
    "\n",
    "Catatan. Agar sejalan antara isi dan dan title headernya, ada baiknya bagian ini dimasukkan ke bagian `5. Membagi Data`.\n",
    "</div>"
   ]
  },
  {
   "cell_type": "markdown",
   "metadata": {},
   "source": [
    "<div class=\"alert alert-block alert-info\">\n",
    "<b>Siap kak sudah dipindahkan.</b> <a class=\"tocSkip\"></a>\n",
    "</div>"
   ]
  },
  {
   "cell_type": "markdown",
   "metadata": {},
   "source": [
    "### Decision Tree"
   ]
  },
  {
   "cell_type": "code",
   "execution_count": 17,
   "metadata": {},
   "outputs": [
    {
     "name": "stdout",
     "output_type": "stream",
     "text": [
      "Depth 1, Accuracy = 0.7589424572317263\n",
      "Depth 2, Accuracy = 0.7838258164852255\n",
      "Depth 3, Accuracy = 0.8040435458786936\n",
      "Depth 4, Accuracy = 0.8040435458786936\n",
      "Depth 5, Accuracy = 0.8164852255054432\n",
      "Depth 6, Accuracy = 0.80248833592535\n",
      "Depth 7, Accuracy = 0.807153965785381\n",
      "Depth 8, Accuracy = 0.8055987558320373\n",
      "Depth 9, Accuracy = 0.8118195956454122\n",
      "Depth 10, Accuracy = 0.8055987558320373\n",
      "Depth 11, Accuracy = 0.807153965785381\n",
      "Depth 12, Accuracy = 0.7853810264385692\n",
      "Depth 13, Accuracy = 0.7869362363919129\n",
      "Depth 14, Accuracy = 0.7838258164852255\n",
      "Depth 15, Accuracy = 0.7791601866251944\n",
      "Depth 16, Accuracy = 0.76049766718507\n",
      "Depth 17, Accuracy = 0.7511664074650077\n",
      "Depth 18, Accuracy = 0.7465007776049767\n",
      "Depth 19, Accuracy = 0.7511664074650077\n",
      "Depth 20, Accuracy = 0.7465007776049767\n",
      "Depth 21, Accuracy = 0.7387247278382582\n",
      "Depth 22, Accuracy = 0.7418351477449455\n",
      "Depth 23, Accuracy = 0.7356143079315708\n",
      "Depth 24, Accuracy = 0.7371695178849145\n",
      "Depth 25, Accuracy = 0.7542768273716952\n",
      "Depth 26, Accuracy = 0.7480559875583204\n",
      "Depth 27, Accuracy = 0.7480559875583204\n",
      "Depth 28, Accuracy = 0.7480559875583204\n",
      "Depth 29, Accuracy = 0.7480559875583204\n",
      "Depth 30, Accuracy = 0.7480559875583204\n",
      "Depth 31, Accuracy = 0.7480559875583204\n",
      "Depth 32, Accuracy = 0.7480559875583204\n",
      "Depth 33, Accuracy = 0.7480559875583204\n",
      "Depth 34, Accuracy = 0.7480559875583204\n",
      "Depth 35, Accuracy = 0.7480559875583204\n",
      "Depth 36, Accuracy = 0.7480559875583204\n",
      "Depth 37, Accuracy = 0.7480559875583204\n",
      "Depth 38, Accuracy = 0.7480559875583204\n",
      "Depth 39, Accuracy = 0.7480559875583204\n",
      "Depth 40, Accuracy = 0.7480559875583204\n"
     ]
    },
    {
     "data": {
      "image/png": "[encoded data removed]",
      "text/plain": [
       "<Figure size 864x432 with 1 Axes>"
      ]
     },
     "metadata": {
      "needs_background": "light"
     },
     "output_type": "display_data"
    }
   ],
   "source": [
    "depths = []\n",
    "model1_accuracy = []\n",
    "\n",
    "plt.figure(figsize=(12,6))\n",
    "\n",
    "for depth in range(1,41):\n",
    "    model = DecisionTreeClassifier(random_state=12345, max_depth=depth)\n",
    "    model.fit(X_train, y_train)\n",
    "    y_pred = model.predict(X_valid)\n",
    "    score = accuracy_score(y_valid, y_pred)\n",
    "    depths.append(depth)\n",
    "    model1_accuracy.append(score)\n",
    "    print('Depth', depth, end='')\n",
    "    print(', Accuracy =', score)\n",
    "    \n",
    "sns.lineplot(data=pd.DataFrame(data=model1_accuracy, index=depths))\n",
    "plt.legend('')\n",
    "plt.title(\"Accuracy at Different Depth\", fontsize=15) \n",
    "plt.ylabel(\"Accuracy\") \n",
    "plt.xlabel(\"Max depths\")\n",
    "plt.show()"
   ]
  },
  {
   "cell_type": "markdown",
   "metadata": {},
   "source": [
    "Accuracy maksimum dengan decision tree didapatkan pada Depth 5 dengan accuracy = 0.8164852255054432. Pada depth selanjutnya nilai accuracy terus mengalami penurunan."
   ]
  },
  {
   "cell_type": "markdown",
   "metadata": {},
   "source": [
    "<div class=\"alert alert-block alert-success\">\n",
    "<b>Code reviewer's comment</b> <a class=\"tocSkip\"></a>\n",
    "\n",
    "Success. Pemodelan dengan Decision Tree dilakukan dengan baik. Dapat dilihat bahwa makin dalam tingkat cabang yang dibuat oleh Decision Tree, maka akan meningkatkan error dan menurunkan akurasi.\n",
    "</div>"
   ]
  },
  {
   "cell_type": "markdown",
   "metadata": {},
   "source": [
    "### Random Forest"
   ]
  },
  {
   "cell_type": "code",
   "execution_count": 18,
   "metadata": {},
   "outputs": [
    {
     "name": "stdout",
     "output_type": "stream",
     "text": [
      "Estimator 10, Accuracy = 0.8133748055987559\n",
      "Estimator 15, Accuracy = 0.8040435458786936\n",
      "Estimator 20, Accuracy = 0.8164852255054432\n",
      "Estimator 25, Accuracy = 0.8133748055987559\n",
      "Estimator 30, Accuracy = 0.8164852255054432\n",
      "Estimator 35, Accuracy = 0.807153965785381\n",
      "Estimator 40, Accuracy = 0.8180404354587869\n",
      "Estimator 45, Accuracy = 0.8164852255054432\n",
      "Estimator 50, Accuracy = 0.8164852255054432\n",
      "Estimator 55, Accuracy = 0.8164852255054432\n",
      "Estimator 60, Accuracy = 0.8149300155520995\n",
      "Estimator 65, Accuracy = 0.8149300155520995\n",
      "Estimator 70, Accuracy = 0.8118195956454122\n",
      "Estimator 75, Accuracy = 0.8164852255054432\n",
      "Estimator 80, Accuracy = 0.8133748055987559\n",
      "Estimator 85, Accuracy = 0.8133748055987559\n",
      "Estimator 90, Accuracy = 0.8118195956454122\n",
      "Estimator 95, Accuracy = 0.8149300155520995\n",
      "Estimator 100, Accuracy = 0.8133748055987559\n",
      "Estimator 105, Accuracy = 0.8118195956454122\n",
      "Estimator 110, Accuracy = 0.8149300155520995\n",
      "Estimator 115, Accuracy = 0.8149300155520995\n",
      "Estimator 120, Accuracy = 0.8133748055987559\n",
      "Estimator 125, Accuracy = 0.8149300155520995\n",
      "Estimator 130, Accuracy = 0.8149300155520995\n",
      "Estimator 135, Accuracy = 0.8118195956454122\n",
      "Estimator 140, Accuracy = 0.8164852255054432\n",
      "Estimator 145, Accuracy = 0.8180404354587869\n",
      "Estimator 150, Accuracy = 0.8149300155520995\n",
      "Estimator 155, Accuracy = 0.8149300155520995\n",
      "Estimator 160, Accuracy = 0.8149300155520995\n",
      "Estimator 165, Accuracy = 0.8149300155520995\n",
      "Estimator 170, Accuracy = 0.8180404354587869\n",
      "Estimator 175, Accuracy = 0.8164852255054432\n",
      "Estimator 180, Accuracy = 0.8149300155520995\n",
      "Estimator 185, Accuracy = 0.8211508553654744\n",
      "Estimator 190, Accuracy = 0.8195956454121306\n",
      "Estimator 195, Accuracy = 0.8180404354587869\n",
      "Estimator 200, Accuracy = 0.8180404354587869\n",
      "Estimator 205, Accuracy = 0.8164852255054432\n"
     ]
    },
    {
     "data": {
      "image/png": "[encoded data removed]",
      "text/plain": [
       "<Figure size 720x360 with 1 Axes>"
      ]
     },
     "metadata": {
      "needs_background": "light"
     },
     "output_type": "display_data"
    }
   ],
   "source": [
    "estimators = []\n",
    "model2_accuracy = []\n",
    "\n",
    "plt.figure(figsize=(10, 5))\n",
    "\n",
    "for estim in range(10,206,5):\n",
    "    model = RandomForestClassifier(random_state=12345, n_estimators=estim)\n",
    "    model.fit(X_train, y_train)\n",
    "    y_pred = model.predict(X_valid)\n",
    "    score = accuracy_score(y_valid, y_pred)\n",
    "    estimators.append(estim)\n",
    "    model2_accuracy.append(score)\n",
    "    print('Estimator', estim, end='')\n",
    "    print(', Accuracy =', score)\n",
    "    \n",
    "sns.lineplot(data=pd.DataFrame(data=model2_accuracy, index=estimators))\n",
    "plt.legend('')\n",
    "plt.title(\"Accuracy at Different Estimators\", fontsize=15) \n",
    "plt.ylabel(\"Accuracy\") \n",
    "plt.xlabel(\"Estimators\")\n",
    "plt.show()"
   ]
  },
  {
   "cell_type": "markdown",
   "metadata": {},
   "source": [
    "Pada model random forest nilai tertinggi pada Estimator 185 dengan accuracy = 0.8211508553654744."
   ]
  },
  {
   "cell_type": "markdown",
   "metadata": {},
   "source": [
    "<div class=\"alert alert-block alert-warning\">\n",
    "<b>Code reviewer's comment</b> <a class=\"tocSkip\"></a>\n",
    "\n",
    "Catatan. Pemodelan RF sudah dilakukan dengan baik. Selain membuat percabangan seperti Decision Tree tetatpi juga membuat tree yang lain yang diwakili oleh parameter n_estimators yang dimana ourputnya akan diagregasi dari semua n_estimators tersebut. Atas dasar it, RF rentan akan overfitting. Salah satu cara untuk menghindarinya ialah dengan menghitung selisih akurasi antara data valid dengan train. Estimators yang memiliki selisih lebih kecil antara data valid dengan data train lebih memiliki potensi untuk tidak overfitting dibanding yang memiliki selisih lebih besar. \n",
    "<br>\n",
    "<br>\n",
    "Konsep ini juga bisa diterapkan diluar model RF.\n",
    "</div>"
   ]
  },
  {
   "cell_type": "code",
   "execution_count": 19,
   "metadata": {},
   "outputs": [
    {
     "name": "stdout",
     "output_type": "stream",
     "text": [
      "n_estimators=1: Accuracy Difference = -0.165359634235269\n",
      "n_estimators=2: Accuracy Difference = -0.18506433793873378\n",
      "n_estimators=3: Accuracy Difference = -0.1752160193078348\n",
      "n_estimators=4: Accuracy Difference = -0.1835131612062234\n",
      "n_estimators=5: Accuracy Difference = -0.1793653969011958\n",
      "n_estimators=6: Accuracy Difference = -0.1907713454179385\n",
      "n_estimators=7: Accuracy Difference = -0.18144089234204297\n",
      "n_estimators=8: Accuracy Difference = -0.18247743009621653\n",
      "n_estimators=9: Accuracy Difference = -0.18299610229538665\n",
      "n_estimators=10: Accuracy Difference = -0.18351477449455678\n",
      "n_estimators=11: Accuracy Difference = -0.18506998444790046\n",
      "n_estimators=12: Accuracy Difference = -0.18506998444790046\n",
      "n_estimators=13: Accuracy Difference = -0.18818040435458783\n",
      "n_estimators=14: Accuracy Difference = -0.18351477449455678\n",
      "n_estimators=15: Accuracy Difference = -0.18662519440124414\n",
      "n_estimators=16: Accuracy Difference = -0.18662519440124414\n",
      "n_estimators=17: Accuracy Difference = -0.18818040435458783\n",
      "n_estimators=18: Accuracy Difference = -0.18506998444790046\n",
      "n_estimators=19: Accuracy Difference = -0.18662519440124414\n",
      "n_estimators=20: Accuracy Difference = -0.18818040435458783\n",
      "n_estimators=21: Accuracy Difference = -0.18506998444790046\n",
      "n_estimators=22: Accuracy Difference = -0.18506998444790046\n",
      "n_estimators=23: Accuracy Difference = -0.18662519440124414\n",
      "n_estimators=24: Accuracy Difference = -0.18506998444790046\n",
      "n_estimators=25: Accuracy Difference = -0.18506998444790046\n",
      "n_estimators=26: Accuracy Difference = -0.18818040435458783\n",
      "n_estimators=27: Accuracy Difference = -0.18351477449455678\n",
      "n_estimators=28: Accuracy Difference = -0.1819595645412131\n",
      "n_estimators=29: Accuracy Difference = -0.18506998444790046\n",
      "n_estimators=30: Accuracy Difference = -0.18506998444790046\n",
      "n_estimators=31: Accuracy Difference = -0.18506998444790046\n",
      "n_estimators=32: Accuracy Difference = -0.18506998444790046\n",
      "n_estimators=33: Accuracy Difference = -0.1819595645412131\n",
      "n_estimators=34: Accuracy Difference = -0.18351477449455678\n",
      "n_estimators=35: Accuracy Difference = -0.18506998444790046\n",
      "n_estimators=36: Accuracy Difference = -0.17884914463452561\n",
      "n_estimators=37: Accuracy Difference = -0.1804043545878694\n",
      "n_estimators=38: Accuracy Difference = -0.1819595645412131\n",
      "n_estimators=39: Accuracy Difference = -0.1819595645412131\n",
      "n_estimators=40: Accuracy Difference = -0.18351477449455678\n"
     ]
    }
   ],
   "source": [
    "accuracy_diffs = []\n",
    "nn = []\n",
    "accuracy_train = []\n",
    "accuracy_valid = []\n",
    "\n",
    "for n in range(10,206,5):\n",
    "    model = RandomForestClassifier(n_estimators=n, random_state=12345)\n",
    "    model.fit(X_train, y_train)\n",
    "    train_pred = model.predict(X_train)\n",
    "    valid_pred = model.predict(X_valid)\n",
    "    train_acc = accuracy_score(y_train, train_pred)\n",
    "    valid_acc = accuracy_score(y_valid, valid_pred)\n",
    "    accuracy_diff = valid_acc - train_acc\n",
    "    accuracy_diffs.append(accuracy_diff)\n",
    "    nn.append(n)\n",
    "    accuracy_train.append(train_acc)\n",
    "    accuracy_valid.append(valid_acc)\n",
    "    \n",
    "for n, diff in enumerate(accuracy_diffs, 1):\n",
    "    print(f\"n_estimators={n}: Accuracy Difference = {diff}\")\n",
    "   \n"
   ]
  },
  {
   "cell_type": "code",
   "execution_count": 20,
   "metadata": {
    "scrolled": false
   },
   "outputs": [
    {
     "data": {
      "image/png": "[encoded data removed]",
      "text/plain": [
       "<Figure size 720x360 with 1 Axes>"
      ]
     },
     "metadata": {
      "needs_background": "light"
     },
     "output_type": "display_data"
    },
    {
     "data": {
      "image/png": "[encoded data removed]",
      "text/plain": [
       "<Figure size 720x360 with 1 Axes>"
      ]
     },
     "metadata": {
      "needs_background": "light"
     },
     "output_type": "display_data"
    },
    {
     "data": {
      "image/png": "[encoded data removed]",
      "text/plain": [
       "<Figure size 720x360 with 1 Axes>"
      ]
     },
     "metadata": {
      "needs_background": "light"
     },
     "output_type": "display_data"
    },
    {
     "name": "stdout",
     "output_type": "stream",
     "text": [
      "    accuracy_train  accuracy_valid  Accuracy_Diffs\n",
      "0         0.978734        0.813375       -0.165360\n",
      "1         0.989108        0.804044       -0.185064\n",
      "2         0.991701        0.816485       -0.175216\n",
      "3         0.996888        0.813375       -0.183513\n",
      "4         0.995851        0.816485       -0.179365\n",
      "5         0.997925        0.807154       -0.190771\n",
      "6         0.999481        0.818040       -0.181441\n",
      "7         0.998963        0.816485       -0.182477\n",
      "8         0.999481        0.816485       -0.182996\n",
      "9         1.000000        0.816485       -0.183515\n",
      "10        1.000000        0.814930       -0.185070\n",
      "11        1.000000        0.814930       -0.185070\n",
      "12        1.000000        0.811820       -0.188180\n",
      "13        1.000000        0.816485       -0.183515\n",
      "14        1.000000        0.813375       -0.186625\n",
      "15        1.000000        0.813375       -0.186625\n",
      "16        1.000000        0.811820       -0.188180\n",
      "17        1.000000        0.814930       -0.185070\n",
      "18        1.000000        0.813375       -0.186625\n",
      "19        1.000000        0.811820       -0.188180\n",
      "20        1.000000        0.814930       -0.185070\n",
      "21        1.000000        0.814930       -0.185070\n",
      "22        1.000000        0.813375       -0.186625\n",
      "23        1.000000        0.814930       -0.185070\n",
      "24        1.000000        0.814930       -0.185070\n",
      "25        1.000000        0.811820       -0.188180\n",
      "26        1.000000        0.816485       -0.183515\n",
      "27        1.000000        0.818040       -0.181960\n",
      "28        1.000000        0.814930       -0.185070\n",
      "29        1.000000        0.814930       -0.185070\n",
      "30        1.000000        0.814930       -0.185070\n",
      "31        1.000000        0.814930       -0.185070\n",
      "32        1.000000        0.818040       -0.181960\n",
      "33        1.000000        0.816485       -0.183515\n",
      "34        1.000000        0.814930       -0.185070\n",
      "35        1.000000        0.821151       -0.178849\n",
      "36        1.000000        0.819596       -0.180404\n",
      "37        1.000000        0.818040       -0.181960\n",
      "38        1.000000        0.818040       -0.181960\n",
      "39        1.000000        0.816485       -0.183515\n"
     ]
    }
   ],
   "source": [
    "plt.figure(figsize=(10, 5))\n",
    "    \n",
    "sns.lineplot(data=pd.DataFrame(data=accuracy_train, index=nn))\n",
    "plt.legend('')\n",
    "plt.title(\"Accuracy train\", fontsize=15) \n",
    "plt.ylabel(\"AccuracyDIff\") \n",
    "plt.xlabel(\"Estimators\")\n",
    "plt.show()\n",
    "\n",
    "plt.figure(figsize=(10, 5))\n",
    "    \n",
    "sns.lineplot(data=pd.DataFrame(data=accuracy_valid, index=nn))\n",
    "plt.legend('')\n",
    "plt.title(\"Accuracy valid\", fontsize=15) \n",
    "plt.ylabel(\"AccuracyDIff\") \n",
    "plt.xlabel(\"Estimators\")\n",
    "plt.show()\n",
    "\n",
    "plt.figure(figsize=(10, 5))\n",
    "    \n",
    "sns.lineplot(data=pd.DataFrame(data=accuracy_diffs, index=nn))\n",
    "plt.legend('')\n",
    "plt.title(\"Accuracy Diffs at Different Estimators\", fontsize=15) \n",
    "plt.ylabel(\"AccuracyDIff\") \n",
    "plt.xlabel(\"Estimators\")\n",
    "plt.show()\n",
    "\n",
    "data = pd.DataFrame(columns=['accuracy_train','accuracy_valid', 'Accuracy_Diffs'])\n",
    "data['accuracy_train'] = accuracy_train\n",
    "data['accuracy_valid'] = accuracy_valid\n",
    "data['Accuracy_Diffs'] = accuracy_diffs\n",
    "print(data)"
   ]
  },
  {
   "cell_type": "markdown",
   "metadata": {},
   "source": [
    "Didapatkan accuracy valid set lebih kecil daripada accuracy training set sehingga model dapat dikatakan overfitting dengan accuracy sebagai berikut:"
   ]
  },
  {
   "cell_type": "code",
   "execution_count": 21,
   "metadata": {},
   "outputs": [
    {
     "name": "stdout",
     "output_type": "stream",
     "text": [
      "train estimator=185: train accuracy = 1.0\n",
      "valid estimator=185: valid accuracy = 0.8211508553654744\n",
      "n_estimators=185: Accuracy Difference = -0.17884914463452561\n"
     ]
    }
   ],
   "source": [
    "print(f\"train estimator={nn[35]}: train accuracy = {accuracy_train[35]}\")\n",
    "print(f\"valid estimator={nn[35]}: valid accuracy = {accuracy_valid[35]}\")\n",
    "print(f\"n_estimators={nn[35]}: Accuracy Difference = {accuracy_diffs[35]}\")"
   ]
  },
  {
   "cell_type": "markdown",
   "metadata": {},
   "source": [
    "Pada grafik diatas didapatkan distribusi dari selisih akurasi valid set dan train set terlihat cukup merata dengan selisih terkecil pada n_estimators=1  dengan nilai accuracy difference = -0.165359634235269"
   ]
  },
  {
   "cell_type": "markdown",
   "metadata": {},
   "source": [
    "### Logistic Regression"
   ]
  },
  {
   "cell_type": "markdown",
   "metadata": {},
   "source": [
    "Logistic Regression"
   ]
  },
  {
   "cell_type": "code",
   "execution_count": 22,
   "metadata": {},
   "outputs": [
    {
     "name": "stdout",
     "output_type": "stream",
     "text": [
      "Iteration 1, Accuracy = 0.6936236391912908\n",
      "Iteration 6, Accuracy = 0.6920684292379471\n",
      "Iteration 11, Accuracy = 0.7045101088646968\n",
      "Iteration 16, Accuracy = 0.7045101088646968\n",
      "Iteration 21, Accuracy = 0.7045101088646968\n",
      "Iteration 26, Accuracy = 0.7045101088646968\n",
      "Iteration 31, Accuracy = 0.7045101088646968\n",
      "Iteration 36, Accuracy = 0.7045101088646968\n",
      "Iteration 41, Accuracy = 0.7045101088646968\n",
      "Iteration 46, Accuracy = 0.7045101088646968\n",
      "Iteration 51, Accuracy = 0.7045101088646968\n",
      "Iteration 56, Accuracy = 0.7045101088646968\n",
      "Iteration 61, Accuracy = 0.7045101088646968\n",
      "Iteration 66, Accuracy = 0.7045101088646968\n",
      "Iteration 71, Accuracy = 0.7045101088646968\n",
      "Iteration 76, Accuracy = 0.7045101088646968\n",
      "Iteration 81, Accuracy = 0.7045101088646968\n",
      "Iteration 86, Accuracy = 0.7045101088646968\n",
      "Iteration 91, Accuracy = 0.7045101088646968\n",
      "Iteration 96, Accuracy = 0.7045101088646968\n",
      "Iteration 101, Accuracy = 0.7045101088646968\n",
      "Iteration 106, Accuracy = 0.7045101088646968\n"
     ]
    },
    {
     "name": "stderr",
     "output_type": "stream",
     "text": [
      "/opt/conda/lib/python3.9/site-packages/sklearn/svm/_base.py:985: ConvergenceWarning: Liblinear failed to converge, increase the number of iterations.\n",
      "  warnings.warn(\"Liblinear failed to converge, increase \"\n",
      "/opt/conda/lib/python3.9/site-packages/sklearn/svm/_base.py:985: ConvergenceWarning: Liblinear failed to converge, increase the number of iterations.\n",
      "  warnings.warn(\"Liblinear failed to converge, increase \"\n"
     ]
    },
    {
     "name": "stdout",
     "output_type": "stream",
     "text": [
      "Iteration 111, Accuracy = 0.7045101088646968\n",
      "Iteration 116, Accuracy = 0.7045101088646968\n",
      "Iteration 121, Accuracy = 0.7045101088646968\n",
      "Iteration 126, Accuracy = 0.7045101088646968\n",
      "Iteration 131, Accuracy = 0.7045101088646968\n",
      "Iteration 136, Accuracy = 0.7045101088646968\n",
      "Iteration 141, Accuracy = 0.7045101088646968\n",
      "Iteration 146, Accuracy = 0.7045101088646968\n",
      "Iteration 151, Accuracy = 0.7045101088646968\n",
      "Iteration 156, Accuracy = 0.7045101088646968\n",
      "Iteration 161, Accuracy = 0.7045101088646968\n",
      "Iteration 166, Accuracy = 0.7045101088646968\n",
      "Iteration 171, Accuracy = 0.7045101088646968\n",
      "Iteration 176, Accuracy = 0.7045101088646968\n",
      "Iteration 181, Accuracy = 0.7045101088646968\n",
      "Iteration 186, Accuracy = 0.7045101088646968\n",
      "Iteration 191, Accuracy = 0.7045101088646968\n",
      "Iteration 196, Accuracy = 0.7045101088646968\n",
      "\n",
      "\n"
     ]
    },
    {
     "data": {
      "image/png": "[encoded data removed]",
      "text/plain": [
       "<Figure size 720x360 with 1 Axes>"
      ]
     },
     "metadata": {
      "needs_background": "light"
     },
     "output_type": "display_data"
    }
   ],
   "source": [
    "iterations = []\n",
    "model3_accuracy = []\n",
    "\n",
    "plt.figure(figsize=(10, 5))\n",
    "for iteration in range(1,200,5):\n",
    "    model = LogisticRegression(C=1, max_iter=iteration, solver='liblinear', random_state=12345)\n",
    "    model.fit(X_train, y_train)\n",
    "    y_pred = model.predict(X_valid)\n",
    "    score = accuracy_score(y_valid, y_pred)\n",
    "    iterations.append(iteration)\n",
    "    model3_accuracy.append(score)\n",
    "    print('Iteration', iteration, end='')\n",
    "    print(', Accuracy =', score)\n",
    "    \n",
    "sns.lineplot(data=pd.DataFrame(data=model3_accuracy, index=iterations))\n",
    "plt.legend('')\n",
    "    \n",
    "print('\\n')\n",
    "plt.title(\"Accuracy at Different Iterations\", fontsize=15) \n",
    "plt.ylabel(\"Accuracy\") \n",
    "plt.xlabel(\"Iterations\")\n",
    "plt.show()"
   ]
  },
  {
   "cell_type": "markdown",
   "metadata": {},
   "source": [
    "Pada model logistic regression nilai tertinggi pada Iteration 11 dengan accuracy = 0.7045101088646968."
   ]
  },
  {
   "cell_type": "markdown",
   "metadata": {},
   "source": [
    "<div class=\"alert alert-block alert-warning\">\n",
    "<b>Code reviewer's comment</b> <a class=\"tocSkip\"></a>\n",
    "\n",
    "Catatan. Logistic linear adalah model yang dibangun ata dasar hubungan linier antar variabel, baik independent ke dependent atau antar variabel independent. Sering kali melakukan scaling (proses membuat rentang nilai menjadi sama) terhadap variabel independent akan meningkatkan performa model.\n",
    "</div>"
   ]
  },
  {
   "cell_type": "markdown",
   "metadata": {},
   "source": [
    "<div class=\"alert alert-block alert-info\">\n",
    "<b>Siap kak, data pada kolom selain is_ultra sudah dinormalisasi.</b> <a class=\"tocSkip\"></a>\n",
    "</div>"
   ]
  },
  {
   "cell_type": "markdown",
   "metadata": {},
   "source": [
    "## Evaluasi Model"
   ]
  },
  {
   "cell_type": "markdown",
   "metadata": {},
   "source": [
    "- Accuracy maksimum dengan decision tree didapatkan pada Depth 5 dengan accuracy = 0.8164852255054432.\n",
    "- Pada model random forest nilai tertinggi pada Estimator 185 dengan accuracy = 0.8211508553654744.\n",
    "- Pada model logistic regression nilai tertinggi pada Iteration 11 dengan accuracy = 0.7045101088646968."
   ]
  },
  {
   "cell_type": "markdown",
   "metadata": {},
   "source": [
    "Dari ketiga model diatas dengan beberapa kali iterasi pada hyperparameter masing- masing, didapatkan hasil accuracy tertinggi dari model random forest pada estimator 185 dengan accuracy = 0.8211508553654744. Karena itu, kita akan menggunakan random forest pada analisis selanjutnya. Jika menggunakan syarat accuracy 0.75 maka hanya decision tree dan random forest yang memenuhi syarat tersebut. Selanjutnya mari kita cek classification report pada model."
   ]
  },
  {
   "cell_type": "code",
   "execution_count": 23,
   "metadata": {},
   "outputs": [
    {
     "data": {
      "text/html": [
       "<div>\n",
       "<style scoped>\n",
       "    .dataframe tbody tr th:only-of-type {\n",
       "        vertical-align: middle;\n",
       "    }\n",
       "\n",
       "    .dataframe tbody tr th {\n",
       "        vertical-align: top;\n",
       "    }\n",
       "\n",
       "    .dataframe thead th {\n",
       "        text-align: right;\n",
       "    }\n",
       "</style>\n",
       "<table border=\"1\" class=\"dataframe\">\n",
       "  <thead>\n",
       "    <tr style=\"text-align: right;\">\n",
       "      <th></th>\n",
       "      <th>0</th>\n",
       "      <th>1</th>\n",
       "      <th>accuracy</th>\n",
       "      <th>macro avg</th>\n",
       "      <th>weighted avg</th>\n",
       "    </tr>\n",
       "  </thead>\n",
       "  <tbody>\n",
       "    <tr>\n",
       "      <th>precision</th>\n",
       "      <td>0.834694</td>\n",
       "      <td>0.758170</td>\n",
       "      <td>0.816485</td>\n",
       "      <td>0.796432</td>\n",
       "      <td>0.811249</td>\n",
       "    </tr>\n",
       "    <tr>\n",
       "      <th>recall</th>\n",
       "      <td>0.917040</td>\n",
       "      <td>0.588832</td>\n",
       "      <td>0.816485</td>\n",
       "      <td>0.752936</td>\n",
       "      <td>0.816485</td>\n",
       "    </tr>\n",
       "    <tr>\n",
       "      <th>f1-score</th>\n",
       "      <td>0.873932</td>\n",
       "      <td>0.662857</td>\n",
       "      <td>0.816485</td>\n",
       "      <td>0.768394</td>\n",
       "      <td>0.809263</td>\n",
       "    </tr>\n",
       "    <tr>\n",
       "      <th>support</th>\n",
       "      <td>446.000000</td>\n",
       "      <td>197.000000</td>\n",
       "      <td>0.816485</td>\n",
       "      <td>643.000000</td>\n",
       "      <td>643.000000</td>\n",
       "    </tr>\n",
       "  </tbody>\n",
       "</table>\n",
       "</div>"
      ],
      "text/plain": [
       "                    0           1  accuracy   macro avg  weighted avg\n",
       "precision    0.834694    0.758170  0.816485    0.796432      0.811249\n",
       "recall       0.917040    0.588832  0.816485    0.752936      0.816485\n",
       "f1-score     0.873932    0.662857  0.816485    0.768394      0.809263\n",
       "support    446.000000  197.000000  0.816485  643.000000    643.000000"
      ]
     },
     "metadata": {},
     "output_type": "display_data"
    }
   ],
   "source": [
    "report_valid = classification_report(y_valid, valid_pred, output_dict=True)\n",
    "display(pd.DataFrame(report_valid))"
   ]
  },
  {
   "cell_type": "raw",
   "metadata": {},
   "source": [
    "Dari tabel diatas terlihat model agak sedikit imbalance ke arah 0(non- ultra)."
   ]
  },
  {
   "cell_type": "markdown",
   "metadata": {},
   "source": [
    "<div class=\"alert alert-block alert-danger\">\n",
    "\n",
    "<b>Code reviewer's comment</b> <a class=\"tocSkip\"></a>\n",
    "\n",
    "Butuh perbaikan. Dikarenakan definisi dari sumbu x berbeda (DT max_depth, RF estimator, LR iterasi) sebaiknya grafik diatas tidak ditampilkan. Beberapa cara untuk membandingkan output antara model ialah menggunakan grafik `ROC AUC` atau `precision-recall`. Kedua grafik itu memanfaatkan output berupa probability dan pembagian berdasarkan threshold.\n",
    "</div>"
   ]
  },
  {
   "cell_type": "markdown",
   "metadata": {},
   "source": [
    "<div class=\"alert alert-block alert-info\">\n",
    "<b>Baik kak.</b> <a class=\"tocSkip\"></a>\n",
    "</div>"
   ]
  },
  {
   "cell_type": "markdown",
   "metadata": {},
   "source": [
    "<div class=\"alert alert-block alert-success\">\n",
    "<b>Code reviewer's comment</b> <a class=\"tocSkip\"></a>\n",
    "\n",
    "Success. Perbandingan antar model dilakukan dengan sesuai.\n",
    "</div>"
   ]
  },
  {
   "cell_type": "markdown",
   "metadata": {},
   "source": [
    "## Tes Set Model"
   ]
  },
  {
   "cell_type": "markdown",
   "metadata": {},
   "source": [
    "Dari hasil evaluasi didapatkan model random forest meiliki nilai accuracy tertinggi, selanjutnya kita akan mengecek model random forest tersebut pada test dataset."
   ]
  },
  {
   "cell_type": "markdown",
   "metadata": {},
   "source": [
    "<div class=\"alert alert-block alert-warning\">\n",
    "<b>Code reviewer's comment</b> <a class=\"tocSkip\"></a>\n",
    "\n",
    "Catatan. Ada baiknya bagian ini dihapus agar tidak membingungkan, karena training sudah dilakukan pada bagian 7, 8 dan 9.\n",
    "</div>"
   ]
  },
  {
   "cell_type": "markdown",
   "metadata": {},
   "source": [
    "<div class=\"alert alert-block alert-info\">\n",
    "<b>Baik kak.</b> <a class=\"tocSkip\"></a>\n",
    "</div>"
   ]
  },
  {
   "cell_type": "markdown",
   "metadata": {},
   "source": [
    "<div class=\"alert alert-block alert-warning\">\n",
    "<b>Code reviewer's comment</b> <a class=\"tocSkip\"></a>\n",
    "\n",
    "Catatan. Ada baiknya bagian ini dihapus agar tidak membingungkan, karena training sudah dilakukan pada bagian 7, 8 dan 9.\n",
    "</div>"
   ]
  },
  {
   "cell_type": "markdown",
   "metadata": {},
   "source": [
    "<div class=\"alert alert-block alert-info\">\n",
    "<b>Baik kak.</b> <a class=\"tocSkip\"></a>\n",
    "</div>"
   ]
  },
  {
   "cell_type": "code",
   "execution_count": 24,
   "metadata": {},
   "outputs": [
    {
     "name": "stdout",
     "output_type": "stream",
     "text": [
      "Accuracy = 0.8164852255054432\n"
     ]
    }
   ],
   "source": [
    "random_forest_model = RandomForestClassifier(random_state=12345, n_estimators=150)\n",
    "random_forest_model.fit(X_train, y_train)\n",
    "y_pred = random_forest_model.predict(X_test)\n",
    "score = accuracy_score(y_test, y_pred)\n",
    "print('Accuracy =', score)"
   ]
  },
  {
   "cell_type": "markdown",
   "metadata": {},
   "source": [
    "Pada test set model random forest hasil yang didapatkan sedikit overfitting sekitar 0.466562986 %, setelah dilakukan normalisasi scaling, dan stratify sampling. Tentunya hasil tersebut masih ada kemungkinan bisa berubah dengan melakukan beberapa tuning ataupun feature engineering pada dataset."
   ]
  },
  {
   "cell_type": "markdown",
   "metadata": {},
   "source": [
    "<div class=\"alert alert-block alert-success\">\n",
    "<b>Code reviewer's comment</b> <a class=\"tocSkip\"></a>\n",
    "\n",
    "Success. Hasil yang didapat cukup baik.\n",
    "</div>"
   ]
  },
  {
   "cell_type": "markdown",
   "metadata": {},
   "source": [
    "## Cek Kewarasan Model"
   ]
  },
  {
   "cell_type": "markdown",
   "metadata": {},
   "source": [
    "Tentunya ada beberapa cara untuk mengecek kewarasan pada sebuah model, dalam hal ini dataset yang digunakan tidak dilakukan perubahan pada nilai- nilai yang dimiliki. Hasil accuracy dari validation set dan test set underfitting 1.15% sepertinya sudah cukup bagus untuk model sederhana, karena itu kita akan mengecek feature importance pada dataset dengan model random forest."
   ]
  },
  {
   "cell_type": "code",
   "execution_count": 25,
   "metadata": {},
   "outputs": [
    {
     "data": {
      "text/plain": [
       "0    0.693528\n",
       "1    0.306472\n",
       "Name: is_ultra, dtype: float64"
      ]
     },
     "execution_count": 25,
     "metadata": {},
     "output_type": "execute_result"
    }
   ],
   "source": [
    "df.is_ultra.value_counts(normalize=True)"
   ]
  },
  {
   "cell_type": "markdown",
   "metadata": {},
   "source": [
    "Pengguna paket ultra tercatat hanya sekitar 30% saja. Jika model imbalance dan terus menebak smart maka akan mendapat akurasi sekitar 60% lebih kecil dari akurasi prediksi model sekitar 80%"
   ]
  },
  {
   "cell_type": "code",
   "execution_count": 26,
   "metadata": {},
   "outputs": [
    {
     "data": {
      "image/png": "[encoded data removed]",
      "text/plain": [
       "<Figure size 720x432 with 1 Axes>"
      ]
     },
     "metadata": {
      "needs_background": "light"
     },
     "output_type": "display_data"
    }
   ],
   "source": [
    "model = RandomForestClassifier(random_state=12345, n_estimators=150)\n",
    "model.fit(X_train, y_train)\n",
    "importances = model.feature_importances_\n",
    "feature_importances = pd.DataFrame({'Feature': X_train.columns, 'Importance': importances})\n",
    "feature_importances = feature_importances.sort_values('Importance', ascending=False)\n",
    "\n",
    "plt.figure(figsize=(10, 6))\n",
    "sns.barplot(y='Importance', x='Feature', data=feature_importances)\n",
    "plt.xlabel('Importance')\n",
    "plt.ylabel('Features')\n",
    "plt.title('Feature Importances')\n",
    "plt.show()"
   ]
  },
  {
   "cell_type": "markdown",
   "metadata": {},
   "source": [
    "Variable penggunaan internet memiliki tingkat feature importance yang lebih tinggi dibandingkan variabel lainnya. Tentunya masih ada beberapa cara seperti cross validating ataupun menggunakan model dan hyperparameter yang lain untuk meningkatkan akurasi model kita."
   ]
  },
  {
   "cell_type": "markdown",
   "metadata": {},
   "source": [
    "<div class=\"alert alert-block alert-success\">\n",
    "<b>Code reviewer's comment</b> <a class=\"tocSkip\"></a>\n",
    "\n",
    "Success. Feature importance ditampilkan dengan baik.\n",
    "</div>"
   ]
  },
  {
   "cell_type": "code",
   "execution_count": null,
   "metadata": {},
   "outputs": [],
   "source": []
  }
 ],
 "metadata": {
  "kernelspec": {
   "display_name": "Python 3 (ipykernel)",
   "language": "python",
   "name": "python3"
  },
  "language_info": {
   "codemirror_mode": {
    "name": "ipython",
    "version": 3
   },
   "file_extension": ".py",
   "mimetype": "text/x-python",
   "name": "python",
   "nbconvert_exporter": "python",
   "pygments_lexer": "ipython3",
   "version": "3.9.5"
  },
  "toc": {
   "base_numbering": 1,
   "nav_menu": {},
   "number_sections": true,
   "sideBar": true,
   "skip_h1_title": true,
   "title_cell": "Table of Contents",
   "title_sidebar": "Contents",
   "toc_cell": false,
   "toc_position": {
    "height": "calc(100% - 180px)",
    "left": "10px",
    "top": "150px",
    "width": "372.6px"
   },
   "toc_section_display": true,
   "toc_window_display": true
  }
 },
 "nbformat": 4,
 "nbformat_minor": 2
}
