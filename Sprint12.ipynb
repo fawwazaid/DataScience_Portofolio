{
 "cells": [
  {
   "cell_type": "markdown",
   "metadata": {},
   "source": [
    "<div style=\"border:solid black 2px; padding: 20px\"><h1 style=\"color:black; margin-bottom:20px\">Reviewer's comment v1</h1>\n",
    "Halo Fawwaz !\n",
    "\n",
    "Perkenalkan saya disini sebagai Code Reviewers, disini dengan senang hati saya akan mereview tugas Fawwaz ya.\n",
    "\n",
    "Saya akan memberikan beberapa komen seperti dibawah ini, tolong jangan dipindah, dirubah, maupun dihapus ya.\n",
    "\n",
    "Komen yang saya berikan akan muncul dalam warna hijau, kuning, atau pun merah seperti ini:\n",
    "\n",
    "<div class=\"alert alert-success\">\n",
    "<b>Code Reviewers's comment v.1</b> <a class=\"tocSkip\"></a>\n",
    "\n",
    "Bagus, code yang dijalankan sudah sesuai dengan instruksi dari project.\n",
    "\n",
    "</div>\n",
    "\n",
    "<div class=\"alert alert-warning\">\n",
    "<b>Code Reviewers's comment v.1</b> <a class=\"tocSkip\"></a>\n",
    "\n",
    "Terdapat beberapa catatan.\n",
    "\n",
    "</div>\n",
    "\n",
    "<div class=\"alert alert-danger\">\n",
    "<b>Code Reviewers's comment v.1</b> <a class=\"tocSkip\"></a>\n",
    "\n",
    "Perlu beberapa perbaikan\n",
    "\n",
    "</div>\n",
    "\n",
    "Dan tentu saja Fawwaz dapat menjawab saya dengan menggunakan ini\n",
    "\n",
    "<div class=\"alert alert-block alert-info\">\n",
    "<b>Student answer.</b> <a class=\"tocSkip\"></a>\n",
    "    \n",
    "Baik kak\n",
    "</div>"
   ]
  },
  {
   "cell_type": "markdown",
   "metadata": {},
   "source": [
    "# Deskripsi Proyek\n",
    "\n",
    "Rusty Bargain adalah perusahaan jual beli mobil bekas yang sedang mengembangkan sebuah aplikasi untuk menarik pembeli baru. Dalam aplikasi tersebut, Anda bisa dengan cepat mengetahui nilai pasar mobil Anda. Anda memiliki akses ke data historis, spesifikasi teknis kendaraan, versi model kendaraan, dan harga kendaraan. Tugas Anda adalah membuat suatu model yang mampu menentukan nilai pasar mobil. \n",
    "\n",
    "Rusty Bargain tertarik pada:\n",
    "\n",
    "- kualitas prediksi;\n",
    "- kecepatan model dalam memprediksi;\n",
    "- waktu yang diperlukan untuk melatih model"
   ]
  },
  {
   "cell_type": "markdown",
   "metadata": {},
   "source": [
    "# Instruksi Proyek\n",
    "\n",
    "   - Simpan dan amati datanya.\n",
    "   - Latih model yang berbeda dengan berbagai hyperparameter (Anda harus membuat setidaknya dua model yang berbeda, tetapi lebih banyak lebih baik. Ingat, berbagai implementasi dari gradient boosting tidak dihitung sebagai model yang berbeda). Poin utama dari langkah ini adalah untuk membandingkan metode-metode gradient boosting dengan random forest, decision tree, dan regresi linear.\n",
    "   - Analisis kecepatan dan kualitas model.\n",
    "\n",
    "Catatan:\n",
    "\n",
    "   - Gunakan metrik RMSE untuk mengevaluasi model.\n",
    "   - Regresi linear memang tidak terlalu cocok untuk mengatur hyperparameter, tetapi regresi linear merupakan model yang tepat untuk melakukan sanity check dibandingkan metode lainnya. Jika kinerja gradient boosting tidak lebih baik daripada regresi linear, berarti ada sesuatu yang salah.\n",
    "   - Secara mandiri, pelajari library LightGBM dan gunakan tool yang ada di dalam library tersebut untuk membuat model gradient boosting.\n",
    "   - Idealnya, tugas Anda harus menyertakan regresi linear untuk melakukan sanity check, algoritme berbasis pohon dengan penyetelan hyperparameter (sebaiknya random forest), LightGBM dengan penyetelan hyperparameter (coba beberapa set), serta CatBoost dan XGBoost dengan penyetelan hyperparameter (opsional).\n",
    "   - Perhatikan pengkodean terhadap fitur-fitur kategorik untuk algoritme sederhana. LightGBM dan CatBoost memang mengimplementasikannya, tetapi XGBoost membutuhkan OHE.\n",
    "   - Anda bisa menggunakan perintah khusus untuk mengetahui waktu pemrosesan suatu sel kode di Jupyter Notebook. Temukan perintah khusus tersebut.\n",
    "   - Mengingat pelatihan model gradient boosting bisa membutuhkan waktu yang lama, ubah hanya beberapa parameter model.\n",
    "   - Jika Jupyter Notebook berhenti bekerja, hapus variabel yang tidak diperlukan menggunakan operator del: del features_train\n",
    "   "
   ]
  },
  {
   "cell_type": "markdown",
   "metadata": {},
   "source": [
    "# Daftar Konten\n",
    "\n",
    "* [Deskripsi Proyek](#Deskripsi-Proyek)\n",
    "* [Instruksi Proyek](#Instruksi-Proyek)\n",
    "* [Pendahuluan](#Pendahuluan)\n",
    "    * [Tujuan](#Tujuan)\n",
    "    * [Tahapan](#Tahapan)\n",
    "* [Inisialisasi](#Inisialisasi)\n",
    "* [Persiapan Data](#Persiapan-Data)\n",
    "* [Pra- Pemrosesan Data](#Pra--Pemrosesan-Data)\n",
    "* [Pelatihan dan Analisis Model](#Pelatihan-dan-Analisis-Model)\n",
    "* [Kesimpulan Umum](#Kesimpulan-Umum)"
   ]
  },
  {
   "cell_type": "markdown",
   "metadata": {},
   "source": [
    "## Pendahuluan\n",
    "Dalam proyek ini kita akan melakukan analisis terhadap data historis kendaraan membuat model yang mampu menentukan nilai pasar mobil dengan kualitas prediksi, kecepatan model dalam memprediksi, dan waktu yang diperlukan untuk melatih model menjadi pertimbangan utamanya.\n",
    "### Tujuan\n",
    "Membuat suatu model yang mampu menentukan nilai pasar mobil.\n",
    "\n",
    "### Tahapan \n",
    "Pertama kita akan mengekplorasi data yang ada baik dataset untuk mempelajari distribusi dan pola- pola yang ada. Kita juga harus mengecek nilai yang ada apakah ada nilai yang hilang atau anomali lainnya dan melakukan pra- pemrosesan data. Kemudian kita akan menganalisis fitur- fitur yang terdapat pada dataset.\n",
    "\n",
    "Selanjutnya kita akan melakukan pemodelan dengan beberapa estimator seperti decision tree, random forest, dan linear regression dan juga gradien boosting estimator seperti lightGBM, catboost, dan xgboost.\n",
    "\n",
    "Langkah terakhir adalah melakukan evaluasi dari semua hasil yang ada untuk mendapatkan model dengan kriteria yang diharapkan."
   ]
  },
  {
   "cell_type": "markdown",
   "metadata": {},
   "source": [
    "<div class=\"alert alert-success\">\n",
    "<b>Code Reviewers's comment v.1</b> <a class=\"tocSkip\"></a>\n",
    "\n",
    "Bagus, code yang dijalankan sudah sesuai dengan instruksi dari project.\n",
    "\n",
    "</div>"
   ]
  },
  {
   "cell_type": "markdown",
   "metadata": {},
   "source": [
    "## Inisialisasi\n",
    "Import library yang akan digunakan."
   ]
  },
  {
   "cell_type": "code",
   "execution_count": 134,
   "metadata": {},
   "outputs": [],
   "source": [
    "import time\n",
    "import numpy as np\n",
    "import pandas as pd\n",
    "import seaborn as sns\n",
    "import matplotlib.pyplot as plt\n",
    "\n",
    "from sklearn.model_selection import train_test_split, GridSearchCV\n",
    "from sklearn.tree import DecisionTreeRegressor\n",
    "from sklearn.ensemble import RandomForestRegressor\n",
    "from sklearn.linear_model import LinearRegression, Lasso, Ridge\n",
    "from sklearn.metrics import mean_squared_error, r2_score, mean_absolute_error \n",
    "from sklearn.preprocessing import OrdinalEncoder, StandardScaler, OneHotEncoder, LabelEncoder\n",
    "from sklearn.compose import ColumnTransformer\n",
    "from sklearn.pipeline import Pipeline\n",
    "from sklearn.model_selection import GridSearchCV, KFold, train_test_split\n",
    "from catboost import CatBoostRegressor\n",
    "from lightgbm import LGBMRegressor\n",
    "from xgboost import XGBRegressor"
   ]
  },
  {
   "cell_type": "markdown",
   "metadata": {},
   "source": [
    "<div class=\"alert alert-success\">\n",
    "<b>Code Reviewers's comment v.1</b> <a class=\"tocSkip\"></a>\n",
    "\n",
    "Bagus, code yang dijalankan sudah sesuai dengan instruksi dari project.\n",
    "\n",
    "</div>"
   ]
  },
  {
   "cell_type": "markdown",
   "metadata": {},
   "source": [
    "## Persiapan Data"
   ]
  },
  {
   "cell_type": "code",
   "execution_count": 135,
   "metadata": {},
   "outputs": [],
   "source": [
    "df = pd.read_csv('/datasets/car_data.csv')"
   ]
  },
  {
   "cell_type": "code",
   "execution_count": 136,
   "metadata": {},
   "outputs": [
    {
     "data": {
      "text/html": [
       "<div>\n",
       "<style scoped>\n",
       "    .dataframe tbody tr th:only-of-type {\n",
       "        vertical-align: middle;\n",
       "    }\n",
       "\n",
       "    .dataframe tbody tr th {\n",
       "        vertical-align: top;\n",
       "    }\n",
       "\n",
       "    .dataframe thead th {\n",
       "        text-align: right;\n",
       "    }\n",
       "</style>\n",
       "<table border=\"1\" class=\"dataframe\">\n",
       "  <thead>\n",
       "    <tr style=\"text-align: right;\">\n",
       "      <th></th>\n",
       "      <th>DateCrawled</th>\n",
       "      <th>Price</th>\n",
       "      <th>VehicleType</th>\n",
       "      <th>RegistrationYear</th>\n",
       "      <th>Gearbox</th>\n",
       "      <th>Power</th>\n",
       "      <th>Model</th>\n",
       "      <th>Mileage</th>\n",
       "      <th>RegistrationMonth</th>\n",
       "      <th>FuelType</th>\n",
       "      <th>Brand</th>\n",
       "      <th>NotRepaired</th>\n",
       "      <th>DateCreated</th>\n",
       "      <th>NumberOfPictures</th>\n",
       "      <th>PostalCode</th>\n",
       "      <th>LastSeen</th>\n",
       "    </tr>\n",
       "  </thead>\n",
       "  <tbody>\n",
       "    <tr>\n",
       "      <th>0</th>\n",
       "      <td>24/03/2016 11:52</td>\n",
       "      <td>480</td>\n",
       "      <td>NaN</td>\n",
       "      <td>1993</td>\n",
       "      <td>manual</td>\n",
       "      <td>0</td>\n",
       "      <td>golf</td>\n",
       "      <td>150000</td>\n",
       "      <td>0</td>\n",
       "      <td>petrol</td>\n",
       "      <td>volkswagen</td>\n",
       "      <td>NaN</td>\n",
       "      <td>24/03/2016 00:00</td>\n",
       "      <td>0</td>\n",
       "      <td>70435</td>\n",
       "      <td>07/04/2016 03:16</td>\n",
       "    </tr>\n",
       "    <tr>\n",
       "      <th>1</th>\n",
       "      <td>24/03/2016 10:58</td>\n",
       "      <td>18300</td>\n",
       "      <td>coupe</td>\n",
       "      <td>2011</td>\n",
       "      <td>manual</td>\n",
       "      <td>190</td>\n",
       "      <td>NaN</td>\n",
       "      <td>125000</td>\n",
       "      <td>5</td>\n",
       "      <td>gasoline</td>\n",
       "      <td>audi</td>\n",
       "      <td>yes</td>\n",
       "      <td>24/03/2016 00:00</td>\n",
       "      <td>0</td>\n",
       "      <td>66954</td>\n",
       "      <td>07/04/2016 01:46</td>\n",
       "    </tr>\n",
       "    <tr>\n",
       "      <th>2</th>\n",
       "      <td>14/03/2016 12:52</td>\n",
       "      <td>9800</td>\n",
       "      <td>suv</td>\n",
       "      <td>2004</td>\n",
       "      <td>auto</td>\n",
       "      <td>163</td>\n",
       "      <td>grand</td>\n",
       "      <td>125000</td>\n",
       "      <td>8</td>\n",
       "      <td>gasoline</td>\n",
       "      <td>jeep</td>\n",
       "      <td>NaN</td>\n",
       "      <td>14/03/2016 00:00</td>\n",
       "      <td>0</td>\n",
       "      <td>90480</td>\n",
       "      <td>05/04/2016 12:47</td>\n",
       "    </tr>\n",
       "    <tr>\n",
       "      <th>3</th>\n",
       "      <td>17/03/2016 16:54</td>\n",
       "      <td>1500</td>\n",
       "      <td>small</td>\n",
       "      <td>2001</td>\n",
       "      <td>manual</td>\n",
       "      <td>75</td>\n",
       "      <td>golf</td>\n",
       "      <td>150000</td>\n",
       "      <td>6</td>\n",
       "      <td>petrol</td>\n",
       "      <td>volkswagen</td>\n",
       "      <td>no</td>\n",
       "      <td>17/03/2016 00:00</td>\n",
       "      <td>0</td>\n",
       "      <td>91074</td>\n",
       "      <td>17/03/2016 17:40</td>\n",
       "    </tr>\n",
       "    <tr>\n",
       "      <th>4</th>\n",
       "      <td>31/03/2016 17:25</td>\n",
       "      <td>3600</td>\n",
       "      <td>small</td>\n",
       "      <td>2008</td>\n",
       "      <td>manual</td>\n",
       "      <td>69</td>\n",
       "      <td>fabia</td>\n",
       "      <td>90000</td>\n",
       "      <td>7</td>\n",
       "      <td>gasoline</td>\n",
       "      <td>skoda</td>\n",
       "      <td>no</td>\n",
       "      <td>31/03/2016 00:00</td>\n",
       "      <td>0</td>\n",
       "      <td>60437</td>\n",
       "      <td>06/04/2016 10:17</td>\n",
       "    </tr>\n",
       "  </tbody>\n",
       "</table>\n",
       "</div>"
      ],
      "text/plain": [
       "        DateCrawled  Price VehicleType  RegistrationYear Gearbox  Power  \\\n",
       "0  24/03/2016 11:52    480         NaN              1993  manual      0   \n",
       "1  24/03/2016 10:58  18300       coupe              2011  manual    190   \n",
       "2  14/03/2016 12:52   9800         suv              2004    auto    163   \n",
       "3  17/03/2016 16:54   1500       small              2001  manual     75   \n",
       "4  31/03/2016 17:25   3600       small              2008  manual     69   \n",
       "\n",
       "   Model  Mileage  RegistrationMonth  FuelType       Brand NotRepaired  \\\n",
       "0   golf   150000                  0    petrol  volkswagen         NaN   \n",
       "1    NaN   125000                  5  gasoline        audi         yes   \n",
       "2  grand   125000                  8  gasoline        jeep         NaN   \n",
       "3   golf   150000                  6    petrol  volkswagen          no   \n",
       "4  fabia    90000                  7  gasoline       skoda          no   \n",
       "\n",
       "        DateCreated  NumberOfPictures  PostalCode          LastSeen  \n",
       "0  24/03/2016 00:00                 0       70435  07/04/2016 03:16  \n",
       "1  24/03/2016 00:00                 0       66954  07/04/2016 01:46  \n",
       "2  14/03/2016 00:00                 0       90480  05/04/2016 12:47  \n",
       "3  17/03/2016 00:00                 0       91074  17/03/2016 17:40  \n",
       "4  31/03/2016 00:00                 0       60437  06/04/2016 10:17  "
      ]
     },
     "execution_count": 136,
     "metadata": {},
     "output_type": "execute_result"
    }
   ],
   "source": [
    "df.head()"
   ]
  },
  {
   "cell_type": "code",
   "execution_count": 137,
   "metadata": {},
   "outputs": [
    {
     "name": "stdout",
     "output_type": "stream",
     "text": [
      "<class 'pandas.core.frame.DataFrame'>\n",
      "RangeIndex: 354369 entries, 0 to 354368\n",
      "Data columns (total 16 columns):\n",
      " #   Column             Non-Null Count   Dtype \n",
      "---  ------             --------------   ----- \n",
      " 0   DateCrawled        354369 non-null  object\n",
      " 1   Price              354369 non-null  int64 \n",
      " 2   VehicleType        316879 non-null  object\n",
      " 3   RegistrationYear   354369 non-null  int64 \n",
      " 4   Gearbox            334536 non-null  object\n",
      " 5   Power              354369 non-null  int64 \n",
      " 6   Model              334664 non-null  object\n",
      " 7   Mileage            354369 non-null  int64 \n",
      " 8   RegistrationMonth  354369 non-null  int64 \n",
      " 9   FuelType           321474 non-null  object\n",
      " 10  Brand              354369 non-null  object\n",
      " 11  NotRepaired        283215 non-null  object\n",
      " 12  DateCreated        354369 non-null  object\n",
      " 13  NumberOfPictures   354369 non-null  int64 \n",
      " 14  PostalCode         354369 non-null  int64 \n",
      " 15  LastSeen           354369 non-null  object\n",
      "dtypes: int64(7), object(9)\n",
      "memory usage: 43.3+ MB\n"
     ]
    }
   ],
   "source": [
    "df.info()"
   ]
  },
  {
   "cell_type": "code",
   "execution_count": 138,
   "metadata": {
    "scrolled": true
   },
   "outputs": [
    {
     "data": {
      "text/html": [
       "<div>\n",
       "<style scoped>\n",
       "    .dataframe tbody tr th:only-of-type {\n",
       "        vertical-align: middle;\n",
       "    }\n",
       "\n",
       "    .dataframe tbody tr th {\n",
       "        vertical-align: top;\n",
       "    }\n",
       "\n",
       "    .dataframe thead th {\n",
       "        text-align: right;\n",
       "    }\n",
       "</style>\n",
       "<table border=\"1\" class=\"dataframe\">\n",
       "  <thead>\n",
       "    <tr style=\"text-align: right;\">\n",
       "      <th></th>\n",
       "      <th>Price</th>\n",
       "      <th>RegistrationYear</th>\n",
       "      <th>Power</th>\n",
       "      <th>Mileage</th>\n",
       "      <th>RegistrationMonth</th>\n",
       "      <th>NumberOfPictures</th>\n",
       "      <th>PostalCode</th>\n",
       "    </tr>\n",
       "  </thead>\n",
       "  <tbody>\n",
       "    <tr>\n",
       "      <th>count</th>\n",
       "      <td>354369.000000</td>\n",
       "      <td>354369.000000</td>\n",
       "      <td>354369.000000</td>\n",
       "      <td>354369.000000</td>\n",
       "      <td>354369.000000</td>\n",
       "      <td>354369.0</td>\n",
       "      <td>354369.000000</td>\n",
       "    </tr>\n",
       "    <tr>\n",
       "      <th>mean</th>\n",
       "      <td>4416.656776</td>\n",
       "      <td>2004.234448</td>\n",
       "      <td>110.094337</td>\n",
       "      <td>128211.172535</td>\n",
       "      <td>5.714645</td>\n",
       "      <td>0.0</td>\n",
       "      <td>50508.689087</td>\n",
       "    </tr>\n",
       "    <tr>\n",
       "      <th>std</th>\n",
       "      <td>4514.158514</td>\n",
       "      <td>90.227958</td>\n",
       "      <td>189.850405</td>\n",
       "      <td>37905.341530</td>\n",
       "      <td>3.726421</td>\n",
       "      <td>0.0</td>\n",
       "      <td>25783.096248</td>\n",
       "    </tr>\n",
       "    <tr>\n",
       "      <th>min</th>\n",
       "      <td>0.000000</td>\n",
       "      <td>1000.000000</td>\n",
       "      <td>0.000000</td>\n",
       "      <td>5000.000000</td>\n",
       "      <td>0.000000</td>\n",
       "      <td>0.0</td>\n",
       "      <td>1067.000000</td>\n",
       "    </tr>\n",
       "    <tr>\n",
       "      <th>25%</th>\n",
       "      <td>1050.000000</td>\n",
       "      <td>1999.000000</td>\n",
       "      <td>69.000000</td>\n",
       "      <td>125000.000000</td>\n",
       "      <td>3.000000</td>\n",
       "      <td>0.0</td>\n",
       "      <td>30165.000000</td>\n",
       "    </tr>\n",
       "    <tr>\n",
       "      <th>50%</th>\n",
       "      <td>2700.000000</td>\n",
       "      <td>2003.000000</td>\n",
       "      <td>105.000000</td>\n",
       "      <td>150000.000000</td>\n",
       "      <td>6.000000</td>\n",
       "      <td>0.0</td>\n",
       "      <td>49413.000000</td>\n",
       "    </tr>\n",
       "    <tr>\n",
       "      <th>75%</th>\n",
       "      <td>6400.000000</td>\n",
       "      <td>2008.000000</td>\n",
       "      <td>143.000000</td>\n",
       "      <td>150000.000000</td>\n",
       "      <td>9.000000</td>\n",
       "      <td>0.0</td>\n",
       "      <td>71083.000000</td>\n",
       "    </tr>\n",
       "    <tr>\n",
       "      <th>max</th>\n",
       "      <td>20000.000000</td>\n",
       "      <td>9999.000000</td>\n",
       "      <td>20000.000000</td>\n",
       "      <td>150000.000000</td>\n",
       "      <td>12.000000</td>\n",
       "      <td>0.0</td>\n",
       "      <td>99998.000000</td>\n",
       "    </tr>\n",
       "  </tbody>\n",
       "</table>\n",
       "</div>"
      ],
      "text/plain": [
       "               Price  RegistrationYear          Power        Mileage  \\\n",
       "count  354369.000000     354369.000000  354369.000000  354369.000000   \n",
       "mean     4416.656776       2004.234448     110.094337  128211.172535   \n",
       "std      4514.158514         90.227958     189.850405   37905.341530   \n",
       "min         0.000000       1000.000000       0.000000    5000.000000   \n",
       "25%      1050.000000       1999.000000      69.000000  125000.000000   \n",
       "50%      2700.000000       2003.000000     105.000000  150000.000000   \n",
       "75%      6400.000000       2008.000000     143.000000  150000.000000   \n",
       "max     20000.000000       9999.000000   20000.000000  150000.000000   \n",
       "\n",
       "       RegistrationMonth  NumberOfPictures     PostalCode  \n",
       "count      354369.000000          354369.0  354369.000000  \n",
       "mean            5.714645               0.0   50508.689087  \n",
       "std             3.726421               0.0   25783.096248  \n",
       "min             0.000000               0.0    1067.000000  \n",
       "25%             3.000000               0.0   30165.000000  \n",
       "50%             6.000000               0.0   49413.000000  \n",
       "75%             9.000000               0.0   71083.000000  \n",
       "max            12.000000               0.0   99998.000000  "
      ]
     },
     "execution_count": 138,
     "metadata": {},
     "output_type": "execute_result"
    }
   ],
   "source": [
    "df.describe()"
   ]
  },
  {
   "cell_type": "code",
   "execution_count": 139,
   "metadata": {},
   "outputs": [],
   "source": [
    "def missing(df):\n",
    "    missing_data = df.isna()\n",
    "    plt.figure(figsize=(20, 20))\n",
    "    sns.heatmap(missing_data, cmap='viridis')\n",
    "    plt.xlabel('Columns')\n",
    "    plt.ylabel('Rows')\n",
    "    plt.title('Missing Data Patterns')\n",
    "    plt.show()"
   ]
  },
  {
   "cell_type": "code",
   "execution_count": 140,
   "metadata": {
    "scrolled": false
   },
   "outputs": [
    {
     "data": {
      "image/png": "[encoded data removed]",
      "text/plain": [
       "<Figure size 1440x1440 with 2 Axes>"
      ]
     },
     "metadata": {
      "needs_background": "light"
     },
     "output_type": "display_data"
    }
   ],
   "source": [
    "missing(df)"
   ]
  },
  {
   "cell_type": "code",
   "execution_count": 141,
   "metadata": {},
   "outputs": [
    {
     "data": {
      "text/plain": [
       "DateCrawled              0\n",
       "Price                    0\n",
       "VehicleType          37490\n",
       "RegistrationYear         0\n",
       "Gearbox              19833\n",
       "Power                    0\n",
       "Model                19705\n",
       "Mileage                  0\n",
       "RegistrationMonth        0\n",
       "FuelType             32895\n",
       "Brand                    0\n",
       "NotRepaired          71154\n",
       "DateCreated              0\n",
       "NumberOfPictures         0\n",
       "PostalCode               0\n",
       "LastSeen                 0\n",
       "dtype: int64"
      ]
     },
     "execution_count": 141,
     "metadata": {},
     "output_type": "execute_result"
    }
   ],
   "source": [
    "df.isna().sum()"
   ]
  },
  {
   "cell_type": "code",
   "execution_count": 142,
   "metadata": {
    "scrolled": true
   },
   "outputs": [
    {
     "data": {
      "text/plain": [
       "DateCrawled           0.000000\n",
       "Price                 0.000000\n",
       "VehicleType          10.579368\n",
       "RegistrationYear      0.000000\n",
       "Gearbox               5.596709\n",
       "Power                 0.000000\n",
       "Model                 5.560588\n",
       "Mileage               0.000000\n",
       "RegistrationMonth     0.000000\n",
       "FuelType              9.282697\n",
       "Brand                 0.000000\n",
       "NotRepaired          20.079070\n",
       "DateCreated           0.000000\n",
       "NumberOfPictures      0.000000\n",
       "PostalCode            0.000000\n",
       "LastSeen              0.000000\n",
       "dtype: float64"
      ]
     },
     "execution_count": 142,
     "metadata": {},
     "output_type": "execute_result"
    }
   ],
   "source": [
    "df.isna().sum() / len(df) * 100"
   ]
  },
  {
   "cell_type": "code",
   "execution_count": 143,
   "metadata": {
    "scrolled": true
   },
   "outputs": [
    {
     "data": {
      "text/plain": [
       "262"
      ]
     },
     "execution_count": 143,
     "metadata": {},
     "output_type": "execute_result"
    }
   ],
   "source": [
    "df.duplicated().sum()"
   ]
  },
  {
   "cell_type": "code",
   "execution_count": 144,
   "metadata": {
    "scrolled": true
   },
   "outputs": [
    {
     "data": {
      "text/plain": [
       "(354369, 16)"
      ]
     },
     "execution_count": 144,
     "metadata": {},
     "output_type": "execute_result"
    }
   ],
   "source": [
    "df.shape"
   ]
  },
  {
   "cell_type": "markdown",
   "metadata": {},
   "source": [
    "Dataset car_data terdiri dari 354369 dan 16 baris. Terdapat 262 baris duplikat dan 5 kolom dengan nilai yang hilang dengan kolom not repaired memiliki sekitar 20% nilai yang hilang pada kolom tersebut. Mari kita eksplorasi lebih lanjut data setiap kolomnya."
   ]
  },
  {
   "cell_type": "code",
   "execution_count": 145,
   "metadata": {},
   "outputs": [
    {
     "data": {
      "text/plain": [
       "05/03/2016 14:25    66\n",
       "05/03/2016 14:26    59\n",
       "16/03/2016 18:49    55\n",
       "20/03/2016 11:50    54\n",
       "05/03/2016 17:49    54\n",
       "                    ..\n",
       "15/03/2016 17:27     1\n",
       "07/03/2016 08:44     1\n",
       "06/03/2016 13:23     1\n",
       "30/03/2016 23:20     1\n",
       "08/03/2016 13:07     1\n",
       "Name: DateCrawled, Length: 15470, dtype: int64"
      ]
     },
     "execution_count": 145,
     "metadata": {},
     "output_type": "execute_result"
    }
   ],
   "source": [
    "df.DateCrawled.value_counts()"
   ]
  },
  {
   "cell_type": "code",
   "execution_count": 146,
   "metadata": {
    "scrolled": true
   },
   "outputs": [
    {
     "data": {
      "image/png": "[encoded data removed]",
      "text/plain": [
       "<Figure size 1440x432 with 1 Axes>"
      ]
     },
     "metadata": {
      "needs_background": "light"
     },
     "output_type": "display_data"
    }
   ],
   "source": [
    "plt.figure(figsize=(20,6))\n",
    "df.DateCrawled.value_counts().sort_index(ascending=False).plot(x='DateCrawled');"
   ]
  },
  {
   "cell_type": "code",
   "execution_count": 147,
   "metadata": {},
   "outputs": [
    {
     "data": {
      "text/plain": [
       "0        10772\n",
       "500       5670\n",
       "1500      5394\n",
       "1000      4649\n",
       "1200      4594\n",
       "         ...  \n",
       "13180        1\n",
       "10879        1\n",
       "2683         1\n",
       "634          1\n",
       "8188         1\n",
       "Name: Price, Length: 3731, dtype: int64"
      ]
     },
     "execution_count": 147,
     "metadata": {},
     "output_type": "execute_result"
    }
   ],
   "source": [
    "df.Price.value_counts()"
   ]
  },
  {
   "cell_type": "code",
   "execution_count": 148,
   "metadata": {},
   "outputs": [
    {
     "data": {
      "image/png": "[encoded data removed]",
      "text/plain": [
       "<Figure size 720x432 with 1 Axes>"
      ]
     },
     "metadata": {
      "needs_background": "light"
     },
     "output_type": "display_data"
    }
   ],
   "source": [
    "plt.figure(figsize=(10,6))\n",
    "df.Price.value_counts().hist();"
   ]
  },
  {
   "cell_type": "code",
   "execution_count": 149,
   "metadata": {},
   "outputs": [
    {
     "data": {
      "text/plain": [
       "0        10772\n",
       "500       5670\n",
       "1500      5394\n",
       "1000      4649\n",
       "1200      4594\n",
       "         ...  \n",
       "13180        1\n",
       "10879        1\n",
       "2683         1\n",
       "634          1\n",
       "8188         1\n",
       "Name: Price, Length: 3731, dtype: int64"
      ]
     },
     "execution_count": 149,
     "metadata": {},
     "output_type": "execute_result"
    }
   ],
   "source": [
    "df.Price.value_counts()"
   ]
  },
  {
   "cell_type": "code",
   "execution_count": 150,
   "metadata": {},
   "outputs": [
    {
     "data": {
      "text/plain": [
       "count    354369.000000\n",
       "mean       4416.656776\n",
       "std        4514.158514\n",
       "min           0.000000\n",
       "25%        1050.000000\n",
       "50%        2700.000000\n",
       "75%        6400.000000\n",
       "max       20000.000000\n",
       "Name: Price, dtype: float64"
      ]
     },
     "execution_count": 150,
     "metadata": {},
     "output_type": "execute_result"
    }
   ],
   "source": [
    "df.Price.describe()"
   ]
  },
  {
   "cell_type": "code",
   "execution_count": 151,
   "metadata": {
    "scrolled": false
   },
   "outputs": [
    {
     "data": {
      "image/png": "[encoded data removed]",
      "text/plain": [
       "<Figure size 720x432 with 1 Axes>"
      ]
     },
     "metadata": {
      "needs_background": "light"
     },
     "output_type": "display_data"
    }
   ],
   "source": [
    "plt.figure(figsize=(10,6))\n",
    "sns.boxplot(data=df.Price);"
   ]
  },
  {
   "cell_type": "code",
   "execution_count": 152,
   "metadata": {
    "scrolled": false
   },
   "outputs": [
    {
     "data": {
      "text/plain": [
       "3.0397692800442475"
      ]
     },
     "execution_count": 152,
     "metadata": {},
     "output_type": "execute_result"
    }
   ],
   "source": [
    "(10772) / df.Price.shape[0] * 100"
   ]
  },
  {
   "cell_type": "code",
   "execution_count": 153,
   "metadata": {
    "scrolled": true
   },
   "outputs": [
    {
     "data": {
      "image/png": "[encoded data removed]",
      "text/plain": [
       "<Figure size 720x432 with 1 Axes>"
      ]
     },
     "metadata": {
      "needs_background": "light"
     },
     "output_type": "display_data"
    }
   ],
   "source": [
    "plt.figure(figsize=(10,6))\n",
    "df[df['Price'] < 200]['Price'].hist();"
   ]
  },
  {
   "cell_type": "code",
   "execution_count": 154,
   "metadata": {
    "scrolled": false
   },
   "outputs": [
    {
     "data": {
      "text/html": [
       "<div>\n",
       "<style scoped>\n",
       "    .dataframe tbody tr th:only-of-type {\n",
       "        vertical-align: middle;\n",
       "    }\n",
       "\n",
       "    .dataframe tbody tr th {\n",
       "        vertical-align: top;\n",
       "    }\n",
       "\n",
       "    .dataframe thead th {\n",
       "        text-align: right;\n",
       "    }\n",
       "</style>\n",
       "<table border=\"1\" class=\"dataframe\">\n",
       "  <thead>\n",
       "    <tr style=\"text-align: right;\">\n",
       "      <th></th>\n",
       "      <th>Model</th>\n",
       "      <th>Brand</th>\n",
       "      <th>RegistrationYear</th>\n",
       "    </tr>\n",
       "  </thead>\n",
       "  <tbody>\n",
       "    <tr>\n",
       "      <th>257793</th>\n",
       "      <td>other</td>\n",
       "      <td>hyundai</td>\n",
       "      <td>9999</td>\n",
       "    </tr>\n",
       "    <tr>\n",
       "      <th>50141</th>\n",
       "      <td>911</td>\n",
       "      <td>porsche</td>\n",
       "      <td>9999</td>\n",
       "    </tr>\n",
       "    <tr>\n",
       "      <th>338829</th>\n",
       "      <td>golf</td>\n",
       "      <td>volkswagen</td>\n",
       "      <td>3000</td>\n",
       "    </tr>\n",
       "    <tr>\n",
       "      <th>83145</th>\n",
       "      <td>twingo</td>\n",
       "      <td>renault</td>\n",
       "      <td>2017</td>\n",
       "    </tr>\n",
       "    <tr>\n",
       "      <th>194185</th>\n",
       "      <td>twingo</td>\n",
       "      <td>renault</td>\n",
       "      <td>2017</td>\n",
       "    </tr>\n",
       "    <tr>\n",
       "      <th>...</th>\n",
       "      <td>...</td>\n",
       "      <td>...</td>\n",
       "      <td>...</td>\n",
       "    </tr>\n",
       "    <tr>\n",
       "      <th>352221</th>\n",
       "      <td>NaN</td>\n",
       "      <td>sonstige_autos</td>\n",
       "      <td>1970</td>\n",
       "    </tr>\n",
       "    <tr>\n",
       "      <th>139429</th>\n",
       "      <td>NaN</td>\n",
       "      <td>sonstige_autos</td>\n",
       "      <td>1960</td>\n",
       "    </tr>\n",
       "    <tr>\n",
       "      <th>124042</th>\n",
       "      <td>NaN</td>\n",
       "      <td>sonstige_autos</td>\n",
       "      <td>1958</td>\n",
       "    </tr>\n",
       "    <tr>\n",
       "      <th>144388</th>\n",
       "      <td>kaefer</td>\n",
       "      <td>volkswagen</td>\n",
       "      <td>1910</td>\n",
       "    </tr>\n",
       "    <tr>\n",
       "      <th>24458</th>\n",
       "      <td>NaN</td>\n",
       "      <td>volkswagen</td>\n",
       "      <td>1910</td>\n",
       "    </tr>\n",
       "  </tbody>\n",
       "</table>\n",
       "<p>327 rows × 3 columns</p>\n",
       "</div>"
      ],
      "text/plain": [
       "         Model           Brand  RegistrationYear\n",
       "257793   other         hyundai              9999\n",
       "50141      911         porsche              9999\n",
       "338829    golf      volkswagen              3000\n",
       "83145   twingo         renault              2017\n",
       "194185  twingo         renault              2017\n",
       "...        ...             ...               ...\n",
       "352221     NaN  sonstige_autos              1970\n",
       "139429     NaN  sonstige_autos              1960\n",
       "124042     NaN  sonstige_autos              1958\n",
       "144388  kaefer      volkswagen              1910\n",
       "24458      NaN      volkswagen              1910\n",
       "\n",
       "[327 rows x 3 columns]"
      ]
     },
     "execution_count": 154,
     "metadata": {},
     "output_type": "execute_result"
    }
   ],
   "source": [
    "df[df['Price'] == 50][['Model', 'Brand', 'RegistrationYear']].sort_values(by='RegistrationYear', ascending=False)"
   ]
  },
  {
   "cell_type": "markdown",
   "metadata": {},
   "source": [
    "50 euro untuk ford fiesta tahun 2016 ?"
   ]
  },
  {
   "cell_type": "markdown",
   "metadata": {},
   "source": [
    "Pada kolom price terdapat 10772 baris atau sekitar 3% dari total baris pada kolom tersebut memiliki nilai 0."
   ]
  },
  {
   "cell_type": "code",
   "execution_count": 155,
   "metadata": {},
   "outputs": [
    {
     "data": {
      "image/png": "[encoded data removed]",
      "text/plain": [
       "<Figure size 720x432 with 1 Axes>"
      ]
     },
     "metadata": {
      "needs_background": "light"
     },
     "output_type": "display_data"
    }
   ],
   "source": [
    "plt.figure(figsize=(10,6))\n",
    "df.VehicleType.value_counts().plot(kind='bar');"
   ]
  },
  {
   "cell_type": "code",
   "execution_count": 156,
   "metadata": {},
   "outputs": [
    {
     "data": {
      "text/plain": [
       "2000    24490\n",
       "1999    22728\n",
       "2005    22109\n",
       "2001    20124\n",
       "2006    19900\n",
       "        ...  \n",
       "4100        1\n",
       "1200        1\n",
       "5300        1\n",
       "8888        1\n",
       "2290        1\n",
       "Name: RegistrationYear, Length: 151, dtype: int64"
      ]
     },
     "execution_count": 156,
     "metadata": {},
     "output_type": "execute_result"
    }
   ],
   "source": [
    "df.RegistrationYear.value_counts()"
   ]
  },
  {
   "cell_type": "code",
   "execution_count": 157,
   "metadata": {
    "scrolled": true
   },
   "outputs": [],
   "source": [
    "df['Price'] = df['Price'].astype(int)"
   ]
  },
  {
   "cell_type": "code",
   "execution_count": 158,
   "metadata": {
    "scrolled": true
   },
   "outputs": [
    {
     "data": {
      "image/png": "[encoded data removed]",
      "text/plain": [
       "<Figure size 720x432 with 1 Axes>"
      ]
     },
     "metadata": {
      "needs_background": "light"
     },
     "output_type": "display_data"
    }
   ],
   "source": [
    "plt.figure(figsize=(10,6))\n",
    "df.RegistrationYear.value_counts().plot(kind='line');"
   ]
  },
  {
   "cell_type": "code",
   "execution_count": 159,
   "metadata": {
    "scrolled": false
   },
   "outputs": [
    {
     "data": {
      "image/png": "[encoded data removed]",
      "text/plain": [
       "<Figure size 720x432 with 1 Axes>"
      ]
     },
     "metadata": {
      "needs_background": "light"
     },
     "output_type": "display_data"
    }
   ],
   "source": [
    "plt.figure(figsize=(10,6))\n",
    "sns.boxplot(data=df['RegistrationYear']);"
   ]
  },
  {
   "cell_type": "code",
   "execution_count": 160,
   "metadata": {},
   "outputs": [
    {
     "data": {
      "text/plain": [
       "count    354369.000000\n",
       "mean       2004.234448\n",
       "std          90.227958\n",
       "min        1000.000000\n",
       "25%        1999.000000\n",
       "50%        2003.000000\n",
       "75%        2008.000000\n",
       "max        9999.000000\n",
       "Name: RegistrationYear, dtype: float64"
      ]
     },
     "execution_count": 160,
     "metadata": {},
     "output_type": "execute_result"
    }
   ],
   "source": [
    "df.RegistrationYear.describe()"
   ]
  },
  {
   "cell_type": "code",
   "execution_count": 161,
   "metadata": {
    "scrolled": true
   },
   "outputs": [
    {
     "data": {
      "text/plain": [
       "354203"
      ]
     },
     "execution_count": 161,
     "metadata": {},
     "output_type": "execute_result"
    }
   ],
   "source": [
    "df[(df['RegistrationYear'] <= 2019) & (df['RegistrationYear'] >= 1800)]['RegistrationYear'].shape[0]"
   ]
  },
  {
   "cell_type": "code",
   "execution_count": 162,
   "metadata": {},
   "outputs": [
    {
     "data": {
      "text/plain": [
       "99.9531561733673"
      ]
     },
     "execution_count": 162,
     "metadata": {},
     "output_type": "execute_result"
    }
   ],
   "source": [
    "df[(df['RegistrationYear'] <= 2019) & (df['RegistrationYear'] >= 1800)]['RegistrationYear'].shape[0] / df.RegistrationYear.shape[0] *100"
   ]
  },
  {
   "cell_type": "code",
   "execution_count": 163,
   "metadata": {},
   "outputs": [
    {
     "data": {
      "text/plain": [
       "1800        5\n",
       "1910      101\n",
       "1915        1\n",
       "1919        1\n",
       "1920        1\n",
       "        ...  \n",
       "2015     1302\n",
       "2016     9599\n",
       "2017    10441\n",
       "2018     3959\n",
       "2019       25\n",
       "Name: RegistrationYear, Length: 99, dtype: int64"
      ]
     },
     "execution_count": 163,
     "metadata": {},
     "output_type": "execute_result"
    }
   ],
   "source": [
    "df[(df['RegistrationYear'] <= 2019) & (df['RegistrationYear'] >= 1800)]['RegistrationYear'].value_counts().sort_index()"
   ]
  },
  {
   "cell_type": "code",
   "execution_count": 164,
   "metadata": {},
   "outputs": [
    {
     "data": {
      "text/plain": [
       "count    354203.000000\n",
       "mean       2003.081922\n",
       "std           7.574892\n",
       "min        1800.000000\n",
       "25%        1999.000000\n",
       "50%        2003.000000\n",
       "75%        2008.000000\n",
       "max        2019.000000\n",
       "Name: RegistrationYear, dtype: float64"
      ]
     },
     "execution_count": 164,
     "metadata": {},
     "output_type": "execute_result"
    }
   ],
   "source": [
    "df[(df['RegistrationYear'] <= 2019) & (df['RegistrationYear'] >= 1800)]['RegistrationYear'].describe()"
   ]
  },
  {
   "cell_type": "markdown",
   "metadata": {},
   "source": [
    "Pada kolom registration year ada beberapa baris yang memiliki nilai diatas 2019 dan dibawah 1800 yaitu tahun sebelum mobil mulai populer."
   ]
  },
  {
   "cell_type": "code",
   "execution_count": 165,
   "metadata": {},
   "outputs": [
    {
     "data": {
      "text/plain": [
       "manual    268251\n",
       "auto       66285\n",
       "Name: Gearbox, dtype: int64"
      ]
     },
     "execution_count": 165,
     "metadata": {},
     "output_type": "execute_result"
    }
   ],
   "source": [
    "df.Gearbox.value_counts()"
   ]
  },
  {
   "cell_type": "code",
   "execution_count": 166,
   "metadata": {},
   "outputs": [
    {
     "data": {
      "text/plain": [
       "count    354369.000000\n",
       "mean        110.094337\n",
       "std         189.850405\n",
       "min           0.000000\n",
       "25%          69.000000\n",
       "50%         105.000000\n",
       "75%         143.000000\n",
       "max       20000.000000\n",
       "Name: Power, dtype: float64"
      ]
     },
     "execution_count": 166,
     "metadata": {},
     "output_type": "execute_result"
    }
   ],
   "source": [
    "df.Power.describe()"
   ]
  },
  {
   "cell_type": "code",
   "execution_count": 167,
   "metadata": {
    "scrolled": true
   },
   "outputs": [
    {
     "data": {
      "text/plain": [
       "0        11.351162\n",
       "75        6.779092\n",
       "60        4.486002\n",
       "150       4.117177\n",
       "101       3.752586\n",
       "           ...    \n",
       "323       0.000282\n",
       "3454      0.000282\n",
       "1056      0.000282\n",
       "13636     0.000282\n",
       "1158      0.000282\n",
       "Name: Power, Length: 712, dtype: float64"
      ]
     },
     "execution_count": 167,
     "metadata": {},
     "output_type": "execute_result"
    }
   ],
   "source": [
    "df.Power.value_counts(normalize=True)*100"
   ]
  },
  {
   "cell_type": "code",
   "execution_count": 168,
   "metadata": {
    "scrolled": false
   },
   "outputs": [
    {
     "data": {
      "image/png": "[encoded data removed]",
      "text/plain": [
       "<Figure size 720x432 with 1 Axes>"
      ]
     },
     "metadata": {
      "needs_background": "light"
     },
     "output_type": "display_data"
    }
   ],
   "source": [
    "plt.figure(figsize=(10,6))\n",
    "df.Power.value_counts().plot(kind='hist');"
   ]
  },
  {
   "cell_type": "code",
   "execution_count": 169,
   "metadata": {},
   "outputs": [
    {
     "data": {
      "image/png": "[encoded data removed]",
      "text/plain": [
       "<Figure size 720x432 with 1 Axes>"
      ]
     },
     "metadata": {
      "needs_background": "light"
     },
     "output_type": "display_data"
    }
   ],
   "source": [
    "plt.figure(figsize=(10,6))\n",
    "sns.boxplot(data=df['Power']);"
   ]
  },
  {
   "cell_type": "code",
   "execution_count": 170,
   "metadata": {},
   "outputs": [
    {
     "data": {
      "text/plain": [
       "(354369,)"
      ]
     },
     "execution_count": 170,
     "metadata": {},
     "output_type": "execute_result"
    }
   ],
   "source": [
    "df['Power'].shape"
   ]
  },
  {
   "cell_type": "code",
   "execution_count": 171,
   "metadata": {},
   "outputs": [
    {
     "data": {
      "text/plain": [
       "354264"
      ]
     },
     "execution_count": 171,
     "metadata": {},
     "output_type": "execute_result"
    }
   ],
   "source": [
    "df[df['RegistrationYear'] <= 2019]['RegistrationYear'].shape[0]"
   ]
  },
  {
   "cell_type": "code",
   "execution_count": 172,
   "metadata": {},
   "outputs": [
    {
     "data": {
      "text/plain": [
       "(314024,)"
      ]
     },
     "execution_count": 172,
     "metadata": {},
     "output_type": "execute_result"
    }
   ],
   "source": [
    "df[(df['Power'] <= 2000) & (df['Power'] > 0)]['Power'].shape"
   ]
  },
  {
   "cell_type": "code",
   "execution_count": 173,
   "metadata": {},
   "outputs": [
    {
     "data": {
      "text/plain": [
       "88.61497478616923"
      ]
     },
     "execution_count": 173,
     "metadata": {},
     "output_type": "execute_result"
    }
   ],
   "source": [
    "df[(df['Power'] <= 2000) & (df['Power'] > 0)]['Power'].shape[0] / df['Power'].shape[0] * 100"
   ]
  },
  {
   "cell_type": "markdown",
   "metadata": {},
   "source": [
    "Kolom power memiliki nilai maksimum 20000, jika satuan nilai untuk Power adalah hp (tenaga kuda) maka ada beberapa mobil dengan tenaga diatas 10000 hp sedangkan mobil dengan tenaga diatas 2000 hp sangat jarang ditemukan. Jumlah baris pada kolom power dengan nilai lebih kecil sama dengan 2000 dan lebih besar dari 0 sekitar 88.6%."
   ]
  },
  {
   "cell_type": "code",
   "execution_count": 174,
   "metadata": {},
   "outputs": [
    {
     "data": {
      "text/plain": [
       "golf                  29232\n",
       "other                 24421\n",
       "3er                   19761\n",
       "polo                  13066\n",
       "corsa                 12570\n",
       "                      ...  \n",
       "i3                        8\n",
       "rangerover                4\n",
       "serie_3                   4\n",
       "range_rover_evoque        2\n",
       "serie_1                   2\n",
       "Name: Model, Length: 250, dtype: int64"
      ]
     },
     "execution_count": 174,
     "metadata": {},
     "output_type": "execute_result"
    }
   ],
   "source": [
    "df.Model.value_counts()"
   ]
  },
  {
   "cell_type": "code",
   "execution_count": 175,
   "metadata": {},
   "outputs": [
    {
     "data": {
      "text/plain": [
       "250"
      ]
     },
     "execution_count": 175,
     "metadata": {},
     "output_type": "execute_result"
    }
   ],
   "source": [
    "df.Model.nunique()"
   ]
  },
  {
   "cell_type": "code",
   "execution_count": 176,
   "metadata": {},
   "outputs": [
    {
     "data": {
      "text/plain": [
       "array(['golf', nan, 'grand', 'fabia', '3er', '2_reihe', 'other', 'c_max',\n",
       "       '3_reihe', 'passat', 'navara', 'ka', 'polo', 'twingo', 'a_klasse',\n",
       "       'scirocco', '5er', 'meriva', 'arosa', 'c4', 'civic', 'transporter',\n",
       "       'punto', 'e_klasse', 'clio', 'kadett', 'kangoo', 'corsa', 'one',\n",
       "       'fortwo', '1er', 'b_klasse', 'signum', 'astra', 'a8', 'jetta',\n",
       "       'fiesta', 'c_klasse', 'micra', 'vito', 'sprinter', '156', 'escort',\n",
       "       'forester', 'xc_reihe', 'scenic', 'a4', 'a1', 'insignia', 'combo',\n",
       "       'focus', 'tt', 'a6', 'jazz', 'omega', 'slk', '7er', '80', '147',\n",
       "       '100', 'z_reihe', 'sportage', 'sorento', 'v40', 'ibiza', 'mustang',\n",
       "       'eos', 'touran', 'getz', 'a3', 'almera', 'megane', 'lupo', 'r19',\n",
       "       'zafira', 'caddy', 'mondeo', 'cordoba', 'colt', 'impreza',\n",
       "       'vectra', 'berlingo', 'tiguan', 'i_reihe', 'espace', 'sharan',\n",
       "       '6_reihe', 'panda', 'up', 'seicento', 'ceed', '5_reihe', 'yeti',\n",
       "       'octavia', 'mii', 'rx_reihe', '6er', 'modus', 'fox', 'matiz',\n",
       "       'beetle', 'c1', 'rio', 'touareg', 'logan', 'spider', 'cuore',\n",
       "       's_max', 'a2', 'galaxy', 'c3', 'viano', 's_klasse', '1_reihe',\n",
       "       'avensis', 'roomster', 'sl', 'kaefer', 'santa', 'cooper', 'leon',\n",
       "       '4_reihe', 'a5', '500', 'laguna', 'ptcruiser', 'clk', 'primera',\n",
       "       'x_reihe', 'exeo', '159', 'transit', 'juke', 'qashqai', 'carisma',\n",
       "       'accord', 'corolla', 'lanos', 'phaeton', 'verso', 'swift', 'rav',\n",
       "       'picanto', 'boxster', 'kalos', 'superb', 'stilo', 'alhambra',\n",
       "       'mx_reihe', 'roadster', 'ypsilon', 'cayenne', 'galant', 'justy',\n",
       "       '90', 'sirion', 'crossfire', 'agila', 'duster', 'cr_reihe', 'v50',\n",
       "       'c_reihe', 'v_klasse', 'm_klasse', 'yaris', 'c5', 'aygo', 'cc',\n",
       "       'carnival', 'fusion', '911', 'bora', 'forfour', 'm_reihe', 'cl',\n",
       "       'tigra', '300c', 'spark', 'v70', 'kuga', 'x_type', 'ducato',\n",
       "       's_type', 'x_trail', 'toledo', 'altea', 'voyager', 'calibra',\n",
       "       'bravo', 'antara', 'tucson', 'citigo', 'jimny', 'wrangler',\n",
       "       'lybra', 'q7', 'lancer', 'captiva', 'c2', 'discovery',\n",
       "       'freelander', 'sandero', 'note', '900', 'cherokee', 'clubman',\n",
       "       'samara', 'defender', '601', 'cx_reihe', 'legacy', 'pajero',\n",
       "       'auris', 'niva', 's60', 'nubira', 'vivaro', 'g_klasse', 'lodgy',\n",
       "       '850', 'range_rover', 'q3', 'serie_2', 'glk', 'charade', 'croma',\n",
       "       'outlander', 'doblo', 'musa', 'move', '9000', 'v60', '145', 'aveo',\n",
       "       '200', 'b_max', 'range_rover_sport', 'terios', 'rangerover', 'q5',\n",
       "       'range_rover_evoque', 'materia', 'delta', 'gl', 'kalina', 'amarok',\n",
       "       'elefantino', 'i3', 'kappa', 'serie_3', 'serie_1'], dtype=object)"
      ]
     },
     "execution_count": 176,
     "metadata": {},
     "output_type": "execute_result"
    }
   ],
   "source": [
    "df.Model.unique()"
   ]
  },
  {
   "cell_type": "code",
   "execution_count": 177,
   "metadata": {},
   "outputs": [
    {
     "data": {
      "text/plain": [
       "150000    238209\n",
       "125000     36454\n",
       "100000     14882\n",
       "90000      11567\n",
       "80000      10047\n",
       "70000       8593\n",
       "60000       7444\n",
       "5000        6397\n",
       "50000       6232\n",
       "40000       4911\n",
       "30000       4436\n",
       "20000       3975\n",
       "10000       1222\n",
       "Name: Mileage, dtype: int64"
      ]
     },
     "execution_count": 177,
     "metadata": {},
     "output_type": "execute_result"
    }
   ],
   "source": [
    "df.Mileage.value_counts()"
   ]
  },
  {
   "cell_type": "code",
   "execution_count": 178,
   "metadata": {},
   "outputs": [
    {
     "data": {
      "text/plain": [
       "count    354369.000000\n",
       "mean     128211.172535\n",
       "std       37905.341530\n",
       "min        5000.000000\n",
       "25%      125000.000000\n",
       "50%      150000.000000\n",
       "75%      150000.000000\n",
       "max      150000.000000\n",
       "Name: Mileage, dtype: float64"
      ]
     },
     "execution_count": 178,
     "metadata": {},
     "output_type": "execute_result"
    }
   ],
   "source": [
    "df.Mileage.describe()"
   ]
  },
  {
   "cell_type": "code",
   "execution_count": 179,
   "metadata": {},
   "outputs": [
    {
     "data": {
      "text/plain": [
       "0     37352\n",
       "3     34373\n",
       "6     31508\n",
       "4     29270\n",
       "5     29153\n",
       "7     27213\n",
       "10    26099\n",
       "12    24289\n",
       "11    24186\n",
       "9     23813\n",
       "1     23219\n",
       "8     22627\n",
       "2     21267\n",
       "Name: RegistrationMonth, dtype: int64"
      ]
     },
     "execution_count": 179,
     "metadata": {},
     "output_type": "execute_result"
    }
   ],
   "source": [
    "df.RegistrationMonth.value_counts()"
   ]
  },
  {
   "cell_type": "code",
   "execution_count": 180,
   "metadata": {},
   "outputs": [
    {
     "data": {
      "text/plain": [
       "10.540425375808832"
      ]
     },
     "execution_count": 180,
     "metadata": {},
     "output_type": "execute_result"
    }
   ],
   "source": [
    "df[df['RegistrationMonth'] == 0]['RegistrationMonth'].shape[0] / df['RegistrationMonth'].shape[0] *100"
   ]
  },
  {
   "cell_type": "markdown",
   "metadata": {},
   "source": [
    "Pada kolom registration month terdapat nilai 0 dengan komposisi sekitar 10.5% dari total data."
   ]
  },
  {
   "cell_type": "code",
   "execution_count": 181,
   "metadata": {},
   "outputs": [
    {
     "data": {
      "text/plain": [
       "petrol      216352\n",
       "gasoline     98720\n",
       "lpg           5310\n",
       "cng            565\n",
       "hybrid         233\n",
       "other          204\n",
       "electric        90\n",
       "Name: FuelType, dtype: int64"
      ]
     },
     "execution_count": 181,
     "metadata": {},
     "output_type": "execute_result"
    }
   ],
   "source": [
    "df.FuelType.value_counts()"
   ]
  },
  {
   "cell_type": "code",
   "execution_count": 182,
   "metadata": {
    "scrolled": true
   },
   "outputs": [
    {
     "data": {
      "text/plain": [
       "volkswagen        77013\n",
       "opel              39931\n",
       "bmw               36914\n",
       "mercedes_benz     32046\n",
       "audi              29456\n",
       "ford              25179\n",
       "renault           17927\n",
       "peugeot           10998\n",
       "fiat               9643\n",
       "seat               6907\n",
       "mazda              5615\n",
       "skoda              5500\n",
       "smart              5246\n",
       "citroen            5148\n",
       "nissan             4941\n",
       "toyota             4606\n",
       "hyundai            3587\n",
       "sonstige_autos     3374\n",
       "volvo              3210\n",
       "mini               3202\n",
       "mitsubishi         3022\n",
       "honda              2817\n",
       "kia                2465\n",
       "suzuki             2323\n",
       "alfa_romeo         2314\n",
       "chevrolet          1754\n",
       "chrysler           1439\n",
       "dacia               900\n",
       "daihatsu            806\n",
       "subaru              762\n",
       "porsche             758\n",
       "jeep                677\n",
       "trabant             589\n",
       "land_rover          545\n",
       "daewoo              542\n",
       "saab                526\n",
       "jaguar              505\n",
       "rover               486\n",
       "lancia              471\n",
       "lada                225\n",
       "Name: Brand, dtype: int64"
      ]
     },
     "execution_count": 182,
     "metadata": {},
     "output_type": "execute_result"
    }
   ],
   "source": [
    "df.Brand.value_counts()"
   ]
  },
  {
   "cell_type": "code",
   "execution_count": 183,
   "metadata": {
    "scrolled": true
   },
   "outputs": [
    {
     "data": {
      "text/plain": [
       "array(['volkswagen', 'audi', 'jeep', 'skoda', 'bmw', 'peugeot', 'ford',\n",
       "       'mazda', 'nissan', 'renault', 'mercedes_benz', 'opel', 'seat',\n",
       "       'citroen', 'honda', 'fiat', 'mini', 'smart', 'hyundai',\n",
       "       'sonstige_autos', 'alfa_romeo', 'subaru', 'volvo', 'mitsubishi',\n",
       "       'kia', 'suzuki', 'lancia', 'toyota', 'chevrolet', 'dacia',\n",
       "       'daihatsu', 'trabant', 'saab', 'chrysler', 'jaguar', 'daewoo',\n",
       "       'porsche', 'rover', 'land_rover', 'lada'], dtype=object)"
      ]
     },
     "execution_count": 183,
     "metadata": {},
     "output_type": "execute_result"
    }
   ],
   "source": [
    "df.Brand.unique()"
   ]
  },
  {
   "cell_type": "code",
   "execution_count": 184,
   "metadata": {},
   "outputs": [
    {
     "data": {
      "text/plain": [
       "40"
      ]
     },
     "execution_count": 184,
     "metadata": {},
     "output_type": "execute_result"
    }
   ],
   "source": [
    "df.Brand.nunique()"
   ]
  },
  {
   "cell_type": "code",
   "execution_count": 185,
   "metadata": {},
   "outputs": [
    {
     "data": {
      "text/plain": [
       "no     247161\n",
       "yes     36054\n",
       "Name: NotRepaired, dtype: int64"
      ]
     },
     "execution_count": 185,
     "metadata": {},
     "output_type": "execute_result"
    }
   ],
   "source": [
    "df.NotRepaired.value_counts()"
   ]
  },
  {
   "cell_type": "code",
   "execution_count": 186,
   "metadata": {},
   "outputs": [
    {
     "data": {
      "text/plain": [
       "03/04/2016 00:00    13719\n",
       "04/04/2016 00:00    13317\n",
       "20/03/2016 00:00    12918\n",
       "12/03/2016 00:00    12840\n",
       "21/03/2016 00:00    12691\n",
       "                    ...  \n",
       "27/12/2015 00:00        1\n",
       "03/01/2016 00:00        1\n",
       "12/11/2015 00:00        1\n",
       "02/11/2015 00:00        1\n",
       "09/09/2015 00:00        1\n",
       "Name: DateCreated, Length: 109, dtype: int64"
      ]
     },
     "execution_count": 186,
     "metadata": {},
     "output_type": "execute_result"
    }
   ],
   "source": [
    "df.DateCreated.value_counts()"
   ]
  },
  {
   "cell_type": "code",
   "execution_count": 187,
   "metadata": {},
   "outputs": [
    {
     "data": {
      "image/png": "[encoded data removed]",
      "text/plain": [
       "<Figure size 1440x432 with 1 Axes>"
      ]
     },
     "metadata": {
      "needs_background": "light"
     },
     "output_type": "display_data"
    }
   ],
   "source": [
    "plt.figure(figsize=(20,6))\n",
    "df.DateCrawled.value_counts().sort_index(ascending=False).plot(x='DateCrawled');"
   ]
  },
  {
   "cell_type": "code",
   "execution_count": 188,
   "metadata": {},
   "outputs": [
    {
     "data": {
      "text/plain": [
       "0    354369\n",
       "Name: NumberOfPictures, dtype: int64"
      ]
     },
     "execution_count": 188,
     "metadata": {},
     "output_type": "execute_result"
    }
   ],
   "source": [
    "df.NumberOfPictures.value_counts()"
   ]
  },
  {
   "cell_type": "code",
   "execution_count": 189,
   "metadata": {},
   "outputs": [
    {
     "data": {
      "text/plain": [
       "10115    819\n",
       "65428    613\n",
       "66333    343\n",
       "32257    317\n",
       "44145    317\n",
       "        ... \n",
       "21782      1\n",
       "9517       1\n",
       "29367      1\n",
       "38325      1\n",
       "82404      1\n",
       "Name: PostalCode, Length: 8143, dtype: int64"
      ]
     },
     "execution_count": 189,
     "metadata": {},
     "output_type": "execute_result"
    }
   ],
   "source": [
    "df.PostalCode.value_counts()"
   ]
  },
  {
   "cell_type": "code",
   "execution_count": 190,
   "metadata": {
    "scrolled": true
   },
   "outputs": [
    {
     "data": {
      "text/plain": [
       "8143"
      ]
     },
     "execution_count": 190,
     "metadata": {},
     "output_type": "execute_result"
    }
   ],
   "source": [
    "df.PostalCode.nunique()"
   ]
  },
  {
   "cell_type": "code",
   "execution_count": 191,
   "metadata": {},
   "outputs": [
    {
     "data": {
      "text/plain": [
       "07/04/2016 07:16    654\n",
       "07/04/2016 06:45    646\n",
       "06/04/2016 09:17    641\n",
       "07/04/2016 05:45    640\n",
       "06/04/2016 04:45    640\n",
       "                   ... \n",
       "24/03/2016 17:12      1\n",
       "07/03/2016 09:51      1\n",
       "08/03/2016 13:53      1\n",
       "28/03/2016 01:32      1\n",
       "15/03/2016 17:31      1\n",
       "Name: LastSeen, Length: 18592, dtype: int64"
      ]
     },
     "execution_count": 191,
     "metadata": {},
     "output_type": "execute_result"
    }
   ],
   "source": [
    "df.LastSeen.value_counts()"
   ]
  },
  {
   "cell_type": "code",
   "execution_count": 192,
   "metadata": {},
   "outputs": [
    {
     "data": {
      "image/png": "[encoded data removed]",
      "text/plain": [
       "<Figure size 1440x432 with 1 Axes>"
      ]
     },
     "metadata": {
      "needs_background": "light"
     },
     "output_type": "display_data"
    }
   ],
   "source": [
    "plt.figure(figsize=(20,6))\n",
    "df.DateCrawled.value_counts().sort_index(ascending=False).plot(x='DateCrawled');"
   ]
  },
  {
   "cell_type": "code",
   "execution_count": 193,
   "metadata": {},
   "outputs": [
    {
     "name": "stdout",
     "output_type": "stream",
     "text": [
      "<class 'pandas.core.frame.DataFrame'>\n",
      "RangeIndex: 354369 entries, 0 to 354368\n",
      "Data columns (total 16 columns):\n",
      " #   Column             Non-Null Count   Dtype \n",
      "---  ------             --------------   ----- \n",
      " 0   DateCrawled        354369 non-null  object\n",
      " 1   Price              354369 non-null  int64 \n",
      " 2   VehicleType        316879 non-null  object\n",
      " 3   RegistrationYear   354369 non-null  int64 \n",
      " 4   Gearbox            334536 non-null  object\n",
      " 5   Power              354369 non-null  int64 \n",
      " 6   Model              334664 non-null  object\n",
      " 7   Mileage            354369 non-null  int64 \n",
      " 8   RegistrationMonth  354369 non-null  int64 \n",
      " 9   FuelType           321474 non-null  object\n",
      " 10  Brand              354369 non-null  object\n",
      " 11  NotRepaired        283215 non-null  object\n",
      " 12  DateCreated        354369 non-null  object\n",
      " 13  NumberOfPictures   354369 non-null  int64 \n",
      " 14  PostalCode         354369 non-null  int64 \n",
      " 15  LastSeen           354369 non-null  object\n",
      "dtypes: int64(7), object(9)\n",
      "memory usage: 43.3+ MB\n"
     ]
    }
   ],
   "source": [
    "df.info()"
   ]
  },
  {
   "cell_type": "markdown",
   "metadata": {},
   "source": [
    "- Kolom DateCrawled, DateCreated, dan Last seen dapat diubah menjadi datetime.\n",
    "- Terdapat beberapa nilai yang hilang dengan persentase yang cukup besar sekitar 20% pada kolom notrepaired.\n",
    "- Terdapat beberapa kolom dengan nilai minimum dan maksimum yang mengandung anomali.\n",
    "- Kolom NumberofPictures tidak memiliki info yang berarti."
   ]
  },
  {
   "cell_type": "markdown",
   "metadata": {},
   "source": [
    "<div class=\"alert alert-success\">\n",
    "<b>Code Reviewers's comment v.1</b> <a class=\"tocSkip\"></a>\n",
    "\n",
    "Bagus, code yang dijalankan sudah sesuai dengan instruksi dari project.\n",
    "\n",
    "</div>"
   ]
  },
  {
   "cell_type": "markdown",
   "metadata": {},
   "source": [
    "## Pra- Pemrosesan Model"
   ]
  },
  {
   "cell_type": "markdown",
   "metadata": {},
   "source": [
    "### Nilai yang Hilang"
   ]
  },
  {
   "cell_type": "code",
   "execution_count": 194,
   "metadata": {
    "scrolled": true
   },
   "outputs": [
    {
     "data": {
      "text/plain": [
       "DateCrawled           0.000000\n",
       "Price                 0.000000\n",
       "VehicleType          10.579368\n",
       "RegistrationYear      0.000000\n",
       "Gearbox               5.596709\n",
       "Power                 0.000000\n",
       "Model                 5.560588\n",
       "Mileage               0.000000\n",
       "RegistrationMonth     0.000000\n",
       "FuelType              9.282697\n",
       "Brand                 0.000000\n",
       "NotRepaired          20.079070\n",
       "DateCreated           0.000000\n",
       "NumberOfPictures      0.000000\n",
       "PostalCode            0.000000\n",
       "LastSeen              0.000000\n",
       "dtype: float64"
      ]
     },
     "execution_count": 194,
     "metadata": {},
     "output_type": "execute_result"
    }
   ],
   "source": [
    "df.isna().sum() / len(df) * 100"
   ]
  },
  {
   "cell_type": "markdown",
   "metadata": {},
   "source": [
    "Kita akan mengisi nilai yang hilang pada beberapa kolom dengan asumsi baris tersebut memiliki nilai yang sama atau mirip dengan kolom lainya."
   ]
  },
  {
   "cell_type": "markdown",
   "metadata": {},
   "source": [
    "Untuk kolom notrepaired diasumsikan default untuk jawannya adalah no."
   ]
  },
  {
   "cell_type": "code",
   "execution_count": 195,
   "metadata": {},
   "outputs": [],
   "source": [
    "df['NotRepaired'] = df['NotRepaired'].fillna('no')"
   ]
  },
  {
   "cell_type": "code",
   "execution_count": 196,
   "metadata": {},
   "outputs": [],
   "source": [
    "df['Model'] = df.groupby(['Brand','RegistrationYear'])['Model'].transform(lambda x: x.fillna((x.mode()[0] if not x.mode().empty else \"Empty\")))"
   ]
  },
  {
   "cell_type": "code",
   "execution_count": 197,
   "metadata": {},
   "outputs": [],
   "source": [
    "df['VehicleType'] = df.groupby(['Brand','Model'])['VehicleType'].transform(lambda x: x.fillna((x.mode()[0] if not x.mode().empty else \"Empty\")))"
   ]
  },
  {
   "cell_type": "code",
   "execution_count": 198,
   "metadata": {},
   "outputs": [],
   "source": [
    "df['FuelType'] = df.groupby(['Brand','Model'])['FuelType'].transform(lambda x: x.fillna((x.mode()[0] if not x.mode().empty else \"Empty\")))"
   ]
  },
  {
   "cell_type": "code",
   "execution_count": 199,
   "metadata": {},
   "outputs": [],
   "source": [
    "df['Gearbox'] = df.groupby(['Brand','RegistrationYear'])['Gearbox'].transform(lambda x: x.fillna((x.mode()[0] if not x.mode().empty else \"Empty\")))"
   ]
  },
  {
   "cell_type": "code",
   "execution_count": 200,
   "metadata": {},
   "outputs": [],
   "source": [
    "df = df.replace('Empty',np.nan)"
   ]
  },
  {
   "cell_type": "code",
   "execution_count": 201,
   "metadata": {},
   "outputs": [
    {
     "data": {
      "text/plain": [
       "DateCrawled          0.000000\n",
       "Price                0.000000\n",
       "VehicleType          0.007055\n",
       "RegistrationYear     0.000000\n",
       "Gearbox              0.058414\n",
       "Power                0.000000\n",
       "Model                0.971304\n",
       "Mileage              0.000000\n",
       "RegistrationMonth    0.000000\n",
       "FuelType             0.003951\n",
       "Brand                0.000000\n",
       "NotRepaired          0.000000\n",
       "DateCreated          0.000000\n",
       "NumberOfPictures     0.000000\n",
       "PostalCode           0.000000\n",
       "LastSeen             0.000000\n",
       "dtype: float64"
      ]
     },
     "execution_count": 201,
     "metadata": {},
     "output_type": "execute_result"
    }
   ],
   "source": [
    "df.isna().sum() / len(df) * 100"
   ]
  },
  {
   "cell_type": "markdown",
   "metadata": {},
   "source": [
    "Ada beberapa baris nilai yang hilang yang masih tersisa, karena jumlahnya dibawah 1 persen makan akan di- drop."
   ]
  },
  {
   "cell_type": "code",
   "execution_count": 202,
   "metadata": {},
   "outputs": [],
   "source": [
    "df = df.dropna().reset_index(drop=True)"
   ]
  },
  {
   "cell_type": "code",
   "execution_count": 203,
   "metadata": {
    "scrolled": true
   },
   "outputs": [
    {
     "data": {
      "text/plain": [
       "DateCrawled          0.0\n",
       "Price                0.0\n",
       "VehicleType          0.0\n",
       "RegistrationYear     0.0\n",
       "Gearbox              0.0\n",
       "Power                0.0\n",
       "Model                0.0\n",
       "Mileage              0.0\n",
       "RegistrationMonth    0.0\n",
       "FuelType             0.0\n",
       "Brand                0.0\n",
       "NotRepaired          0.0\n",
       "DateCreated          0.0\n",
       "NumberOfPictures     0.0\n",
       "PostalCode           0.0\n",
       "LastSeen             0.0\n",
       "dtype: float64"
      ]
     },
     "execution_count": 203,
     "metadata": {},
     "output_type": "execute_result"
    }
   ],
   "source": [
    "df.isna().sum() / len(df) * 100"
   ]
  },
  {
   "cell_type": "code",
   "execution_count": 204,
   "metadata": {
    "scrolled": true
   },
   "outputs": [
    {
     "data": {
      "text/plain": [
       "305"
      ]
     },
     "execution_count": 204,
     "metadata": {},
     "output_type": "execute_result"
    }
   ],
   "source": [
    "df.duplicated().sum()"
   ]
  },
  {
   "cell_type": "code",
   "execution_count": 205,
   "metadata": {},
   "outputs": [],
   "source": [
    "df = df.drop_duplicates().reset_index(drop=True)"
   ]
  },
  {
   "cell_type": "code",
   "execution_count": 206,
   "metadata": {},
   "outputs": [
    {
     "data": {
      "text/plain": [
       "0"
      ]
     },
     "execution_count": 206,
     "metadata": {},
     "output_type": "execute_result"
    }
   ],
   "source": [
    "df.duplicated().sum()"
   ]
  },
  {
   "cell_type": "code",
   "execution_count": 207,
   "metadata": {
    "scrolled": false
   },
   "outputs": [
    {
     "name": "stdout",
     "output_type": "stream",
     "text": [
      "<class 'pandas.core.frame.DataFrame'>\n",
      "RangeIndex: 350486 entries, 0 to 350485\n",
      "Data columns (total 16 columns):\n",
      " #   Column             Non-Null Count   Dtype \n",
      "---  ------             --------------   ----- \n",
      " 0   DateCrawled        350486 non-null  object\n",
      " 1   Price              350486 non-null  int64 \n",
      " 2   VehicleType        350486 non-null  object\n",
      " 3   RegistrationYear   350486 non-null  int64 \n",
      " 4   Gearbox            350486 non-null  object\n",
      " 5   Power              350486 non-null  int64 \n",
      " 6   Model              350486 non-null  object\n",
      " 7   Mileage            350486 non-null  int64 \n",
      " 8   RegistrationMonth  350486 non-null  int64 \n",
      " 9   FuelType           350486 non-null  object\n",
      " 10  Brand              350486 non-null  object\n",
      " 11  NotRepaired        350486 non-null  object\n",
      " 12  DateCreated        350486 non-null  object\n",
      " 13  NumberOfPictures   350486 non-null  int64 \n",
      " 14  PostalCode         350486 non-null  int64 \n",
      " 15  LastSeen           350486 non-null  object\n",
      "dtypes: int64(7), object(9)\n",
      "memory usage: 42.8+ MB\n"
     ]
    }
   ],
   "source": [
    "df.info()"
   ]
  },
  {
   "cell_type": "code",
   "execution_count": 208,
   "metadata": {},
   "outputs": [
    {
     "data": {
      "text/html": [
       "<div>\n",
       "<style scoped>\n",
       "    .dataframe tbody tr th:only-of-type {\n",
       "        vertical-align: middle;\n",
       "    }\n",
       "\n",
       "    .dataframe tbody tr th {\n",
       "        vertical-align: top;\n",
       "    }\n",
       "\n",
       "    .dataframe thead th {\n",
       "        text-align: right;\n",
       "    }\n",
       "</style>\n",
       "<table border=\"1\" class=\"dataframe\">\n",
       "  <thead>\n",
       "    <tr style=\"text-align: right;\">\n",
       "      <th></th>\n",
       "      <th>Price</th>\n",
       "      <th>RegistrationYear</th>\n",
       "      <th>Power</th>\n",
       "      <th>Mileage</th>\n",
       "      <th>RegistrationMonth</th>\n",
       "      <th>NumberOfPictures</th>\n",
       "      <th>PostalCode</th>\n",
       "    </tr>\n",
       "  </thead>\n",
       "  <tbody>\n",
       "    <tr>\n",
       "      <th>count</th>\n",
       "      <td>350486.000000</td>\n",
       "      <td>350486.000000</td>\n",
       "      <td>350486.000000</td>\n",
       "      <td>350486.000000</td>\n",
       "      <td>350486.000000</td>\n",
       "      <td>350486.0</td>\n",
       "      <td>350486.000000</td>\n",
       "    </tr>\n",
       "    <tr>\n",
       "      <th>mean</th>\n",
       "      <td>4411.387861</td>\n",
       "      <td>2003.380226</td>\n",
       "      <td>110.280724</td>\n",
       "      <td>128626.464395</td>\n",
       "      <td>5.730072</td>\n",
       "      <td>0.0</td>\n",
       "      <td>50540.341643</td>\n",
       "    </tr>\n",
       "    <tr>\n",
       "      <th>std</th>\n",
       "      <td>4503.197311</td>\n",
       "      <td>31.738697</td>\n",
       "      <td>188.902257</td>\n",
       "      <td>37400.354720</td>\n",
       "      <td>3.721096</td>\n",
       "      <td>0.0</td>\n",
       "      <td>25763.127409</td>\n",
       "    </tr>\n",
       "    <tr>\n",
       "      <th>min</th>\n",
       "      <td>0.000000</td>\n",
       "      <td>1000.000000</td>\n",
       "      <td>0.000000</td>\n",
       "      <td>5000.000000</td>\n",
       "      <td>0.000000</td>\n",
       "      <td>0.0</td>\n",
       "      <td>1067.000000</td>\n",
       "    </tr>\n",
       "    <tr>\n",
       "      <th>25%</th>\n",
       "      <td>1099.000000</td>\n",
       "      <td>1999.000000</td>\n",
       "      <td>69.000000</td>\n",
       "      <td>125000.000000</td>\n",
       "      <td>3.000000</td>\n",
       "      <td>0.0</td>\n",
       "      <td>30169.000000</td>\n",
       "    </tr>\n",
       "    <tr>\n",
       "      <th>50%</th>\n",
       "      <td>2700.000000</td>\n",
       "      <td>2003.000000</td>\n",
       "      <td>105.000000</td>\n",
       "      <td>150000.000000</td>\n",
       "      <td>6.000000</td>\n",
       "      <td>0.0</td>\n",
       "      <td>49429.000000</td>\n",
       "    </tr>\n",
       "    <tr>\n",
       "      <th>75%</th>\n",
       "      <td>6399.000000</td>\n",
       "      <td>2008.000000</td>\n",
       "      <td>143.000000</td>\n",
       "      <td>150000.000000</td>\n",
       "      <td>9.000000</td>\n",
       "      <td>0.0</td>\n",
       "      <td>71088.000000</td>\n",
       "    </tr>\n",
       "    <tr>\n",
       "      <th>max</th>\n",
       "      <td>20000.000000</td>\n",
       "      <td>9000.000000</td>\n",
       "      <td>20000.000000</td>\n",
       "      <td>150000.000000</td>\n",
       "      <td>12.000000</td>\n",
       "      <td>0.0</td>\n",
       "      <td>99998.000000</td>\n",
       "    </tr>\n",
       "  </tbody>\n",
       "</table>\n",
       "</div>"
      ],
      "text/plain": [
       "               Price  RegistrationYear          Power        Mileage  \\\n",
       "count  350486.000000     350486.000000  350486.000000  350486.000000   \n",
       "mean     4411.387861       2003.380226     110.280724  128626.464395   \n",
       "std      4503.197311         31.738697     188.902257   37400.354720   \n",
       "min         0.000000       1000.000000       0.000000    5000.000000   \n",
       "25%      1099.000000       1999.000000      69.000000  125000.000000   \n",
       "50%      2700.000000       2003.000000     105.000000  150000.000000   \n",
       "75%      6399.000000       2008.000000     143.000000  150000.000000   \n",
       "max     20000.000000       9000.000000   20000.000000  150000.000000   \n",
       "\n",
       "       RegistrationMonth  NumberOfPictures     PostalCode  \n",
       "count      350486.000000          350486.0  350486.000000  \n",
       "mean            5.730072               0.0   50540.341643  \n",
       "std             3.721096               0.0   25763.127409  \n",
       "min             0.000000               0.0    1067.000000  \n",
       "25%             3.000000               0.0   30169.000000  \n",
       "50%             6.000000               0.0   49429.000000  \n",
       "75%             9.000000               0.0   71088.000000  \n",
       "max            12.000000               0.0   99998.000000  "
      ]
     },
     "execution_count": 208,
     "metadata": {},
     "output_type": "execute_result"
    }
   ],
   "source": [
    "df.describe()"
   ]
  },
  {
   "cell_type": "code",
   "execution_count": 209,
   "metadata": {},
   "outputs": [
    {
     "data": {
      "text/plain": [
       "98.90424952521242"
      ]
     },
     "execution_count": 209,
     "metadata": {},
     "output_type": "execute_result"
    }
   ],
   "source": [
    "len(df) / 354369 * 100"
   ]
  },
  {
   "cell_type": "markdown",
   "metadata": {},
   "source": [
    "Setelah dilakukan pemrosesan pada data, data yang tersisa sekitar 98.9% dari total data sebelumnya."
   ]
  },
  {
   "cell_type": "markdown",
   "metadata": {},
   "source": [
    "<div class=\"alert alert-success\">\n",
    "<b>Code Reviewers's comment v.1</b> <a class=\"tocSkip\"></a>\n",
    "\n",
    "Bagus, code yang dijalankan sudah sesuai dengan instruksi dari project.\n",
    "\n",
    "</div>"
   ]
  },
  {
   "cell_type": "markdown",
   "metadata": {},
   "source": [
    "### Nilai Anomali"
   ]
  },
  {
   "cell_type": "markdown",
   "metadata": {},
   "source": [
    "Terdapat beberapa nilai anomali pada kolom price, power, registration year, dan registration month."
   ]
  },
  {
   "cell_type": "code",
   "execution_count": 210,
   "metadata": {},
   "outputs": [
    {
     "data": {
      "image/png": "[encoded data removed]",
      "text/plain": [
       "<Figure size 720x432 with 1 Axes>"
      ]
     },
     "metadata": {
      "needs_background": "light"
     },
     "output_type": "display_data"
    }
   ],
   "source": [
    "plt.figure(figsize=(10,6))\n",
    "df['Price'].hist();"
   ]
  },
  {
   "cell_type": "code",
   "execution_count": 211,
   "metadata": {
    "scrolled": false
   },
   "outputs": [
    {
     "data": {
      "image/png": "[encoded data removed]",
      "text/plain": [
       "<Figure size 720x432 with 1 Axes>"
      ]
     },
     "metadata": {
      "needs_background": "light"
     },
     "output_type": "display_data"
    }
   ],
   "source": [
    "plt.figure(figsize=(10,6))\n",
    "df[df['Price'] < 100]['Price'].hist();"
   ]
  },
  {
   "cell_type": "code",
   "execution_count": 212,
   "metadata": {},
   "outputs": [
    {
     "data": {
      "text/plain": [
       "3.5861632133665826"
      ]
     },
     "execution_count": 212,
     "metadata": {},
     "output_type": "execute_result"
    }
   ],
   "source": [
    "df[df['Price'] < 100]['Price'].shape[0] / len(df) * 100"
   ]
  },
  {
   "cell_type": "markdown",
   "metadata": {},
   "source": [
    "Ada 3% data dengan harga mobil dibawah 100 euro."
   ]
  },
  {
   "cell_type": "code",
   "execution_count": 213,
   "metadata": {},
   "outputs": [],
   "source": [
    "df = df[df['Price'] >= 100]"
   ]
  },
  {
   "cell_type": "markdown",
   "metadata": {},
   "source": [
    "Diasumsikan harga mobil termurah 100 euro, maka kita mengambil nilan lebih besar sama dengan 100 untuk kolom price, karena jumlah data dengan harga dibawah 100 euro hanya 3% ."
   ]
  },
  {
   "cell_type": "code",
   "execution_count": 214,
   "metadata": {},
   "outputs": [
    {
     "data": {
      "text/plain": [
       "count    337917.000000\n",
       "mean       2003.439608\n",
       "std          25.956405\n",
       "min        1000.000000\n",
       "25%        1999.000000\n",
       "50%        2003.000000\n",
       "75%        2008.000000\n",
       "max        8200.000000\n",
       "Name: RegistrationYear, dtype: float64"
      ]
     },
     "execution_count": 214,
     "metadata": {},
     "output_type": "execute_result"
    }
   ],
   "source": [
    "df.RegistrationYear.describe()"
   ]
  },
  {
   "cell_type": "code",
   "execution_count": 215,
   "metadata": {},
   "outputs": [
    {
     "data": {
      "text/plain": [
       "99.99171394158921"
      ]
     },
     "execution_count": 215,
     "metadata": {},
     "output_type": "execute_result"
    }
   ],
   "source": [
    "(df[(df['RegistrationYear'] <= 2019) & (df['RegistrationYear'] >= 1800)]['RegistrationYear'].shape[0] / len(df) *100)"
   ]
  },
  {
   "cell_type": "code",
   "execution_count": 216,
   "metadata": {},
   "outputs": [],
   "source": [
    "df = df[(df['RegistrationYear'] <= 2019) & (df['RegistrationYear'] >= 1800)]"
   ]
  },
  {
   "cell_type": "markdown",
   "metadata": {},
   "source": [
    "Pada kolom registration year diasumsikan tahun yang diambil dari 1800- 2019, karena jumlahnya cukup kecil dan mobil dengan tahun diatas 2023 terlihat tidak masuk akal sedangkan mobil dibawah tahun 1800 tidak terlihat representatif."
   ]
  },
  {
   "cell_type": "code",
   "execution_count": 217,
   "metadata": {
    "scrolled": false
   },
   "outputs": [
    {
     "data": {
      "image/png": "[encoded data removed]",
      "text/plain": [
       "<Figure size 720x432 with 1 Axes>"
      ]
     },
     "metadata": {
      "needs_background": "light"
     },
     "output_type": "display_data"
    }
   ],
   "source": [
    "plt.figure(figsize=(10,6))\n",
    "df['Power'].value_counts().hist();"
   ]
  },
  {
   "cell_type": "code",
   "execution_count": 218,
   "metadata": {
    "scrolled": false
   },
   "outputs": [
    {
     "data": {
      "image/png": "[encoded data removed]",
      "text/plain": [
       "<Figure size 720x432 with 1 Axes>"
      ]
     },
     "metadata": {
      "needs_background": "light"
     },
     "output_type": "display_data"
    }
   ],
   "source": [
    "plt.figure(figsize=(10,6))\n",
    "df[df['Power'] < 100]['Power'].hist();"
   ]
  },
  {
   "cell_type": "code",
   "execution_count": 219,
   "metadata": {
    "scrolled": false
   },
   "outputs": [
    {
     "data": {
      "image/png": "[encoded data removed]",
      "text/plain": [
       "<Figure size 720x432 with 1 Axes>"
      ]
     },
     "metadata": {
      "needs_background": "light"
     },
     "output_type": "display_data"
    }
   ],
   "source": [
    "plt.figure(figsize=(10,6))\n",
    "df[df['Power'] > 2000]['Power'].hist();"
   ]
  },
  {
   "cell_type": "code",
   "execution_count": 220,
   "metadata": {},
   "outputs": [
    {
     "data": {
      "text/plain": [
       "0.032259114679672914"
      ]
     },
     "execution_count": 220,
     "metadata": {},
     "output_type": "execute_result"
    }
   ],
   "source": [
    "df[(df['Power'] > 2000)].shape[0] / len(df) * 100"
   ]
  },
  {
   "cell_type": "code",
   "execution_count": 221,
   "metadata": {},
   "outputs": [
    {
     "data": {
      "text/plain": [
       "42.596829136195616"
      ]
     },
     "execution_count": 221,
     "metadata": {},
     "output_type": "execute_result"
    }
   ],
   "source": [
    "df[(df['Power'] < 100)].shape[0] / len(df) * 100"
   ]
  },
  {
   "cell_type": "code",
   "execution_count": 222,
   "metadata": {},
   "outputs": [
    {
     "data": {
      "text/plain": [
       "10.102134132806928"
      ]
     },
     "execution_count": 222,
     "metadata": {},
     "output_type": "execute_result"
    }
   ],
   "source": [
    "df[(df['Power'] == 0)].shape[0] / len(df) * 100"
   ]
  },
  {
   "cell_type": "code",
   "execution_count": 223,
   "metadata": {
    "scrolled": true
   },
   "outputs": [
    {
     "data": {
      "text/plain": [
       "57.37091174912471"
      ]
     },
     "execution_count": 223,
     "metadata": {},
     "output_type": "execute_result"
    }
   ],
   "source": [
    "df[(df['Power'] <= 2000) & (df['Power'] >= 100)]['Power'].shape[0] / df['Power'].shape[0] * 100"
   ]
  },
  {
   "cell_type": "code",
   "execution_count": 224,
   "metadata": {},
   "outputs": [],
   "source": [
    "df = df[(df['Power'] <= 2000)]"
   ]
  },
  {
   "cell_type": "markdown",
   "metadata": {},
   "source": [
    "Tenaga atau power pada mobil berdasarkan research google dan chatgpt maksimum sekitar 2000 hp. Ada beberapa mobil dengan tenaga dibawah 100 pada data dan mayoritas memiliki tenaga 0 hp."
   ]
  },
  {
   "cell_type": "code",
   "execution_count": 225,
   "metadata": {},
   "outputs": [],
   "source": [
    "df_tmp = df[df['Power'] == 0]"
   ]
  },
  {
   "cell_type": "code",
   "execution_count": 226,
   "metadata": {},
   "outputs": [
    {
     "name": "stderr",
     "output_type": "stream",
     "text": [
      "/tmp/ipykernel_149/614652097.py:1: SettingWithCopyWarning: \n",
      "A value is trying to be set on a copy of a slice from a DataFrame.\n",
      "Try using .loc[row_indexer,col_indexer] = value instead\n",
      "\n",
      "See the caveats in the documentation: https://pandas.pydata.org/pandas-docs/stable/user_guide/indexing.html#returning-a-view-versus-a-copy\n",
      "  df_tmp['modyear'] = list(zip(df_tmp['Model'], df_tmp['RegistrationYear']))\n"
     ]
    }
   ],
   "source": [
    "df_tmp['modyear'] = list(zip(df_tmp['Model'], df_tmp['RegistrationYear']))"
   ]
  },
  {
   "cell_type": "code",
   "execution_count": 227,
   "metadata": {},
   "outputs": [
    {
     "data": {
      "text/plain": [
       "5066"
      ]
     },
     "execution_count": 227,
     "metadata": {},
     "output_type": "execute_result"
    }
   ],
   "source": [
    "dict_power = df.groupby(['Model', 'RegistrationYear'])['Power'].agg(lambda x: x.value_counts().index[0]).to_dict()\n",
    "len(dict_power)"
   ]
  },
  {
   "cell_type": "code",
   "execution_count": 228,
   "metadata": {},
   "outputs": [
    {
     "name": "stderr",
     "output_type": "stream",
     "text": [
      "/tmp/ipykernel_149/3067235599.py:1: SettingWithCopyWarning: \n",
      "A value is trying to be set on a copy of a slice from a DataFrame.\n",
      "Try using .loc[row_indexer,col_indexer] = value instead\n",
      "\n",
      "See the caveats in the documentation: https://pandas.pydata.org/pandas-docs/stable/user_guide/indexing.html#returning-a-view-versus-a-copy\n",
      "  df_tmp['Power'] = df_tmp['modyear'].map(dict_power)\n"
     ]
    }
   ],
   "source": [
    "df_tmp['Power'] = df_tmp['modyear'].map(dict_power)"
   ]
  },
  {
   "cell_type": "code",
   "execution_count": 229,
   "metadata": {
    "scrolled": false
   },
   "outputs": [
    {
     "data": {
      "text/plain": [
       "0      9173\n",
       "18       14\n",
       "26       61\n",
       "34       21\n",
       "39        2\n",
       "       ... \n",
       "343       6\n",
       "371       1\n",
       "387       1\n",
       "400       1\n",
       "500       1\n",
       "Name: Power, Length: 156, dtype: int64"
      ]
     },
     "execution_count": 229,
     "metadata": {},
     "output_type": "execute_result"
    }
   ],
   "source": [
    "df_tmp['Power'].value_counts().sort_index()"
   ]
  },
  {
   "cell_type": "code",
   "execution_count": 230,
   "metadata": {
    "scrolled": true
   },
   "outputs": [
    {
     "data": {
      "text/plain": [
       "2.7156729232044525"
      ]
     },
     "execution_count": 230,
     "metadata": {},
     "output_type": "execute_result"
    }
   ],
   "source": [
    "9173 / len(df) *100"
   ]
  },
  {
   "cell_type": "code",
   "execution_count": 231,
   "metadata": {},
   "outputs": [],
   "source": [
    "df.loc[df['Power'] == 0, 'Power'] = df_tmp['Power']"
   ]
  },
  {
   "cell_type": "code",
   "execution_count": 232,
   "metadata": {},
   "outputs": [
    {
     "data": {
      "text/plain": [
       "2.7156729232044525"
      ]
     },
     "execution_count": 232,
     "metadata": {},
     "output_type": "execute_result"
    }
   ],
   "source": [
    "df[(df['Power'] == 0)].shape[0] / len(df) * 100"
   ]
  },
  {
   "cell_type": "code",
   "execution_count": 233,
   "metadata": {},
   "outputs": [],
   "source": [
    "df = df.drop(df[df['Power'] == 0].index).reset_index(drop=True)"
   ]
  },
  {
   "cell_type": "code",
   "execution_count": 234,
   "metadata": {},
   "outputs": [
    {
     "name": "stdout",
     "output_type": "stream",
     "text": [
      "<class 'pandas.core.frame.DataFrame'>\n",
      "RangeIndex: 328607 entries, 0 to 328606\n",
      "Data columns (total 16 columns):\n",
      " #   Column             Non-Null Count   Dtype \n",
      "---  ------             --------------   ----- \n",
      " 0   DateCrawled        328607 non-null  object\n",
      " 1   Price              328607 non-null  int64 \n",
      " 2   VehicleType        328607 non-null  object\n",
      " 3   RegistrationYear   328607 non-null  int64 \n",
      " 4   Gearbox            328607 non-null  object\n",
      " 5   Power              328607 non-null  int64 \n",
      " 6   Model              328607 non-null  object\n",
      " 7   Mileage            328607 non-null  int64 \n",
      " 8   RegistrationMonth  328607 non-null  int64 \n",
      " 9   FuelType           328607 non-null  object\n",
      " 10  Brand              328607 non-null  object\n",
      " 11  NotRepaired        328607 non-null  object\n",
      " 12  DateCreated        328607 non-null  object\n",
      " 13  NumberOfPictures   328607 non-null  int64 \n",
      " 14  PostalCode         328607 non-null  int64 \n",
      " 15  LastSeen           328607 non-null  object\n",
      "dtypes: int64(7), object(9)\n",
      "memory usage: 40.1+ MB\n"
     ]
    }
   ],
   "source": [
    "df.info()"
   ]
  },
  {
   "cell_type": "markdown",
   "metadata": {},
   "source": [
    "Kendaraan dengan tenaga 0 hp setelah diganti dengan nilai dari beberapa kolom yang mirip masih tersisa sekitar 2.7%, maka kita drop datanya karena jumlahnya sudah cukup sedikit."
   ]
  },
  {
   "cell_type": "code",
   "execution_count": 235,
   "metadata": {},
   "outputs": [
    {
     "data": {
      "text/plain": [
       "3     32842\n",
       "6     29874\n",
       "4     27825\n",
       "5     27661\n",
       "0     27433\n",
       "7     25691\n",
       "10    24930\n",
       "11    23197\n",
       "12    23077\n",
       "9     22723\n",
       "1     21715\n",
       "8     21423\n",
       "2     20216\n",
       "Name: RegistrationMonth, dtype: int64"
      ]
     },
     "execution_count": 235,
     "metadata": {},
     "output_type": "execute_result"
    }
   ],
   "source": [
    "df.RegistrationMonth.value_counts()"
   ]
  },
  {
   "cell_type": "code",
   "execution_count": 236,
   "metadata": {},
   "outputs": [
    {
     "data": {
      "text/plain": [
       "8.348270122060699"
      ]
     },
     "execution_count": 236,
     "metadata": {},
     "output_type": "execute_result"
    }
   ],
   "source": [
    "df[df['RegistrationMonth'] == 0]['RegistrationMonth'].shape[0] / df['RegistrationMonth'].shape[0] *100"
   ]
  },
  {
   "cell_type": "code",
   "execution_count": 237,
   "metadata": {},
   "outputs": [],
   "source": [
    "df.loc[df['RegistrationMonth'] == 0, 'RegistrationMonth'] = df['RegistrationMonth'].median()"
   ]
  },
  {
   "cell_type": "markdown",
   "metadata": {},
   "source": [
    "Krena dalam bulan tidak ada bulan ke 0 maka Kolom registration month dengan nilai 0 dapat dianggap sebagai anomali, karena jumlah datanya yang cukup besar maka, data 0 diubah menjadi median dari kolom tersebut."
   ]
  },
  {
   "cell_type": "code",
   "execution_count": 238,
   "metadata": {},
   "outputs": [
    {
     "data": {
      "text/html": [
       "<div>\n",
       "<style scoped>\n",
       "    .dataframe tbody tr th:only-of-type {\n",
       "        vertical-align: middle;\n",
       "    }\n",
       "\n",
       "    .dataframe tbody tr th {\n",
       "        vertical-align: top;\n",
       "    }\n",
       "\n",
       "    .dataframe thead th {\n",
       "        text-align: right;\n",
       "    }\n",
       "</style>\n",
       "<table border=\"1\" class=\"dataframe\">\n",
       "  <thead>\n",
       "    <tr style=\"text-align: right;\">\n",
       "      <th></th>\n",
       "      <th>Price</th>\n",
       "      <th>RegistrationYear</th>\n",
       "      <th>Power</th>\n",
       "      <th>Mileage</th>\n",
       "      <th>RegistrationMonth</th>\n",
       "      <th>NumberOfPictures</th>\n",
       "      <th>PostalCode</th>\n",
       "    </tr>\n",
       "  </thead>\n",
       "  <tbody>\n",
       "    <tr>\n",
       "      <th>count</th>\n",
       "      <td>328607.000000</td>\n",
       "      <td>328607.000000</td>\n",
       "      <td>328607.000000</td>\n",
       "      <td>328607.000000</td>\n",
       "      <td>328607.000000</td>\n",
       "      <td>328607.0</td>\n",
       "      <td>328607.000000</td>\n",
       "    </tr>\n",
       "    <tr>\n",
       "      <th>mean</th>\n",
       "      <td>4640.214746</td>\n",
       "      <td>2003.240935</td>\n",
       "      <td>119.477391</td>\n",
       "      <td>128877.899740</td>\n",
       "      <td>6.363951</td>\n",
       "      <td>0.0</td>\n",
       "      <td>50836.601004</td>\n",
       "    </tr>\n",
       "    <tr>\n",
       "      <th>std</th>\n",
       "      <td>4520.318050</td>\n",
       "      <td>6.777050</td>\n",
       "      <td>61.910352</td>\n",
       "      <td>36656.379496</td>\n",
       "      <td>3.208492</td>\n",
       "      <td>0.0</td>\n",
       "      <td>25709.827016</td>\n",
       "    </tr>\n",
       "    <tr>\n",
       "      <th>min</th>\n",
       "      <td>100.000000</td>\n",
       "      <td>1910.000000</td>\n",
       "      <td>1.000000</td>\n",
       "      <td>5000.000000</td>\n",
       "      <td>1.000000</td>\n",
       "      <td>0.0</td>\n",
       "      <td>1067.000000</td>\n",
       "    </tr>\n",
       "    <tr>\n",
       "      <th>25%</th>\n",
       "      <td>1250.000000</td>\n",
       "      <td>1999.000000</td>\n",
       "      <td>75.000000</td>\n",
       "      <td>125000.000000</td>\n",
       "      <td>4.000000</td>\n",
       "      <td>0.0</td>\n",
       "      <td>30627.000000</td>\n",
       "    </tr>\n",
       "    <tr>\n",
       "      <th>50%</th>\n",
       "      <td>2980.000000</td>\n",
       "      <td>2003.000000</td>\n",
       "      <td>109.000000</td>\n",
       "      <td>150000.000000</td>\n",
       "      <td>6.000000</td>\n",
       "      <td>0.0</td>\n",
       "      <td>49661.000000</td>\n",
       "    </tr>\n",
       "    <tr>\n",
       "      <th>75%</th>\n",
       "      <td>6666.000000</td>\n",
       "      <td>2007.000000</td>\n",
       "      <td>145.000000</td>\n",
       "      <td>150000.000000</td>\n",
       "      <td>9.000000</td>\n",
       "      <td>0.0</td>\n",
       "      <td>71336.000000</td>\n",
       "    </tr>\n",
       "    <tr>\n",
       "      <th>max</th>\n",
       "      <td>20000.000000</td>\n",
       "      <td>2019.000000</td>\n",
       "      <td>2000.000000</td>\n",
       "      <td>150000.000000</td>\n",
       "      <td>12.000000</td>\n",
       "      <td>0.0</td>\n",
       "      <td>99998.000000</td>\n",
       "    </tr>\n",
       "  </tbody>\n",
       "</table>\n",
       "</div>"
      ],
      "text/plain": [
       "               Price  RegistrationYear          Power        Mileage  \\\n",
       "count  328607.000000     328607.000000  328607.000000  328607.000000   \n",
       "mean     4640.214746       2003.240935     119.477391  128877.899740   \n",
       "std      4520.318050          6.777050      61.910352   36656.379496   \n",
       "min       100.000000       1910.000000       1.000000    5000.000000   \n",
       "25%      1250.000000       1999.000000      75.000000  125000.000000   \n",
       "50%      2980.000000       2003.000000     109.000000  150000.000000   \n",
       "75%      6666.000000       2007.000000     145.000000  150000.000000   \n",
       "max     20000.000000       2019.000000    2000.000000  150000.000000   \n",
       "\n",
       "       RegistrationMonth  NumberOfPictures     PostalCode  \n",
       "count      328607.000000          328607.0  328607.000000  \n",
       "mean            6.363951               0.0   50836.601004  \n",
       "std             3.208492               0.0   25709.827016  \n",
       "min             1.000000               0.0    1067.000000  \n",
       "25%             4.000000               0.0   30627.000000  \n",
       "50%             6.000000               0.0   49661.000000  \n",
       "75%             9.000000               0.0   71336.000000  \n",
       "max            12.000000               0.0   99998.000000  "
      ]
     },
     "execution_count": 238,
     "metadata": {},
     "output_type": "execute_result"
    }
   ],
   "source": [
    "df.describe()"
   ]
  },
  {
   "cell_type": "code",
   "execution_count": 239,
   "metadata": {
    "scrolled": true
   },
   "outputs": [
    {
     "name": "stdout",
     "output_type": "stream",
     "text": [
      "<class 'pandas.core.frame.DataFrame'>\n",
      "RangeIndex: 328607 entries, 0 to 328606\n",
      "Data columns (total 16 columns):\n",
      " #   Column             Non-Null Count   Dtype  \n",
      "---  ------             --------------   -----  \n",
      " 0   DateCrawled        328607 non-null  object \n",
      " 1   Price              328607 non-null  int64  \n",
      " 2   VehicleType        328607 non-null  object \n",
      " 3   RegistrationYear   328607 non-null  int64  \n",
      " 4   Gearbox            328607 non-null  object \n",
      " 5   Power              328607 non-null  int64  \n",
      " 6   Model              328607 non-null  object \n",
      " 7   Mileage            328607 non-null  int64  \n",
      " 8   RegistrationMonth  328607 non-null  float64\n",
      " 9   FuelType           328607 non-null  object \n",
      " 10  Brand              328607 non-null  object \n",
      " 11  NotRepaired        328607 non-null  object \n",
      " 12  DateCreated        328607 non-null  object \n",
      " 13  NumberOfPictures   328607 non-null  int64  \n",
      " 14  PostalCode         328607 non-null  int64  \n",
      " 15  LastSeen           328607 non-null  object \n",
      "dtypes: float64(1), int64(6), object(9)\n",
      "memory usage: 40.1+ MB\n"
     ]
    }
   ],
   "source": [
    "df.info()"
   ]
  },
  {
   "cell_type": "code",
   "execution_count": 240,
   "metadata": {},
   "outputs": [
    {
     "data": {
      "text/plain": [
       "92.73017673667844"
      ]
     },
     "execution_count": 240,
     "metadata": {},
     "output_type": "execute_result"
    }
   ],
   "source": [
    "len(df) / 354369 * 100"
   ]
  },
  {
   "cell_type": "markdown",
   "metadata": {},
   "source": [
    "Setelah dilakukan pemrosesan pada data, data yang tersisa sekitar 92.7% dari total data sebelumnya."
   ]
  },
  {
   "cell_type": "markdown",
   "metadata": {},
   "source": [
    "Selanjutnya kita akan mengubah tipe data pada kolom."
   ]
  },
  {
   "cell_type": "code",
   "execution_count": 241,
   "metadata": {},
   "outputs": [
    {
     "data": {
      "text/plain": [
       "Index(['DateCrawled', 'Price', 'VehicleType', 'RegistrationYear', 'Gearbox',\n",
       "       'Power', 'Model', 'Mileage', 'RegistrationMonth', 'FuelType', 'Brand',\n",
       "       'NotRepaired', 'DateCreated', 'NumberOfPictures', 'PostalCode',\n",
       "       'LastSeen'],\n",
       "      dtype='object')"
      ]
     },
     "execution_count": 241,
     "metadata": {},
     "output_type": "execute_result"
    }
   ],
   "source": [
    "df.columns"
   ]
  },
  {
   "cell_type": "code",
   "execution_count": 242,
   "metadata": {},
   "outputs": [],
   "source": [
    "# Convert numeric columns to appropriate numeric types\n",
    "numeric_columns = ['Price', 'Power', 'RegistrationYear', 'RegistrationMonth']\n",
    "df[numeric_columns] = df[numeric_columns].apply(pd.to_numeric, errors='coerce')\n",
    "\n",
    "# Convert date/time columns to datetime objects\n",
    "df['DateCrawled'] = pd.to_datetime(df['DateCrawled'])\n",
    "df['DateCreated'] = pd.to_datetime(df['DateCreated'])\n",
    "df['LastSeen'] = pd.to_datetime(df['LastSeen'])\n",
    "\n",
    "# Convert categorical columns to categorical data types\n",
    "categorical_columns = ['VehicleType', 'Gearbox', 'Model', 'FuelType', 'Brand', 'NotRepaired']\n",
    "df[categorical_columns] = df[categorical_columns].astype('category')\n"
   ]
  },
  {
   "cell_type": "code",
   "execution_count": 243,
   "metadata": {
    "scrolled": false
   },
   "outputs": [
    {
     "name": "stdout",
     "output_type": "stream",
     "text": [
      "<class 'pandas.core.frame.DataFrame'>\n",
      "RangeIndex: 328607 entries, 0 to 328606\n",
      "Data columns (total 16 columns):\n",
      " #   Column             Non-Null Count   Dtype         \n",
      "---  ------             --------------   -----         \n",
      " 0   DateCrawled        328607 non-null  datetime64[ns]\n",
      " 1   Price              328607 non-null  int64         \n",
      " 2   VehicleType        328607 non-null  category      \n",
      " 3   RegistrationYear   328607 non-null  int64         \n",
      " 4   Gearbox            328607 non-null  category      \n",
      " 5   Power              328607 non-null  int64         \n",
      " 6   Model              328607 non-null  category      \n",
      " 7   Mileage            328607 non-null  int64         \n",
      " 8   RegistrationMonth  328607 non-null  float64       \n",
      " 9   FuelType           328607 non-null  category      \n",
      " 10  Brand              328607 non-null  category      \n",
      " 11  NotRepaired        328607 non-null  category      \n",
      " 12  DateCreated        328607 non-null  datetime64[ns]\n",
      " 13  NumberOfPictures   328607 non-null  int64         \n",
      " 14  PostalCode         328607 non-null  int64         \n",
      " 15  LastSeen           328607 non-null  datetime64[ns]\n",
      "dtypes: category(6), datetime64[ns](3), float64(1), int64(6)\n",
      "memory usage: 27.3 MB\n"
     ]
    }
   ],
   "source": [
    "df.info()"
   ]
  },
  {
   "cell_type": "code",
   "execution_count": 244,
   "metadata": {},
   "outputs": [
    {
     "data": {
      "text/html": [
       "<div>\n",
       "<style scoped>\n",
       "    .dataframe tbody tr th:only-of-type {\n",
       "        vertical-align: middle;\n",
       "    }\n",
       "\n",
       "    .dataframe tbody tr th {\n",
       "        vertical-align: top;\n",
       "    }\n",
       "\n",
       "    .dataframe thead th {\n",
       "        text-align: right;\n",
       "    }\n",
       "</style>\n",
       "<table border=\"1\" class=\"dataframe\">\n",
       "  <thead>\n",
       "    <tr style=\"text-align: right;\">\n",
       "      <th></th>\n",
       "      <th>DateCrawled</th>\n",
       "      <th>Price</th>\n",
       "      <th>VehicleType</th>\n",
       "      <th>RegistrationYear</th>\n",
       "      <th>Gearbox</th>\n",
       "      <th>Power</th>\n",
       "      <th>Model</th>\n",
       "      <th>Mileage</th>\n",
       "      <th>RegistrationMonth</th>\n",
       "      <th>FuelType</th>\n",
       "      <th>Brand</th>\n",
       "      <th>NotRepaired</th>\n",
       "      <th>DateCreated</th>\n",
       "      <th>NumberOfPictures</th>\n",
       "      <th>PostalCode</th>\n",
       "      <th>LastSeen</th>\n",
       "    </tr>\n",
       "  </thead>\n",
       "  <tbody>\n",
       "    <tr>\n",
       "      <th>0</th>\n",
       "      <td>2016-03-24 11:52:00</td>\n",
       "      <td>480</td>\n",
       "      <td>sedan</td>\n",
       "      <td>1993</td>\n",
       "      <td>manual</td>\n",
       "      <td>75</td>\n",
       "      <td>golf</td>\n",
       "      <td>150000</td>\n",
       "      <td>6.0</td>\n",
       "      <td>petrol</td>\n",
       "      <td>volkswagen</td>\n",
       "      <td>no</td>\n",
       "      <td>2016-03-24</td>\n",
       "      <td>0</td>\n",
       "      <td>70435</td>\n",
       "      <td>2016-07-04 03:16:00</td>\n",
       "    </tr>\n",
       "    <tr>\n",
       "      <th>1</th>\n",
       "      <td>2016-03-24 10:58:00</td>\n",
       "      <td>18300</td>\n",
       "      <td>coupe</td>\n",
       "      <td>2011</td>\n",
       "      <td>manual</td>\n",
       "      <td>190</td>\n",
       "      <td>a4</td>\n",
       "      <td>125000</td>\n",
       "      <td>5.0</td>\n",
       "      <td>gasoline</td>\n",
       "      <td>audi</td>\n",
       "      <td>yes</td>\n",
       "      <td>2016-03-24</td>\n",
       "      <td>0</td>\n",
       "      <td>66954</td>\n",
       "      <td>2016-07-04 01:46:00</td>\n",
       "    </tr>\n",
       "    <tr>\n",
       "      <th>2</th>\n",
       "      <td>2016-03-14 12:52:00</td>\n",
       "      <td>9800</td>\n",
       "      <td>suv</td>\n",
       "      <td>2004</td>\n",
       "      <td>auto</td>\n",
       "      <td>163</td>\n",
       "      <td>grand</td>\n",
       "      <td>125000</td>\n",
       "      <td>8.0</td>\n",
       "      <td>gasoline</td>\n",
       "      <td>jeep</td>\n",
       "      <td>no</td>\n",
       "      <td>2016-03-14</td>\n",
       "      <td>0</td>\n",
       "      <td>90480</td>\n",
       "      <td>2016-05-04 12:47:00</td>\n",
       "    </tr>\n",
       "    <tr>\n",
       "      <th>3</th>\n",
       "      <td>2016-03-17 16:54:00</td>\n",
       "      <td>1500</td>\n",
       "      <td>small</td>\n",
       "      <td>2001</td>\n",
       "      <td>manual</td>\n",
       "      <td>75</td>\n",
       "      <td>golf</td>\n",
       "      <td>150000</td>\n",
       "      <td>6.0</td>\n",
       "      <td>petrol</td>\n",
       "      <td>volkswagen</td>\n",
       "      <td>no</td>\n",
       "      <td>2016-03-17</td>\n",
       "      <td>0</td>\n",
       "      <td>91074</td>\n",
       "      <td>2016-03-17 17:40:00</td>\n",
       "    </tr>\n",
       "    <tr>\n",
       "      <th>4</th>\n",
       "      <td>2016-03-31 17:25:00</td>\n",
       "      <td>3600</td>\n",
       "      <td>small</td>\n",
       "      <td>2008</td>\n",
       "      <td>manual</td>\n",
       "      <td>69</td>\n",
       "      <td>fabia</td>\n",
       "      <td>90000</td>\n",
       "      <td>7.0</td>\n",
       "      <td>gasoline</td>\n",
       "      <td>skoda</td>\n",
       "      <td>no</td>\n",
       "      <td>2016-03-31</td>\n",
       "      <td>0</td>\n",
       "      <td>60437</td>\n",
       "      <td>2016-06-04 10:17:00</td>\n",
       "    </tr>\n",
       "  </tbody>\n",
       "</table>\n",
       "</div>"
      ],
      "text/plain": [
       "          DateCrawled  Price VehicleType  RegistrationYear Gearbox  Power  \\\n",
       "0 2016-03-24 11:52:00    480       sedan              1993  manual     75   \n",
       "1 2016-03-24 10:58:00  18300       coupe              2011  manual    190   \n",
       "2 2016-03-14 12:52:00   9800         suv              2004    auto    163   \n",
       "3 2016-03-17 16:54:00   1500       small              2001  manual     75   \n",
       "4 2016-03-31 17:25:00   3600       small              2008  manual     69   \n",
       "\n",
       "   Model  Mileage  RegistrationMonth  FuelType       Brand NotRepaired  \\\n",
       "0   golf   150000                6.0    petrol  volkswagen          no   \n",
       "1     a4   125000                5.0  gasoline        audi         yes   \n",
       "2  grand   125000                8.0  gasoline        jeep          no   \n",
       "3   golf   150000                6.0    petrol  volkswagen          no   \n",
       "4  fabia    90000                7.0  gasoline       skoda          no   \n",
       "\n",
       "  DateCreated  NumberOfPictures  PostalCode            LastSeen  \n",
       "0  2016-03-24                 0       70435 2016-07-04 03:16:00  \n",
       "1  2016-03-24                 0       66954 2016-07-04 01:46:00  \n",
       "2  2016-03-14                 0       90480 2016-05-04 12:47:00  \n",
       "3  2016-03-17                 0       91074 2016-03-17 17:40:00  \n",
       "4  2016-03-31                 0       60437 2016-06-04 10:17:00  "
      ]
     },
     "execution_count": 244,
     "metadata": {},
     "output_type": "execute_result"
    }
   ],
   "source": [
    "df.head()"
   ]
  },
  {
   "cell_type": "code",
   "execution_count": 245,
   "metadata": {},
   "outputs": [],
   "source": [
    "df_num = df.copy()"
   ]
  },
  {
   "cell_type": "code",
   "execution_count": 246,
   "metadata": {},
   "outputs": [],
   "source": [
    "categorical_features = ['VehicleType', 'Gearbox', 'Model', 'FuelType', 'Brand', 'NotRepaired']\n",
    "\n",
    "label_encoder = LabelEncoder()\n",
    "for feature in categorical_features:\n",
    "    df_num[feature] = label_encoder.fit_transform(df_num[feature])"
   ]
  },
  {
   "cell_type": "code",
   "execution_count": 247,
   "metadata": {},
   "outputs": [
    {
     "name": "stdout",
     "output_type": "stream",
     "text": [
      "<class 'pandas.core.frame.DataFrame'>\n",
      "RangeIndex: 328607 entries, 0 to 328606\n",
      "Data columns (total 16 columns):\n",
      " #   Column             Non-Null Count   Dtype         \n",
      "---  ------             --------------   -----         \n",
      " 0   DateCrawled        328607 non-null  datetime64[ns]\n",
      " 1   Price              328607 non-null  int64         \n",
      " 2   VehicleType        328607 non-null  int64         \n",
      " 3   RegistrationYear   328607 non-null  int64         \n",
      " 4   Gearbox            328607 non-null  int64         \n",
      " 5   Power              328607 non-null  int64         \n",
      " 6   Model              328607 non-null  int64         \n",
      " 7   Mileage            328607 non-null  int64         \n",
      " 8   RegistrationMonth  328607 non-null  float64       \n",
      " 9   FuelType           328607 non-null  int64         \n",
      " 10  Brand              328607 non-null  int64         \n",
      " 11  NotRepaired        328607 non-null  int64         \n",
      " 12  DateCreated        328607 non-null  datetime64[ns]\n",
      " 13  NumberOfPictures   328607 non-null  int64         \n",
      " 14  PostalCode         328607 non-null  int64         \n",
      " 15  LastSeen           328607 non-null  datetime64[ns]\n",
      "dtypes: datetime64[ns](3), float64(1), int64(12)\n",
      "memory usage: 40.1 MB\n"
     ]
    }
   ],
   "source": [
    "df_num.info()"
   ]
  },
  {
   "cell_type": "code",
   "execution_count": 248,
   "metadata": {
    "scrolled": false
   },
   "outputs": [
    {
     "data": {
      "image/png": "[encoded data removed]",
      "text/plain": [
       "<Figure size 864x864 with 182 Axes>"
      ]
     },
     "metadata": {
      "needs_background": "light"
     },
     "output_type": "display_data"
    }
   ],
   "source": [
    "g = sns.pairplot(df_num, kind='hist')\n",
    "g.fig.set_size_inches(12, 12)"
   ]
  },
  {
   "cell_type": "code",
   "execution_count": 249,
   "metadata": {
    "scrolled": false
   },
   "outputs": [
    {
     "data": {
      "image/png": "[encoded data removed]",
      "text/plain": [
       "<Figure size 1152x864 with 2 Axes>"
      ]
     },
     "metadata": {
      "needs_background": "light"
     },
     "output_type": "display_data"
    }
   ],
   "source": [
    "plt.figure(figsize=(16, 12))\n",
    "sns.heatmap(df_num.corr(), annot=True);"
   ]
  },
  {
   "cell_type": "code",
   "execution_count": 250,
   "metadata": {
    "scrolled": true
   },
   "outputs": [],
   "source": [
    "df = df.drop(['DateCrawled', 'DateCreated', 'LastSeen', 'PostalCode', 'NumberOfPictures','VehicleType', 'Model', 'RegistrationMonth', 'Brand', 'NotRepaired'], axis=1)"
   ]
  },
  {
   "cell_type": "markdown",
   "metadata": {},
   "source": [
    "Data yang tidak digunakan pada analisis dan memiliki korelasi dibawah 0.2 akan dihlangkan dari dataset."
   ]
  },
  {
   "cell_type": "markdown",
   "metadata": {},
   "source": [
    "Dari grafik diatas kita dapat melihak beberapa fitur memiliki korelasi yang lebih tinggi terhadap kolom target , seperti registrationyear, power, dan mileage. Selanjutnya kita akan membagi data menjadi tabel fitur(X) dan target(y)."
   ]
  },
  {
   "cell_type": "markdown",
   "metadata": {},
   "source": [
    "<div class=\"alert alert-success\">\n",
    "<b>Code Reviewers's comment v.1</b> <a class=\"tocSkip\"></a>\n",
    "\n",
    "Bagus, code yang dijalankan sudah sesuai dengan instruksi dari project.\n",
    "\n",
    "</div>"
   ]
  },
  {
   "cell_type": "markdown",
   "metadata": {},
   "source": [
    "## Pelatihan dan Analisis Model"
   ]
  },
  {
   "cell_type": "code",
   "execution_count": 251,
   "metadata": {},
   "outputs": [],
   "source": [
    "numeric_features = ['RegistrationYear', 'Power', 'Mileage',]  \n",
    "categorical_features = ['Gearbox', 'FuelType']  "
   ]
  },
  {
   "cell_type": "code",
   "execution_count": 252,
   "metadata": {},
   "outputs": [],
   "source": [
    "X_train, X_test, y_train, y_test = train_test_split(df.drop('Price', axis=1), df['Price'], test_size=0.2, random_state=42)"
   ]
  },
  {
   "cell_type": "code",
   "execution_count": 253,
   "metadata": {},
   "outputs": [],
   "source": [
    "numeric_transformer = Pipeline(steps=[\n",
    "    ('scaler', StandardScaler())\n",
    "])\n",
    "\n",
    "categorical_transformer = Pipeline(steps=[\n",
    "    ('encoder', OneHotEncoder(handle_unknown='ignore'))\n",
    "])\n",
    "\n",
    "preprocessor = ColumnTransformer(\n",
    "    transformers=[\n",
    "        ('num', numeric_transformer, numeric_features),\n",
    "        ('cat', categorical_transformer, categorical_features)\n",
    "    ])"
   ]
  },
  {
   "cell_type": "markdown",
   "metadata": {},
   "source": [
    "Pengecekan dilakukan menggunakan beberapa estimator sebagai berikut:\n",
    "- Decision Tree\n",
    "- Random Forest\n",
    "- Linear Regression\n",
    "- LGBM\n",
    "- XGBoost\n",
    "- CatBoost"
   ]
  },
  {
   "cell_type": "code",
   "execution_count": 254,
   "metadata": {},
   "outputs": [
    {
     "name": "stdout",
     "output_type": "stream",
     "text": [
      "Decision Tree:\n",
      "  Train RMSE = 2185.4822\n",
      "  Test RMSE = 2120.4711\n",
      "  Best Params = {}\n",
      "  Train Time = 3.52 seconds\n",
      "\n"
     ]
    }
   ],
   "source": [
    "models = [\n",
    "    ('Decision Tree', DecisionTreeRegressor(), {}),\n",
    "]\n",
    "\n",
    "results = {}\n",
    "for model_name, model, param_grid in models:\n",
    "    estimator = Pipeline([\n",
    "        ('preprocessor', preprocessor),\n",
    "        ('model', model)\n",
    "    ])\n",
    "    \n",
    "    start_time = time.time()\n",
    "    grid_search = GridSearchCV(estimator, param_grid, scoring='neg_root_mean_squared_error', n_jobs=-1, cv=KFold(n_splits=3, shuffle=True, random_state=42))\n",
    "    grid_search.fit(X_train, y_train)\n",
    "    end_time = time.time()\n",
    "    train_time = end_time - start_time\n",
    "    y_pred = grid_search.predict(X_test)\n",
    "    test_rmse = np.sqrt(mean_squared_error(y_test, y_pred))\n",
    "    results[model_name] = {\n",
    "        'Train_RMSE': -grid_search.best_score_,\n",
    "        'Test_RMSE': test_rmse,\n",
    "        'Best_Params': grid_search.best_params_,\n",
    "        'Train_Time': train_time\n",
    "    }\n",
    "\n",
    "for model_name, metrics in results.items():\n",
    "    print(f\"{model_name}:\")\n",
    "    print(f\"  Train RMSE = {metrics['Train_RMSE']:.4f}\")\n",
    "    print(f\"  Test RMSE = {metrics['Test_RMSE']:.4f}\")\n",
    "    print(f\"  Best Params = {metrics['Best_Params']}\")\n",
    "    print(f\"  Train Time = {metrics['Train_Time']:.2f} seconds\")\n",
    "    print()"
   ]
  },
  {
   "cell_type": "code",
   "execution_count": 255,
   "metadata": {
    "scrolled": true
   },
   "outputs": [
    {
     "name": "stdout",
     "output_type": "stream",
     "text": [
      "Random Forest:\n",
      "  Train RMSE = 2022.3755\n",
      "  Test RMSE = 1979.4585\n",
      "  Best Params = {}\n",
      "  Train Time = 157.74 seconds\n",
      "\n"
     ]
    }
   ],
   "source": [
    "models = [\n",
    "    ('Random Forest', RandomForestRegressor(), {}),\n",
    "]\n",
    "\n",
    "results = {}\n",
    "for model_name, model, param_grid in models:\n",
    "    estimator = Pipeline([\n",
    "        ('preprocessor', preprocessor),\n",
    "        ('model', model)\n",
    "    ])\n",
    "    \n",
    "    start_time = time.time()\n",
    "    grid_search = GridSearchCV(estimator, param_grid, scoring='neg_root_mean_squared_error', n_jobs=-1, cv=KFold(n_splits=3, shuffle=True, random_state=42))\n",
    "    grid_search.fit(X_train, y_train)\n",
    "    end_time = time.time()\n",
    "    train_time = end_time - start_time\n",
    "    y_pred = grid_search.predict(X_test)\n",
    "    test_rmse = np.sqrt(mean_squared_error(y_test, y_pred))\n",
    "    results[model_name] = {\n",
    "        'Train_RMSE': -grid_search.best_score_,\n",
    "        'Test_RMSE': test_rmse,\n",
    "        'Best_Params': grid_search.best_params_,\n",
    "        'Train_Time': train_time\n",
    "    }\n",
    "\n",
    "for model_name, metrics in results.items():\n",
    "    print(f\"{model_name}:\")\n",
    "    print(f\"  Train RMSE = {metrics['Train_RMSE']:.4f}\")\n",
    "    print(f\"  Test RMSE = {metrics['Test_RMSE']:.4f}\")\n",
    "    print(f\"  Best Params = {metrics['Best_Params']}\")\n",
    "    print(f\"  Train Time = {metrics['Train_Time']:.2f} seconds\")\n",
    "    print()"
   ]
  },
  {
   "cell_type": "code",
   "execution_count": 256,
   "metadata": {},
   "outputs": [
    {
     "name": "stdout",
     "output_type": "stream",
     "text": [
      "Linear Regression:\n",
      "  Train RMSE = 3222.3337\n",
      "  Test RMSE = 3213.3802\n",
      "  Best Params = {}\n",
      "  Train Time = 1.89 seconds\n",
      "\n"
     ]
    }
   ],
   "source": [
    "models = [\n",
    "    ('Linear Regression', LinearRegression(), {}),\n",
    "]\n",
    "\n",
    "results = {}\n",
    "for model_name, model, param_grid in models:\n",
    "    estimator = Pipeline([\n",
    "        ('preprocessor', preprocessor),\n",
    "        ('model', model)\n",
    "    ])\n",
    "    \n",
    "    start_time = time.time()\n",
    "    grid_search = GridSearchCV(estimator, param_grid, scoring='neg_root_mean_squared_error', n_jobs=-1, cv=KFold(n_splits=3, shuffle=True, random_state=42))\n",
    "    grid_search.fit(X_train, y_train)\n",
    "    end_time = time.time()   \n",
    "    train_time = end_time - start_time\n",
    "    y_pred = grid_search.predict(X_test)\n",
    "    test_rmse = np.sqrt(mean_squared_error(y_test, y_pred))\n",
    "    results[model_name] = {\n",
    "        'Train_RMSE': -grid_search.best_score_,\n",
    "        'Test_RMSE': test_rmse,\n",
    "        'Best_Params': grid_search.best_params_,\n",
    "        'Train_Time': train_time\n",
    "    }\n",
    "\n",
    "for model_name, metrics in results.items():\n",
    "    print(f\"{model_name}:\")\n",
    "    print(f\"  Train RMSE = {metrics['Train_RMSE']:.4f}\")\n",
    "    print(f\"  Test RMSE = {metrics['Test_RMSE']:.4f}\")\n",
    "    print(f\"  Best Params = {metrics['Best_Params']}\")\n",
    "    print(f\"  Train Time = {metrics['Train_Time']:.2f} seconds\")\n",
    "    print()"
   ]
  },
  {
   "cell_type": "code",
   "execution_count": 257,
   "metadata": {},
   "outputs": [
    {
     "name": "stdout",
     "output_type": "stream",
     "text": [
      "LGBM:\n",
      "  Train RMSE = 2038.2140\n",
      "  Test RMSE = 2010.6877\n",
      "  Best Params = {}\n",
      "  Train Time = 14.08 seconds\n",
      "\n"
     ]
    }
   ],
   "source": [
    "models = [\n",
    "    ('LGBM', LGBMRegressor(), {}),\n",
    "]\n",
    "\n",
    "results = {}\n",
    "for model_name, model, param_grid in models:\n",
    "    estimator = Pipeline([\n",
    "        ('preprocessor', preprocessor),\n",
    "        ('model', model)\n",
    "    ])\n",
    "    \n",
    "    start_time = time.time()\n",
    "    grid_search = GridSearchCV(estimator, param_grid, scoring='neg_root_mean_squared_error', n_jobs=-1, cv=KFold(n_splits=3, shuffle=True, random_state=42))\n",
    "    grid_search.fit(X_train, y_train)\n",
    "    end_time = time.time()\n",
    "    train_time = end_time - start_time\n",
    "    y_pred = grid_search.predict(X_test)\n",
    "    test_rmse = np.sqrt(mean_squared_error(y_test, y_pred))\n",
    "    results[model_name] = {\n",
    "        'Train_RMSE': -grid_search.best_score_,\n",
    "        'Test_RMSE': test_rmse,\n",
    "        'Best_Params': grid_search.best_params_,\n",
    "        'Train_Time': train_time\n",
    "    }\n",
    "\n",
    "for model_name, metrics in results.items():\n",
    "    print(f\"{model_name}:\")\n",
    "    print(f\"  Train RMSE = {metrics['Train_RMSE']:.4f}\")\n",
    "    print(f\"  Test RMSE = {metrics['Test_RMSE']:.4f}\")\n",
    "    print(f\"  Best Params = {metrics['Best_Params']}\")\n",
    "    print(f\"  Train Time = {metrics['Train_Time']:.2f} seconds\")\n",
    "    print()"
   ]
  },
  {
   "cell_type": "code",
   "execution_count": 258,
   "metadata": {},
   "outputs": [
    {
     "name": "stdout",
     "output_type": "stream",
     "text": [
      "XGBoost:\n",
      "  Train RMSE = 1999.1154\n",
      "  Test RMSE = 1959.5125\n",
      "  Best Params = {}\n",
      "  Train Time = 122.65 seconds\n",
      "\n"
     ]
    }
   ],
   "source": [
    "models = [\n",
    "    ('XGBoost', XGBRegressor(), {}),\n",
    "]\n",
    "\n",
    "results = {}\n",
    "for model_name, model, param_grid in models:\n",
    "    estimator = Pipeline([\n",
    "        ('preprocessor', preprocessor),\n",
    "        ('model', model)\n",
    "    ])\n",
    "    \n",
    "    start_time = time.time()\n",
    "    grid_search = GridSearchCV(estimator, param_grid, scoring='neg_root_mean_squared_error', n_jobs=-1, cv=KFold(n_splits=3, shuffle=True, random_state=42))\n",
    "    grid_search.fit(X_train, y_train)\n",
    "    end_time = time.time()\n",
    "    train_time = end_time - start_time\n",
    "    y_pred = grid_search.predict(X_test)\n",
    "    test_rmse = np.sqrt(mean_squared_error(y_test, y_pred))\n",
    "    results[model_name] = {\n",
    "        'Train_RMSE': -grid_search.best_score_,\n",
    "        'Test_RMSE': test_rmse,\n",
    "        'Best_Params': grid_search.best_params_,\n",
    "        'Train_Time': train_time\n",
    "    }\n",
    "\n",
    "for model_name, metrics in results.items():\n",
    "    print(f\"{model_name}:\")\n",
    "    print(f\"  Train RMSE = {metrics['Train_RMSE']:.4f}\")\n",
    "    print(f\"  Test RMSE = {metrics['Test_RMSE']:.4f}\")\n",
    "    print(f\"  Best Params = {metrics['Best_Params']}\")\n",
    "    print(f\"  Train Time = {metrics['Train_Time']:.2f} seconds\")\n",
    "    print()"
   ]
  },
  {
   "cell_type": "code",
   "execution_count": 259,
   "metadata": {},
   "outputs": [
    {
     "name": "stdout",
     "output_type": "stream",
     "text": [
      "CatBoost:\n",
      "  Train RMSE = 2005.8177\n",
      "  Test RMSE = 1970.1247\n",
      "  Best Params = {}\n",
      "  Train Time = 411.58 seconds\n",
      "\n"
     ]
    }
   ],
   "source": [
    "models = [\n",
    "    ('CatBoost', CatBoostRegressor(silent=True, cat_features=categorical_features), {}),\n",
    "]\n",
    "\n",
    "results = {}\n",
    "for model_name, model, param_grid in models:\n",
    "    estimator = Pipeline([\n",
    "        \n",
    "        ('model', model)\n",
    "    ])\n",
    "    \n",
    "    start_time = time.time()\n",
    "    grid_search = GridSearchCV(estimator, param_grid, scoring='neg_root_mean_squared_error', n_jobs=-1, cv=KFold(n_splits=3, shuffle=True, random_state=42))\n",
    "    grid_search.fit(X_train, y_train)\n",
    "    end_time = time.time()\n",
    "    train_time = end_time - start_time\n",
    "    y_pred = grid_search.predict(X_test)\n",
    "    test_rmse = np.sqrt(mean_squared_error(y_test, y_pred))\n",
    "    results[model_name] = {\n",
    "        'Train_RMSE': -grid_search.best_score_,\n",
    "        'Test_RMSE': test_rmse,\n",
    "        'Best_Params': grid_search.best_params_,\n",
    "        'Train_Time': train_time\n",
    "    }\n",
    "\n",
    "for model_name, metrics in results.items():\n",
    "    print(f\"{model_name}:\")\n",
    "    print(f\"  Train RMSE = {metrics['Train_RMSE']:.4f}\")\n",
    "    print(f\"  Test RMSE = {metrics['Test_RMSE']:.4f}\")\n",
    "    print(f\"  Best Params = {metrics['Best_Params']}\")\n",
    "    print(f\"  Train Time = {metrics['Train_Time']:.2f} seconds\")\n",
    "    print()"
   ]
  },
  {
   "cell_type": "markdown",
   "metadata": {},
   "source": [
    "Dari hasil tersebut didapatkan dari 3 algoritma pertama linear regression memiliki train time paling sedikit, tapi random forest lebih akurat. Jika dibandingkan terhadap algoritma gradient boosting kualitas yang didapatkan lebih baik dari linear regression. Selanjutnya dilakukan pemodelan dengan hyperparameter."
   ]
  },
  {
   "cell_type": "markdown",
   "metadata": {},
   "source": [
    "<div class=\"alert alert-success\">\n",
    "<b>Code Reviewers's comment v.1</b> <a class=\"tocSkip\"></a>\n",
    "\n",
    "Bagus, code yang dijalankan sudah sesuai dengan instruksi dari project.\n",
    "\n",
    "</div>"
   ]
  },
  {
   "cell_type": "code",
   "execution_count": 260,
   "metadata": {},
   "outputs": [
    {
     "name": "stdout",
     "output_type": "stream",
     "text": [
      "Decision Tree:\n",
      "  Train RMSE = 2101.1006\n",
      "  Test RMSE = 2052.4982\n",
      "  Best Params = {'model__max_depth': 20, 'model__min_samples_split': 10}\n",
      "  Train Time = 18.80 seconds\n",
      "\n"
     ]
    }
   ],
   "source": [
    "models = [\n",
    "    ('Decision Tree', DecisionTreeRegressor(), {'model__max_depth': [None, 10, 20], 'model__min_samples_split': [2, 5, 10]}),\n",
    "]\n",
    "\n",
    "results = {}\n",
    "for model_name, model, param_grid in models:\n",
    "    estimator = Pipeline([\n",
    "        ('preprocessor', preprocessor),\n",
    "        ('model', model)\n",
    "    ])\n",
    "    \n",
    "    start_time = time.time()\n",
    "    grid_search = GridSearchCV(estimator, param_grid, scoring='neg_root_mean_squared_error', n_jobs=-1, cv=KFold(n_splits=3, shuffle=True, random_state=42))\n",
    "    grid_search.fit(X_train, y_train)\n",
    "    end_time = time.time()\n",
    "    train_time = end_time - start_time\n",
    "    y_pred = grid_search.predict(X_test)\n",
    "    test_rmse = np.sqrt(mean_squared_error(y_test, y_pred))\n",
    "    results[model_name] = {\n",
    "        'Train_RMSE': -grid_search.best_score_,\n",
    "        'Test_RMSE': test_rmse,\n",
    "        'Best_Params': grid_search.best_params_,\n",
    "        'Train_Time': train_time\n",
    "    }\n",
    "\n",
    "for model_name, metrics in results.items():\n",
    "    print(f\"{model_name}:\")\n",
    "    print(f\"  Train RMSE = {metrics['Train_RMSE']:.4f}\")\n",
    "    print(f\"  Test RMSE = {metrics['Test_RMSE']:.4f}\")\n",
    "    print(f\"  Best Params = {metrics['Best_Params']}\")\n",
    "    print(f\"  Train Time = {metrics['Train_Time']:.2f} seconds\")\n",
    "    print()"
   ]
  },
  {
   "cell_type": "code",
   "execution_count": 261,
   "metadata": {},
   "outputs": [
    {
     "name": "stdout",
     "output_type": "stream",
     "text": [
      "Random Forest:\n",
      "  Train RMSE = 2021.4581\n",
      "  Test RMSE = 1979.0148\n",
      "  Best Params = {'model__max_depth': None, 'model__n_estimators': 200}\n",
      "  Train Time = 635.54 seconds\n",
      "\n"
     ]
    }
   ],
   "source": [
    "models = [\n",
    "    ('Random Forest', RandomForestRegressor(), {'model__n_estimators': [100, 200], 'model__max_depth': [None, 10]}),\n",
    "]\n",
    "\n",
    "results = {}\n",
    "for model_name, model, param_grid in models:\n",
    "    estimator = Pipeline([\n",
    "        ('preprocessor', preprocessor),\n",
    "        ('model', model)\n",
    "    ])\n",
    "    \n",
    "    start_time = time.time()\n",
    "    grid_search = GridSearchCV(estimator, param_grid, scoring='neg_root_mean_squared_error', n_jobs=-1, cv=KFold(n_splits=3, shuffle=True, random_state=42))\n",
    "    grid_search.fit(X_train, y_train)\n",
    "    end_time = time.time()\n",
    "    train_time = end_time - start_time\n",
    "    y_pred = grid_search.predict(X_test)\n",
    "    test_rmse = np.sqrt(mean_squared_error(y_test, y_pred))\n",
    "    results[model_name] = {\n",
    "        'Train_RMSE': -grid_search.best_score_,\n",
    "        'Test_RMSE': test_rmse,\n",
    "        'Best_Params': grid_search.best_params_,\n",
    "        'Train_Time': train_time\n",
    "    }\n",
    "\n",
    "for model_name, metrics in results.items():\n",
    "    print(f\"{model_name}:\")\n",
    "    print(f\"  Train RMSE = {metrics['Train_RMSE']:.4f}\")\n",
    "    print(f\"  Test RMSE = {metrics['Test_RMSE']:.4f}\")\n",
    "    print(f\"  Best Params = {metrics['Best_Params']}\")\n",
    "    print(f\"  Train Time = {metrics['Train_Time']:.2f} seconds\")\n",
    "    print()"
   ]
  },
  {
   "cell_type": "code",
   "execution_count": 262,
   "metadata": {},
   "outputs": [
    {
     "name": "stdout",
     "output_type": "stream",
     "text": [
      "Linear Regression:\n",
      "  Train RMSE = 3222.3337\n",
      "  Test RMSE = 3213.3802\n",
      "  Best Params = {}\n",
      "  Train Time = 1.94 seconds\n",
      "\n"
     ]
    }
   ],
   "source": [
    "models = [\n",
    "    ('Linear Regression', LinearRegression(), {}),\n",
    "]\n",
    "\n",
    "results = {}\n",
    "for model_name, model, param_grid in models:\n",
    "    estimator = Pipeline([\n",
    "        ('preprocessor', preprocessor),\n",
    "        ('model', model)\n",
    "    ])\n",
    "    \n",
    "    start_time = time.time()\n",
    "    grid_search = GridSearchCV(estimator, param_grid, scoring='neg_root_mean_squared_error', n_jobs=-1, cv=KFold(n_splits=3, shuffle=True, random_state=42))\n",
    "    grid_search.fit(X_train, y_train)\n",
    "    end_time = time.time()\n",
    "    train_time = end_time - start_time\n",
    "    y_pred = grid_search.predict(X_test)\n",
    "    test_rmse = np.sqrt(mean_squared_error(y_test, y_pred))\n",
    "    results[model_name] = {\n",
    "        'Train_RMSE': -grid_search.best_score_,\n",
    "        'Test_RMSE': test_rmse,\n",
    "        'Best_Params': grid_search.best_params_,\n",
    "        'Train_Time': train_time\n",
    "    }\n",
    "\n",
    "for model_name, metrics in results.items():\n",
    "    print(f\"{model_name}:\")\n",
    "    print(f\"  Train RMSE = {metrics['Train_RMSE']:.4f}\")\n",
    "    print(f\"  Test RMSE = {metrics['Test_RMSE']:.4f}\")\n",
    "    print(f\"  Best Params = {metrics['Best_Params']}\")\n",
    "    print(f\"  Train Time = {metrics['Train_Time']:.2f} seconds\")\n",
    "    print()"
   ]
  },
  {
   "cell_type": "code",
   "execution_count": 263,
   "metadata": {},
   "outputs": [
    {
     "name": "stdout",
     "output_type": "stream",
     "text": [
      "LGBM:\n",
      "  Train RMSE = 2010.4861\n",
      "  Test RMSE = 1977.3689\n",
      "  Best Params = {'model__max_depth': 10, 'model__n_estimators': 200}\n",
      "  Train Time = 64.58 seconds\n",
      "\n"
     ]
    }
   ],
   "source": [
    "models = [\n",
    "    ('LGBM', LGBMRegressor(), {'model__n_estimators': [100, 200], 'model__max_depth': [5, 10]}),\n",
    "]\n",
    "\n",
    "results = {}\n",
    "for model_name, model, param_grid in models:\n",
    "    estimator = Pipeline([\n",
    "        ('preprocessor', preprocessor),\n",
    "        ('model', model)\n",
    "    ])\n",
    "    \n",
    "    start_time = time.time()\n",
    "    grid_search = GridSearchCV(estimator, param_grid, scoring='neg_root_mean_squared_error', n_jobs=-1, cv=KFold(n_splits=3, shuffle=True, random_state=42))\n",
    "    grid_search.fit(X_train, y_train)\n",
    "    end_time = time.time()\n",
    "    train_time = end_time - start_time\n",
    "    y_pred = grid_search.predict(X_test)\n",
    "    test_rmse = np.sqrt(mean_squared_error(y_test, y_pred))\n",
    "    results[model_name] = {\n",
    "        'Train_RMSE': -grid_search.best_score_,\n",
    "        'Test_RMSE': test_rmse,\n",
    "        'Best_Params': grid_search.best_params_,\n",
    "        'Train_Time': train_time\n",
    "    }\n",
    "\n",
    "for model_name, metrics in results.items():\n",
    "    print(f\"{model_name}:\")\n",
    "    print(f\"  Train RMSE = {metrics['Train_RMSE']:.4f}\")\n",
    "    print(f\"  Test RMSE = {metrics['Test_RMSE']:.4f}\")\n",
    "    print(f\"  Best Params = {metrics['Best_Params']}\")\n",
    "    print(f\"  Train Time = {metrics['Train_Time']:.2f} seconds\")\n",
    "    print()"
   ]
  },
  {
   "cell_type": "code",
   "execution_count": 264,
   "metadata": {},
   "outputs": [
    {
     "name": "stdout",
     "output_type": "stream",
     "text": [
      "XGBoost:\n",
      "  Train RMSE = 1986.5401\n",
      "  Test RMSE = 1940.1171\n",
      "  Best Params = {'model__max_depth': 10, 'model__n_estimators': 100}\n",
      "  Train Time = 713.40 seconds\n",
      "\n"
     ]
    }
   ],
   "source": [
    "models = [\n",
    "    ('XGBoost', XGBRegressor(), {'model__n_estimators': [100, 200], 'model__max_depth': [5, 10]}),\n",
    "]\n",
    "\n",
    "results = {}\n",
    "for model_name, model, param_grid in models:\n",
    "    estimator = Pipeline([\n",
    "        ('preprocessor', preprocessor),\n",
    "        ('model', model)\n",
    "    ])\n",
    "    \n",
    "    start_time = time.time()\n",
    "    grid_search = GridSearchCV(estimator, param_grid, scoring='neg_root_mean_squared_error', n_jobs=-1, cv=KFold(n_splits=3, shuffle=True, random_state=42))\n",
    "    grid_search.fit(X_train, y_train)\n",
    "    end_time = time.time()\n",
    "    train_time = end_time - start_time\n",
    "    y_pred = grid_search.predict(X_test)\n",
    "    test_rmse = np.sqrt(mean_squared_error(y_test, y_pred))\n",
    "    results[model_name] = {\n",
    "        'Train_RMSE': -grid_search.best_score_,\n",
    "        'Test_RMSE': test_rmse,\n",
    "        'Best_Params': grid_search.best_params_,\n",
    "        'Train_Time': train_time\n",
    "    }\n",
    "\n",
    "for model_name, metrics in results.items():\n",
    "    print(f\"{model_name}:\")\n",
    "    print(f\"  Train RMSE = {metrics['Train_RMSE']:.4f}\")\n",
    "    print(f\"  Test RMSE = {metrics['Test_RMSE']:.4f}\")\n",
    "    print(f\"  Best Params = {metrics['Best_Params']}\")\n",
    "    print(f\"  Train Time = {metrics['Train_Time']:.2f} seconds\")\n",
    "    print()"
   ]
  },
  {
   "cell_type": "code",
   "execution_count": 265,
   "metadata": {
    "scrolled": true
   },
   "outputs": [
    {
     "name": "stdout",
     "output_type": "stream",
     "text": [
      "CatBoost:\n",
      "  Train RMSE = 1997.3626\n",
      "  Test RMSE = 1965.4783\n",
      "  Best Params = {'model__depth': 8, 'model__iterations': 200}\n",
      "  Train Time = 209.25 seconds\n",
      "\n"
     ]
    }
   ],
   "source": [
    "models = [\n",
    "    ('CatBoost', CatBoostRegressor(silent=True, cat_features=categorical_features), {'model__iterations': [100, 200], 'model__depth': [6, 8]}),\n",
    "]\n",
    "\n",
    "results = {}\n",
    "for model_name, model, param_grid in models:\n",
    "    estimator = Pipeline([\n",
    "        \n",
    "        ('model', model)\n",
    "    ])\n",
    "    \n",
    "    start_time = time.time()\n",
    "    grid_search = GridSearchCV(estimator, param_grid, scoring='neg_root_mean_squared_error', n_jobs=-1, cv=KFold(n_splits=3, shuffle=True, random_state=42))\n",
    "    grid_search.fit(X_train, y_train)\n",
    "    end_time = time.time()\n",
    "    train_time = end_time - start_time\n",
    "    y_pred = grid_search.predict(X_test)\n",
    "    test_rmse = np.sqrt(mean_squared_error(y_test, y_pred))\n",
    "    results[model_name] = {\n",
    "        'Train_RMSE': -grid_search.best_score_,\n",
    "        'Test_RMSE': test_rmse,\n",
    "        'Best_Params': grid_search.best_params_,\n",
    "        'Train_Time': train_time\n",
    "    }\n",
    "\n",
    "for model_name, metrics in results.items():\n",
    "    print(f\"{model_name}:\")\n",
    "    print(f\"  Train RMSE = {metrics['Train_RMSE']:.4f}\")\n",
    "    print(f\"  Test RMSE = {metrics['Test_RMSE']:.4f}\")\n",
    "    print(f\"  Best Params = {metrics['Best_Params']}\")\n",
    "    print(f\"  Train Time = {metrics['Train_Time']:.2f} seconds\")\n",
    "    print()"
   ]
  },
  {
   "cell_type": "code",
   "execution_count": 266,
   "metadata": {},
   "outputs": [
    {
     "ename": "NameError",
     "evalue": "name 'best_params' is not defined",
     "output_type": "error",
     "traceback": [
      "\u001b[0;31m---------------------------------------------------------------------------\u001b[0m",
      "\u001b[0;31mNameError\u001b[0m                                 Traceback (most recent call last)",
      "\u001b[0;32m<timed exec>\u001b[0m in \u001b[0;36m<module>\u001b[0;34m\u001b[0m\n",
      "\u001b[0;31mNameError\u001b[0m: name 'best_params' is not defined"
     ]
    }
   ],
   "source": [
    "\n",
    "\n",
    "%%time\n",
    "model = LGBMRegressor(**best_params)\n",
    "model.fit(X_train,y_train)\n",
    "predictions = model.predict(X_test)\n",
    "print('RMSE on test sample:', mean_squared_error(y_test, predictions)**0.5)\n",
    "\n"
   ]
  },
  {
   "cell_type": "markdown",
   "metadata": {},
   "source": [
    "setelah penambahan beberapa hyperparameter diketahui bahwa kualitas yang didapatkan menjadi mirip satu sama lain, dengan decision tree sebagai estimator tercepat, sedangkan estimator gradient boosting tercepat adalah LGBM. XGBoost memiliki kualitas hasil terbaik, tapi waktu yang dibutuhkan cukup tinggi."
   ]
  },
  {
   "cell_type": "markdown",
   "metadata": {},
   "source": [
    "<div class=\"alert alert-success\">\n",
    "<b>Code Reviewers's comment v.1</b> <a class=\"tocSkip\"></a>\n",
    "\n",
    "Bagus, code yang dijalankan sudah sesuai dengan instruksi dari project.\n",
    "\n",
    "</div>"
   ]
  },
  {
   "cell_type": "markdown",
   "metadata": {},
   "source": [
    "## Kesimpulan Umum"
   ]
  },
  {
   "cell_type": "markdown",
   "metadata": {},
   "source": [
    "Berikut Rekap hasil pemodelan."
   ]
  },
  {
   "cell_type": "markdown",
   "metadata": {},
   "source": [
    "### Pemodelan tanpa hyperparameter, dan dengan cross validation.\n",
    "- Decision Tree:\n",
    "  - Train RMSE = 2186.6944\n",
    "  - Test RMSE = 2125.0100\n",
    "  - Best Params = {}\n",
    "  - Train Time = 2.95 seconds\n",
    "\n",
    "- Random Forest:\n",
    "  - Train RMSE = 2022.8655\n",
    "  - Test RMSE = 1979.2084\n",
    "  - Best Params = {}\n",
    "  - Train Time = 150.80 seconds\n",
    "  \n",
    "- Linear Regression:\n",
    "  - Train RMSE = 3222.3337\n",
    "  - Test RMSE = 3213.3802\n",
    "  - Best Params = {}\n",
    "  - Train Time = 1.90 seconds\n",
    "  \n",
    "- LGBM:\n",
    "  - Train RMSE = 2038.2140\n",
    "  - Test RMSE = 2010.6877\n",
    "  - Best Params = {}\n",
    "  - Train Time = 12.31 seconds\n",
    "\n",
    "- XGBoost:\n",
    "  - Train RMSE = 1999.1154\n",
    "  - Test RMSE = 1959.5125\n",
    "  - Best Params = {}\n",
    "  - Train Time = 112.14 seconds\n",
    "\n",
    "- CatBoost:\n",
    "  - Train RMSE = 2005.8177\n",
    "  - Test RMSE = 1970.1247\n",
    "  - Best Params = {}\n",
    "  - Train Time = 398.06 seconds  "
   ]
  },
  {
   "cell_type": "markdown",
   "metadata": {},
   "source": [
    "### Pemodelan dengan hyperparameter, dan dengan cross validation.\n",
    "- Decision Tree:\n",
    "  - Train RMSE = 2101.4048\n",
    "  - Test RMSE = 2054.7159\n",
    "  - Best Params = {'model__max_depth': 20, 'model__min_samples_split': 10}\n",
    "  - Train Time = 17.64 seconds\n",
    "- Random Forest:\n",
    "  - Train RMSE = 2022.0741\n",
    "  - Test RMSE = 1977.7517\n",
    "  - Best Params = {'model__max_depth': None, 'model__n_estimators': 200}\n",
    "  - Train Time = 585.69 seconds\n",
    "- Linear Regression:\n",
    "  - Train RMSE = 3222.3337\n",
    "  - Test RMSE = 3213.3802\n",
    "  - Best Params = {}\n",
    "  - Train Time = 1.83 seconds\n",
    "- LGBM:\n",
    "  - Train RMSE = 2010.4861\n",
    "  - Test RMSE = 1977.3689\n",
    "  - Best Params = {'model__max_depth': 10, 'model__n_estimators': 200}\n",
    "  - Train Time = 55.01 seconds\n",
    "- XGBoost:\n",
    "  - Train RMSE = 1986.5401\n",
    "  - Test RMSE = 1940.1171\n",
    "  - Best Params = {'model__max_depth': 10, 'model__n_estimators': 100}\n",
    "  - Train Time = 657.33 seconds\n",
    "- CatBoost:\n",
    "  - Train RMSE = 1997.3626\n",
    "  - Test RMSE = 1965.4783\n",
    "  - Best Params = {'model__depth': 8, 'model__iterations': 200}\n",
    "  - Train Time = 204.02 seconds"
   ]
  },
  {
   "cell_type": "markdown",
   "metadata": {},
   "source": [
    "- Pada proyek ini kita membuat sebuah model untuk memprediksi harga mobil dengan dataset yang telah disediakan.\n",
    "- Dataset yang digunakan adalah data historis kendaraan sejumlah baris dan 16 kolom.\n",
    "- Berdasarkan label datasetnya model yang digunakan bersifat regresi.\n",
    "- Pada proyek ini analisa regresi akan dilakukan menggunakan algoritma regresi dan gradient boosting.\n",
    "- kolom yang bertipe object diubah menjadi numerik dengan one hot encoding\n",
    "- Dataset yang digunakan dibagi menjadi train, dan test set dengan validation menggunakan cross- validation.\n",
    "- Standardization dilakukan terhadap kolom numerik untuk meningkatkan performa model.\n",
    "- Algoritma regresi yang digunakan yaitu; decision tree, random forest, dan linear regression.\n",
    "- Algoritma gradient booster yang digunakan yaitu; LGBM, XGBoost, dan CatBoost.\n",
    "- Dari hasil pemodelan didapatkan estimator dengan gradient boosting membutuhkan waktu lebih banyak tapi memiliki kualitas yang lebih baik.\n",
    "- Algoritma LGBM memiliki waktu dan kualitas yang baik dibanding algoritma lainnya.\n",
    "- Penggunaan hyperparameter lain tentu akan memengaruhi hasil yang ada."
   ]
  },
  {
   "cell_type": "markdown",
   "metadata": {},
   "source": [
    "<div class=\"alert alert-success\">\n",
    "<b>Code Reviewers's comment v.1</b> <a class=\"tocSkip\"></a>\n",
    "\n",
    "Bagus, code yang dijalankan sudah sesuai dengan instruksi dari project.\n",
    "\n",
    "</div>"
   ]
  },
  {
   "cell_type": "markdown",
   "metadata": {},
   "source": [
    "# Daftar Periksa"
   ]
  },
  {
   "cell_type": "markdown",
   "metadata": {},
   "source": [
    "Ketik 'x' untuk menandakannya sebagai selesai. Lalu, tekan tombol Shift+Enter"
   ]
  },
  {
   "cell_type": "markdown",
   "metadata": {},
   "source": [
    "- [x]  Jupyter Notebook bisa dibuka\n",
    "- [ ]  Tidak ada kesalahan pada kode\n",
    "- [ ]  Sel-sel dengan kode telah disusun berdasarkan urutan eksekusi\n",
    "- [ ]  Data telah diunduh dan disiapkan- [ ]  Model sudah dilatih\n",
    "- [ ]  Analisis terhadap kecepatan dan kualitas model telah dilakukan"
   ]
  },
  {
   "cell_type": "code",
   "execution_count": null,
   "metadata": {},
   "outputs": [],
   "source": []
  }
 ],
 "metadata": {
  "kernelspec": {
   "display_name": "Python 3 (ipykernel)",
   "language": "python",
   "name": "python3"
  },
  "language_info": {
   "codemirror_mode": {
    "name": "ipython",
    "version": 3
   },
   "file_extension": ".py",
   "mimetype": "text/x-python",
   "name": "python",
   "nbconvert_exporter": "python",
   "pygments_lexer": "ipython3",
   "version": "3.9.5"
  },
  "toc": {
   "base_numbering": 1,
   "nav_menu": {},
   "number_sections": true,
   "sideBar": true,
   "skip_h1_title": true,
   "title_cell": "Table of Contents",
   "title_sidebar": "Contents",
   "toc_cell": false,
   "toc_position": {
    "height": "calc(100% - 180px)",
    "left": "10px",
    "top": "150px",
    "width": "368px"
   },
   "toc_section_display": true,
   "toc_window_display": true
  }
 },
 "nbformat": 4,
 "nbformat_minor": 2
}
